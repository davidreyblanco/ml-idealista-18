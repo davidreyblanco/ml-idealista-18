{
 "cells": [
  {
   "cell_type": "markdown",
   "metadata": {},
   "source": [
    "# ML Model for Madrid\n",
    "\n",
    "This notebook builds a RandomForest model on the Madrid dataset. It removes non-target PRICE columns and uses Weights & Biases (wandb) for experiment tracking."
   ]
  },
  {
   "cell_type": "code",
   "execution_count": 4,
   "metadata": {},
   "outputs": [],
   "source": [
    "import sys\n",
    "import os\n",
    "import pandas as pd\n",
    "from dotenv import load_dotenv\n",
    "\n",
    "load_dotenv() # Load the environment variables from .env file\n",
    "\n",
    "import importlib\n",
    "# Añadir la ruta al directorio src para importar módulos personalizados\n",
    "sys.path.append(\"../src\")\n",
    "\n",
    "# Unload the module if already loaded\n",
    "import idealista18.loader as loader\n",
    "import idealista18.enricher as enricher\n",
    "import idealista18.util as util"
   ]
  },
  {
   "cell_type": "markdown",
   "id": "b8e2dd46",
   "metadata": {},
   "source": [
    "## Connect to Weights & Biases"
   ]
  },
  {
   "cell_type": "code",
   "execution_count": 5,
   "id": "e2acd9f5",
   "metadata": {},
   "outputs": [
    {
     "name": "stderr",
     "output_type": "stream",
     "text": [
      "\u001b[34m\u001b[1mwandb\u001b[0m: \u001b[33mWARNING\u001b[0m If you're specifying your api key in code, ensure this code is not shared publicly.\n",
      "\u001b[34m\u001b[1mwandb\u001b[0m: \u001b[33mWARNING\u001b[0m Consider setting the WANDB_API_KEY environment variable, or running `wandb login` from the command line.\n",
      "\u001b[34m\u001b[1mwandb\u001b[0m: Appending key for api.wandb.ai to your netrc file: /home/codespace/.netrc\n"
     ]
    },
    {
     "data": {
      "text/plain": [
       "True"
      ]
     },
     "execution_count": 5,
     "metadata": {},
     "output_type": "execute_result"
    }
   ],
   "source": [
    "import wandb\n",
    "\n",
    "# 1) Grab the W&B token\n",
    "\n",
    "wandb_token = os.getenv(\"WANDB_API_KEY\")\n",
    "if wandb_token is None:\n",
    "    raise RuntimeError(\"WANDB_API_KEY not found in environment. Did you create a .env with that variable?\")\n",
    "# 2) Login with the token\n",
    "wandb.login(key=wandb_token)"
   ]
  },
  {
   "cell_type": "code",
   "execution_count": 6,
   "metadata": {},
   "outputs": [
    {
     "name": "stdout",
     "output_type": "stream",
     "text": [
      "Data loaded:\n",
      "                 ASSETID   PRICE    UNITPRICE ADTYPOLOGYID ADOPERATIONID  \\\n",
      "0  A15019136831406238029  126000  2680.851064         HOME          SALE   \n",
      "1   A6677225905472065344  235000  4351.851852         HOME          SALE   \n",
      "2  A13341979748618524775  373000  4973.333333         HOME          SALE   \n",
      "3   A4775182175615276542  284000  5916.666667         HOME          SALE   \n",
      "4   A2492087730711701973  228000  4560.000000         HOME          SALE   \n",
      "\n",
      "   CONSTRUCTEDAREA  ROOMNUMBER  BATHNUMBER  HASTERRACE  HASLIFT  ...  \\\n",
      "0               47           1           1           0        1  ...   \n",
      "1               54           1           1           0        0  ...   \n",
      "2               75           2           1           0        0  ...   \n",
      "3               48           1           1           0        1  ...   \n",
      "4               50           0           1           0        0  ...   \n",
      "\n",
      "   DISTANCE_TO_METRO  DISTANCE_TO_CASTELLANA  LONGITUDE   LATITUDE  CITYNAME  \\\n",
      "0           0.872075                6.868677  -3.766933  40.362485    Madrid   \n",
      "1           0.116382                1.544125  -3.710725  40.422430    Madrid   \n",
      "2           0.139109                1.608444  -3.711571  40.422190    Madrid   \n",
      "3           0.144299                1.516166  -3.710440  40.422251    Madrid   \n",
      "4           0.337098                1.794136  -3.714340  40.408741    Madrid   \n",
      "\n",
      "   ADTYPOLOGY  ADOPERATION                    LOCATIONID        LOCATIONNAME  \\\n",
      "0        HOME         SALE  0-EU-ES-28-07-001-079-11-008  Pau de Carabanchel   \n",
      "1        HOME         SALE  0-EU-ES-28-07-001-079-01-001             Palacio   \n",
      "2        HOME         SALE  0-EU-ES-28-07-001-079-01-001             Palacio   \n",
      "3        HOME         SALE  0-EU-ES-28-07-001-079-01-001             Palacio   \n",
      "4        HOME         SALE  0-EU-ES-28-07-001-079-01-001             Palacio   \n",
      "\n",
      "          CUSEC  \n",
      "0  2.807911e+09  \n",
      "1  2.807901e+09  \n",
      "2  2.807901e+09  \n",
      "3  2.807901e+09  \n",
      "4  2.807901e+09  \n",
      "\n",
      "[5 rows x 48 columns]\n"
     ]
    }
   ],
   "source": [
    "# Load and clean data for Madrid\n",
    "# Load data and remove outliers (spatial)\n",
    "CITY = \"Madrid\"\n",
    "\n",
    "df = enricher.load_enriched_data(city_name=CITY, \n",
    "                                          deduplicate_by_adid=True,\n",
    "                                          enrich_census_code=False, \n",
    "                                          enrich_idealista_areas=False)\n",
    "\n",
    "\n",
    "print(\"Data loaded:\")\n",
    "print(df.head())"
   ]
  },
  {
   "cell_type": "code",
   "execution_count": 7,
   "id": "d782375c",
   "metadata": {},
   "outputs": [
    {
     "data": {
      "text/plain": [
       "Index(['ASSETID', 'PRICE', 'UNITPRICE', 'ADTYPOLOGYID', 'ADOPERATIONID',\n",
       "       'CONSTRUCTEDAREA', 'ROOMNUMBER', 'BATHNUMBER', 'HASTERRACE', 'HASLIFT',\n",
       "       'HASAIRCONDITIONING', 'AMENITYID', 'HASPARKINGSPACE',\n",
       "       'ISPARKINGSPACEINCLUDEDINPRICE', 'PARKINGSPACEPRICE',\n",
       "       'HASNORTHORIENTATION', 'HASSOUTHORIENTATION', 'HASEASTORIENTATION',\n",
       "       'HASWESTORIENTATION', 'HASBOXROOM', 'HASWARDROBE', 'HASSWIMMINGPOOL',\n",
       "       'HASDOORMAN', 'HASGARDEN', 'ISDUPLEX', 'ISSTUDIO', 'ISINTOPFLOOR',\n",
       "       'CONSTRUCTIONYEAR', 'FLOORCLEAN', 'FLATLOCATIONID',\n",
       "       'CADCONSTRUCTIONYEAR', 'CADMAXBUILDINGFLOOR', 'CADDWELLINGCOUNT',\n",
       "       'CADASTRALQUALITYID', 'BUILTTYPEID_1', 'BUILTTYPEID_2', 'BUILTTYPEID_3',\n",
       "       'DISTANCE_TO_CITY_CENTER', 'DISTANCE_TO_METRO',\n",
       "       'DISTANCE_TO_CASTELLANA', 'LONGITUDE', 'LATITUDE', 'CITYNAME',\n",
       "       'ADTYPOLOGY', 'ADOPERATION', 'LOCATIONID', 'LOCATIONNAME', 'CUSEC'],\n",
       "      dtype='object')"
      ]
     },
     "execution_count": 7,
     "metadata": {},
     "output_type": "execute_result"
    }
   ],
   "source": [
    "df.columns"
   ]
  },
  {
   "cell_type": "code",
   "execution_count": 8,
   "metadata": {},
   "outputs": [
    {
     "name": "stdout",
     "output_type": "stream",
     "text": [
      "Dropping columns: ['ASSETID', 'PRICE', 'ADTYPOLOGYID', 'ADOPERATIONID', 'ISPARKINGSPACEINCLUDEDINPRICE', 'PARKINGSPACEPRICE', 'CITYNAME', 'ADTYPOLOGY', 'ADOPERATION', 'LOCATIONID', 'LOCATIONNAME', 'CUSEC']\n"
     ]
    }
   ],
   "source": [
    "TARGET_COLUMN = \"UNITPRICE\"\n",
    "#\n",
    "# 1) Remove all PRICE-related columns except 'UNITPRICE'\n",
    "# 2) Remove unnecessary columns:  Typology, Operation, AssetID, Period\n",
    "#\n",
    "exclude_columns = ['ADTYPOLOGY', 'ADOPERATION', 'ASSETID', 'PERIOD', \n",
    "                   'ADTYPOLOGYID', 'ADOPERATIONID', 'CITYNAME',\n",
    "                   'LOCATIONID', 'LOCATIONNAME', 'CUSEC']\n",
    "if not df.empty:\n",
    "    price_cols = [col for col in df.columns if col in exclude_columns\n",
    "                                                       or (col.endswith('PRICE') and col != TARGET_COLUMN)]\n",
    "\n",
    "    print(\"Dropping columns:\", price_cols)\n",
    "    df = df.drop(columns=price_cols)\n",
    "else:\n",
    "    print(\"Dataframe is empty\")"
   ]
  },
  {
   "cell_type": "markdown",
   "id": "3fb6d1a4",
   "metadata": {},
   "source": [
    "Create a matrix (covariates) and a vector (target)"
   ]
  },
  {
   "cell_type": "code",
   "execution_count": 9,
   "id": "b2f569f6",
   "metadata": {},
   "outputs": [
    {
     "name": "stdout",
     "output_type": "stream",
     "text": [
      "Features and target prepared.\n"
     ]
    }
   ],
   "source": [
    "# Prepare features and target variable\n",
    "if TARGET_COLUMN in df.columns:\n",
    "    X = df.drop(columns=[TARGET_COLUMN])\n",
    "    y = df[TARGET_COLUMN]\n",
    "    print(\"Features and target prepared.\")\n",
    "else:\n",
    "    X, y = df, None\n",
    "    print(\"UNITPRICE column not found in dataframe.\")"
   ]
  },
  {
   "cell_type": "markdown",
   "id": "81d249c8",
   "metadata": {},
   "source": [
    "# Dataset como \"artefacto\" del proyecto"
   ]
  },
  {
   "cell_type": "markdown",
   "id": "49a41d37",
   "metadata": {},
   "source": [
    "## Subir el artefacto\n",
    "\n",
    "En este caso creamos un proyecto aparte que tenga el dataset, lo usaremos en los distintos proyectos de modelado"
   ]
  },
  {
   "cell_type": "code",
   "execution_count": 10,
   "id": "a2961862",
   "metadata": {},
   "outputs": [
    {
     "data": {
      "text/html": [
       "Tracking run with wandb version 0.19.11"
      ],
      "text/plain": [
       "<IPython.core.display.HTML object>"
      ]
     },
     "metadata": {},
     "output_type": "display_data"
    },
    {
     "data": {
      "text/html": [
       "Run data is saved locally in <code>/workspaces/ml-idealista-18/notebooks/wandb/run-20250603_225645-3u3dt1hp</code>"
      ],
      "text/plain": [
       "<IPython.core.display.HTML object>"
      ]
     },
     "metadata": {},
     "output_type": "display_data"
    },
    {
     "data": {
      "text/html": [
       "Syncing run <strong><a href='https://wandb.ai/davidreyblanco-uned-universidad-nacional-de-educaci-n-a-/idealista18_madrid_dataset_raw_mds9/runs/3u3dt1hp' target=\"_blank\">glorious-planet-5</a></strong> to <a href='https://wandb.ai/davidreyblanco-uned-universidad-nacional-de-educaci-n-a-/idealista18_madrid_dataset_raw_mds9' target=\"_blank\">Weights & Biases</a> (<a href='https://wandb.me/developer-guide' target=\"_blank\">docs</a>)<br>"
      ],
      "text/plain": [
       "<IPython.core.display.HTML object>"
      ]
     },
     "metadata": {},
     "output_type": "display_data"
    },
    {
     "data": {
      "text/html": [
       " View project at <a href='https://wandb.ai/davidreyblanco-uned-universidad-nacional-de-educaci-n-a-/idealista18_madrid_dataset_raw_mds9' target=\"_blank\">https://wandb.ai/davidreyblanco-uned-universidad-nacional-de-educaci-n-a-/idealista18_madrid_dataset_raw_mds9</a>"
      ],
      "text/plain": [
       "<IPython.core.display.HTML object>"
      ]
     },
     "metadata": {},
     "output_type": "display_data"
    },
    {
     "data": {
      "text/html": [
       " View run at <a href='https://wandb.ai/davidreyblanco-uned-universidad-nacional-de-educaci-n-a-/idealista18_madrid_dataset_raw_mds9/runs/3u3dt1hp' target=\"_blank\">https://wandb.ai/davidreyblanco-uned-universidad-nacional-de-educaci-n-a-/idealista18_madrid_dataset_raw_mds9/runs/3u3dt1hp</a>"
      ],
      "text/plain": [
       "<IPython.core.display.HTML object>"
      ]
     },
     "metadata": {},
     "output_type": "display_data"
    },
    {
     "data": {
      "text/html": [],
      "text/plain": [
       "<IPython.core.display.HTML object>"
      ]
     },
     "metadata": {},
     "output_type": "display_data"
    },
    {
     "data": {
      "text/html": [
       " View run <strong style=\"color:#cdcd00\">glorious-planet-5</strong> at: <a href='https://wandb.ai/davidreyblanco-uned-universidad-nacional-de-educaci-n-a-/idealista18_madrid_dataset_raw_mds9/runs/3u3dt1hp' target=\"_blank\">https://wandb.ai/davidreyblanco-uned-universidad-nacional-de-educaci-n-a-/idealista18_madrid_dataset_raw_mds9/runs/3u3dt1hp</a><br> View project at: <a href='https://wandb.ai/davidreyblanco-uned-universidad-nacional-de-educaci-n-a-/idealista18_madrid_dataset_raw_mds9' target=\"_blank\">https://wandb.ai/davidreyblanco-uned-universidad-nacional-de-educaci-n-a-/idealista18_madrid_dataset_raw_mds9</a><br>Synced 5 W&B file(s), 0 media file(s), 5 artifact file(s) and 0 other file(s)"
      ],
      "text/plain": [
       "<IPython.core.display.HTML object>"
      ]
     },
     "metadata": {},
     "output_type": "display_data"
    },
    {
     "data": {
      "text/html": [
       "Find logs at: <code>./wandb/run-20250603_225645-3u3dt1hp/logs</code>"
      ],
      "text/plain": [
       "<IPython.core.display.HTML object>"
      ]
     },
     "metadata": {},
     "output_type": "display_data"
    },
    {
     "name": "stdout",
     "output_type": "stream",
     "text": [
      "------------------------------------------\n",
      "Uploaded splits from W&B artifact:\n",
      "------------------------------------------\n",
      "X_train shape: (60642, 35)\n",
      "X_test shape: (15161, 35)\n",
      "y_train shape: (60642,)\n",
      "y_test shape: (15161,)\n"
     ]
    }
   ],
   "source": [
    "from sklearn.model_selection import train_test_split\n",
    "\n",
    "# Añadimos un dataset al registro de artefactos de W&B\n",
    "\n",
    "TEAM_ENTITY = \"mds9\"  # Replace with your team entity\n",
    "DATASET = \"idealista18\"\n",
    "random_state = 42  # For reproducibility\n",
    "\n",
    "DATASET_PROJECT = f\"{DATASET}_{CITY.lower()}_dataset_raw_{TEAM_ENTITY.lower()}\"\n",
    "\n",
    "# Split the data\n",
    "X_train, X_test, y_train, y_test = train_test_split(X, y, test_size=0.2, random_state=random_state)\n",
    "\n",
    "# Save train/test splits as CSV files\n",
    "X_train_file = \"X_train.csv.gz\"\n",
    "X_test_file = \"X_test.csv.gz\"\n",
    "y_train_file = \"y_train.csv.gz\"\n",
    "y_test_file = \"y_test.csv.gz\"\n",
    "\n",
    "X_train.to_csv(X_train_file, index=False, compression='gzip')\n",
    "X_test.to_csv(X_test_file, index=False, compression='gzip')\n",
    "y_train.to_csv(y_train_file, index=False, compression='gzip')\n",
    "y_test.to_csv(y_test_file, index=False, compression='gzip')\n",
    "\n",
    "# Log the splits as resources in the artifact\n",
    "run_dataset = wandb.init(project=f\"{DATASET_PROJECT}\", job_type=\"train-model\")\n",
    "artifact_ds = wandb.Artifact(name=f\"{DATASET}_splits\", type=\"dataset\")\n",
    "artifact_ds.add_file(X_train_file)\n",
    "artifact_ds.add_file(X_test_file)\n",
    "artifact_ds.add_file(y_train_file)\n",
    "artifact_ds.add_file(y_test_file)\n",
    "artifact_ds.save()\n",
    "run_dataset.finish()\n",
    "\n",
    "print(\"------------------------------------------\")\n",
    "print(\"Uploaded splits from W&B artifact:\")\n",
    "print(\"------------------------------------------\")\n",
    "\n",
    "print(\"X_train shape:\", X_train.shape)\n",
    "print(\"X_test shape:\", X_test.shape)\n",
    "print(\"y_train shape:\", y_train.shape)\n",
    "print(\"y_test shape:\", y_test.shape)\n"
   ]
  },
  {
   "cell_type": "markdown",
   "id": "28384484",
   "metadata": {},
   "source": [
    "## Descargar el artefacto"
   ]
  },
  {
   "cell_type": "markdown",
   "id": "228546ff",
   "metadata": {},
   "source": [
    "Ahora recuperamos los datasets subido como artefacto"
   ]
  },
  {
   "cell_type": "code",
   "execution_count": 11,
   "id": "90e28443",
   "metadata": {},
   "outputs": [
    {
     "data": {
      "text/html": [
       "Tracking run with wandb version 0.19.11"
      ],
      "text/plain": [
       "<IPython.core.display.HTML object>"
      ]
     },
     "metadata": {},
     "output_type": "display_data"
    },
    {
     "data": {
      "text/html": [
       "Run data is saved locally in <code>/workspaces/ml-idealista-18/notebooks/wandb/run-20250603_225649-ogb5zjif</code>"
      ],
      "text/plain": [
       "<IPython.core.display.HTML object>"
      ]
     },
     "metadata": {},
     "output_type": "display_data"
    },
    {
     "data": {
      "text/html": [
       "Syncing run <strong><a href='https://wandb.ai/davidreyblanco-uned-universidad-nacional-de-educaci-n-a-/idealista18_madrid_dataset_raw_mds9/runs/ogb5zjif' target=\"_blank\">cosmic-violet-6</a></strong> to <a href='https://wandb.ai/davidreyblanco-uned-universidad-nacional-de-educaci-n-a-/idealista18_madrid_dataset_raw_mds9' target=\"_blank\">Weights & Biases</a> (<a href='https://wandb.me/developer-guide' target=\"_blank\">docs</a>)<br>"
      ],
      "text/plain": [
       "<IPython.core.display.HTML object>"
      ]
     },
     "metadata": {},
     "output_type": "display_data"
    },
    {
     "data": {
      "text/html": [
       " View project at <a href='https://wandb.ai/davidreyblanco-uned-universidad-nacional-de-educaci-n-a-/idealista18_madrid_dataset_raw_mds9' target=\"_blank\">https://wandb.ai/davidreyblanco-uned-universidad-nacional-de-educaci-n-a-/idealista18_madrid_dataset_raw_mds9</a>"
      ],
      "text/plain": [
       "<IPython.core.display.HTML object>"
      ]
     },
     "metadata": {},
     "output_type": "display_data"
    },
    {
     "data": {
      "text/html": [
       " View run at <a href='https://wandb.ai/davidreyblanco-uned-universidad-nacional-de-educaci-n-a-/idealista18_madrid_dataset_raw_mds9/runs/ogb5zjif' target=\"_blank\">https://wandb.ai/davidreyblanco-uned-universidad-nacional-de-educaci-n-a-/idealista18_madrid_dataset_raw_mds9/runs/ogb5zjif</a>"
      ],
      "text/plain": [
       "<IPython.core.display.HTML object>"
      ]
     },
     "metadata": {},
     "output_type": "display_data"
    },
    {
     "name": "stderr",
     "output_type": "stream",
     "text": [
      "\u001b[34m\u001b[1mwandb\u001b[0m:   4 of 4 files downloaded.  \n"
     ]
    },
    {
     "data": {
      "text/html": [],
      "text/plain": [
       "<IPython.core.display.HTML object>"
      ]
     },
     "metadata": {},
     "output_type": "display_data"
    },
    {
     "data": {
      "text/html": [
       " View run <strong style=\"color:#cdcd00\">cosmic-violet-6</strong> at: <a href='https://wandb.ai/davidreyblanco-uned-universidad-nacional-de-educaci-n-a-/idealista18_madrid_dataset_raw_mds9/runs/ogb5zjif' target=\"_blank\">https://wandb.ai/davidreyblanco-uned-universidad-nacional-de-educaci-n-a-/idealista18_madrid_dataset_raw_mds9/runs/ogb5zjif</a><br> View project at: <a href='https://wandb.ai/davidreyblanco-uned-universidad-nacional-de-educaci-n-a-/idealista18_madrid_dataset_raw_mds9' target=\"_blank\">https://wandb.ai/davidreyblanco-uned-universidad-nacional-de-educaci-n-a-/idealista18_madrid_dataset_raw_mds9</a><br>Synced 5 W&B file(s), 0 media file(s), 0 artifact file(s) and 0 other file(s)"
      ],
      "text/plain": [
       "<IPython.core.display.HTML object>"
      ]
     },
     "metadata": {},
     "output_type": "display_data"
    },
    {
     "data": {
      "text/html": [
       "Find logs at: <code>./wandb/run-20250603_225649-ogb5zjif/logs</code>"
      ],
      "text/plain": [
       "<IPython.core.display.HTML object>"
      ]
     },
     "metadata": {},
     "output_type": "display_data"
    },
    {
     "name": "stdout",
     "output_type": "stream",
     "text": [
      "------------------------------------------\n",
      "Loaded splits from W&B artifact:\n",
      "------------------------------------------\n",
      "X_train shape: (60642, 35)\n",
      "X_test shape: (15161, 35)\n",
      "y_train shape: (60642,)\n",
      "y_test shape: (15161,)\n"
     ]
    }
   ],
   "source": [
    "import pandas as pd\n",
    "import wandb\n",
    "\n",
    "# Download the dataset splits artifact from W&B\n",
    "artifact_name = f\"{DATASET}_splits:latest\"\n",
    "with wandb.init(project=DATASET_PROJECT) as run:\n",
    "    artifact = run.use_artifact(artifact_name, type=\"dataset\")\n",
    "    artifact_dir = artifact.download()\n",
    "\n",
    "    # Load the splits from the artifact directory\n",
    "    X_train = pd.read_csv(f\"{artifact_dir}/X_train.csv.gz\", compression='gzip')\n",
    "    X_test = pd.read_csv(f\"{artifact_dir}/X_test.csv.gz\", compression='gzip')\n",
    "    y_train = pd.read_csv(f\"{artifact_dir}/y_train.csv.gz\", compression='gzip').squeeze()\n",
    "    y_test = pd.read_csv(f\"{artifact_dir}/y_test.csv.gz\", compression='gzip').squeeze()\n",
    "\n",
    "print(\"------------------------------------------\")\n",
    "print(\"Loaded splits from W&B artifact:\")\n",
    "print(\"------------------------------------------\")\n",
    "\n",
    "print(\"X_train shape:\", X_train.shape)\n",
    "print(\"X_test shape:\", X_test.shape)\n",
    "print(\"y_train shape:\", y_train.shape)\n",
    "print(\"y_test shape:\", y_test.shape)"
   ]
  },
  {
   "cell_type": "markdown",
   "id": "4ab6416e",
   "metadata": {},
   "source": [
    "# Entrenamiento de modelos"
   ]
  },
  {
   "cell_type": "markdown",
   "id": "96d36eed",
   "metadata": {},
   "source": [
    "## Random Forests"
   ]
  },
  {
   "cell_type": "code",
   "execution_count": 13,
   "id": "89c7fce3",
   "metadata": {},
   "outputs": [
    {
     "name": "stderr",
     "output_type": "stream",
     "text": [
      "\u001b[34m\u001b[1mwandb\u001b[0m: \u001b[33mWARNING\u001b[0m If you're specifying your api key in code, ensure this code is not shared publicly.\n",
      "\u001b[34m\u001b[1mwandb\u001b[0m: \u001b[33mWARNING\u001b[0m Consider setting the WANDB_API_KEY environment variable, or running `wandb login` from the command line.\n",
      "\u001b[34m\u001b[1mwandb\u001b[0m: Appending key for api.wandb.ai to your netrc file: /home/codespace/.netrc\n"
     ]
    },
    {
     "data": {
      "text/html": [
       "Tracking run with wandb version 0.19.11"
      ],
      "text/plain": [
       "<IPython.core.display.HTML object>"
      ]
     },
     "metadata": {},
     "output_type": "display_data"
    },
    {
     "data": {
      "text/html": [
       "Run data is saved locally in <code>/workspaces/ml-idealista-18/notebooks/wandb/run-20250603_225830-sbgqk9o3</code>"
      ],
      "text/plain": [
       "<IPython.core.display.HTML object>"
      ]
     },
     "metadata": {},
     "output_type": "display_data"
    },
    {
     "data": {
      "text/html": [
       "Syncing run <strong><a href='https://wandb.ai/davidreyblanco-uned-universidad-nacional-de-educaci-n-a-/idealista18_madrid_randomforest_UNITPRICE_mds9/runs/sbgqk9o3' target=\"_blank\">elated-fog-13</a></strong> to <a href='https://wandb.ai/davidreyblanco-uned-universidad-nacional-de-educaci-n-a-/idealista18_madrid_randomforest_UNITPRICE_mds9' target=\"_blank\">Weights & Biases</a> (<a href='https://wandb.me/developer-guide' target=\"_blank\">docs</a>)<br>"
      ],
      "text/plain": [
       "<IPython.core.display.HTML object>"
      ]
     },
     "metadata": {},
     "output_type": "display_data"
    },
    {
     "data": {
      "text/html": [
       " View project at <a href='https://wandb.ai/davidreyblanco-uned-universidad-nacional-de-educaci-n-a-/idealista18_madrid_randomforest_UNITPRICE_mds9' target=\"_blank\">https://wandb.ai/davidreyblanco-uned-universidad-nacional-de-educaci-n-a-/idealista18_madrid_randomforest_UNITPRICE_mds9</a>"
      ],
      "text/plain": [
       "<IPython.core.display.HTML object>"
      ]
     },
     "metadata": {},
     "output_type": "display_data"
    },
    {
     "data": {
      "text/html": [
       " View run at <a href='https://wandb.ai/davidreyblanco-uned-universidad-nacional-de-educaci-n-a-/idealista18_madrid_randomforest_UNITPRICE_mds9/runs/sbgqk9o3' target=\"_blank\">https://wandb.ai/davidreyblanco-uned-universidad-nacional-de-educaci-n-a-/idealista18_madrid_randomforest_UNITPRICE_mds9/runs/sbgqk9o3</a>"
      ],
      "text/plain": [
       "<IPython.core.display.HTML object>"
      ]
     },
     "metadata": {},
     "output_type": "display_data"
    },
    {
     "name": "stdout",
     "output_type": "stream",
     "text": [
      "10 estimators, max depth 5\n",
      "MAPE: 0.17 MedAPE: 0.1110 MSE:631388.1781616611\n",
      "Model saved to ../models/idealista18_madrid_randomforest_UNITPRICE_estimators-10_depth-5.pickle (417.81 KB)\n"
     ]
    },
    {
     "data": {
      "text/html": [],
      "text/plain": [
       "<IPython.core.display.HTML object>"
      ]
     },
     "metadata": {},
     "output_type": "display_data"
    },
    {
     "data": {
      "text/html": [
       "<br>    <style><br>        .wandb-row {<br>            display: flex;<br>            flex-direction: row;<br>            flex-wrap: wrap;<br>            justify-content: flex-start;<br>            width: 100%;<br>        }<br>        .wandb-col {<br>            display: flex;<br>            flex-direction: column;<br>            flex-basis: 100%;<br>            flex: 1;<br>            padding: 10px;<br>        }<br>    </style><br><div class=\"wandb-row\"><div class=\"wandb-col\"><h3>Run history:</h3><br/><table class=\"wandb\"><tr><td>mae</td><td>▁</td></tr><tr><td>mape</td><td>▁</td></tr><tr><td>max_depth</td><td>▁</td></tr><tr><td>medape</td><td>▁</td></tr><tr><td>mse</td><td>▁</td></tr><tr><td>n_estimators</td><td>▁</td></tr><tr><td>n_test</td><td>▁</td></tr><tr><td>n_train</td><td>▁</td></tr><tr><td>r2</td><td>▁</td></tr><tr><td>random_state</td><td>▁</td></tr></table><br/></div><div class=\"wandb-col\"><h3>Run summary:</h3><br/><table class=\"wandb\"><tr><td>mae</td><td>549.91145</td></tr><tr><td>mape</td><td>0.16672</td></tr><tr><td>max_depth</td><td>5</td></tr><tr><td>medape</td><td>0.11101</td></tr><tr><td>mse</td><td>631388.17816</td></tr><tr><td>n_estimators</td><td>10</td></tr><tr><td>n_test</td><td>15161</td></tr><tr><td>n_train</td><td>60642</td></tr><tr><td>r2</td><td>0.78361</td></tr><tr><td>random_state</td><td>42</td></tr></table><br/></div></div>"
      ],
      "text/plain": [
       "<IPython.core.display.HTML object>"
      ]
     },
     "metadata": {},
     "output_type": "display_data"
    },
    {
     "data": {
      "text/html": [
       " View run <strong style=\"color:#cdcd00\">elated-fog-13</strong> at: <a href='https://wandb.ai/davidreyblanco-uned-universidad-nacional-de-educaci-n-a-/idealista18_madrid_randomforest_UNITPRICE_mds9/runs/sbgqk9o3' target=\"_blank\">https://wandb.ai/davidreyblanco-uned-universidad-nacional-de-educaci-n-a-/idealista18_madrid_randomforest_UNITPRICE_mds9/runs/sbgqk9o3</a><br> View project at: <a href='https://wandb.ai/davidreyblanco-uned-universidad-nacional-de-educaci-n-a-/idealista18_madrid_randomforest_UNITPRICE_mds9' target=\"_blank\">https://wandb.ai/davidreyblanco-uned-universidad-nacional-de-educaci-n-a-/idealista18_madrid_randomforest_UNITPRICE_mds9</a><br>Synced 5 W&B file(s), 1 media file(s), 4 artifact file(s) and 0 other file(s)"
      ],
      "text/plain": [
       "<IPython.core.display.HTML object>"
      ]
     },
     "metadata": {},
     "output_type": "display_data"
    },
    {
     "data": {
      "text/html": [
       "Find logs at: <code>./wandb/run-20250603_225830-sbgqk9o3/logs</code>"
      ],
      "text/plain": [
       "<IPython.core.display.HTML object>"
      ]
     },
     "metadata": {},
     "output_type": "display_data"
    },
    {
     "data": {
      "text/html": [
       "Tracking run with wandb version 0.19.11"
      ],
      "text/plain": [
       "<IPython.core.display.HTML object>"
      ]
     },
     "metadata": {},
     "output_type": "display_data"
    },
    {
     "data": {
      "text/html": [
       "Run data is saved locally in <code>/workspaces/ml-idealista-18/notebooks/wandb/run-20250603_225838-wgzx4he1</code>"
      ],
      "text/plain": [
       "<IPython.core.display.HTML object>"
      ]
     },
     "metadata": {},
     "output_type": "display_data"
    },
    {
     "data": {
      "text/html": [
       "Syncing run <strong><a href='https://wandb.ai/davidreyblanco-uned-universidad-nacional-de-educaci-n-a-/idealista18_madrid_randomforest_UNITPRICE_mds9/runs/wgzx4he1' target=\"_blank\">rosy-dragon-14</a></strong> to <a href='https://wandb.ai/davidreyblanco-uned-universidad-nacional-de-educaci-n-a-/idealista18_madrid_randomforest_UNITPRICE_mds9' target=\"_blank\">Weights & Biases</a> (<a href='https://wandb.me/developer-guide' target=\"_blank\">docs</a>)<br>"
      ],
      "text/plain": [
       "<IPython.core.display.HTML object>"
      ]
     },
     "metadata": {},
     "output_type": "display_data"
    },
    {
     "data": {
      "text/html": [
       " View project at <a href='https://wandb.ai/davidreyblanco-uned-universidad-nacional-de-educaci-n-a-/idealista18_madrid_randomforest_UNITPRICE_mds9' target=\"_blank\">https://wandb.ai/davidreyblanco-uned-universidad-nacional-de-educaci-n-a-/idealista18_madrid_randomforest_UNITPRICE_mds9</a>"
      ],
      "text/plain": [
       "<IPython.core.display.HTML object>"
      ]
     },
     "metadata": {},
     "output_type": "display_data"
    },
    {
     "data": {
      "text/html": [
       " View run at <a href='https://wandb.ai/davidreyblanco-uned-universidad-nacional-de-educaci-n-a-/idealista18_madrid_randomforest_UNITPRICE_mds9/runs/wgzx4he1' target=\"_blank\">https://wandb.ai/davidreyblanco-uned-universidad-nacional-de-educaci-n-a-/idealista18_madrid_randomforest_UNITPRICE_mds9/runs/wgzx4he1</a>"
      ],
      "text/plain": [
       "<IPython.core.display.HTML object>"
      ]
     },
     "metadata": {},
     "output_type": "display_data"
    },
    {
     "name": "stdout",
     "output_type": "stream",
     "text": [
      "10 estimators, max depth 10\n",
      "MAPE: 0.17 MedAPE: 0.1110 MSE:631388.1781616611\n",
      "Model saved to ../models/idealista18_madrid_randomforest_UNITPRICE_estimators-10_depth-10.pickle (417.81 KB)\n"
     ]
    },
    {
     "data": {
      "text/html": [],
      "text/plain": [
       "<IPython.core.display.HTML object>"
      ]
     },
     "metadata": {},
     "output_type": "display_data"
    },
    {
     "data": {
      "text/html": [
       "<br>    <style><br>        .wandb-row {<br>            display: flex;<br>            flex-direction: row;<br>            flex-wrap: wrap;<br>            justify-content: flex-start;<br>            width: 100%;<br>        }<br>        .wandb-col {<br>            display: flex;<br>            flex-direction: column;<br>            flex-basis: 100%;<br>            flex: 1;<br>            padding: 10px;<br>        }<br>    </style><br><div class=\"wandb-row\"><div class=\"wandb-col\"><h3>Run history:</h3><br/><table class=\"wandb\"><tr><td>mae</td><td>▁</td></tr><tr><td>mape</td><td>▁</td></tr><tr><td>max_depth</td><td>▁</td></tr><tr><td>medape</td><td>▁</td></tr><tr><td>mse</td><td>▁</td></tr><tr><td>n_estimators</td><td>▁</td></tr><tr><td>n_test</td><td>▁</td></tr><tr><td>n_train</td><td>▁</td></tr><tr><td>r2</td><td>▁</td></tr><tr><td>random_state</td><td>▁</td></tr></table><br/></div><div class=\"wandb-col\"><h3>Run summary:</h3><br/><table class=\"wandb\"><tr><td>mae</td><td>549.91145</td></tr><tr><td>mape</td><td>0.16672</td></tr><tr><td>max_depth</td><td>10</td></tr><tr><td>medape</td><td>0.11101</td></tr><tr><td>mse</td><td>631388.17816</td></tr><tr><td>n_estimators</td><td>10</td></tr><tr><td>n_test</td><td>15161</td></tr><tr><td>n_train</td><td>60642</td></tr><tr><td>r2</td><td>0.78361</td></tr><tr><td>random_state</td><td>42</td></tr></table><br/></div></div>"
      ],
      "text/plain": [
       "<IPython.core.display.HTML object>"
      ]
     },
     "metadata": {},
     "output_type": "display_data"
    },
    {
     "data": {
      "text/html": [
       " View run <strong style=\"color:#cdcd00\">rosy-dragon-14</strong> at: <a href='https://wandb.ai/davidreyblanco-uned-universidad-nacional-de-educaci-n-a-/idealista18_madrid_randomforest_UNITPRICE_mds9/runs/wgzx4he1' target=\"_blank\">https://wandb.ai/davidreyblanco-uned-universidad-nacional-de-educaci-n-a-/idealista18_madrid_randomforest_UNITPRICE_mds9/runs/wgzx4he1</a><br> View project at: <a href='https://wandb.ai/davidreyblanco-uned-universidad-nacional-de-educaci-n-a-/idealista18_madrid_randomforest_UNITPRICE_mds9' target=\"_blank\">https://wandb.ai/davidreyblanco-uned-universidad-nacional-de-educaci-n-a-/idealista18_madrid_randomforest_UNITPRICE_mds9</a><br>Synced 5 W&B file(s), 1 media file(s), 3 artifact file(s) and 0 other file(s)"
      ],
      "text/plain": [
       "<IPython.core.display.HTML object>"
      ]
     },
     "metadata": {},
     "output_type": "display_data"
    },
    {
     "data": {
      "text/html": [
       "Find logs at: <code>./wandb/run-20250603_225838-wgzx4he1/logs</code>"
      ],
      "text/plain": [
       "<IPython.core.display.HTML object>"
      ]
     },
     "metadata": {},
     "output_type": "display_data"
    },
    {
     "data": {
      "text/html": [
       "Tracking run with wandb version 0.19.11"
      ],
      "text/plain": [
       "<IPython.core.display.HTML object>"
      ]
     },
     "metadata": {},
     "output_type": "display_data"
    },
    {
     "data": {
      "text/html": [
       "Run data is saved locally in <code>/workspaces/ml-idealista-18/notebooks/wandb/run-20250603_225847-0imami3q</code>"
      ],
      "text/plain": [
       "<IPython.core.display.HTML object>"
      ]
     },
     "metadata": {},
     "output_type": "display_data"
    },
    {
     "data": {
      "text/html": [
       "Syncing run <strong><a href='https://wandb.ai/davidreyblanco-uned-universidad-nacional-de-educaci-n-a-/idealista18_madrid_randomforest_UNITPRICE_mds9/runs/0imami3q' target=\"_blank\">cosmic-shape-15</a></strong> to <a href='https://wandb.ai/davidreyblanco-uned-universidad-nacional-de-educaci-n-a-/idealista18_madrid_randomforest_UNITPRICE_mds9' target=\"_blank\">Weights & Biases</a> (<a href='https://wandb.me/developer-guide' target=\"_blank\">docs</a>)<br>"
      ],
      "text/plain": [
       "<IPython.core.display.HTML object>"
      ]
     },
     "metadata": {},
     "output_type": "display_data"
    },
    {
     "data": {
      "text/html": [
       " View project at <a href='https://wandb.ai/davidreyblanco-uned-universidad-nacional-de-educaci-n-a-/idealista18_madrid_randomforest_UNITPRICE_mds9' target=\"_blank\">https://wandb.ai/davidreyblanco-uned-universidad-nacional-de-educaci-n-a-/idealista18_madrid_randomforest_UNITPRICE_mds9</a>"
      ],
      "text/plain": [
       "<IPython.core.display.HTML object>"
      ]
     },
     "metadata": {},
     "output_type": "display_data"
    },
    {
     "data": {
      "text/html": [
       " View run at <a href='https://wandb.ai/davidreyblanco-uned-universidad-nacional-de-educaci-n-a-/idealista18_madrid_randomforest_UNITPRICE_mds9/runs/0imami3q' target=\"_blank\">https://wandb.ai/davidreyblanco-uned-universidad-nacional-de-educaci-n-a-/idealista18_madrid_randomforest_UNITPRICE_mds9/runs/0imami3q</a>"
      ],
      "text/plain": [
       "<IPython.core.display.HTML object>"
      ]
     },
     "metadata": {},
     "output_type": "display_data"
    },
    {
     "name": "stdout",
     "output_type": "stream",
     "text": [
      "20 estimators, max depth 5\n",
      "MAPE: 0.17 MedAPE: 0.1095 MSE:621896.4796256082\n",
      "Model saved to ../models/idealista18_madrid_randomforest_UNITPRICE_estimators-20_depth-5.pickle (837.94 KB)\n"
     ]
    },
    {
     "data": {
      "text/html": [],
      "text/plain": [
       "<IPython.core.display.HTML object>"
      ]
     },
     "metadata": {},
     "output_type": "display_data"
    },
    {
     "data": {
      "text/html": [
       "<br>    <style><br>        .wandb-row {<br>            display: flex;<br>            flex-direction: row;<br>            flex-wrap: wrap;<br>            justify-content: flex-start;<br>            width: 100%;<br>        }<br>        .wandb-col {<br>            display: flex;<br>            flex-direction: column;<br>            flex-basis: 100%;<br>            flex: 1;<br>            padding: 10px;<br>        }<br>    </style><br><div class=\"wandb-row\"><div class=\"wandb-col\"><h3>Run history:</h3><br/><table class=\"wandb\"><tr><td>mae</td><td>▁</td></tr><tr><td>mape</td><td>▁</td></tr><tr><td>max_depth</td><td>▁</td></tr><tr><td>medape</td><td>▁</td></tr><tr><td>mse</td><td>▁</td></tr><tr><td>n_estimators</td><td>▁</td></tr><tr><td>n_test</td><td>▁</td></tr><tr><td>n_train</td><td>▁</td></tr><tr><td>r2</td><td>▁</td></tr><tr><td>random_state</td><td>▁</td></tr></table><br/></div><div class=\"wandb-col\"><h3>Run summary:</h3><br/><table class=\"wandb\"><tr><td>mae</td><td>545.05986</td></tr><tr><td>mape</td><td>0.1654</td></tr><tr><td>max_depth</td><td>5</td></tr><tr><td>medape</td><td>0.10947</td></tr><tr><td>mse</td><td>621896.47963</td></tr><tr><td>n_estimators</td><td>20</td></tr><tr><td>n_test</td><td>15161</td></tr><tr><td>n_train</td><td>60642</td></tr><tr><td>r2</td><td>0.78687</td></tr><tr><td>random_state</td><td>42</td></tr></table><br/></div></div>"
      ],
      "text/plain": [
       "<IPython.core.display.HTML object>"
      ]
     },
     "metadata": {},
     "output_type": "display_data"
    },
    {
     "data": {
      "text/html": [
       " View run <strong style=\"color:#cdcd00\">cosmic-shape-15</strong> at: <a href='https://wandb.ai/davidreyblanco-uned-universidad-nacional-de-educaci-n-a-/idealista18_madrid_randomforest_UNITPRICE_mds9/runs/0imami3q' target=\"_blank\">https://wandb.ai/davidreyblanco-uned-universidad-nacional-de-educaci-n-a-/idealista18_madrid_randomforest_UNITPRICE_mds9/runs/0imami3q</a><br> View project at: <a href='https://wandb.ai/davidreyblanco-uned-universidad-nacional-de-educaci-n-a-/idealista18_madrid_randomforest_UNITPRICE_mds9' target=\"_blank\">https://wandb.ai/davidreyblanco-uned-universidad-nacional-de-educaci-n-a-/idealista18_madrid_randomforest_UNITPRICE_mds9</a><br>Synced 5 W&B file(s), 1 media file(s), 4 artifact file(s) and 0 other file(s)"
      ],
      "text/plain": [
       "<IPython.core.display.HTML object>"
      ]
     },
     "metadata": {},
     "output_type": "display_data"
    },
    {
     "data": {
      "text/html": [
       "Find logs at: <code>./wandb/run-20250603_225847-0imami3q/logs</code>"
      ],
      "text/plain": [
       "<IPython.core.display.HTML object>"
      ]
     },
     "metadata": {},
     "output_type": "display_data"
    },
    {
     "data": {
      "text/html": [
       "Tracking run with wandb version 0.19.11"
      ],
      "text/plain": [
       "<IPython.core.display.HTML object>"
      ]
     },
     "metadata": {},
     "output_type": "display_data"
    },
    {
     "data": {
      "text/html": [
       "Run data is saved locally in <code>/workspaces/ml-idealista-18/notebooks/wandb/run-20250603_225900-yppa6zta</code>"
      ],
      "text/plain": [
       "<IPython.core.display.HTML object>"
      ]
     },
     "metadata": {},
     "output_type": "display_data"
    },
    {
     "data": {
      "text/html": [
       "Syncing run <strong><a href='https://wandb.ai/davidreyblanco-uned-universidad-nacional-de-educaci-n-a-/idealista18_madrid_randomforest_UNITPRICE_mds9/runs/yppa6zta' target=\"_blank\">misty-glade-16</a></strong> to <a href='https://wandb.ai/davidreyblanco-uned-universidad-nacional-de-educaci-n-a-/idealista18_madrid_randomforest_UNITPRICE_mds9' target=\"_blank\">Weights & Biases</a> (<a href='https://wandb.me/developer-guide' target=\"_blank\">docs</a>)<br>"
      ],
      "text/plain": [
       "<IPython.core.display.HTML object>"
      ]
     },
     "metadata": {},
     "output_type": "display_data"
    },
    {
     "data": {
      "text/html": [
       " View project at <a href='https://wandb.ai/davidreyblanco-uned-universidad-nacional-de-educaci-n-a-/idealista18_madrid_randomforest_UNITPRICE_mds9' target=\"_blank\">https://wandb.ai/davidreyblanco-uned-universidad-nacional-de-educaci-n-a-/idealista18_madrid_randomforest_UNITPRICE_mds9</a>"
      ],
      "text/plain": [
       "<IPython.core.display.HTML object>"
      ]
     },
     "metadata": {},
     "output_type": "display_data"
    },
    {
     "data": {
      "text/html": [
       " View run at <a href='https://wandb.ai/davidreyblanco-uned-universidad-nacional-de-educaci-n-a-/idealista18_madrid_randomforest_UNITPRICE_mds9/runs/yppa6zta' target=\"_blank\">https://wandb.ai/davidreyblanco-uned-universidad-nacional-de-educaci-n-a-/idealista18_madrid_randomforest_UNITPRICE_mds9/runs/yppa6zta</a>"
      ],
      "text/plain": [
       "<IPython.core.display.HTML object>"
      ]
     },
     "metadata": {},
     "output_type": "display_data"
    },
    {
     "name": "stdout",
     "output_type": "stream",
     "text": [
      "20 estimators, max depth 10\n",
      "MAPE: 0.17 MedAPE: 0.1095 MSE:621896.4796256082\n",
      "Model saved to ../models/idealista18_madrid_randomforest_UNITPRICE_estimators-20_depth-10.pickle (837.94 KB)\n"
     ]
    },
    {
     "data": {
      "text/html": [],
      "text/plain": [
       "<IPython.core.display.HTML object>"
      ]
     },
     "metadata": {},
     "output_type": "display_data"
    },
    {
     "data": {
      "text/html": [
       "<br>    <style><br>        .wandb-row {<br>            display: flex;<br>            flex-direction: row;<br>            flex-wrap: wrap;<br>            justify-content: flex-start;<br>            width: 100%;<br>        }<br>        .wandb-col {<br>            display: flex;<br>            flex-direction: column;<br>            flex-basis: 100%;<br>            flex: 1;<br>            padding: 10px;<br>        }<br>    </style><br><div class=\"wandb-row\"><div class=\"wandb-col\"><h3>Run history:</h3><br/><table class=\"wandb\"><tr><td>mae</td><td>▁</td></tr><tr><td>mape</td><td>▁</td></tr><tr><td>max_depth</td><td>▁</td></tr><tr><td>medape</td><td>▁</td></tr><tr><td>mse</td><td>▁</td></tr><tr><td>n_estimators</td><td>▁</td></tr><tr><td>n_test</td><td>▁</td></tr><tr><td>n_train</td><td>▁</td></tr><tr><td>r2</td><td>▁</td></tr><tr><td>random_state</td><td>▁</td></tr></table><br/></div><div class=\"wandb-col\"><h3>Run summary:</h3><br/><table class=\"wandb\"><tr><td>mae</td><td>545.05986</td></tr><tr><td>mape</td><td>0.1654</td></tr><tr><td>max_depth</td><td>10</td></tr><tr><td>medape</td><td>0.10947</td></tr><tr><td>mse</td><td>621896.47963</td></tr><tr><td>n_estimators</td><td>20</td></tr><tr><td>n_test</td><td>15161</td></tr><tr><td>n_train</td><td>60642</td></tr><tr><td>r2</td><td>0.78687</td></tr><tr><td>random_state</td><td>42</td></tr></table><br/></div></div>"
      ],
      "text/plain": [
       "<IPython.core.display.HTML object>"
      ]
     },
     "metadata": {},
     "output_type": "display_data"
    },
    {
     "data": {
      "text/html": [
       " View run <strong style=\"color:#cdcd00\">misty-glade-16</strong> at: <a href='https://wandb.ai/davidreyblanco-uned-universidad-nacional-de-educaci-n-a-/idealista18_madrid_randomforest_UNITPRICE_mds9/runs/yppa6zta' target=\"_blank\">https://wandb.ai/davidreyblanco-uned-universidad-nacional-de-educaci-n-a-/idealista18_madrid_randomforest_UNITPRICE_mds9/runs/yppa6zta</a><br> View project at: <a href='https://wandb.ai/davidreyblanco-uned-universidad-nacional-de-educaci-n-a-/idealista18_madrid_randomforest_UNITPRICE_mds9' target=\"_blank\">https://wandb.ai/davidreyblanco-uned-universidad-nacional-de-educaci-n-a-/idealista18_madrid_randomforest_UNITPRICE_mds9</a><br>Synced 5 W&B file(s), 1 media file(s), 3 artifact file(s) and 0 other file(s)"
      ],
      "text/plain": [
       "<IPython.core.display.HTML object>"
      ]
     },
     "metadata": {},
     "output_type": "display_data"
    },
    {
     "data": {
      "text/html": [
       "Find logs at: <code>./wandb/run-20250603_225900-yppa6zta/logs</code>"
      ],
      "text/plain": [
       "<IPython.core.display.HTML object>"
      ]
     },
     "metadata": {},
     "output_type": "display_data"
    },
    {
     "data": {
      "text/html": [
       "Tracking run with wandb version 0.19.11"
      ],
      "text/plain": [
       "<IPython.core.display.HTML object>"
      ]
     },
     "metadata": {},
     "output_type": "display_data"
    },
    {
     "data": {
      "text/html": [
       "Run data is saved locally in <code>/workspaces/ml-idealista-18/notebooks/wandb/run-20250603_225913-69lf08ri</code>"
      ],
      "text/plain": [
       "<IPython.core.display.HTML object>"
      ]
     },
     "metadata": {},
     "output_type": "display_data"
    },
    {
     "data": {
      "text/html": [
       "Syncing run <strong><a href='https://wandb.ai/davidreyblanco-uned-universidad-nacional-de-educaci-n-a-/idealista18_madrid_randomforest_UNITPRICE_mds9/runs/69lf08ri' target=\"_blank\">atomic-aardvark-17</a></strong> to <a href='https://wandb.ai/davidreyblanco-uned-universidad-nacional-de-educaci-n-a-/idealista18_madrid_randomforest_UNITPRICE_mds9' target=\"_blank\">Weights & Biases</a> (<a href='https://wandb.me/developer-guide' target=\"_blank\">docs</a>)<br>"
      ],
      "text/plain": [
       "<IPython.core.display.HTML object>"
      ]
     },
     "metadata": {},
     "output_type": "display_data"
    },
    {
     "data": {
      "text/html": [
       " View project at <a href='https://wandb.ai/davidreyblanco-uned-universidad-nacional-de-educaci-n-a-/idealista18_madrid_randomforest_UNITPRICE_mds9' target=\"_blank\">https://wandb.ai/davidreyblanco-uned-universidad-nacional-de-educaci-n-a-/idealista18_madrid_randomforest_UNITPRICE_mds9</a>"
      ],
      "text/plain": [
       "<IPython.core.display.HTML object>"
      ]
     },
     "metadata": {},
     "output_type": "display_data"
    },
    {
     "data": {
      "text/html": [
       " View run at <a href='https://wandb.ai/davidreyblanco-uned-universidad-nacional-de-educaci-n-a-/idealista18_madrid_randomforest_UNITPRICE_mds9/runs/69lf08ri' target=\"_blank\">https://wandb.ai/davidreyblanco-uned-universidad-nacional-de-educaci-n-a-/idealista18_madrid_randomforest_UNITPRICE_mds9/runs/69lf08ri</a>"
      ],
      "text/plain": [
       "<IPython.core.display.HTML object>"
      ]
     },
     "metadata": {},
     "output_type": "display_data"
    },
    {
     "name": "stdout",
     "output_type": "stream",
     "text": [
      "50 estimators, max depth 5\n",
      "MAPE: 0.16 MedAPE: 0.1094 MSE:619623.6070302537\n",
      "Model saved to ../models/idealista18_madrid_randomforest_UNITPRICE_estimators-50_depth-5.pickle (2096.22 KB)\n"
     ]
    },
    {
     "data": {
      "text/html": [],
      "text/plain": [
       "<IPython.core.display.HTML object>"
      ]
     },
     "metadata": {},
     "output_type": "display_data"
    },
    {
     "data": {
      "text/html": [
       "<br>    <style><br>        .wandb-row {<br>            display: flex;<br>            flex-direction: row;<br>            flex-wrap: wrap;<br>            justify-content: flex-start;<br>            width: 100%;<br>        }<br>        .wandb-col {<br>            display: flex;<br>            flex-direction: column;<br>            flex-basis: 100%;<br>            flex: 1;<br>            padding: 10px;<br>        }<br>    </style><br><div class=\"wandb-row\"><div class=\"wandb-col\"><h3>Run history:</h3><br/><table class=\"wandb\"><tr><td>mae</td><td>▁</td></tr><tr><td>mape</td><td>▁</td></tr><tr><td>max_depth</td><td>▁</td></tr><tr><td>medape</td><td>▁</td></tr><tr><td>mse</td><td>▁</td></tr><tr><td>n_estimators</td><td>▁</td></tr><tr><td>n_test</td><td>▁</td></tr><tr><td>n_train</td><td>▁</td></tr><tr><td>r2</td><td>▁</td></tr><tr><td>random_state</td><td>▁</td></tr></table><br/></div><div class=\"wandb-col\"><h3>Run summary:</h3><br/><table class=\"wandb\"><tr><td>mae</td><td>543.82574</td></tr><tr><td>mape</td><td>0.16496</td></tr><tr><td>max_depth</td><td>5</td></tr><tr><td>medape</td><td>0.10944</td></tr><tr><td>mse</td><td>619623.60703</td></tr><tr><td>n_estimators</td><td>50</td></tr><tr><td>n_test</td><td>15161</td></tr><tr><td>n_train</td><td>60642</td></tr><tr><td>r2</td><td>0.78764</td></tr><tr><td>random_state</td><td>42</td></tr></table><br/></div></div>"
      ],
      "text/plain": [
       "<IPython.core.display.HTML object>"
      ]
     },
     "metadata": {},
     "output_type": "display_data"
    },
    {
     "data": {
      "text/html": [
       " View run <strong style=\"color:#cdcd00\">atomic-aardvark-17</strong> at: <a href='https://wandb.ai/davidreyblanco-uned-universidad-nacional-de-educaci-n-a-/idealista18_madrid_randomforest_UNITPRICE_mds9/runs/69lf08ri' target=\"_blank\">https://wandb.ai/davidreyblanco-uned-universidad-nacional-de-educaci-n-a-/idealista18_madrid_randomforest_UNITPRICE_mds9/runs/69lf08ri</a><br> View project at: <a href='https://wandb.ai/davidreyblanco-uned-universidad-nacional-de-educaci-n-a-/idealista18_madrid_randomforest_UNITPRICE_mds9' target=\"_blank\">https://wandb.ai/davidreyblanco-uned-universidad-nacional-de-educaci-n-a-/idealista18_madrid_randomforest_UNITPRICE_mds9</a><br>Synced 5 W&B file(s), 1 media file(s), 4 artifact file(s) and 0 other file(s)"
      ],
      "text/plain": [
       "<IPython.core.display.HTML object>"
      ]
     },
     "metadata": {},
     "output_type": "display_data"
    },
    {
     "data": {
      "text/html": [
       "Find logs at: <code>./wandb/run-20250603_225913-69lf08ri/logs</code>"
      ],
      "text/plain": [
       "<IPython.core.display.HTML object>"
      ]
     },
     "metadata": {},
     "output_type": "display_data"
    },
    {
     "data": {
      "text/html": [
       "Tracking run with wandb version 0.19.11"
      ],
      "text/plain": [
       "<IPython.core.display.HTML object>"
      ]
     },
     "metadata": {},
     "output_type": "display_data"
    },
    {
     "data": {
      "text/html": [
       "Run data is saved locally in <code>/workspaces/ml-idealista-18/notebooks/wandb/run-20250603_225937-0yruk8q2</code>"
      ],
      "text/plain": [
       "<IPython.core.display.HTML object>"
      ]
     },
     "metadata": {},
     "output_type": "display_data"
    },
    {
     "data": {
      "text/html": [
       "Syncing run <strong><a href='https://wandb.ai/davidreyblanco-uned-universidad-nacional-de-educaci-n-a-/idealista18_madrid_randomforest_UNITPRICE_mds9/runs/0yruk8q2' target=\"_blank\">daily-aardvark-18</a></strong> to <a href='https://wandb.ai/davidreyblanco-uned-universidad-nacional-de-educaci-n-a-/idealista18_madrid_randomforest_UNITPRICE_mds9' target=\"_blank\">Weights & Biases</a> (<a href='https://wandb.me/developer-guide' target=\"_blank\">docs</a>)<br>"
      ],
      "text/plain": [
       "<IPython.core.display.HTML object>"
      ]
     },
     "metadata": {},
     "output_type": "display_data"
    },
    {
     "data": {
      "text/html": [
       " View project at <a href='https://wandb.ai/davidreyblanco-uned-universidad-nacional-de-educaci-n-a-/idealista18_madrid_randomforest_UNITPRICE_mds9' target=\"_blank\">https://wandb.ai/davidreyblanco-uned-universidad-nacional-de-educaci-n-a-/idealista18_madrid_randomforest_UNITPRICE_mds9</a>"
      ],
      "text/plain": [
       "<IPython.core.display.HTML object>"
      ]
     },
     "metadata": {},
     "output_type": "display_data"
    },
    {
     "data": {
      "text/html": [
       " View run at <a href='https://wandb.ai/davidreyblanco-uned-universidad-nacional-de-educaci-n-a-/idealista18_madrid_randomforest_UNITPRICE_mds9/runs/0yruk8q2' target=\"_blank\">https://wandb.ai/davidreyblanco-uned-universidad-nacional-de-educaci-n-a-/idealista18_madrid_randomforest_UNITPRICE_mds9/runs/0yruk8q2</a>"
      ],
      "text/plain": [
       "<IPython.core.display.HTML object>"
      ]
     },
     "metadata": {},
     "output_type": "display_data"
    },
    {
     "name": "stdout",
     "output_type": "stream",
     "text": [
      "50 estimators, max depth 10\n"
     ]
    },
    {
     "name": "stderr",
     "output_type": "stream",
     "text": [
      "Traceback (most recent call last):\n",
      "  File \"/tmp/ipykernel_8792/3555216508.py\", line 39, in <module>\n",
      "    model.fit(X_train, y_train)\n",
      "  File \"/home/codespace/.local/lib/python3.12/site-packages/sklearn/base.py\", line 1389, in wrapper\n",
      "    return fit_method(estimator, *args, **kwargs)\n",
      "           ^^^^^^^^^^^^^^^^^^^^^^^^^^^^^^^^^^^^^^\n",
      "  File \"/home/codespace/.local/lib/python3.12/site-packages/sklearn/ensemble/_forest.py\", line 487, in fit\n",
      "    trees = Parallel(\n",
      "            ^^^^^^^^^\n",
      "  File \"/home/codespace/.local/lib/python3.12/site-packages/sklearn/utils/parallel.py\", line 77, in __call__\n",
      "    return super().__call__(iterable_with_config)\n",
      "           ^^^^^^^^^^^^^^^^^^^^^^^^^^^^^^^^^^^^^^\n",
      "  File \"/home/codespace/.local/lib/python3.12/site-packages/joblib/parallel.py\", line 1986, in __call__\n",
      "    return output if self.return_generator else list(output)\n",
      "                                                ^^^^^^^^^^^^\n",
      "  File \"/home/codespace/.local/lib/python3.12/site-packages/joblib/parallel.py\", line 1914, in _get_sequential_output\n",
      "    res = func(*args, **kwargs)\n",
      "          ^^^^^^^^^^^^^^^^^^^^^\n",
      "  File \"/home/codespace/.local/lib/python3.12/site-packages/sklearn/utils/parallel.py\", line 139, in __call__\n",
      "    return self.function(*args, **kwargs)\n",
      "           ^^^^^^^^^^^^^^^^^^^^^^^^^^^^^^\n",
      "  File \"/home/codespace/.local/lib/python3.12/site-packages/sklearn/ensemble/_forest.py\", line 189, in _parallel_build_trees\n",
      "    tree._fit(\n",
      "  File \"/home/codespace/.local/lib/python3.12/site-packages/sklearn/tree/_classes.py\", line 472, in _fit\n",
      "    builder.build(self.tree_, X, y, sample_weight, missing_values_in_feature_mask)\n",
      "KeyboardInterrupt\n",
      "\u001b[34m\u001b[1mwandb\u001b[0m: \u001b[32m\u001b[41mERROR\u001b[0m Problem finishing run\n"
     ]
    },
    {
     "ename": "MailboxClosedError",
     "evalue": "",
     "output_type": "error",
     "traceback": [
      "\u001b[31m---------------------------------------------------------------------------\u001b[39m",
      "\u001b[31mKeyboardInterrupt\u001b[39m                         Traceback (most recent call last)",
      "\u001b[36mCell\u001b[39m\u001b[36m \u001b[39m\u001b[32mIn[13]\u001b[39m\u001b[32m, line 39\u001b[39m\n\u001b[32m     38\u001b[39m model = RandomForestRegressor(n_estimators=n_estimators, max_depth = \u001b[32m10\u001b[39m, random_state=random_state)\n\u001b[32m---> \u001b[39m\u001b[32m39\u001b[39m \u001b[43mmodel\u001b[49m\u001b[43m.\u001b[49m\u001b[43mfit\u001b[49m\u001b[43m(\u001b[49m\u001b[43mX_train\u001b[49m\u001b[43m,\u001b[49m\u001b[43m \u001b[49m\u001b[43my_train\u001b[49m\u001b[43m)\u001b[49m\n\u001b[32m     40\u001b[39m preds = model.predict(X_test)\n",
      "\u001b[36mFile \u001b[39m\u001b[32m~/.local/lib/python3.12/site-packages/sklearn/base.py:1389\u001b[39m, in \u001b[36m_fit_context.<locals>.decorator.<locals>.wrapper\u001b[39m\u001b[34m(estimator, *args, **kwargs)\u001b[39m\n\u001b[32m   1384\u001b[39m \u001b[38;5;28;01mwith\u001b[39;00m config_context(\n\u001b[32m   1385\u001b[39m     skip_parameter_validation=(\n\u001b[32m   1386\u001b[39m         prefer_skip_nested_validation \u001b[38;5;129;01mor\u001b[39;00m global_skip_validation\n\u001b[32m   1387\u001b[39m     )\n\u001b[32m   1388\u001b[39m ):\n\u001b[32m-> \u001b[39m\u001b[32m1389\u001b[39m     \u001b[38;5;28;01mreturn\u001b[39;00m \u001b[43mfit_method\u001b[49m\u001b[43m(\u001b[49m\u001b[43mestimator\u001b[49m\u001b[43m,\u001b[49m\u001b[43m \u001b[49m\u001b[43m*\u001b[49m\u001b[43margs\u001b[49m\u001b[43m,\u001b[49m\u001b[43m \u001b[49m\u001b[43m*\u001b[49m\u001b[43m*\u001b[49m\u001b[43mkwargs\u001b[49m\u001b[43m)\u001b[49m\n",
      "\u001b[36mFile \u001b[39m\u001b[32m~/.local/lib/python3.12/site-packages/sklearn/ensemble/_forest.py:487\u001b[39m, in \u001b[36mBaseForest.fit\u001b[39m\u001b[34m(self, X, y, sample_weight)\u001b[39m\n\u001b[32m    481\u001b[39m \u001b[38;5;66;03m# Parallel loop: we prefer the threading backend as the Cython code\u001b[39;00m\n\u001b[32m    482\u001b[39m \u001b[38;5;66;03m# for fitting the trees is internally releasing the Python GIL\u001b[39;00m\n\u001b[32m    483\u001b[39m \u001b[38;5;66;03m# making threading more efficient than multiprocessing in\u001b[39;00m\n\u001b[32m    484\u001b[39m \u001b[38;5;66;03m# that case. However, for joblib 0.12+ we respect any\u001b[39;00m\n\u001b[32m    485\u001b[39m \u001b[38;5;66;03m# parallel_backend contexts set at a higher level,\u001b[39;00m\n\u001b[32m    486\u001b[39m \u001b[38;5;66;03m# since correctness does not rely on using threads.\u001b[39;00m\n\u001b[32m--> \u001b[39m\u001b[32m487\u001b[39m trees = \u001b[43mParallel\u001b[49m\u001b[43m(\u001b[49m\n\u001b[32m    488\u001b[39m \u001b[43m    \u001b[49m\u001b[43mn_jobs\u001b[49m\u001b[43m=\u001b[49m\u001b[38;5;28;43mself\u001b[39;49m\u001b[43m.\u001b[49m\u001b[43mn_jobs\u001b[49m\u001b[43m,\u001b[49m\n\u001b[32m    489\u001b[39m \u001b[43m    \u001b[49m\u001b[43mverbose\u001b[49m\u001b[43m=\u001b[49m\u001b[38;5;28;43mself\u001b[39;49m\u001b[43m.\u001b[49m\u001b[43mverbose\u001b[49m\u001b[43m,\u001b[49m\n\u001b[32m    490\u001b[39m \u001b[43m    \u001b[49m\u001b[43mprefer\u001b[49m\u001b[43m=\u001b[49m\u001b[33;43m\"\u001b[39;49m\u001b[33;43mthreads\u001b[39;49m\u001b[33;43m\"\u001b[39;49m\u001b[43m,\u001b[49m\n\u001b[32m    491\u001b[39m \u001b[43m\u001b[49m\u001b[43m)\u001b[49m\u001b[43m(\u001b[49m\n\u001b[32m    492\u001b[39m \u001b[43m    \u001b[49m\u001b[43mdelayed\u001b[49m\u001b[43m(\u001b[49m\u001b[43m_parallel_build_trees\u001b[49m\u001b[43m)\u001b[49m\u001b[43m(\u001b[49m\n\u001b[32m    493\u001b[39m \u001b[43m        \u001b[49m\u001b[43mt\u001b[49m\u001b[43m,\u001b[49m\n\u001b[32m    494\u001b[39m \u001b[43m        \u001b[49m\u001b[38;5;28;43mself\u001b[39;49m\u001b[43m.\u001b[49m\u001b[43mbootstrap\u001b[49m\u001b[43m,\u001b[49m\n\u001b[32m    495\u001b[39m \u001b[43m        \u001b[49m\u001b[43mX\u001b[49m\u001b[43m,\u001b[49m\n\u001b[32m    496\u001b[39m \u001b[43m        \u001b[49m\u001b[43my\u001b[49m\u001b[43m,\u001b[49m\n\u001b[32m    497\u001b[39m \u001b[43m        \u001b[49m\u001b[43msample_weight\u001b[49m\u001b[43m,\u001b[49m\n\u001b[32m    498\u001b[39m \u001b[43m        \u001b[49m\u001b[43mi\u001b[49m\u001b[43m,\u001b[49m\n\u001b[32m    499\u001b[39m \u001b[43m        \u001b[49m\u001b[38;5;28;43mlen\u001b[39;49m\u001b[43m(\u001b[49m\u001b[43mtrees\u001b[49m\u001b[43m)\u001b[49m\u001b[43m,\u001b[49m\n\u001b[32m    500\u001b[39m \u001b[43m        \u001b[49m\u001b[43mverbose\u001b[49m\u001b[43m=\u001b[49m\u001b[38;5;28;43mself\u001b[39;49m\u001b[43m.\u001b[49m\u001b[43mverbose\u001b[49m\u001b[43m,\u001b[49m\n\u001b[32m    501\u001b[39m \u001b[43m        \u001b[49m\u001b[43mclass_weight\u001b[49m\u001b[43m=\u001b[49m\u001b[38;5;28;43mself\u001b[39;49m\u001b[43m.\u001b[49m\u001b[43mclass_weight\u001b[49m\u001b[43m,\u001b[49m\n\u001b[32m    502\u001b[39m \u001b[43m        \u001b[49m\u001b[43mn_samples_bootstrap\u001b[49m\u001b[43m=\u001b[49m\u001b[43mn_samples_bootstrap\u001b[49m\u001b[43m,\u001b[49m\n\u001b[32m    503\u001b[39m \u001b[43m        \u001b[49m\u001b[43mmissing_values_in_feature_mask\u001b[49m\u001b[43m=\u001b[49m\u001b[43mmissing_values_in_feature_mask\u001b[49m\u001b[43m,\u001b[49m\n\u001b[32m    504\u001b[39m \u001b[43m    \u001b[49m\u001b[43m)\u001b[49m\n\u001b[32m    505\u001b[39m \u001b[43m    \u001b[49m\u001b[38;5;28;43;01mfor\u001b[39;49;00m\u001b[43m \u001b[49m\u001b[43mi\u001b[49m\u001b[43m,\u001b[49m\u001b[43m \u001b[49m\u001b[43mt\u001b[49m\u001b[43m \u001b[49m\u001b[38;5;129;43;01min\u001b[39;49;00m\u001b[43m \u001b[49m\u001b[38;5;28;43menumerate\u001b[39;49m\u001b[43m(\u001b[49m\u001b[43mtrees\u001b[49m\u001b[43m)\u001b[49m\n\u001b[32m    506\u001b[39m \u001b[43m\u001b[49m\u001b[43m)\u001b[49m\n\u001b[32m    508\u001b[39m \u001b[38;5;66;03m# Collect newly grown trees\u001b[39;00m\n",
      "\u001b[36mFile \u001b[39m\u001b[32m~/.local/lib/python3.12/site-packages/sklearn/utils/parallel.py:77\u001b[39m, in \u001b[36mParallel.__call__\u001b[39m\u001b[34m(self, iterable)\u001b[39m\n\u001b[32m     73\u001b[39m iterable_with_config = (\n\u001b[32m     74\u001b[39m     (_with_config(delayed_func, config), args, kwargs)\n\u001b[32m     75\u001b[39m     \u001b[38;5;28;01mfor\u001b[39;00m delayed_func, args, kwargs \u001b[38;5;129;01min\u001b[39;00m iterable\n\u001b[32m     76\u001b[39m )\n\u001b[32m---> \u001b[39m\u001b[32m77\u001b[39m \u001b[38;5;28;01mreturn\u001b[39;00m \u001b[38;5;28;43msuper\u001b[39;49m\u001b[43m(\u001b[49m\u001b[43m)\u001b[49m\u001b[43m.\u001b[49m\u001b[34;43m__call__\u001b[39;49m\u001b[43m(\u001b[49m\u001b[43miterable_with_config\u001b[49m\u001b[43m)\u001b[49m\n",
      "\u001b[36mFile \u001b[39m\u001b[32m~/.local/lib/python3.12/site-packages/joblib/parallel.py:1986\u001b[39m, in \u001b[36mParallel.__call__\u001b[39m\u001b[34m(self, iterable)\u001b[39m\n\u001b[32m   1985\u001b[39m     \u001b[38;5;28mnext\u001b[39m(output)\n\u001b[32m-> \u001b[39m\u001b[32m1986\u001b[39m     \u001b[38;5;28;01mreturn\u001b[39;00m output \u001b[38;5;28;01mif\u001b[39;00m \u001b[38;5;28mself\u001b[39m.return_generator \u001b[38;5;28;01melse\u001b[39;00m \u001b[38;5;28;43mlist\u001b[39;49m\u001b[43m(\u001b[49m\u001b[43moutput\u001b[49m\u001b[43m)\u001b[49m\n\u001b[32m   1988\u001b[39m \u001b[38;5;66;03m# Let's create an ID that uniquely identifies the current call. If the\u001b[39;00m\n\u001b[32m   1989\u001b[39m \u001b[38;5;66;03m# call is interrupted early and that the same instance is immediately\u001b[39;00m\n\u001b[32m   1990\u001b[39m \u001b[38;5;66;03m# reused, this id will be used to prevent workers that were\u001b[39;00m\n\u001b[32m   1991\u001b[39m \u001b[38;5;66;03m# concurrently finalizing a task from the previous call to run the\u001b[39;00m\n\u001b[32m   1992\u001b[39m \u001b[38;5;66;03m# callback.\u001b[39;00m\n",
      "\u001b[36mFile \u001b[39m\u001b[32m~/.local/lib/python3.12/site-packages/joblib/parallel.py:1914\u001b[39m, in \u001b[36mParallel._get_sequential_output\u001b[39m\u001b[34m(self, iterable)\u001b[39m\n\u001b[32m   1913\u001b[39m \u001b[38;5;28mself\u001b[39m.n_dispatched_tasks += \u001b[32m1\u001b[39m\n\u001b[32m-> \u001b[39m\u001b[32m1914\u001b[39m res = \u001b[43mfunc\u001b[49m\u001b[43m(\u001b[49m\u001b[43m*\u001b[49m\u001b[43margs\u001b[49m\u001b[43m,\u001b[49m\u001b[43m \u001b[49m\u001b[43m*\u001b[49m\u001b[43m*\u001b[49m\u001b[43mkwargs\u001b[49m\u001b[43m)\u001b[49m\n\u001b[32m   1915\u001b[39m \u001b[38;5;28mself\u001b[39m.n_completed_tasks += \u001b[32m1\u001b[39m\n",
      "\u001b[36mFile \u001b[39m\u001b[32m~/.local/lib/python3.12/site-packages/sklearn/utils/parallel.py:139\u001b[39m, in \u001b[36m_FuncWrapper.__call__\u001b[39m\u001b[34m(self, *args, **kwargs)\u001b[39m\n\u001b[32m    138\u001b[39m \u001b[38;5;28;01mwith\u001b[39;00m config_context(**config):\n\u001b[32m--> \u001b[39m\u001b[32m139\u001b[39m     \u001b[38;5;28;01mreturn\u001b[39;00m \u001b[38;5;28;43mself\u001b[39;49m\u001b[43m.\u001b[49m\u001b[43mfunction\u001b[49m\u001b[43m(\u001b[49m\u001b[43m*\u001b[49m\u001b[43margs\u001b[49m\u001b[43m,\u001b[49m\u001b[43m \u001b[49m\u001b[43m*\u001b[49m\u001b[43m*\u001b[49m\u001b[43mkwargs\u001b[49m\u001b[43m)\u001b[49m\n",
      "\u001b[36mFile \u001b[39m\u001b[32m~/.local/lib/python3.12/site-packages/sklearn/ensemble/_forest.py:189\u001b[39m, in \u001b[36m_parallel_build_trees\u001b[39m\u001b[34m(tree, bootstrap, X, y, sample_weight, tree_idx, n_trees, verbose, class_weight, n_samples_bootstrap, missing_values_in_feature_mask)\u001b[39m\n\u001b[32m    187\u001b[39m         curr_sample_weight *= compute_sample_weight(\u001b[33m\"\u001b[39m\u001b[33mbalanced\u001b[39m\u001b[33m\"\u001b[39m, y, indices=indices)\n\u001b[32m--> \u001b[39m\u001b[32m189\u001b[39m     \u001b[43mtree\u001b[49m\u001b[43m.\u001b[49m\u001b[43m_fit\u001b[49m\u001b[43m(\u001b[49m\n\u001b[32m    190\u001b[39m \u001b[43m        \u001b[49m\u001b[43mX\u001b[49m\u001b[43m,\u001b[49m\n\u001b[32m    191\u001b[39m \u001b[43m        \u001b[49m\u001b[43my\u001b[49m\u001b[43m,\u001b[49m\n\u001b[32m    192\u001b[39m \u001b[43m        \u001b[49m\u001b[43msample_weight\u001b[49m\u001b[43m=\u001b[49m\u001b[43mcurr_sample_weight\u001b[49m\u001b[43m,\u001b[49m\n\u001b[32m    193\u001b[39m \u001b[43m        \u001b[49m\u001b[43mcheck_input\u001b[49m\u001b[43m=\u001b[49m\u001b[38;5;28;43;01mFalse\u001b[39;49;00m\u001b[43m,\u001b[49m\n\u001b[32m    194\u001b[39m \u001b[43m        \u001b[49m\u001b[43mmissing_values_in_feature_mask\u001b[49m\u001b[43m=\u001b[49m\u001b[43mmissing_values_in_feature_mask\u001b[49m\u001b[43m,\u001b[49m\n\u001b[32m    195\u001b[39m \u001b[43m    \u001b[49m\u001b[43m)\u001b[49m\n\u001b[32m    196\u001b[39m \u001b[38;5;28;01melse\u001b[39;00m:\n",
      "\u001b[36mFile \u001b[39m\u001b[32m~/.local/lib/python3.12/site-packages/sklearn/tree/_classes.py:472\u001b[39m, in \u001b[36mBaseDecisionTree._fit\u001b[39m\u001b[34m(self, X, y, sample_weight, check_input, missing_values_in_feature_mask)\u001b[39m\n\u001b[32m    462\u001b[39m     builder = BestFirstTreeBuilder(\n\u001b[32m    463\u001b[39m         splitter,\n\u001b[32m    464\u001b[39m         min_samples_split,\n\u001b[32m   (...)\u001b[39m\u001b[32m    469\u001b[39m         \u001b[38;5;28mself\u001b[39m.min_impurity_decrease,\n\u001b[32m    470\u001b[39m     )\n\u001b[32m--> \u001b[39m\u001b[32m472\u001b[39m \u001b[43mbuilder\u001b[49m\u001b[43m.\u001b[49m\u001b[43mbuild\u001b[49m\u001b[43m(\u001b[49m\u001b[38;5;28;43mself\u001b[39;49m\u001b[43m.\u001b[49m\u001b[43mtree_\u001b[49m\u001b[43m,\u001b[49m\u001b[43m \u001b[49m\u001b[43mX\u001b[49m\u001b[43m,\u001b[49m\u001b[43m \u001b[49m\u001b[43my\u001b[49m\u001b[43m,\u001b[49m\u001b[43m \u001b[49m\u001b[43msample_weight\u001b[49m\u001b[43m,\u001b[49m\u001b[43m \u001b[49m\u001b[43mmissing_values_in_feature_mask\u001b[49m\u001b[43m)\u001b[49m\n\u001b[32m    474\u001b[39m \u001b[38;5;28;01mif\u001b[39;00m \u001b[38;5;28mself\u001b[39m.n_outputs_ == \u001b[32m1\u001b[39m \u001b[38;5;129;01mand\u001b[39;00m is_classifier(\u001b[38;5;28mself\u001b[39m):\n",
      "\u001b[31mKeyboardInterrupt\u001b[39m: ",
      "\nDuring handling of the above exception, another exception occurred:\n",
      "\u001b[31mMailboxClosedError\u001b[39m                        Traceback (most recent call last)",
      "\u001b[36mCell\u001b[39m\u001b[36m \u001b[39m\u001b[32mIn[13]\u001b[39m\u001b[32m, line 29\u001b[39m\n\u001b[32m     25\u001b[39m \u001b[38;5;28;01mfor\u001b[39;00m n_estimators \u001b[38;5;129;01min\u001b[39;00m [\u001b[32m10\u001b[39m, \u001b[32m20\u001b[39m, \u001b[32m50\u001b[39m, \u001b[32m100\u001b[39m]:\n\u001b[32m     26\u001b[39m     \u001b[38;5;28;01mfor\u001b[39;00m max_depth \u001b[38;5;129;01min\u001b[39;00m [\u001b[32m5\u001b[39m, \u001b[32m10\u001b[39m]:\n\u001b[32m     27\u001b[39m \n\u001b[32m     28\u001b[39m         \u001b[38;5;66;03m# 3) Train some models\u001b[39;00m\n\u001b[32m---> \u001b[39m\u001b[32m29\u001b[39m \u001b[43m        \u001b[49m\u001b[38;5;28;43;01mwith\u001b[39;49;00m\u001b[43m \u001b[49m\u001b[43mwandb\u001b[49m\u001b[43m.\u001b[49m\u001b[43minit\u001b[49m\u001b[43m(\u001b[49m\u001b[43mproject\u001b[49m\u001b[43m=\u001b[49m\u001b[43mPROJECT\u001b[49m\u001b[43m,\u001b[49m\u001b[43m \u001b[49m\u001b[43mconfig\u001b[49m\u001b[43m=\u001b[49m\u001b[43m{\u001b[49m\u001b[33;43m\"\u001b[39;49m\u001b[33;43malgorithm\u001b[39;49m\u001b[33;43m\"\u001b[39;49m\u001b[43m:\u001b[49m\u001b[43m \u001b[49m\u001b[43mALGORITHM\u001b[49m\u001b[43m,\u001b[49m\n\u001b[32m     30\u001b[39m \u001b[43m                                                \u001b[49m\u001b[33;43m\"\u001b[39;49m\u001b[33;43mtarget\u001b[39;49m\u001b[33;43m\"\u001b[39;49m\u001b[43m:\u001b[49m\u001b[43m \u001b[49m\u001b[43mTARGET_COLUMN\u001b[49m\u001b[43m,\u001b[49m\n\u001b[32m     31\u001b[39m \u001b[43m                                                \u001b[49m\u001b[33;43m\"\u001b[39;49m\u001b[33;43mcity\u001b[39;49m\u001b[33;43m\"\u001b[39;49m\u001b[43m:\u001b[49m\u001b[43m \u001b[49m\u001b[43mCITY\u001b[49m\u001b[43m,\u001b[49m\n\u001b[32m     32\u001b[39m \u001b[43m                                                \u001b[49m\u001b[33;43m\"\u001b[39;49m\u001b[33;43mdataset\u001b[39;49m\u001b[33;43m\"\u001b[39;49m\u001b[43m:\u001b[49m\u001b[43m \u001b[49m\u001b[43mDATASET\u001b[49m\u001b[43m \u001b[49m\u001b[43m}\u001b[49m\u001b[43m)\u001b[49m\u001b[43m \u001b[49m\u001b[38;5;28;43;01mas\u001b[39;49;00m\u001b[43m \u001b[49m\u001b[43mrun\u001b[49m\u001b[43m:\u001b[49m\n\u001b[32m     33\u001b[39m \n\u001b[32m     34\u001b[39m \u001b[43m            \u001b[49m\u001b[38;5;66;43;03m#\u001b[39;49;00m\n\u001b[32m     35\u001b[39m \u001b[43m            \u001b[49m\u001b[38;5;66;43;03m# Create a grid search for hyperparameters\u001b[39;49;00m\n\u001b[32m     36\u001b[39m \u001b[43m            \u001b[49m\u001b[38;5;66;43;03m#\u001b[39;49;00m\n\u001b[32m     37\u001b[39m \u001b[43m                \u001b[49m\u001b[38;5;28;43mprint\u001b[39;49m\u001b[43m(\u001b[49m\u001b[33;43mf\u001b[39;49m\u001b[33;43m\"\u001b[39;49m\u001b[38;5;132;43;01m{\u001b[39;49;00m\u001b[43mn_estimators\u001b[49m\u001b[38;5;132;43;01m}\u001b[39;49;00m\u001b[33;43m estimators, max depth \u001b[39;49m\u001b[38;5;132;43;01m{\u001b[39;49;00m\u001b[43mmax_depth\u001b[49m\u001b[38;5;132;43;01m}\u001b[39;49;00m\u001b[33;43m\"\u001b[39;49m\u001b[43m)\u001b[49m\n\u001b[32m     38\u001b[39m \u001b[43m                \u001b[49m\u001b[43mmodel\u001b[49m\u001b[43m \u001b[49m\u001b[43m=\u001b[49m\u001b[43m \u001b[49m\u001b[43mRandomForestRegressor\u001b[49m\u001b[43m(\u001b[49m\u001b[43mn_estimators\u001b[49m\u001b[43m=\u001b[49m\u001b[43mn_estimators\u001b[49m\u001b[43m,\u001b[49m\u001b[43m \u001b[49m\u001b[43mmax_depth\u001b[49m\u001b[43m \u001b[49m\u001b[43m=\u001b[49m\u001b[43m \u001b[49m\u001b[32;43m10\u001b[39;49m\u001b[43m,\u001b[49m\u001b[43m \u001b[49m\u001b[43mrandom_state\u001b[49m\u001b[43m=\u001b[49m\u001b[43mrandom_state\u001b[49m\u001b[43m)\u001b[49m\n",
      "\u001b[36mFile \u001b[39m\u001b[32m~/.local/lib/python3.12/site-packages/wandb/sdk/wandb_run.py:3860\u001b[39m, in \u001b[36mRun.__exit__\u001b[39m\u001b[34m(self, exc_type, exc_val, exc_tb)\u001b[39m\n\u001b[32m   3858\u001b[39m     traceback.print_exception(exc_type, exc_val, exc_tb)\n\u001b[32m   3859\u001b[39m exit_code = \u001b[32m1\u001b[39m \u001b[38;5;28;01mif\u001b[39;00m exception_raised \u001b[38;5;28;01melse\u001b[39;00m \u001b[32m0\u001b[39m\n\u001b[32m-> \u001b[39m\u001b[32m3860\u001b[39m \u001b[38;5;28;43mself\u001b[39;49m\u001b[43m.\u001b[49m\u001b[43m_finish\u001b[49m\u001b[43m(\u001b[49m\u001b[43mexit_code\u001b[49m\u001b[43m=\u001b[49m\u001b[43mexit_code\u001b[49m\u001b[43m)\u001b[49m\n\u001b[32m   3861\u001b[39m \u001b[38;5;28;01mreturn\u001b[39;00m \u001b[38;5;129;01mnot\u001b[39;00m exception_raised\n",
      "\u001b[36mFile \u001b[39m\u001b[32m~/.local/lib/python3.12/site-packages/wandb/sdk/wandb_run.py:406\u001b[39m, in \u001b[36m_log_to_run.<locals>.wrapper\u001b[39m\u001b[34m(self, *args, **kwargs)\u001b[39m\n\u001b[32m    403\u001b[39m     run_id = \u001b[38;5;28mself\u001b[39m._attach_id\n\u001b[32m    405\u001b[39m \u001b[38;5;28;01mwith\u001b[39;00m wb_logging.log_to_run(run_id):\n\u001b[32m--> \u001b[39m\u001b[32m406\u001b[39m     \u001b[38;5;28;01mreturn\u001b[39;00m \u001b[43mfunc\u001b[49m\u001b[43m(\u001b[49m\u001b[38;5;28;43mself\u001b[39;49m\u001b[43m,\u001b[49m\u001b[43m \u001b[49m\u001b[43m*\u001b[49m\u001b[43margs\u001b[49m\u001b[43m,\u001b[49m\u001b[43m \u001b[49m\u001b[43m*\u001b[49m\u001b[43m*\u001b[49m\u001b[43mkwargs\u001b[49m\u001b[43m)\u001b[49m\n",
      "\u001b[36mFile \u001b[39m\u001b[32m~/.local/lib/python3.12/site-packages/wandb/sdk/wandb_run.py:2337\u001b[39m, in \u001b[36mRun._finish\u001b[39m\u001b[34m(self, exit_code)\u001b[39m\n\u001b[32m   2334\u001b[39m \u001b[38;5;28mself\u001b[39m._wl.remove_active_run(\u001b[38;5;28mself\u001b[39m)\n\u001b[32m   2336\u001b[39m \u001b[38;5;28;01mtry\u001b[39;00m:\n\u001b[32m-> \u001b[39m\u001b[32m2337\u001b[39m     \u001b[38;5;28;43mself\u001b[39;49m\u001b[43m.\u001b[49m\u001b[43m_atexit_cleanup\u001b[49m\u001b[43m(\u001b[49m\u001b[43mexit_code\u001b[49m\u001b[43m=\u001b[49m\u001b[43mexit_code\u001b[49m\u001b[43m)\u001b[49m\n\u001b[32m   2339\u001b[39m     \u001b[38;5;66;03m# Run hooks that should happen after the last messages to the\u001b[39;00m\n\u001b[32m   2340\u001b[39m     \u001b[38;5;66;03m# internal service, like detaching the logger.\u001b[39;00m\n\u001b[32m   2341\u001b[39m     \u001b[38;5;28;01mfor\u001b[39;00m hook \u001b[38;5;129;01min\u001b[39;00m \u001b[38;5;28mself\u001b[39m._teardown_hooks:\n",
      "\u001b[36mFile \u001b[39m\u001b[32m~/.local/lib/python3.12/site-packages/wandb/sdk/wandb_run.py:2550\u001b[39m, in \u001b[36mRun._atexit_cleanup\u001b[39m\u001b[34m(self, exit_code)\u001b[39m\n\u001b[32m   2547\u001b[39m         os.remove(\u001b[38;5;28mself\u001b[39m._settings.resume_fname)\n\u001b[32m   2549\u001b[39m \u001b[38;5;28;01mtry\u001b[39;00m:\n\u001b[32m-> \u001b[39m\u001b[32m2550\u001b[39m     \u001b[38;5;28;43mself\u001b[39;49m\u001b[43m.\u001b[49m\u001b[43m_on_finish\u001b[49m\u001b[43m(\u001b[49m\u001b[43m)\u001b[49m\n\u001b[32m   2552\u001b[39m \u001b[38;5;28;01mexcept\u001b[39;00m \u001b[38;5;167;01mKeyboardInterrupt\u001b[39;00m:\n\u001b[32m   2553\u001b[39m     \u001b[38;5;28;01mif\u001b[39;00m \u001b[38;5;129;01mnot\u001b[39;00m wandb.wandb_agent._is_running():  \u001b[38;5;66;03m# type: ignore\u001b[39;00m\n",
      "\u001b[36mFile \u001b[39m\u001b[32m~/.local/lib/python3.12/site-packages/wandb/sdk/wandb_run.py:2797\u001b[39m, in \u001b[36mRun._on_finish\u001b[39m\u001b[34m(self)\u001b[39m\n\u001b[32m   2794\u001b[39m \u001b[38;5;28;01massert\u001b[39;00m \u001b[38;5;28mself\u001b[39m._backend \u001b[38;5;129;01mand\u001b[39;00m \u001b[38;5;28mself\u001b[39m._backend.interface\n\u001b[32m   2796\u001b[39m \u001b[38;5;28;01mif\u001b[39;00m \u001b[38;5;28mself\u001b[39m._settings.x_update_finish_state:\n\u001b[32m-> \u001b[39m\u001b[32m2797\u001b[39m     exit_handle = \u001b[38;5;28;43mself\u001b[39;49m\u001b[43m.\u001b[49m\u001b[43m_backend\u001b[49m\u001b[43m.\u001b[49m\u001b[43minterface\u001b[49m\u001b[43m.\u001b[49m\u001b[43mdeliver_exit\u001b[49m\u001b[43m(\u001b[49m\u001b[38;5;28;43mself\u001b[39;49m\u001b[43m.\u001b[49m\u001b[43m_exit_code\u001b[49m\u001b[43m)\u001b[49m\n\u001b[32m   2798\u001b[39m \u001b[38;5;28;01melse\u001b[39;00m:\n\u001b[32m   2799\u001b[39m     exit_handle = \u001b[38;5;28mself\u001b[39m._backend.interface.deliver_finish_without_exit()\n",
      "\u001b[36mFile \u001b[39m\u001b[32m~/.local/lib/python3.12/site-packages/wandb/sdk/interface/interface.py:1005\u001b[39m, in \u001b[36mInterfaceBase.deliver_exit\u001b[39m\u001b[34m(self, exit_code)\u001b[39m\n\u001b[32m   1003\u001b[39m \u001b[38;5;28;01mdef\u001b[39;00m\u001b[38;5;250m \u001b[39m\u001b[34mdeliver_exit\u001b[39m(\u001b[38;5;28mself\u001b[39m, exit_code: Optional[\u001b[38;5;28mint\u001b[39m]) -> MailboxHandle[pb.Result]:\n\u001b[32m   1004\u001b[39m     exit_data = \u001b[38;5;28mself\u001b[39m._make_exit(exit_code)\n\u001b[32m-> \u001b[39m\u001b[32m1005\u001b[39m     \u001b[38;5;28;01mreturn\u001b[39;00m \u001b[38;5;28;43mself\u001b[39;49m\u001b[43m.\u001b[49m\u001b[43m_deliver_exit\u001b[49m\u001b[43m(\u001b[49m\u001b[43mexit_data\u001b[49m\u001b[43m)\u001b[49m\n",
      "\u001b[36mFile \u001b[39m\u001b[32m~/.local/lib/python3.12/site-packages/wandb/sdk/interface/interface_shared.py:436\u001b[39m, in \u001b[36mInterfaceShared._deliver_exit\u001b[39m\u001b[34m(self, exit_data)\u001b[39m\n\u001b[32m    431\u001b[39m \u001b[38;5;28;01mdef\u001b[39;00m\u001b[38;5;250m \u001b[39m\u001b[34m_deliver_exit\u001b[39m(\n\u001b[32m    432\u001b[39m     \u001b[38;5;28mself\u001b[39m,\n\u001b[32m    433\u001b[39m     exit_data: pb.RunExitRecord,\n\u001b[32m    434\u001b[39m ) -> MailboxHandle[pb.Result]:\n\u001b[32m    435\u001b[39m     record = \u001b[38;5;28mself\u001b[39m._make_record(exit=exit_data)\n\u001b[32m--> \u001b[39m\u001b[32m436\u001b[39m     \u001b[38;5;28;01mreturn\u001b[39;00m \u001b[38;5;28;43mself\u001b[39;49m\u001b[43m.\u001b[49m\u001b[43m_deliver_record\u001b[49m\u001b[43m(\u001b[49m\u001b[43mrecord\u001b[49m\u001b[43m)\u001b[49m\n",
      "\u001b[36mFile \u001b[39m\u001b[32m~/.local/lib/python3.12/site-packages/wandb/sdk/interface/interface_shared.py:389\u001b[39m, in \u001b[36mInterfaceShared._deliver_record\u001b[39m\u001b[34m(self, record)\u001b[39m\n\u001b[32m    386\u001b[39m \u001b[38;5;28;01mdef\u001b[39;00m\u001b[38;5;250m \u001b[39m\u001b[34m_deliver_record\u001b[39m(\u001b[38;5;28mself\u001b[39m, record: pb.Record) -> MailboxHandle[pb.Result]:\n\u001b[32m    387\u001b[39m     mailbox = \u001b[38;5;28mself\u001b[39m._get_mailbox()\n\u001b[32m--> \u001b[39m\u001b[32m389\u001b[39m     handle = \u001b[43mmailbox\u001b[49m\u001b[43m.\u001b[49m\u001b[43mrequire_response\u001b[49m\u001b[43m(\u001b[49m\u001b[43mrecord\u001b[49m\u001b[43m)\u001b[49m\n\u001b[32m    390\u001b[39m     \u001b[38;5;28mself\u001b[39m._publish(record)\n\u001b[32m    392\u001b[39m     \u001b[38;5;28;01mreturn\u001b[39;00m handle.map(\u001b[38;5;28;01mlambda\u001b[39;00m resp: resp.result_communicate)\n",
      "\u001b[36mFile \u001b[39m\u001b[32m~/.local/lib/python3.12/site-packages/wandb/sdk/mailbox/mailbox.py:68\u001b[39m, in \u001b[36mMailbox.require_response\u001b[39m\u001b[34m(self, request)\u001b[39m\n\u001b[32m     66\u001b[39m \u001b[38;5;28;01mwith\u001b[39;00m \u001b[38;5;28mself\u001b[39m._handles_lock:\n\u001b[32m     67\u001b[39m     \u001b[38;5;28;01mif\u001b[39;00m \u001b[38;5;28mself\u001b[39m._closed:\n\u001b[32m---> \u001b[39m\u001b[32m68\u001b[39m         \u001b[38;5;28;01mraise\u001b[39;00m MailboxClosedError()\n\u001b[32m     70\u001b[39m     handle = MailboxResponseHandle(address)\n\u001b[32m     71\u001b[39m     \u001b[38;5;28mself\u001b[39m._handles[address] = handle\n",
      "\u001b[31mMailboxClosedError\u001b[39m: "
     ]
    }
   ],
   "source": [
    "# Train/test split and model training\n",
    "import unidecode as unidecode\n",
    "import joblib\n",
    "from sklearn.ensemble import RandomForestRegressor\n",
    "from sklearn.metrics import mean_squared_error\n",
    "from sklearn.metrics import r2_score\n",
    "from sklearn.metrics import mean_absolute_error\n",
    "from sklearn.metrics import mean_absolute_percentage_error, median_absolute_error\n",
    "\n",
    "TEAM_ENTITY = \"mds9\"  # Replace with your team entity\n",
    "ALGORITHM = \"Random Forest\"\n",
    "DATASET = \"idealista18\"\n",
    "algorithm_slug = unidecode.unidecode(ALGORITHM).lower().replace(\" \", \"\")\n",
    "PROJECT = f\"{DATASET}_{CITY.lower()}_{algorithm_slug}_{TARGET_COLUMN}_{TEAM_ENTITY.lower()}\"\n",
    "\n",
    "\n",
    "# 1) Grab the W&B token\n",
    "wandb_token = os.getenv(\"WANDB_API_KEY\")\n",
    "if wandb_token is None:\n",
    "    raise RuntimeError(\"WANDB_API_KEY not found in environment. Did you create a .env with that variable?\")\n",
    "\n",
    "# 2) Login with the token\n",
    "wandb.login(key=wandb_token)\n",
    "\n",
    "for n_estimators in [10, 20, 50, 100]:\n",
    "    for max_depth in [5, 10]:\n",
    "\n",
    "        # 3) Train some models\n",
    "        with wandb.init(project=PROJECT, config={\"algorithm\": ALGORITHM,\n",
    "                                                \"target\": TARGET_COLUMN,\n",
    "                                                \"city\": CITY,\n",
    "                                                \"dataset\": DATASET }) as run:\n",
    "\n",
    "            #\n",
    "            # Create a grid search for hyperparameters\n",
    "            #\n",
    "                print(f\"{n_estimators} estimators, max depth {max_depth}\")\n",
    "                model = RandomForestRegressor(n_estimators=n_estimators, max_depth = 10, random_state=random_state)\n",
    "                model.fit(X_train, y_train)\n",
    "                preds = model.predict(X_test)\n",
    "                mse = mean_squared_error(y_test, preds)\n",
    "                r2 = r2_score(y_test, preds)\n",
    "                mae = mean_absolute_error(y_test, preds)\n",
    "                mape = mean_absolute_percentage_error(y_test, preds)\n",
    "                medape = median_absolute_error(y_test, preds) / y_test.median()\n",
    "\n",
    "                print(f\"MAPE: {mape:.2f} MedAPE: {medape:.4f} MSE:{mse}\")\n",
    "\n",
    "                run.log({\n",
    "                    \"mse\": mse,\n",
    "                    \"r2\": r2,\n",
    "                    \"mape\": mape,\n",
    "                    \"medape\": medape,\n",
    "                    \"mae\": mae,\n",
    "                    \"random_state\": random_state,\n",
    "                    'n_train': len(X_train),\n",
    "                    'n_test': len(X_test),\n",
    "                    \"n_estimators\": n_estimators,\n",
    "                    \"max_depth\": max_depth, \n",
    "                })\n",
    "\n",
    "                # Create a model filename fingerprint\n",
    "                \n",
    "                model_fp = f\"estimators-{n_estimators}_depth-{max_depth}\"\n",
    "                model_artifact_name = f\"{DATASET}_{CITY.lower()}_{algorithm_slug}_{TARGET_COLUMN}_{model_fp}\"\n",
    "\n",
    "                model_filename = f\"../models/{model_artifact_name}.pickle\"\n",
    "                joblib.dump(model, model_filename, compress=('gzip', 3))\n",
    "                model_size = os.path.getsize(model_filename)\n",
    "                print(f\"Model saved to {model_filename} ({model_size / 1024:.2f} KB)\")\n",
    "\n",
    "                # Guardamos el modelo en el repositorio de modelos de W&B\n",
    "                model_artifact_name = f'idealista18_madrid_{ALGORITHM.lower().replace(\" \", \"_\")}'\n",
    "\n",
    "                artifact = wandb.Artifact(name=model_artifact_name, \n",
    "                                        type=\"model\", \n",
    "                                        description=f\"{ALGORITHM} model for Madrid housing prices\")\n",
    "                artifact.metadata[\"tags\"] = [model_fp, CITY, DATASET]\n",
    "                artifact.metadata[\"aliases\"] = [model_fp]\n",
    "                artifact.add_file(local_path=model_filename)\n",
    "                artifact.save()\n",
    "                run.log_artifact(artifact, aliases=[\"latest\", \"production\", model_fp])\n",
    "\n",
    "                df = pd.DataFrame({\n",
    "                    \"actual_price\": y_test,\n",
    "                    \"predicted_price\": preds,\n",
    "                    \"error\": abs(y_test - preds),            # e.g. point‐size or color\n",
    "                })\n",
    "                df = wandb.Table(dataframe=df)\n",
    "\n",
    "                # 1) Simple scatter with axis labels and a color dimension (error)\n",
    "                run.log({\n",
    "                    \"price_scatter\": wandb.plot.scatter(\n",
    "                        df,\n",
    "                        x=\"actual_price\",\n",
    "                        y=\"predicted_price\",\n",
    "                        title=\"Predicted vs Actual Price\",\n",
    "                        #xname=\"Actual (EUR)\",\n",
    "                        #yname=\"Predicted (EUR)\"\n",
    "                    )\n",
    "                })\n",
    "\n",
    "                # 2) If you want to color‐code each point by “error”:\n",
    "                run.log({\n",
    "                    \"price_scatter_colored\": wandb.plot.scatter(\n",
    "                        df,\n",
    "                        x=\"actual_price\",\n",
    "                        y=\"predicted_price\",\n",
    "                        title=\"Predicted vs Actual Price (colored by error)\",\n",
    "                        #xname=\"Actual (EUR)\",\n",
    "                        #yname=\"Predicted (EUR)\",\n",
    "                        #color=\"error\",    # column in df\n",
    "                        #colorscale=\"Viridis\"  # any Plotly colorscale name\n",
    "                    )\n",
    "                })\n",
    "\n"
   ]
  },
  {
   "cell_type": "markdown",
   "id": "e07ddbb9",
   "metadata": {},
   "source": [
    "## Simple regression Tree"
   ]
  },
  {
   "cell_type": "code",
   "execution_count": null,
   "id": "cb093ac5",
   "metadata": {},
   "outputs": [
    {
     "data": {
      "text/html": [
       "Tracking run with wandb version 0.19.11"
      ],
      "text/plain": [
       "<IPython.core.display.HTML object>"
      ]
     },
     "metadata": {},
     "output_type": "display_data"
    },
    {
     "data": {
      "text/html": [
       "Run data is saved locally in <code>/Users/davidreyblanco/Software/techweek/ml-idealista-18/notebooks/wandb/run-20250603_234628-va208aef</code>"
      ],
      "text/plain": [
       "<IPython.core.display.HTML object>"
      ]
     },
     "metadata": {},
     "output_type": "display_data"
    },
    {
     "data": {
      "text/html": [
       "Syncing run <strong><a href='https://wandb.ai/davidreyblanco-uned-universidad-nacional-de-educaci-n-a-/idealista18_madrid_decisiontree_UNITPRICE_mds9/runs/va208aef' target=\"_blank\">jolly-frog-1</a></strong> to <a href='https://wandb.ai/davidreyblanco-uned-universidad-nacional-de-educaci-n-a-/idealista18_madrid_decisiontree_UNITPRICE_mds9' target=\"_blank\">Weights & Biases</a> (<a href='https://wandb.me/developer-guide' target=\"_blank\">docs</a>)<br>"
      ],
      "text/plain": [
       "<IPython.core.display.HTML object>"
      ]
     },
     "metadata": {},
     "output_type": "display_data"
    },
    {
     "data": {
      "text/html": [
       " View project at <a href='https://wandb.ai/davidreyblanco-uned-universidad-nacional-de-educaci-n-a-/idealista18_madrid_decisiontree_UNITPRICE_mds9' target=\"_blank\">https://wandb.ai/davidreyblanco-uned-universidad-nacional-de-educaci-n-a-/idealista18_madrid_decisiontree_UNITPRICE_mds9</a>"
      ],
      "text/plain": [
       "<IPython.core.display.HTML object>"
      ]
     },
     "metadata": {},
     "output_type": "display_data"
    },
    {
     "data": {
      "text/html": [
       " View run at <a href='https://wandb.ai/davidreyblanco-uned-universidad-nacional-de-educaci-n-a-/idealista18_madrid_decisiontree_UNITPRICE_mds9/runs/va208aef' target=\"_blank\">https://wandb.ai/davidreyblanco-uned-universidad-nacional-de-educaci-n-a-/idealista18_madrid_decisiontree_UNITPRICE_mds9/runs/va208aef</a>"
      ],
      "text/plain": [
       "<IPython.core.display.HTML object>"
      ]
     },
     "metadata": {},
     "output_type": "display_data"
    },
    {
     "name": "stdout",
     "output_type": "stream",
     "text": [
      "100 estimators, max depth 5\n",
      "MAPE: 0.22 MedAPE: 0.1524 MSE:996174.9396154651\n",
      "Model saved to ../models/idealista18_madrid_decisiontree_UNITPRICE_depth-5.pickle (3.05 KB)\n"
     ]
    },
    {
     "data": {
      "text/html": [],
      "text/plain": [
       "<IPython.core.display.HTML object>"
      ]
     },
     "metadata": {},
     "output_type": "display_data"
    },
    {
     "data": {
      "text/html": [
       "<br>    <style><br>        .wandb-row {<br>            display: flex;<br>            flex-direction: row;<br>            flex-wrap: wrap;<br>            justify-content: flex-start;<br>            width: 100%;<br>        }<br>        .wandb-col {<br>            display: flex;<br>            flex-direction: column;<br>            flex-basis: 100%;<br>            flex: 1;<br>            padding: 10px;<br>        }<br>    </style><br><div class=\"wandb-row\"><div class=\"wandb-col\"><h3>Run history:</h3><br/><table class=\"wandb\"><tr><td>mae</td><td>▁</td></tr><tr><td>mape</td><td>▁</td></tr><tr><td>max_depth</td><td>▁</td></tr><tr><td>medape</td><td>▁</td></tr><tr><td>mse</td><td>▁</td></tr><tr><td>n_estimators</td><td>▁</td></tr><tr><td>n_test</td><td>▁</td></tr><tr><td>n_train</td><td>▁</td></tr><tr><td>r2</td><td>▁</td></tr><tr><td>random_state</td><td>▁</td></tr></table><br/></div><div class=\"wandb-col\"><h3>Run summary:</h3><br/><table class=\"wandb\"><tr><td>mae</td><td>719.49142</td></tr><tr><td>mape</td><td>0.21843</td></tr><tr><td>max_depth</td><td>5</td></tr><tr><td>medape</td><td>0.1524</td></tr><tr><td>mse</td><td>996174.93962</td></tr><tr><td>n_estimators</td><td>100</td></tr><tr><td>n_test</td><td>15161</td></tr><tr><td>n_train</td><td>60642</td></tr><tr><td>r2</td><td>0.65859</td></tr><tr><td>random_state</td><td>42</td></tr></table><br/></div></div>"
      ],
      "text/plain": [
       "<IPython.core.display.HTML object>"
      ]
     },
     "metadata": {},
     "output_type": "display_data"
    },
    {
     "data": {
      "text/html": [
       " View run <strong style=\"color:#cdcd00\">jolly-frog-1</strong> at: <a href='https://wandb.ai/davidreyblanco-uned-universidad-nacional-de-educaci-n-a-/idealista18_madrid_decisiontree_UNITPRICE_mds9/runs/va208aef' target=\"_blank\">https://wandb.ai/davidreyblanco-uned-universidad-nacional-de-educaci-n-a-/idealista18_madrid_decisiontree_UNITPRICE_mds9/runs/va208aef</a><br> View project at: <a href='https://wandb.ai/davidreyblanco-uned-universidad-nacional-de-educaci-n-a-/idealista18_madrid_decisiontree_UNITPRICE_mds9' target=\"_blank\">https://wandb.ai/davidreyblanco-uned-universidad-nacional-de-educaci-n-a-/idealista18_madrid_decisiontree_UNITPRICE_mds9</a><br>Synced 5 W&B file(s), 1 media file(s), 4 artifact file(s) and 0 other file(s)"
      ],
      "text/plain": [
       "<IPython.core.display.HTML object>"
      ]
     },
     "metadata": {},
     "output_type": "display_data"
    },
    {
     "data": {
      "text/html": [
       "Find logs at: <code>./wandb/run-20250603_234628-va208aef/logs</code>"
      ],
      "text/plain": [
       "<IPython.core.display.HTML object>"
      ]
     },
     "metadata": {},
     "output_type": "display_data"
    },
    {
     "data": {
      "text/html": [
       "Tracking run with wandb version 0.19.11"
      ],
      "text/plain": [
       "<IPython.core.display.HTML object>"
      ]
     },
     "metadata": {},
     "output_type": "display_data"
    },
    {
     "data": {
      "text/html": [
       "Run data is saved locally in <code>/Users/davidreyblanco/Software/techweek/ml-idealista-18/notebooks/wandb/run-20250603_234632-n7nv1cno</code>"
      ],
      "text/plain": [
       "<IPython.core.display.HTML object>"
      ]
     },
     "metadata": {},
     "output_type": "display_data"
    },
    {
     "data": {
      "text/html": [
       "Syncing run <strong><a href='https://wandb.ai/davidreyblanco-uned-universidad-nacional-de-educaci-n-a-/idealista18_madrid_decisiontree_UNITPRICE_mds9/runs/n7nv1cno' target=\"_blank\">ruby-dew-2</a></strong> to <a href='https://wandb.ai/davidreyblanco-uned-universidad-nacional-de-educaci-n-a-/idealista18_madrid_decisiontree_UNITPRICE_mds9' target=\"_blank\">Weights & Biases</a> (<a href='https://wandb.me/developer-guide' target=\"_blank\">docs</a>)<br>"
      ],
      "text/plain": [
       "<IPython.core.display.HTML object>"
      ]
     },
     "metadata": {},
     "output_type": "display_data"
    },
    {
     "data": {
      "text/html": [
       " View project at <a href='https://wandb.ai/davidreyblanco-uned-universidad-nacional-de-educaci-n-a-/idealista18_madrid_decisiontree_UNITPRICE_mds9' target=\"_blank\">https://wandb.ai/davidreyblanco-uned-universidad-nacional-de-educaci-n-a-/idealista18_madrid_decisiontree_UNITPRICE_mds9</a>"
      ],
      "text/plain": [
       "<IPython.core.display.HTML object>"
      ]
     },
     "metadata": {},
     "output_type": "display_data"
    },
    {
     "data": {
      "text/html": [
       " View run at <a href='https://wandb.ai/davidreyblanco-uned-universidad-nacional-de-educaci-n-a-/idealista18_madrid_decisiontree_UNITPRICE_mds9/runs/n7nv1cno' target=\"_blank\">https://wandb.ai/davidreyblanco-uned-universidad-nacional-de-educaci-n-a-/idealista18_madrid_decisiontree_UNITPRICE_mds9/runs/n7nv1cno</a>"
      ],
      "text/plain": [
       "<IPython.core.display.HTML object>"
      ]
     },
     "metadata": {},
     "output_type": "display_data"
    },
    {
     "name": "stdout",
     "output_type": "stream",
     "text": [
      "100 estimators, max depth 10\n",
      "MAPE: 0.18 MedAPE: 0.1181 MSE:719719.8749876076\n",
      "Model saved to ../models/idealista18_madrid_decisiontree_UNITPRICE_depth-10.pickle (43.04 KB)\n"
     ]
    },
    {
     "data": {
      "text/html": [],
      "text/plain": [
       "<IPython.core.display.HTML object>"
      ]
     },
     "metadata": {},
     "output_type": "display_data"
    },
    {
     "data": {
      "text/html": [
       "<br>    <style><br>        .wandb-row {<br>            display: flex;<br>            flex-direction: row;<br>            flex-wrap: wrap;<br>            justify-content: flex-start;<br>            width: 100%;<br>        }<br>        .wandb-col {<br>            display: flex;<br>            flex-direction: column;<br>            flex-basis: 100%;<br>            flex: 1;<br>            padding: 10px;<br>        }<br>    </style><br><div class=\"wandb-row\"><div class=\"wandb-col\"><h3>Run history:</h3><br/><table class=\"wandb\"><tr><td>mae</td><td>▁</td></tr><tr><td>mape</td><td>▁</td></tr><tr><td>max_depth</td><td>▁</td></tr><tr><td>medape</td><td>▁</td></tr><tr><td>mse</td><td>▁</td></tr><tr><td>n_estimators</td><td>▁</td></tr><tr><td>n_test</td><td>▁</td></tr><tr><td>n_train</td><td>▁</td></tr><tr><td>r2</td><td>▁</td></tr><tr><td>random_state</td><td>▁</td></tr></table><br/></div><div class=\"wandb-col\"><h3>Run summary:</h3><br/><table class=\"wandb\"><tr><td>mae</td><td>589.6656</td></tr><tr><td>mape</td><td>0.17759</td></tr><tr><td>max_depth</td><td>10</td></tr><tr><td>medape</td><td>0.11808</td></tr><tr><td>mse</td><td>719719.87499</td></tr><tr><td>n_estimators</td><td>100</td></tr><tr><td>n_test</td><td>15161</td></tr><tr><td>n_train</td><td>60642</td></tr><tr><td>r2</td><td>0.75334</td></tr><tr><td>random_state</td><td>42</td></tr></table><br/></div></div>"
      ],
      "text/plain": [
       "<IPython.core.display.HTML object>"
      ]
     },
     "metadata": {},
     "output_type": "display_data"
    },
    {
     "data": {
      "text/html": [
       " View run <strong style=\"color:#cdcd00\">ruby-dew-2</strong> at: <a href='https://wandb.ai/davidreyblanco-uned-universidad-nacional-de-educaci-n-a-/idealista18_madrid_decisiontree_UNITPRICE_mds9/runs/n7nv1cno' target=\"_blank\">https://wandb.ai/davidreyblanco-uned-universidad-nacional-de-educaci-n-a-/idealista18_madrid_decisiontree_UNITPRICE_mds9/runs/n7nv1cno</a><br> View project at: <a href='https://wandb.ai/davidreyblanco-uned-universidad-nacional-de-educaci-n-a-/idealista18_madrid_decisiontree_UNITPRICE_mds9' target=\"_blank\">https://wandb.ai/davidreyblanco-uned-universidad-nacional-de-educaci-n-a-/idealista18_madrid_decisiontree_UNITPRICE_mds9</a><br>Synced 5 W&B file(s), 1 media file(s), 4 artifact file(s) and 0 other file(s)"
      ],
      "text/plain": [
       "<IPython.core.display.HTML object>"
      ]
     },
     "metadata": {},
     "output_type": "display_data"
    },
    {
     "data": {
      "text/html": [
       "Find logs at: <code>./wandb/run-20250603_234632-n7nv1cno/logs</code>"
      ],
      "text/plain": [
       "<IPython.core.display.HTML object>"
      ]
     },
     "metadata": {},
     "output_type": "display_data"
    },
    {
     "data": {
      "text/html": [
       "Tracking run with wandb version 0.19.11"
      ],
      "text/plain": [
       "<IPython.core.display.HTML object>"
      ]
     },
     "metadata": {},
     "output_type": "display_data"
    },
    {
     "data": {
      "text/html": [
       "Run data is saved locally in <code>/Users/davidreyblanco/Software/techweek/ml-idealista-18/notebooks/wandb/run-20250603_234637-t2l1ywif</code>"
      ],
      "text/plain": [
       "<IPython.core.display.HTML object>"
      ]
     },
     "metadata": {},
     "output_type": "display_data"
    },
    {
     "data": {
      "text/html": [
       "Syncing run <strong><a href='https://wandb.ai/davidreyblanco-uned-universidad-nacional-de-educaci-n-a-/idealista18_madrid_decisiontree_UNITPRICE_mds9/runs/t2l1ywif' target=\"_blank\">laced-cloud-3</a></strong> to <a href='https://wandb.ai/davidreyblanco-uned-universidad-nacional-de-educaci-n-a-/idealista18_madrid_decisiontree_UNITPRICE_mds9' target=\"_blank\">Weights & Biases</a> (<a href='https://wandb.me/developer-guide' target=\"_blank\">docs</a>)<br>"
      ],
      "text/plain": [
       "<IPython.core.display.HTML object>"
      ]
     },
     "metadata": {},
     "output_type": "display_data"
    },
    {
     "data": {
      "text/html": [
       " View project at <a href='https://wandb.ai/davidreyblanco-uned-universidad-nacional-de-educaci-n-a-/idealista18_madrid_decisiontree_UNITPRICE_mds9' target=\"_blank\">https://wandb.ai/davidreyblanco-uned-universidad-nacional-de-educaci-n-a-/idealista18_madrid_decisiontree_UNITPRICE_mds9</a>"
      ],
      "text/plain": [
       "<IPython.core.display.HTML object>"
      ]
     },
     "metadata": {},
     "output_type": "display_data"
    },
    {
     "data": {
      "text/html": [
       " View run at <a href='https://wandb.ai/davidreyblanco-uned-universidad-nacional-de-educaci-n-a-/idealista18_madrid_decisiontree_UNITPRICE_mds9/runs/t2l1ywif' target=\"_blank\">https://wandb.ai/davidreyblanco-uned-universidad-nacional-de-educaci-n-a-/idealista18_madrid_decisiontree_UNITPRICE_mds9/runs/t2l1ywif</a>"
      ],
      "text/plain": [
       "<IPython.core.display.HTML object>"
      ]
     },
     "metadata": {},
     "output_type": "display_data"
    },
    {
     "name": "stdout",
     "output_type": "stream",
     "text": [
      "100 estimators, max depth 30\n",
      "MAPE: 0.18 MedAPE: 0.1022 MSE:870278.5097891707\n",
      "Model saved to ../models/idealista18_madrid_decisiontree_UNITPRICE_depth-30.pickle (1903.94 KB)\n"
     ]
    },
    {
     "data": {
      "text/html": [],
      "text/plain": [
       "<IPython.core.display.HTML object>"
      ]
     },
     "metadata": {},
     "output_type": "display_data"
    },
    {
     "data": {
      "text/html": [
       "<br>    <style><br>        .wandb-row {<br>            display: flex;<br>            flex-direction: row;<br>            flex-wrap: wrap;<br>            justify-content: flex-start;<br>            width: 100%;<br>        }<br>        .wandb-col {<br>            display: flex;<br>            flex-direction: column;<br>            flex-basis: 100%;<br>            flex: 1;<br>            padding: 10px;<br>        }<br>    </style><br><div class=\"wandb-row\"><div class=\"wandb-col\"><h3>Run history:</h3><br/><table class=\"wandb\"><tr><td>mae</td><td>▁</td></tr><tr><td>mape</td><td>▁</td></tr><tr><td>max_depth</td><td>▁</td></tr><tr><td>medape</td><td>▁</td></tr><tr><td>mse</td><td>▁</td></tr><tr><td>n_estimators</td><td>▁</td></tr><tr><td>n_test</td><td>▁</td></tr><tr><td>n_train</td><td>▁</td></tr><tr><td>r2</td><td>▁</td></tr><tr><td>random_state</td><td>▁</td></tr></table><br/></div><div class=\"wandb-col\"><h3>Run summary:</h3><br/><table class=\"wandb\"><tr><td>mae</td><td>600.72034</td></tr><tr><td>mape</td><td>0.17964</td></tr><tr><td>max_depth</td><td>30</td></tr><tr><td>medape</td><td>0.10219</td></tr><tr><td>mse</td><td>870278.50979</td></tr><tr><td>n_estimators</td><td>100</td></tr><tr><td>n_test</td><td>15161</td></tr><tr><td>n_train</td><td>60642</td></tr><tr><td>r2</td><td>0.70174</td></tr><tr><td>random_state</td><td>42</td></tr></table><br/></div></div>"
      ],
      "text/plain": [
       "<IPython.core.display.HTML object>"
      ]
     },
     "metadata": {},
     "output_type": "display_data"
    },
    {
     "data": {
      "text/html": [
       " View run <strong style=\"color:#cdcd00\">laced-cloud-3</strong> at: <a href='https://wandb.ai/davidreyblanco-uned-universidad-nacional-de-educaci-n-a-/idealista18_madrid_decisiontree_UNITPRICE_mds9/runs/t2l1ywif' target=\"_blank\">https://wandb.ai/davidreyblanco-uned-universidad-nacional-de-educaci-n-a-/idealista18_madrid_decisiontree_UNITPRICE_mds9/runs/t2l1ywif</a><br> View project at: <a href='https://wandb.ai/davidreyblanco-uned-universidad-nacional-de-educaci-n-a-/idealista18_madrid_decisiontree_UNITPRICE_mds9' target=\"_blank\">https://wandb.ai/davidreyblanco-uned-universidad-nacional-de-educaci-n-a-/idealista18_madrid_decisiontree_UNITPRICE_mds9</a><br>Synced 5 W&B file(s), 1 media file(s), 4 artifact file(s) and 0 other file(s)"
      ],
      "text/plain": [
       "<IPython.core.display.HTML object>"
      ]
     },
     "metadata": {},
     "output_type": "display_data"
    },
    {
     "data": {
      "text/html": [
       "Find logs at: <code>./wandb/run-20250603_234637-t2l1ywif/logs</code>"
      ],
      "text/plain": [
       "<IPython.core.display.HTML object>"
      ]
     },
     "metadata": {},
     "output_type": "display_data"
    }
   ],
   "source": [
    "import unidecode as unidecode\n",
    "import joblib\n",
    "from sklearn.ensemble import RandomForestRegressor\n",
    "from sklearn.model_selection import train_test_split\n",
    "from sklearn.metrics import mean_squared_error\n",
    "from sklearn.metrics import r2_score\n",
    "from sklearn.metrics import mean_absolute_error\n",
    "from sklearn.metrics import mean_absolute_percentage_error, median_absolute_error\n",
    "from sklearn.tree import DecisionTreeRegressor\n",
    "\n",
    "DATASET = \"idealista18\"\n",
    "TEAM_ENTITY = \"mds9\"  # Replace with your team entity\n",
    "ALGORITHM = \"Decision Tree\"\n",
    "algorithm_slug = unidecode.unidecode(ALGORITHM).lower().replace(\" \", \"\")\n",
    "PROJECT = f\"{DATASET}_{CITY.lower()}_{algorithm_slug}_{TARGET_COLUMN}_{TEAM_ENTITY.lower()}\"\n",
    "\n",
    "for max_depth in [5, 10, 30]:\n",
    "\n",
    "        # 3) Train some models\n",
    "        with wandb.init(project=PROJECT, config={\"algorithm\": ALGORITHM,\n",
    "                                                \"target\": TARGET_COLUMN,\n",
    "                                                \"city\": CITY,\n",
    "                                                \"dataset\": DATASET }) as run:\n",
    "\n",
    "            #\n",
    "            # Create a grid search for hyperparameters\n",
    "            #\n",
    "                random_state=42\n",
    "                print(f\"{n_estimators} estimators, max depth {max_depth}\")\n",
    "                model = DecisionTreeRegressor(max_depth=max_depth, random_state=random_state)\n",
    "                model.fit(X_train, y_train)\n",
    "                preds = model.predict(X_test)\n",
    "                mse = mean_squared_error(y_test, preds)\n",
    "                r2 = r2_score(y_test, preds)\n",
    "                mae = mean_absolute_error(y_test, preds)\n",
    "                mape = mean_absolute_percentage_error(y_test, preds)\n",
    "                medape = median_absolute_error(y_test, preds) / y_test.median()\n",
    "\n",
    "                print(f\"MAPE: {mape:.2f} MedAPE: {medape:.4f} MSE:{mse}\")\n",
    "\n",
    "                run.log({\n",
    "                    \"mse\": mse,\n",
    "                    \"r2\": r2,\n",
    "                    \"mape\": mape,\n",
    "                    \"medape\": medape,\n",
    "                    \"mae\": mae,\n",
    "                    \"random_state\": random_state,\n",
    "                    'n_train': len(X_train),\n",
    "                    'n_test': len(X_test),\n",
    "                    \"n_estimators\": n_estimators,\n",
    "                    \"max_depth\": max_depth, \n",
    "                })\n",
    "\n",
    "                # Create a model filename fingerprint\n",
    "                \n",
    "                model_fp = f\"depth-{max_depth}\"\n",
    "                model_artifact_name = f\"{DATASET}_{CITY.lower()}_{algorithm_slug}_{TARGET_COLUMN}_{model_fp}\"\n",
    "\n",
    "                model_filename = f\"../models/{model_artifact_name}.pickle\"\n",
    "                joblib.dump(model, model_filename, compress=('gzip', 3))\n",
    "                model_size = os.path.getsize(model_filename)\n",
    "                print(f\"Model saved to {model_filename} ({model_size / 1024:.2f} KB)\")\n",
    "\n",
    "                # Guardamos el modelo en el repositorio de modelos de W&B = idealista18_madrid_random_forest\n",
    "                model_artifact_name = f'idealista18_madrid_{ALGORITHM.lower().replace(\" \", \"_\")}'\n",
    "\n",
    "                artifact = wandb.Artifact(name=model_artifact_name, \n",
    "                                        type=\"model\", \n",
    "                                        description=f\"{ALGORITHM} model for Madrid housing prices\")\n",
    "\n",
    "                artifact.metadata[\"tags\"] = [model_fp, CITY, DATASET]\n",
    "                artifact.metadata[\"aliases\"] = [model_fp]\n",
    "                artifact.add_file(local_path=model_filename)\n",
    "                artifact.save()\n",
    "                run.log_artifact(artifact, aliases=[\"latest\", \"production\", model_fp])\n",
    "\n",
    "                df = pd.DataFrame({\n",
    "                    \"actual_price\": y_test,\n",
    "                    \"predicted_price\": preds,\n",
    "                    \"error\": abs(y_test - preds),            # e.g. point‐size or color\n",
    "                })\n",
    "                df = wandb.Table(dataframe=df)\n",
    "\n",
    "                # 1) Simple scatter with axis labels and a color dimension (error)\n",
    "                run.log({\n",
    "                    \"price_scatter\": wandb.plot.scatter(\n",
    "                        df,\n",
    "                        x=\"actual_price\",\n",
    "                        y=\"predicted_price\",\n",
    "                        title=\"Predicted vs Actual Price\",\n",
    "                        #xname=\"Actual (EUR)\",\n",
    "                        #yname=\"Predicted (EUR)\"\n",
    "                    )\n",
    "                })\n",
    "\n",
    "                # 2) If you want to color‐code each point by “error”:\n",
    "                run.log({\n",
    "                    \"price_scatter_colored\": wandb.plot.scatter(\n",
    "                        df,\n",
    "                        x=\"actual_price\",\n",
    "                        y=\"predicted_price\",\n",
    "                        title=\"Predicted vs Actual Price (colored by error)\",\n",
    "                        #xname=\"Actual (EUR)\",\n",
    "                        #yname=\"Predicted (EUR)\",\n",
    "                        #color=\"error\",    # column in df\n",
    "                        #colorscale=\"Viridis\"  # any Plotly colorscale name\n",
    "                    )\n",
    "                })\n"
   ]
  },
  {
   "cell_type": "markdown",
   "id": "8bd45500",
   "metadata": {},
   "source": [
    "## Simple regression"
   ]
  },
  {
   "cell_type": "code",
   "execution_count": null,
   "id": "1c886a23",
   "metadata": {},
   "outputs": [
    {
     "name": "stderr",
     "output_type": "stream",
     "text": [
      "\u001b[34m\u001b[1mwandb\u001b[0m: \u001b[33mWARNING\u001b[0m If you're specifying your api key in code, ensure this code is not shared publicly.\n",
      "\u001b[34m\u001b[1mwandb\u001b[0m: \u001b[33mWARNING\u001b[0m Consider setting the WANDB_API_KEY environment variable, or running `wandb login` from the command line.\n",
      "\u001b[34m\u001b[1mwandb\u001b[0m: Appending key for api.wandb.ai to your netrc file: /Users/davidreyblanco/.netrc\n"
     ]
    },
    {
     "data": {
      "text/html": [
       "Tracking run with wandb version 0.19.11"
      ],
      "text/plain": [
       "<IPython.core.display.HTML object>"
      ]
     },
     "metadata": {},
     "output_type": "display_data"
    },
    {
     "data": {
      "text/html": [
       "Run data is saved locally in <code>/Users/davidreyblanco/Software/techweek/ml-idealista-18/notebooks/wandb/run-20250603_234643-3kpmrccz</code>"
      ],
      "text/plain": [
       "<IPython.core.display.HTML object>"
      ]
     },
     "metadata": {},
     "output_type": "display_data"
    },
    {
     "data": {
      "text/html": [
       "Syncing run <strong><a href='https://wandb.ai/davidreyblanco-uned-universidad-nacional-de-educaci-n-a-/idealista18_madrid_multipleregression_UNITPRICE_mds9/runs/3kpmrccz' target=\"_blank\">scarlet-spaceship-1</a></strong> to <a href='https://wandb.ai/davidreyblanco-uned-universidad-nacional-de-educaci-n-a-/idealista18_madrid_multipleregression_UNITPRICE_mds9' target=\"_blank\">Weights & Biases</a> (<a href='https://wandb.me/developer-guide' target=\"_blank\">docs</a>)<br>"
      ],
      "text/plain": [
       "<IPython.core.display.HTML object>"
      ]
     },
     "metadata": {},
     "output_type": "display_data"
    },
    {
     "data": {
      "text/html": [
       " View project at <a href='https://wandb.ai/davidreyblanco-uned-universidad-nacional-de-educaci-n-a-/idealista18_madrid_multipleregression_UNITPRICE_mds9' target=\"_blank\">https://wandb.ai/davidreyblanco-uned-universidad-nacional-de-educaci-n-a-/idealista18_madrid_multipleregression_UNITPRICE_mds9</a>"
      ],
      "text/plain": [
       "<IPython.core.display.HTML object>"
      ]
     },
     "metadata": {},
     "output_type": "display_data"
    },
    {
     "data": {
      "text/html": [
       " View run at <a href='https://wandb.ai/davidreyblanco-uned-universidad-nacional-de-educaci-n-a-/idealista18_madrid_multipleregression_UNITPRICE_mds9/runs/3kpmrccz' target=\"_blank\">https://wandb.ai/davidreyblanco-uned-universidad-nacional-de-educaci-n-a-/idealista18_madrid_multipleregression_UNITPRICE_mds9/runs/3kpmrccz</a>"
      ],
      "text/plain": [
       "<IPython.core.display.HTML object>"
      ]
     },
     "metadata": {},
     "output_type": "display_data"
    },
    {
     "name": "stdout",
     "output_type": "stream",
     "text": [
      "100 estimators, max depth 30\n",
      "MAPE: 0.26 MedAPE: 0.1846 MSE:1148602.965288902\n",
      "Model saved to ../models/idealista18_madrid_multipleregression_UNITPRICE_plain.pickle (1.44 KB)\n"
     ]
    },
    {
     "data": {
      "text/html": [],
      "text/plain": [
       "<IPython.core.display.HTML object>"
      ]
     },
     "metadata": {},
     "output_type": "display_data"
    },
    {
     "data": {
      "text/html": [
       "<br>    <style><br>        .wandb-row {<br>            display: flex;<br>            flex-direction: row;<br>            flex-wrap: wrap;<br>            justify-content: flex-start;<br>            width: 100%;<br>        }<br>        .wandb-col {<br>            display: flex;<br>            flex-direction: column;<br>            flex-basis: 100%;<br>            flex: 1;<br>            padding: 10px;<br>        }<br>    </style><br><div class=\"wandb-row\"><div class=\"wandb-col\"><h3>Run history:</h3><br/><table class=\"wandb\"><tr><td>mae</td><td>▁</td></tr><tr><td>mape</td><td>▁</td></tr><tr><td>max_depth</td><td>▁</td></tr><tr><td>medape</td><td>▁</td></tr><tr><td>mse</td><td>▁</td></tr><tr><td>n_estimators</td><td>▁</td></tr><tr><td>n_test</td><td>▁</td></tr><tr><td>n_train</td><td>▁</td></tr><tr><td>r2</td><td>▁</td></tr><tr><td>random_state</td><td>▁</td></tr></table><br/></div><div class=\"wandb-col\"><h3>Run summary:</h3><br/><table class=\"wandb\"><tr><td>mae</td><td>798.64719</td></tr><tr><td>mape</td><td>0.26446</td></tr><tr><td>max_depth</td><td>30</td></tr><tr><td>medape</td><td>0.1846</td></tr><tr><td>mse</td><td>1148602.96529</td></tr><tr><td>n_estimators</td><td>100</td></tr><tr><td>n_test</td><td>15161</td></tr><tr><td>n_train</td><td>60642</td></tr><tr><td>r2</td><td>0.60635</td></tr><tr><td>random_state</td><td>42</td></tr></table><br/></div></div>"
      ],
      "text/plain": [
       "<IPython.core.display.HTML object>"
      ]
     },
     "metadata": {},
     "output_type": "display_data"
    },
    {
     "data": {
      "text/html": [
       " View run <strong style=\"color:#cdcd00\">scarlet-spaceship-1</strong> at: <a href='https://wandb.ai/davidreyblanco-uned-universidad-nacional-de-educaci-n-a-/idealista18_madrid_multipleregression_UNITPRICE_mds9/runs/3kpmrccz' target=\"_blank\">https://wandb.ai/davidreyblanco-uned-universidad-nacional-de-educaci-n-a-/idealista18_madrid_multipleregression_UNITPRICE_mds9/runs/3kpmrccz</a><br> View project at: <a href='https://wandb.ai/davidreyblanco-uned-universidad-nacional-de-educaci-n-a-/idealista18_madrid_multipleregression_UNITPRICE_mds9' target=\"_blank\">https://wandb.ai/davidreyblanco-uned-universidad-nacional-de-educaci-n-a-/idealista18_madrid_multipleregression_UNITPRICE_mds9</a><br>Synced 5 W&B file(s), 1 media file(s), 4 artifact file(s) and 0 other file(s)"
      ],
      "text/plain": [
       "<IPython.core.display.HTML object>"
      ]
     },
     "metadata": {},
     "output_type": "display_data"
    },
    {
     "data": {
      "text/html": [
       "Find logs at: <code>./wandb/run-20250603_234643-3kpmrccz/logs</code>"
      ],
      "text/plain": [
       "<IPython.core.display.HTML object>"
      ]
     },
     "metadata": {},
     "output_type": "display_data"
    }
   ],
   "source": [
    "import unidecode as unidecode\n",
    "import joblib\n",
    "from sklearn.ensemble import RandomForestRegressor\n",
    "from sklearn.model_selection import train_test_split\n",
    "from sklearn.metrics import mean_squared_error\n",
    "from sklearn.metrics import r2_score\n",
    "from sklearn.metrics import mean_absolute_error\n",
    "from sklearn.metrics import mean_absolute_percentage_error, median_absolute_error\n",
    "from sklearn.linear_model import LinearRegression\n",
    "\n",
    "TEAM_ENTITY = \"mds9\"  # Replace with your team entity\n",
    "ALGORITHM = \"Multiple Regression\"\n",
    "CITY = \"Madrid\"\n",
    "DATASET = \"idealista18\"\n",
    "algorithm_slug = unidecode.unidecode(ALGORITHM).lower().replace(\" \", \"\")\n",
    "PROJECT = f\"{DATASET}_{CITY.lower()}_{algorithm_slug}_{TARGET_COLUMN}_{TEAM_ENTITY.lower()}\"\n",
    "\n",
    "\n",
    "# 1) Grab the W&B token\n",
    "wandb_token = os.getenv(\"WANDB_API_KEY\")\n",
    "if wandb_token is None:\n",
    "    raise RuntimeError(\"WANDB_API_KEY not found in environment. Did you create a .env with that variable?\")\n",
    "\n",
    "# 2) Login with the token\n",
    "wandb.login(key=wandb_token)\n",
    "\n",
    "\n",
    "    # 3) Train some models\n",
    "with wandb.init(project=PROJECT, config={\"algorithm\": ALGORITHM,\n",
    "                                                \"target\": TARGET_COLUMN,\n",
    "                                                \"city\": CITY,\n",
    "                                                \"dataset\": DATASET }) as run:\n",
    "\n",
    "            #\n",
    "            # Create a grid search for hyperparameters\n",
    "            #\n",
    "                random_state=42\n",
    "                print(f\"{n_estimators} estimators, max depth {max_depth}\")\n",
    "                model = LinearRegression()\n",
    "                # Fill NA values in X_train and X_test with column means\n",
    "                X_train_lr = X_train.fillna(X_train.mean())\n",
    "                X_test_lr = X_test.fillna(X_train.mean())\n",
    "                model.fit(X_train_lr, y_train)\n",
    "                preds = model.predict(X_test_lr)\n",
    "                mse = mean_squared_error(y_test, preds)\n",
    "                r2 = r2_score(y_test, preds)\n",
    "                mae = mean_absolute_error(y_test, preds)\n",
    "                mape = mean_absolute_percentage_error(y_test, preds)\n",
    "                medape = median_absolute_error(y_test, preds) / y_test.median()\n",
    "\n",
    "                print(f\"MAPE: {mape:.2f} MedAPE: {medape:.4f} MSE:{mse}\")\n",
    "\n",
    "                run.log({\n",
    "                    \"mse\": mse,\n",
    "                    \"r2\": r2,\n",
    "                    \"mape\": mape,\n",
    "                    \"medape\": medape,\n",
    "                    \"mae\": mae,\n",
    "                    \"random_state\": random_state,\n",
    "                    'n_train': len(X_train),\n",
    "                    'n_test': len(X_test),\n",
    "                    \"n_estimators\": n_estimators,\n",
    "                    \"max_depth\": max_depth, \n",
    "                })\n",
    "\n",
    "                # Create a model filename fingerprint\n",
    "                \n",
    "                model_fp = f\"plain\"\n",
    "                model_artifact_name = f\"{DATASET}_{CITY.lower()}_{algorithm_slug}_{TARGET_COLUMN}_{model_fp}\"\n",
    "\n",
    "                model_filename = f\"../models/{model_artifact_name}.pickle\"\n",
    "                joblib.dump(model, model_filename, compress=('gzip', 3))\n",
    "                model_size = os.path.getsize(model_filename)\n",
    "                print(f\"Model saved to {model_filename} ({model_size / 1024:.2f} KB)\")\n",
    "\n",
    "                # Guardamos el modelo en el repositorio de modelos de W&B\n",
    "                model_artifact_name = f'idealista18_madrid_{ALGORITHM.lower().replace(\" \", \"_\")}'\n",
    "\n",
    "                artifact = wandb.Artifact(name=model_artifact_name, \n",
    "                                        type=\"model\", \n",
    "                                        description=f\"{ALGORITHM} model for Madrid housing prices\")\n",
    "                artifact.metadata[\"tags\"] = [model_fp, CITY, DATASET]\n",
    "                artifact.metadata[\"aliases\"] = [model_fp]\n",
    "                artifact.add_file(local_path=model_filename)\n",
    "                artifact.save()\n",
    "                run.log_artifact(artifact, aliases=[\"latest\", \"production\", model_fp])\n",
    "\n",
    "                df = pd.DataFrame({\n",
    "                    \"actual_price\": y_test,\n",
    "                    \"predicted_price\": preds,\n",
    "                    \"error\": abs(y_test - preds),            # e.g. point‐size or color\n",
    "                })\n",
    "                df = wandb.Table(dataframe=df)\n",
    "\n",
    "                # 1) Simple scatter with axis labels and a color dimension (error)\n",
    "                run.log({\n",
    "                    \"price_scatter\": wandb.plot.scatter(\n",
    "                        df,\n",
    "                        x=\"actual_price\",\n",
    "                        y=\"predicted_price\",\n",
    "                        title=\"Predicted vs Actual Price\",\n",
    "                        #xname=\"Actual (EUR)\",\n",
    "                        #yname=\"Predicted (EUR)\"\n",
    "                    )\n",
    "                })\n",
    "\n",
    "                # 2) If you want to color‐code each point by “error”:\n",
    "                run.log({\n",
    "                    \"price_scatter_colored\": wandb.plot.scatter(\n",
    "                        df,\n",
    "                        x=\"actual_price\",\n",
    "                        y=\"predicted_price\",\n",
    "                        title=\"Predicted vs Actual Price (colored by error)\",\n",
    "                        #xname=\"Actual (EUR)\",\n",
    "                        #yname=\"Predicted (EUR)\",\n",
    "                        #color=\"error\",    # column in df\n",
    "                        #colorscale=\"Viridis\"  # any Plotly colorscale name\n",
    "                    )\n",
    "                })"
   ]
  },
  {
   "cell_type": "markdown",
   "id": "c1fd4fa4",
   "metadata": {},
   "source": [
    "# Uso de un \"artefacto\" de tipo modelo\n",
    "\n",
    "Ahora descargamos el artefacto desde el proyecto, tomamos la última versión del artefacto"
   ]
  },
  {
   "cell_type": "code",
   "execution_count": null,
   "id": "8916e264",
   "metadata": {},
   "outputs": [
    {
     "name": "stdout",
     "output_type": "stream",
     "text": [
      "📁 Collection: idealista18_madrid_random_forest - Project: idealista18_madrid_randomforest_UNITPRICE_mds9\n",
      "  🔹 Artifact: idealista18_madrid_random_forest:v7 - Version: v7\n",
      "  🔹 Tags: ['estimators-100_depth-10', 'Madrid', 'idealista18']\n",
      "  🔹 Artifact: idealista18_madrid_random_forest:v6 - Version: v6\n",
      "  🔹 Tags: ['estimators-100_depth-5', 'Madrid', 'idealista18']\n",
      "  🔸 Found Target configuration found: estimators-100_depth-5\n"
     ]
    }
   ],
   "source": [
    "tag = \"latest\"  # or any specific tag you want to use\n",
    "\n",
    "TEAM_ENTITY = \"mds9\"  # Replace with your team entity\n",
    "ALGORITHM = \"Random Forest\"\n",
    "DATASET = \"idealista18\"\n",
    "algorithm_slug = unidecode.unidecode(ALGORITHM).lower().replace(\" \", \"\")\n",
    "PROJECT = f\"{DATASET}_{CITY.lower()}_{algorithm_slug}_{TARGET_COLUMN}_{TEAM_ENTITY.lower()}\"\n",
    "\n",
    "#\n",
    "#   Buscamos una configuración de modelo específica\n",
    "#\n",
    "target_configuration = \"estimators-100_depth-5\"\n",
    "\n",
    "api = wandb.Api()\n",
    "\n",
    "collections = api.artifact_collections(project_name = PROJECT, type_name = 'model')\n",
    "\n",
    "\n",
    "target_model = None\n",
    "# Get the list of collections\n",
    "for collection in collections:\n",
    "    print(f\"📁 Collection: {collection.name} - Project: {PROJECT}\")\n",
    "    \n",
    "    # Now iterate over artifacts in the collection\n",
    "    for artifact in collection.artifacts():\n",
    "        print(f\"  🔹 Artifact: {artifact.name} - Version: {artifact.version}\")\n",
    "        print(f\"  🔹 Tags: {artifact.metadata['tags']}\")\n",
    "        if target_configuration in artifact.metadata['tags']:\n",
    "            target_model = artifact\n",
    "            print(f\"  🔸 Found Target configuration found: {target_configuration}\")\n",
    "            break\n"
   ]
  },
  {
   "cell_type": "code",
   "execution_count": null,
   "id": "074438b0",
   "metadata": {},
   "outputs": [
    {
     "name": "stderr",
     "output_type": "stream",
     "text": [
      "\u001b[34m\u001b[1mwandb\u001b[0m:   1 of 1 files downloaded.  \n"
     ]
    },
    {
     "name": "stdout",
     "output_type": "stream",
     "text": [
      "Model file found: idealista18_madrid_randomforest_UNITPRICE_estimators-100_depth-5.pickle\n",
      "Inference complete. Example predictions: [7018.54468806 1864.30063768 1567.57233307 2380.41820296 2809.19881021]\n"
     ]
    }
   ],
   "source": [
    "if target_model is not None:\n",
    "    artifact_dir = artifact.download()\n",
    "    files = os.listdir(artifact_dir)\n",
    "    model_filename = files[0]  \n",
    "    print(f\"Model file found: {model_filename}\")\n",
    "\n",
    "    loaded_model = joblib.load(os.path.join(artifact_dir, model_filename))\n",
    "\n",
    "    # Run inference\n",
    "    loaded_preds = loaded_model.predict(X_test)\n",
    "    print(\"Inference complete. Example predictions:\", loaded_preds[:5])\n",
    "else:\n",
    "    print(f\"❌ Target configuration '{target_configuration}' not found in any artifacts.\")\n"
   ]
  },
  {
   "cell_type": "markdown",
   "id": "0f349cef",
   "metadata": {},
   "source": [
    "Ya tenemos el mismo método en la librería"
   ]
  },
  {
   "cell_type": "code",
   "execution_count": null,
   "id": "55f65aa7",
   "metadata": {},
   "outputs": [
    {
     "name": "stderr",
     "output_type": "stream",
     "text": [
      "\u001b[34m\u001b[1mwandb\u001b[0m:   1 of 1 files downloaded.  \n"
     ]
    },
    {
     "name": "stdout",
     "output_type": "stream",
     "text": [
      "Inference complete. Example predictions: [7018.54468806 1864.30063768 1567.57233307 2380.41820296 2809.19881021]\n"
     ]
    }
   ],
   "source": [
    "loaded_model = util.get_wandb_model(PROJECT, target_configuration, debug=False)\n",
    "\n",
    "loaded_preds = loaded_model.predict(X_test)\n",
    "print(\"Inference complete. Example predictions:\", loaded_preds[:5])"
   ]
  },
  {
   "cell_type": "markdown",
   "id": "78a87eec",
   "metadata": {},
   "source": [
    "## Descarga de datos\n",
    "\n",
    "Descargamos los datos desde la utilidad"
   ]
  },
  {
   "cell_type": "code",
   "execution_count": null,
   "id": "c9975d10",
   "metadata": {},
   "outputs": [
    {
     "data": {
      "text/html": [
       "Tracking run with wandb version 0.19.11"
      ],
      "text/plain": [
       "<IPython.core.display.HTML object>"
      ]
     },
     "metadata": {},
     "output_type": "display_data"
    },
    {
     "data": {
      "text/html": [
       "Run data is saved locally in <code>/Users/davidreyblanco/Software/techweek/ml-idealista-18/notebooks/wandb/run-20250604_003706-ky7eye0g</code>"
      ],
      "text/plain": [
       "<IPython.core.display.HTML object>"
      ]
     },
     "metadata": {},
     "output_type": "display_data"
    },
    {
     "data": {
      "text/html": [
       "Syncing run <strong><a href='https://wandb.ai/davidreyblanco-uned-universidad-nacional-de-educaci-n-a-/idealista18_madrid_dataset_raw_mds9/runs/ky7eye0g' target=\"_blank\">golden-feather-4</a></strong> to <a href='https://wandb.ai/davidreyblanco-uned-universidad-nacional-de-educaci-n-a-/idealista18_madrid_dataset_raw_mds9' target=\"_blank\">Weights & Biases</a> (<a href='https://wandb.me/developer-guide' target=\"_blank\">docs</a>)<br>"
      ],
      "text/plain": [
       "<IPython.core.display.HTML object>"
      ]
     },
     "metadata": {},
     "output_type": "display_data"
    },
    {
     "data": {
      "text/html": [
       " View project at <a href='https://wandb.ai/davidreyblanco-uned-universidad-nacional-de-educaci-n-a-/idealista18_madrid_dataset_raw_mds9' target=\"_blank\">https://wandb.ai/davidreyblanco-uned-universidad-nacional-de-educaci-n-a-/idealista18_madrid_dataset_raw_mds9</a>"
      ],
      "text/plain": [
       "<IPython.core.display.HTML object>"
      ]
     },
     "metadata": {},
     "output_type": "display_data"
    },
    {
     "data": {
      "text/html": [
       " View run at <a href='https://wandb.ai/davidreyblanco-uned-universidad-nacional-de-educaci-n-a-/idealista18_madrid_dataset_raw_mds9/runs/ky7eye0g' target=\"_blank\">https://wandb.ai/davidreyblanco-uned-universidad-nacional-de-educaci-n-a-/idealista18_madrid_dataset_raw_mds9/runs/ky7eye0g</a>"
      ],
      "text/plain": [
       "<IPython.core.display.HTML object>"
      ]
     },
     "metadata": {},
     "output_type": "display_data"
    },
    {
     "name": "stderr",
     "output_type": "stream",
     "text": [
      "\u001b[34m\u001b[1mwandb\u001b[0m:   4 of 4 files downloaded.  \n"
     ]
    },
    {
     "data": {
      "text/html": [],
      "text/plain": [
       "<IPython.core.display.HTML object>"
      ]
     },
     "metadata": {},
     "output_type": "display_data"
    },
    {
     "data": {
      "text/html": [
       " View run <strong style=\"color:#cdcd00\">golden-feather-4</strong> at: <a href='https://wandb.ai/davidreyblanco-uned-universidad-nacional-de-educaci-n-a-/idealista18_madrid_dataset_raw_mds9/runs/ky7eye0g' target=\"_blank\">https://wandb.ai/davidreyblanco-uned-universidad-nacional-de-educaci-n-a-/idealista18_madrid_dataset_raw_mds9/runs/ky7eye0g</a><br> View project at: <a href='https://wandb.ai/davidreyblanco-uned-universidad-nacional-de-educaci-n-a-/idealista18_madrid_dataset_raw_mds9' target=\"_blank\">https://wandb.ai/davidreyblanco-uned-universidad-nacional-de-educaci-n-a-/idealista18_madrid_dataset_raw_mds9</a><br>Synced 5 W&B file(s), 0 media file(s), 0 artifact file(s) and 0 other file(s)"
      ],
      "text/plain": [
       "<IPython.core.display.HTML object>"
      ]
     },
     "metadata": {},
     "output_type": "display_data"
    },
    {
     "data": {
      "text/html": [
       "Find logs at: <code>./wandb/run-20250604_003706-ky7eye0g/logs</code>"
      ],
      "text/plain": [
       "<IPython.core.display.HTML object>"
      ]
     },
     "metadata": {},
     "output_type": "display_data"
    }
   ],
   "source": [
    "X_train, X_test, y_train, y_test = util.get_dataset(f\"{DATASET}_splits:latest\", DATASET_PROJECT, debug=False)"
   ]
  }
 ],
 "metadata": {
  "kernelspec": {
   "display_name": "Python 3 (ipykernel)",
   "language": "python",
   "name": "python3"
  },
  "language_info": {
   "codemirror_mode": {
    "name": "ipython",
    "version": 3
   },
   "file_extension": ".py",
   "mimetype": "text/x-python",
   "name": "python",
   "nbconvert_exporter": "python",
   "pygments_lexer": "ipython3",
   "version": "3.12.1"
  }
 },
 "nbformat": 4,
 "nbformat_minor": 5
}
