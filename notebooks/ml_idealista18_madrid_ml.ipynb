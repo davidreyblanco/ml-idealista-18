{
 "cells": [
  {
   "cell_type": "markdown",
   "metadata": {},
   "source": [
    "# ML Model for Madrid\n",
    "\n",
    "This notebook builds a RandomForest model on the Madrid dataset. It removes non-target PRICE columns and uses Weights & Biases (wandb) for experiment tracking."
   ]
  },
  {
   "cell_type": "code",
   "execution_count": 9,
   "id": "61f4b12b",
   "metadata": {},
   "outputs": [],
   "source": [
    "import sys\n",
    "import os\n",
    "import pandas as pd\n",
    "from dotenv import load_dotenv\n",
    "\n",
    "load_dotenv() # Load the environment variables from .env file\n",
    "\n",
    "import importlib\n",
    "# Añadir la ruta al directorio src para importar módulos personalizados\n",
    "sys.path.append(\"../src\")\n",
    "\n",
    "# Unload the module if already loaded\n",
    "import idealista18.loader as loader\n",
    "import idealista18.enricher as enricher\n",
    "import idealista18.util as util\n",
    "\n",
    "os.makedirs(\"../models\", exist_ok=True)"
   ]
  },
  {
   "cell_type": "markdown",
   "id": "b8e2dd46",
   "metadata": {},
   "source": [
    "## Connect to Weights & Biases"
   ]
  },
  {
   "cell_type": "code",
   "execution_count": 10,
   "id": "e2acd9f5",
   "metadata": {},
   "outputs": [
    {
     "name": "stderr",
     "output_type": "stream",
     "text": [
      "\u001b[34m\u001b[1mwandb\u001b[0m: \u001b[33mWARNING\u001b[0m If you're specifying your api key in code, ensure this code is not shared publicly.\n",
      "\u001b[34m\u001b[1mwandb\u001b[0m: \u001b[33mWARNING\u001b[0m Consider setting the WANDB_API_KEY environment variable, or running `wandb login` from the command line.\n",
      "\u001b[34m\u001b[1mwandb\u001b[0m: Appending key for api.wandb.ai to your netrc file: /Users/davidreyblanco/.netrc\n"
     ]
    },
    {
     "data": {
      "text/plain": [
       "True"
      ]
     },
     "execution_count": 10,
     "metadata": {},
     "output_type": "execute_result"
    }
   ],
   "source": [
    "import wandb\n",
    "\n",
    "# 1) Grab the W&B token\n",
    "\n",
    "wandb_token = os.getenv(\"WANDB_API_KEY\")\n",
    "if wandb_token is None:\n",
    "    raise RuntimeError(\"WANDB_API_KEY not found in environment. Did you create a .env with that variable?\")\n",
    "# 2) Login with the token\n",
    "wandb.login(key=wandb_token)"
   ]
  },
  {
   "cell_type": "code",
   "execution_count": 11,
   "id": "ce5e8424",
   "metadata": {},
   "outputs": [
    {
     "name": "stdout",
     "output_type": "stream",
     "text": [
      "Data loaded:\n",
      "                 ASSETID   PRICE    UNITPRICE ADTYPOLOGYID ADOPERATIONID  \\\n",
      "0  A15019136831406238029  126000  2680.851064         HOME          SALE   \n",
      "1   A6677225905472065344  235000  4351.851852         HOME          SALE   \n",
      "2  A13341979748618524775  373000  4973.333333         HOME          SALE   \n",
      "3   A4775182175615276542  284000  5916.666667         HOME          SALE   \n",
      "4   A2492087730711701973  228000  4560.000000         HOME          SALE   \n",
      "\n",
      "   CONSTRUCTEDAREA  ROOMNUMBER  BATHNUMBER  HASTERRACE  HASLIFT  ...  \\\n",
      "0               47           1           1           0        1  ...   \n",
      "1               54           1           1           0        0  ...   \n",
      "2               75           2           1           0        0  ...   \n",
      "3               48           1           1           0        1  ...   \n",
      "4               50           0           1           0        0  ...   \n",
      "\n",
      "   DISTANCE_TO_METRO  DISTANCE_TO_CASTELLANA  LONGITUDE   LATITUDE  CITYNAME  \\\n",
      "0           0.872075                6.868677  -3.766933  40.362485    Madrid   \n",
      "1           0.116382                1.544125  -3.710725  40.422430    Madrid   \n",
      "2           0.139109                1.608444  -3.711571  40.422190    Madrid   \n",
      "3           0.144299                1.516166  -3.710440  40.422251    Madrid   \n",
      "4           0.337098                1.794136  -3.714340  40.408741    Madrid   \n",
      "\n",
      "   ADTYPOLOGY  ADOPERATION                    LOCATIONID        LOCATIONNAME  \\\n",
      "0        HOME         SALE  0-EU-ES-28-07-001-079-11-008  Pau de Carabanchel   \n",
      "1        HOME         SALE  0-EU-ES-28-07-001-079-01-001             Palacio   \n",
      "2        HOME         SALE  0-EU-ES-28-07-001-079-01-001             Palacio   \n",
      "3        HOME         SALE  0-EU-ES-28-07-001-079-01-001             Palacio   \n",
      "4        HOME         SALE  0-EU-ES-28-07-001-079-01-001             Palacio   \n",
      "\n",
      "          CUSEC  \n",
      "0  2.807911e+09  \n",
      "1  2.807901e+09  \n",
      "2  2.807901e+09  \n",
      "3  2.807901e+09  \n",
      "4  2.807901e+09  \n",
      "\n",
      "[5 rows x 48 columns]\n"
     ]
    }
   ],
   "source": [
    "# Load and clean data for Madrid\n",
    "# Load data and remove outliers (spatial)\n",
    "CITY = \"Madrid\"\n",
    "\n",
    "df = enricher.load_enriched_data(city_name=CITY, \n",
    "                                          deduplicate_by_adid=True,\n",
    "                                          enrich_census_code=False, \n",
    "                                          enrich_idealista_areas=False)\n",
    "\n",
    "\n",
    "print(\"Data loaded:\")\n",
    "print(df.head())"
   ]
  },
  {
   "cell_type": "code",
   "execution_count": 12,
   "id": "d782375c",
   "metadata": {},
   "outputs": [
    {
     "data": {
      "text/plain": [
       "Index(['ASSETID', 'PRICE', 'UNITPRICE', 'ADTYPOLOGYID', 'ADOPERATIONID',\n",
       "       'CONSTRUCTEDAREA', 'ROOMNUMBER', 'BATHNUMBER', 'HASTERRACE', 'HASLIFT',\n",
       "       'HASAIRCONDITIONING', 'AMENITYID', 'HASPARKINGSPACE',\n",
       "       'ISPARKINGSPACEINCLUDEDINPRICE', 'PARKINGSPACEPRICE',\n",
       "       'HASNORTHORIENTATION', 'HASSOUTHORIENTATION', 'HASEASTORIENTATION',\n",
       "       'HASWESTORIENTATION', 'HASBOXROOM', 'HASWARDROBE', 'HASSWIMMINGPOOL',\n",
       "       'HASDOORMAN', 'HASGARDEN', 'ISDUPLEX', 'ISSTUDIO', 'ISINTOPFLOOR',\n",
       "       'CONSTRUCTIONYEAR', 'FLOORCLEAN', 'FLATLOCATIONID',\n",
       "       'CADCONSTRUCTIONYEAR', 'CADMAXBUILDINGFLOOR', 'CADDWELLINGCOUNT',\n",
       "       'CADASTRALQUALITYID', 'BUILTTYPEID_1', 'BUILTTYPEID_2', 'BUILTTYPEID_3',\n",
       "       'DISTANCE_TO_CITY_CENTER', 'DISTANCE_TO_METRO',\n",
       "       'DISTANCE_TO_CASTELLANA', 'LONGITUDE', 'LATITUDE', 'CITYNAME',\n",
       "       'ADTYPOLOGY', 'ADOPERATION', 'LOCATIONID', 'LOCATIONNAME', 'CUSEC'],\n",
       "      dtype='object')"
      ]
     },
     "execution_count": 12,
     "metadata": {},
     "output_type": "execute_result"
    }
   ],
   "source": [
    "df.columns"
   ]
  },
  {
   "cell_type": "code",
   "execution_count": 13,
   "id": "5884c6c9",
   "metadata": {},
   "outputs": [
    {
     "name": "stdout",
     "output_type": "stream",
     "text": [
      "Dropping columns: ['ASSETID', 'PRICE', 'ADTYPOLOGYID', 'ADOPERATIONID', 'ISPARKINGSPACEINCLUDEDINPRICE', 'PARKINGSPACEPRICE', 'CITYNAME', 'ADTYPOLOGY', 'ADOPERATION', 'LOCATIONID', 'LOCATIONNAME', 'CUSEC']\n"
     ]
    }
   ],
   "source": [
    "TARGET_COLUMN = \"UNITPRICE\"\n",
    "#\n",
    "# 1) Remove all PRICE-related columns except 'UNITPRICE'\n",
    "# 2) Remove unnecessary columns:  Typology, Operation, AssetID, Period\n",
    "#\n",
    "exclude_columns = ['ADTYPOLOGY', 'ADOPERATION', 'ASSETID', 'PERIOD', \n",
    "                   'ADTYPOLOGYID', 'ADOPERATIONID', 'CITYNAME',\n",
    "                   'LOCATIONID', 'LOCATIONNAME', 'CUSEC']\n",
    "if not df.empty:\n",
    "    price_cols = [col for col in df.columns if col in exclude_columns\n",
    "                                                       or (col.endswith('PRICE') and col != TARGET_COLUMN)]\n",
    "\n",
    "    print(\"Dropping columns:\", price_cols)\n",
    "    df = df.drop(columns=price_cols)\n",
    "else:\n",
    "    print(\"Dataframe is empty\")"
   ]
  },
  {
   "cell_type": "code",
   "execution_count": 14,
   "id": "07c67d13",
   "metadata": {},
   "outputs": [
    {
     "data": {
      "text/plain": [
       "Index(['UNITPRICE', 'CONSTRUCTEDAREA', 'ROOMNUMBER', 'BATHNUMBER',\n",
       "       'HASTERRACE', 'HASLIFT', 'HASAIRCONDITIONING', 'AMENITYID',\n",
       "       'HASPARKINGSPACE', 'HASNORTHORIENTATION', 'HASSOUTHORIENTATION',\n",
       "       'HASEASTORIENTATION', 'HASWESTORIENTATION', 'HASBOXROOM', 'HASWARDROBE',\n",
       "       'HASSWIMMINGPOOL', 'HASDOORMAN', 'HASGARDEN', 'ISDUPLEX', 'ISSTUDIO',\n",
       "       'ISINTOPFLOOR', 'CONSTRUCTIONYEAR', 'FLOORCLEAN', 'FLATLOCATIONID',\n",
       "       'CADCONSTRUCTIONYEAR', 'CADMAXBUILDINGFLOOR', 'CADDWELLINGCOUNT',\n",
       "       'CADASTRALQUALITYID', 'BUILTTYPEID_1', 'BUILTTYPEID_2', 'BUILTTYPEID_3',\n",
       "       'DISTANCE_TO_CITY_CENTER', 'DISTANCE_TO_METRO',\n",
       "       'DISTANCE_TO_CASTELLANA', 'LONGITUDE', 'LATITUDE'],\n",
       "      dtype='object')"
      ]
     },
     "execution_count": 14,
     "metadata": {},
     "output_type": "execute_result"
    }
   ],
   "source": [
    "df.columns"
   ]
  },
  {
   "cell_type": "markdown",
   "id": "3fb6d1a4",
   "metadata": {},
   "source": [
    "Create a matrix (covariates) and a vector (target)"
   ]
  },
  {
   "cell_type": "code",
   "execution_count": 15,
   "id": "b2f569f6",
   "metadata": {},
   "outputs": [
    {
     "name": "stdout",
     "output_type": "stream",
     "text": [
      "Features and target prepared.\n"
     ]
    }
   ],
   "source": [
    "# Prepare features and target variable\n",
    "if TARGET_COLUMN in df.columns:\n",
    "    X = df.drop(columns=[TARGET_COLUMN])\n",
    "    y = df[TARGET_COLUMN]\n",
    "    print(\"Features and target prepared.\")\n",
    "else:\n",
    "    X, y = df, None\n",
    "    print(\"UNITPRICE column not found in dataframe.\")"
   ]
  },
  {
   "cell_type": "markdown",
   "id": "81d249c8",
   "metadata": {},
   "source": [
    "# Dataset como \"artefacto\" del proyecto"
   ]
  },
  {
   "cell_type": "markdown",
   "id": "49a41d37",
   "metadata": {},
   "source": [
    "## Subir el artefacto\n",
    "\n",
    "En este caso creamos un proyecto aparte que tenga el dataset, lo usaremos en los distintos proyectos de modelado"
   ]
  },
  {
   "cell_type": "code",
   "execution_count": 16,
   "id": "a2961862",
   "metadata": {},
   "outputs": [
    {
     "data": {
      "text/html": [
       "Tracking run with wandb version 0.19.11"
      ],
      "text/plain": [
       "<IPython.core.display.HTML object>"
      ]
     },
     "metadata": {},
     "output_type": "display_data"
    },
    {
     "data": {
      "text/html": [
       "Run data is saved locally in <code>/Users/davidreyblanco/Software/techweek/ml-idealista-18/notebooks/wandb/run-20250604_224544-j82zwr52</code>"
      ],
      "text/plain": [
       "<IPython.core.display.HTML object>"
      ]
     },
     "metadata": {},
     "output_type": "display_data"
    },
    {
     "data": {
      "text/html": [
       "Syncing run <strong><a href='https://wandb.ai/davidreyblanco-uned-universidad-nacional-de-educaci-n-a-/idealista18_madrid_dataset_raw_mds9/runs/j82zwr52' target=\"_blank\">misty-galaxy-8</a></strong> to <a href='https://wandb.ai/davidreyblanco-uned-universidad-nacional-de-educaci-n-a-/idealista18_madrid_dataset_raw_mds9' target=\"_blank\">Weights & Biases</a> (<a href='https://wandb.me/developer-guide' target=\"_blank\">docs</a>)<br>"
      ],
      "text/plain": [
       "<IPython.core.display.HTML object>"
      ]
     },
     "metadata": {},
     "output_type": "display_data"
    },
    {
     "data": {
      "text/html": [
       " View project at <a href='https://wandb.ai/davidreyblanco-uned-universidad-nacional-de-educaci-n-a-/idealista18_madrid_dataset_raw_mds9' target=\"_blank\">https://wandb.ai/davidreyblanco-uned-universidad-nacional-de-educaci-n-a-/idealista18_madrid_dataset_raw_mds9</a>"
      ],
      "text/plain": [
       "<IPython.core.display.HTML object>"
      ]
     },
     "metadata": {},
     "output_type": "display_data"
    },
    {
     "data": {
      "text/html": [
       " View run at <a href='https://wandb.ai/davidreyblanco-uned-universidad-nacional-de-educaci-n-a-/idealista18_madrid_dataset_raw_mds9/runs/j82zwr52' target=\"_blank\">https://wandb.ai/davidreyblanco-uned-universidad-nacional-de-educaci-n-a-/idealista18_madrid_dataset_raw_mds9/runs/j82zwr52</a>"
      ],
      "text/plain": [
       "<IPython.core.display.HTML object>"
      ]
     },
     "metadata": {},
     "output_type": "display_data"
    },
    {
     "data": {
      "text/html": [],
      "text/plain": [
       "<IPython.core.display.HTML object>"
      ]
     },
     "metadata": {},
     "output_type": "display_data"
    },
    {
     "data": {
      "text/html": [
       " View run <strong style=\"color:#cdcd00\">misty-galaxy-8</strong> at: <a href='https://wandb.ai/davidreyblanco-uned-universidad-nacional-de-educaci-n-a-/idealista18_madrid_dataset_raw_mds9/runs/j82zwr52' target=\"_blank\">https://wandb.ai/davidreyblanco-uned-universidad-nacional-de-educaci-n-a-/idealista18_madrid_dataset_raw_mds9/runs/j82zwr52</a><br> View project at: <a href='https://wandb.ai/davidreyblanco-uned-universidad-nacional-de-educaci-n-a-/idealista18_madrid_dataset_raw_mds9' target=\"_blank\">https://wandb.ai/davidreyblanco-uned-universidad-nacional-de-educaci-n-a-/idealista18_madrid_dataset_raw_mds9</a><br>Synced 5 W&B file(s), 0 media file(s), 5 artifact file(s) and 0 other file(s)"
      ],
      "text/plain": [
       "<IPython.core.display.HTML object>"
      ]
     },
     "metadata": {},
     "output_type": "display_data"
    },
    {
     "data": {
      "text/html": [
       "Find logs at: <code>./wandb/run-20250604_224544-j82zwr52/logs</code>"
      ],
      "text/plain": [
       "<IPython.core.display.HTML object>"
      ]
     },
     "metadata": {},
     "output_type": "display_data"
    },
    {
     "name": "stdout",
     "output_type": "stream",
     "text": [
      "------------------------------------------\n",
      "Uploaded splits from W&B artifact:\n",
      "------------------------------------------\n",
      "X_train shape: (60642, 35)\n",
      "X_test shape: (15161, 35)\n",
      "y_train shape: (60642,)\n",
      "y_test shape: (15161,)\n"
     ]
    }
   ],
   "source": [
    "from sklearn.model_selection import train_test_split\n",
    "\n",
    "# Añadimos un dataset al registro de artefactos de W&B\n",
    "\n",
    "TEAM_ENTITY = \"mds9\"  # Replace with your team entity\n",
    "DATASET = \"idealista18\"\n",
    "random_state = 42  # For reproducibility\n",
    "\n",
    "DATASET_PROJECT = f\"{DATASET}_{CITY.lower()}_dataset_raw_{TEAM_ENTITY.lower()}\"\n",
    "\n",
    "# Split the data\n",
    "X_train, X_test, y_train, y_test = train_test_split(X, y, test_size=0.2, random_state=random_state)\n",
    "\n",
    "# Save train/test splits as CSV files\n",
    "X_train_file = \"X_train.csv.gz\"\n",
    "X_test_file = \"X_test.csv.gz\"\n",
    "y_train_file = \"y_train.csv.gz\"\n",
    "y_test_file = \"y_test.csv.gz\"\n",
    "\n",
    "X_train.to_csv(X_train_file, index=False, compression='gzip')\n",
    "X_test.to_csv(X_test_file, index=False, compression='gzip')\n",
    "y_train.to_csv(y_train_file, index=False, compression='gzip')\n",
    "y_test.to_csv(y_test_file, index=False, compression='gzip')\n",
    "\n",
    "# Log the splits as resources in the artifact\n",
    "run_dataset = wandb.init(project=f\"{DATASET_PROJECT}\", job_type=\"train-model\")\n",
    "artifact_ds = wandb.Artifact(name=f\"{DATASET}_splits\", type=\"dataset\")\n",
    "artifact_ds.add_file(X_train_file)\n",
    "artifact_ds.add_file(X_test_file)\n",
    "artifact_ds.add_file(y_train_file)\n",
    "artifact_ds.add_file(y_test_file)\n",
    "artifact_ds.save()\n",
    "run_dataset.finish()\n",
    "\n",
    "print(\"------------------------------------------\")\n",
    "print(\"Uploaded splits from W&B artifact:\")\n",
    "print(\"------------------------------------------\")\n",
    "\n",
    "print(\"X_train shape:\", X_train.shape)\n",
    "print(\"X_test shape:\", X_test.shape)\n",
    "print(\"y_train shape:\", y_train.shape)\n",
    "print(\"y_test shape:\", y_test.shape)\n"
   ]
  },
  {
   "cell_type": "markdown",
   "id": "28384484",
   "metadata": {},
   "source": [
    "## Descargar el artefacto"
   ]
  },
  {
   "cell_type": "markdown",
   "id": "228546ff",
   "metadata": {},
   "source": [
    "Ahora recuperamos los datasets subido como artefacto"
   ]
  },
  {
   "cell_type": "code",
   "execution_count": 17,
   "id": "90e28443",
   "metadata": {},
   "outputs": [
    {
     "data": {
      "text/html": [
       "Tracking run with wandb version 0.19.11"
      ],
      "text/plain": [
       "<IPython.core.display.HTML object>"
      ]
     },
     "metadata": {},
     "output_type": "display_data"
    },
    {
     "data": {
      "text/html": [
       "Run data is saved locally in <code>/Users/davidreyblanco/Software/techweek/ml-idealista-18/notebooks/wandb/run-20250604_224549-z0f9tvd8</code>"
      ],
      "text/plain": [
       "<IPython.core.display.HTML object>"
      ]
     },
     "metadata": {},
     "output_type": "display_data"
    },
    {
     "data": {
      "text/html": [
       "Syncing run <strong><a href='https://wandb.ai/davidreyblanco-uned-universidad-nacional-de-educaci-n-a-/idealista18_madrid_dataset_raw_mds9/runs/z0f9tvd8' target=\"_blank\">effortless-glade-9</a></strong> to <a href='https://wandb.ai/davidreyblanco-uned-universidad-nacional-de-educaci-n-a-/idealista18_madrid_dataset_raw_mds9' target=\"_blank\">Weights & Biases</a> (<a href='https://wandb.me/developer-guide' target=\"_blank\">docs</a>)<br>"
      ],
      "text/plain": [
       "<IPython.core.display.HTML object>"
      ]
     },
     "metadata": {},
     "output_type": "display_data"
    },
    {
     "data": {
      "text/html": [
       " View project at <a href='https://wandb.ai/davidreyblanco-uned-universidad-nacional-de-educaci-n-a-/idealista18_madrid_dataset_raw_mds9' target=\"_blank\">https://wandb.ai/davidreyblanco-uned-universidad-nacional-de-educaci-n-a-/idealista18_madrid_dataset_raw_mds9</a>"
      ],
      "text/plain": [
       "<IPython.core.display.HTML object>"
      ]
     },
     "metadata": {},
     "output_type": "display_data"
    },
    {
     "data": {
      "text/html": [
       " View run at <a href='https://wandb.ai/davidreyblanco-uned-universidad-nacional-de-educaci-n-a-/idealista18_madrid_dataset_raw_mds9/runs/z0f9tvd8' target=\"_blank\">https://wandb.ai/davidreyblanco-uned-universidad-nacional-de-educaci-n-a-/idealista18_madrid_dataset_raw_mds9/runs/z0f9tvd8</a>"
      ],
      "text/plain": [
       "<IPython.core.display.HTML object>"
      ]
     },
     "metadata": {},
     "output_type": "display_data"
    },
    {
     "name": "stderr",
     "output_type": "stream",
     "text": [
      "\u001b[34m\u001b[1mwandb\u001b[0m:   4 of 4 files downloaded.  \n"
     ]
    },
    {
     "data": {
      "text/html": [],
      "text/plain": [
       "<IPython.core.display.HTML object>"
      ]
     },
     "metadata": {},
     "output_type": "display_data"
    },
    {
     "data": {
      "text/html": [
       " View run <strong style=\"color:#cdcd00\">effortless-glade-9</strong> at: <a href='https://wandb.ai/davidreyblanco-uned-universidad-nacional-de-educaci-n-a-/idealista18_madrid_dataset_raw_mds9/runs/z0f9tvd8' target=\"_blank\">https://wandb.ai/davidreyblanco-uned-universidad-nacional-de-educaci-n-a-/idealista18_madrid_dataset_raw_mds9/runs/z0f9tvd8</a><br> View project at: <a href='https://wandb.ai/davidreyblanco-uned-universidad-nacional-de-educaci-n-a-/idealista18_madrid_dataset_raw_mds9' target=\"_blank\">https://wandb.ai/davidreyblanco-uned-universidad-nacional-de-educaci-n-a-/idealista18_madrid_dataset_raw_mds9</a><br>Synced 5 W&B file(s), 0 media file(s), 0 artifact file(s) and 0 other file(s)"
      ],
      "text/plain": [
       "<IPython.core.display.HTML object>"
      ]
     },
     "metadata": {},
     "output_type": "display_data"
    },
    {
     "data": {
      "text/html": [
       "Find logs at: <code>./wandb/run-20250604_224549-z0f9tvd8/logs</code>"
      ],
      "text/plain": [
       "<IPython.core.display.HTML object>"
      ]
     },
     "metadata": {},
     "output_type": "display_data"
    },
    {
     "name": "stdout",
     "output_type": "stream",
     "text": [
      "------------------------------------------\n",
      "Loaded splits from W&B artifact:\n",
      "------------------------------------------\n",
      "X_train shape: (60642, 35)\n",
      "X_test shape: (15161, 35)\n",
      "y_train shape: (60642,)\n",
      "y_test shape: (15161,)\n"
     ]
    }
   ],
   "source": [
    "import pandas as pd\n",
    "import wandb\n",
    "\n",
    "# Download the dataset splits artifact from W&B\n",
    "artifact_name = f\"{DATASET}_splits:latest\"\n",
    "with wandb.init(project=DATASET_PROJECT) as run:\n",
    "    artifact = run.use_artifact(artifact_name, type=\"dataset\")\n",
    "    artifact_dir = artifact.download()\n",
    "\n",
    "    # Load the splits from the artifact directory\n",
    "    X_train = pd.read_csv(f\"{artifact_dir}/X_train.csv.gz\", compression='gzip')\n",
    "    X_test = pd.read_csv(f\"{artifact_dir}/X_test.csv.gz\", compression='gzip')\n",
    "    y_train = pd.read_csv(f\"{artifact_dir}/y_train.csv.gz\", compression='gzip').squeeze()\n",
    "    y_test = pd.read_csv(f\"{artifact_dir}/y_test.csv.gz\", compression='gzip').squeeze()\n",
    "\n",
    "print(\"------------------------------------------\")\n",
    "print(\"Loaded splits from W&B artifact:\")\n",
    "print(\"------------------------------------------\")\n",
    "\n",
    "print(\"X_train shape:\", X_train.shape)\n",
    "print(\"X_test shape:\", X_test.shape)\n",
    "print(\"y_train shape:\", y_train.shape)\n",
    "print(\"y_test shape:\", y_test.shape)"
   ]
  },
  {
   "cell_type": "markdown",
   "id": "4ab6416e",
   "metadata": {},
   "source": [
    "# Entrenamiento de modelos"
   ]
  },
  {
   "cell_type": "markdown",
   "id": "96d36eed",
   "metadata": {},
   "source": [
    "## Random Forests"
   ]
  },
  {
   "cell_type": "code",
   "execution_count": 18,
   "id": "89c7fce3",
   "metadata": {},
   "outputs": [
    {
     "name": "stderr",
     "output_type": "stream",
     "text": [
      "\u001b[34m\u001b[1mwandb\u001b[0m: \u001b[33mWARNING\u001b[0m If you're specifying your api key in code, ensure this code is not shared publicly.\n",
      "\u001b[34m\u001b[1mwandb\u001b[0m: \u001b[33mWARNING\u001b[0m Consider setting the WANDB_API_KEY environment variable, or running `wandb login` from the command line.\n",
      "\u001b[34m\u001b[1mwandb\u001b[0m: Appending key for api.wandb.ai to your netrc file: /Users/davidreyblanco/.netrc\n"
     ]
    },
    {
     "data": {
      "text/html": [
       "Tracking run with wandb version 0.19.11"
      ],
      "text/plain": [
       "<IPython.core.display.HTML object>"
      ]
     },
     "metadata": {},
     "output_type": "display_data"
    },
    {
     "data": {
      "text/html": [
       "Run data is saved locally in <code>/Users/davidreyblanco/Software/techweek/ml-idealista-18/notebooks/wandb/run-20250604_224553-28d1rp0c</code>"
      ],
      "text/plain": [
       "<IPython.core.display.HTML object>"
      ]
     },
     "metadata": {},
     "output_type": "display_data"
    },
    {
     "data": {
      "text/html": [
       "Syncing run <strong><a href='https://wandb.ai/davidreyblanco-uned-universidad-nacional-de-educaci-n-a-/idealista18_madrid_randomforest_UNITPRICE_mds9/runs/28d1rp0c' target=\"_blank\">ruby-snow-19</a></strong> to <a href='https://wandb.ai/davidreyblanco-uned-universidad-nacional-de-educaci-n-a-/idealista18_madrid_randomforest_UNITPRICE_mds9' target=\"_blank\">Weights & Biases</a> (<a href='https://wandb.me/developer-guide' target=\"_blank\">docs</a>)<br>"
      ],
      "text/plain": [
       "<IPython.core.display.HTML object>"
      ]
     },
     "metadata": {},
     "output_type": "display_data"
    },
    {
     "data": {
      "text/html": [
       " View project at <a href='https://wandb.ai/davidreyblanco-uned-universidad-nacional-de-educaci-n-a-/idealista18_madrid_randomforest_UNITPRICE_mds9' target=\"_blank\">https://wandb.ai/davidreyblanco-uned-universidad-nacional-de-educaci-n-a-/idealista18_madrid_randomforest_UNITPRICE_mds9</a>"
      ],
      "text/plain": [
       "<IPython.core.display.HTML object>"
      ]
     },
     "metadata": {},
     "output_type": "display_data"
    },
    {
     "data": {
      "text/html": [
       " View run at <a href='https://wandb.ai/davidreyblanco-uned-universidad-nacional-de-educaci-n-a-/idealista18_madrid_randomforest_UNITPRICE_mds9/runs/28d1rp0c' target=\"_blank\">https://wandb.ai/davidreyblanco-uned-universidad-nacional-de-educaci-n-a-/idealista18_madrid_randomforest_UNITPRICE_mds9/runs/28d1rp0c</a>"
      ],
      "text/plain": [
       "<IPython.core.display.HTML object>"
      ]
     },
     "metadata": {},
     "output_type": "display_data"
    },
    {
     "name": "stdout",
     "output_type": "stream",
     "text": [
      "10 estimators, max depth 5\n",
      "MAPE: 0.17 MedAPE: 0.1108 MSE:631121.6930521954\n",
      "Model saved to ../models/idealista18_madrid_randomforest_UNITPRICE_estimators-10_depth-5.pickle (417.74 KB)\n"
     ]
    },
    {
     "data": {
      "text/html": [],
      "text/plain": [
       "<IPython.core.display.HTML object>"
      ]
     },
     "metadata": {},
     "output_type": "display_data"
    },
    {
     "data": {
      "text/html": [
       "<br>    <style><br>        .wandb-row {<br>            display: flex;<br>            flex-direction: row;<br>            flex-wrap: wrap;<br>            justify-content: flex-start;<br>            width: 100%;<br>        }<br>        .wandb-col {<br>            display: flex;<br>            flex-direction: column;<br>            flex-basis: 100%;<br>            flex: 1;<br>            padding: 10px;<br>        }<br>    </style><br><div class=\"wandb-row\"><div class=\"wandb-col\"><h3>Run history:</h3><br/><table class=\"wandb\"><tr><td>mae</td><td>▁</td></tr><tr><td>mape</td><td>▁</td></tr><tr><td>max_depth</td><td>▁</td></tr><tr><td>medape</td><td>▁</td></tr><tr><td>mse</td><td>▁</td></tr><tr><td>n_estimators</td><td>▁</td></tr><tr><td>n_test</td><td>▁</td></tr><tr><td>n_train</td><td>▁</td></tr><tr><td>r2</td><td>▁</td></tr><tr><td>random_state</td><td>▁</td></tr></table><br/></div><div class=\"wandb-col\"><h3>Run summary:</h3><br/><table class=\"wandb\"><tr><td>mae</td><td>549.74302</td></tr><tr><td>mape</td><td>0.16665</td></tr><tr><td>max_depth</td><td>5</td></tr><tr><td>medape</td><td>0.11081</td></tr><tr><td>mse</td><td>631121.69305</td></tr><tr><td>n_estimators</td><td>10</td></tr><tr><td>n_test</td><td>15161</td></tr><tr><td>n_train</td><td>60642</td></tr><tr><td>r2</td><td>0.7837</td></tr><tr><td>random_state</td><td>42</td></tr></table><br/></div></div>"
      ],
      "text/plain": [
       "<IPython.core.display.HTML object>"
      ]
     },
     "metadata": {},
     "output_type": "display_data"
    },
    {
     "data": {
      "text/html": [
       " View run <strong style=\"color:#cdcd00\">ruby-snow-19</strong> at: <a href='https://wandb.ai/davidreyblanco-uned-universidad-nacional-de-educaci-n-a-/idealista18_madrid_randomforest_UNITPRICE_mds9/runs/28d1rp0c' target=\"_blank\">https://wandb.ai/davidreyblanco-uned-universidad-nacional-de-educaci-n-a-/idealista18_madrid_randomforest_UNITPRICE_mds9/runs/28d1rp0c</a><br> View project at: <a href='https://wandb.ai/davidreyblanco-uned-universidad-nacional-de-educaci-n-a-/idealista18_madrid_randomforest_UNITPRICE_mds9' target=\"_blank\">https://wandb.ai/davidreyblanco-uned-universidad-nacional-de-educaci-n-a-/idealista18_madrid_randomforest_UNITPRICE_mds9</a><br>Synced 5 W&B file(s), 1 media file(s), 2 artifact file(s) and 0 other file(s)"
      ],
      "text/plain": [
       "<IPython.core.display.HTML object>"
      ]
     },
     "metadata": {},
     "output_type": "display_data"
    },
    {
     "data": {
      "text/html": [
       "Find logs at: <code>./wandb/run-20250604_224553-28d1rp0c/logs</code>"
      ],
      "text/plain": [
       "<IPython.core.display.HTML object>"
      ]
     },
     "metadata": {},
     "output_type": "display_data"
    },
    {
     "data": {
      "text/html": [
       "Tracking run with wandb version 0.19.11"
      ],
      "text/plain": [
       "<IPython.core.display.HTML object>"
      ]
     },
     "metadata": {},
     "output_type": "display_data"
    },
    {
     "data": {
      "text/html": [
       "Run data is saved locally in <code>/Users/davidreyblanco/Software/techweek/ml-idealista-18/notebooks/wandb/run-20250604_224602-y5z08q2w</code>"
      ],
      "text/plain": [
       "<IPython.core.display.HTML object>"
      ]
     },
     "metadata": {},
     "output_type": "display_data"
    },
    {
     "data": {
      "text/html": [
       "Syncing run <strong><a href='https://wandb.ai/davidreyblanco-uned-universidad-nacional-de-educaci-n-a-/idealista18_madrid_randomforest_UNITPRICE_mds9/runs/y5z08q2w' target=\"_blank\">eager-haze-20</a></strong> to <a href='https://wandb.ai/davidreyblanco-uned-universidad-nacional-de-educaci-n-a-/idealista18_madrid_randomforest_UNITPRICE_mds9' target=\"_blank\">Weights & Biases</a> (<a href='https://wandb.me/developer-guide' target=\"_blank\">docs</a>)<br>"
      ],
      "text/plain": [
       "<IPython.core.display.HTML object>"
      ]
     },
     "metadata": {},
     "output_type": "display_data"
    },
    {
     "data": {
      "text/html": [
       " View project at <a href='https://wandb.ai/davidreyblanco-uned-universidad-nacional-de-educaci-n-a-/idealista18_madrid_randomforest_UNITPRICE_mds9' target=\"_blank\">https://wandb.ai/davidreyblanco-uned-universidad-nacional-de-educaci-n-a-/idealista18_madrid_randomforest_UNITPRICE_mds9</a>"
      ],
      "text/plain": [
       "<IPython.core.display.HTML object>"
      ]
     },
     "metadata": {},
     "output_type": "display_data"
    },
    {
     "data": {
      "text/html": [
       " View run at <a href='https://wandb.ai/davidreyblanco-uned-universidad-nacional-de-educaci-n-a-/idealista18_madrid_randomforest_UNITPRICE_mds9/runs/y5z08q2w' target=\"_blank\">https://wandb.ai/davidreyblanco-uned-universidad-nacional-de-educaci-n-a-/idealista18_madrid_randomforest_UNITPRICE_mds9/runs/y5z08q2w</a>"
      ],
      "text/plain": [
       "<IPython.core.display.HTML object>"
      ]
     },
     "metadata": {},
     "output_type": "display_data"
    },
    {
     "name": "stdout",
     "output_type": "stream",
     "text": [
      "10 estimators, max depth 10\n",
      "MAPE: 0.17 MedAPE: 0.1108 MSE:631121.6930521954\n",
      "Model saved to ../models/idealista18_madrid_randomforest_UNITPRICE_estimators-10_depth-10.pickle (417.74 KB)\n"
     ]
    },
    {
     "data": {
      "text/html": [],
      "text/plain": [
       "<IPython.core.display.HTML object>"
      ]
     },
     "metadata": {},
     "output_type": "display_data"
    },
    {
     "data": {
      "text/html": [
       "<br>    <style><br>        .wandb-row {<br>            display: flex;<br>            flex-direction: row;<br>            flex-wrap: wrap;<br>            justify-content: flex-start;<br>            width: 100%;<br>        }<br>        .wandb-col {<br>            display: flex;<br>            flex-direction: column;<br>            flex-basis: 100%;<br>            flex: 1;<br>            padding: 10px;<br>        }<br>    </style><br><div class=\"wandb-row\"><div class=\"wandb-col\"><h3>Run history:</h3><br/><table class=\"wandb\"><tr><td>mae</td><td>▁</td></tr><tr><td>mape</td><td>▁</td></tr><tr><td>max_depth</td><td>▁</td></tr><tr><td>medape</td><td>▁</td></tr><tr><td>mse</td><td>▁</td></tr><tr><td>n_estimators</td><td>▁</td></tr><tr><td>n_test</td><td>▁</td></tr><tr><td>n_train</td><td>▁</td></tr><tr><td>r2</td><td>▁</td></tr><tr><td>random_state</td><td>▁</td></tr></table><br/></div><div class=\"wandb-col\"><h3>Run summary:</h3><br/><table class=\"wandb\"><tr><td>mae</td><td>549.74302</td></tr><tr><td>mape</td><td>0.16665</td></tr><tr><td>max_depth</td><td>10</td></tr><tr><td>medape</td><td>0.11081</td></tr><tr><td>mse</td><td>631121.69305</td></tr><tr><td>n_estimators</td><td>10</td></tr><tr><td>n_test</td><td>15161</td></tr><tr><td>n_train</td><td>60642</td></tr><tr><td>r2</td><td>0.7837</td></tr><tr><td>random_state</td><td>42</td></tr></table><br/></div></div>"
      ],
      "text/plain": [
       "<IPython.core.display.HTML object>"
      ]
     },
     "metadata": {},
     "output_type": "display_data"
    },
    {
     "data": {
      "text/html": [
       " View run <strong style=\"color:#cdcd00\">eager-haze-20</strong> at: <a href='https://wandb.ai/davidreyblanco-uned-universidad-nacional-de-educaci-n-a-/idealista18_madrid_randomforest_UNITPRICE_mds9/runs/y5z08q2w' target=\"_blank\">https://wandb.ai/davidreyblanco-uned-universidad-nacional-de-educaci-n-a-/idealista18_madrid_randomforest_UNITPRICE_mds9/runs/y5z08q2w</a><br> View project at: <a href='https://wandb.ai/davidreyblanco-uned-universidad-nacional-de-educaci-n-a-/idealista18_madrid_randomforest_UNITPRICE_mds9' target=\"_blank\">https://wandb.ai/davidreyblanco-uned-universidad-nacional-de-educaci-n-a-/idealista18_madrid_randomforest_UNITPRICE_mds9</a><br>Synced 5 W&B file(s), 1 media file(s), 2 artifact file(s) and 0 other file(s)"
      ],
      "text/plain": [
       "<IPython.core.display.HTML object>"
      ]
     },
     "metadata": {},
     "output_type": "display_data"
    },
    {
     "data": {
      "text/html": [
       "Find logs at: <code>./wandb/run-20250604_224602-y5z08q2w/logs</code>"
      ],
      "text/plain": [
       "<IPython.core.display.HTML object>"
      ]
     },
     "metadata": {},
     "output_type": "display_data"
    },
    {
     "data": {
      "text/html": [
       "Tracking run with wandb version 0.19.11"
      ],
      "text/plain": [
       "<IPython.core.display.HTML object>"
      ]
     },
     "metadata": {},
     "output_type": "display_data"
    },
    {
     "data": {
      "text/html": [
       "Run data is saved locally in <code>/Users/davidreyblanco/Software/techweek/ml-idealista-18/notebooks/wandb/run-20250604_224610-mzdpo553</code>"
      ],
      "text/plain": [
       "<IPython.core.display.HTML object>"
      ]
     },
     "metadata": {},
     "output_type": "display_data"
    },
    {
     "data": {
      "text/html": [
       "Syncing run <strong><a href='https://wandb.ai/davidreyblanco-uned-universidad-nacional-de-educaci-n-a-/idealista18_madrid_randomforest_UNITPRICE_mds9/runs/mzdpo553' target=\"_blank\">glorious-lake-21</a></strong> to <a href='https://wandb.ai/davidreyblanco-uned-universidad-nacional-de-educaci-n-a-/idealista18_madrid_randomforest_UNITPRICE_mds9' target=\"_blank\">Weights & Biases</a> (<a href='https://wandb.me/developer-guide' target=\"_blank\">docs</a>)<br>"
      ],
      "text/plain": [
       "<IPython.core.display.HTML object>"
      ]
     },
     "metadata": {},
     "output_type": "display_data"
    },
    {
     "data": {
      "text/html": [
       " View project at <a href='https://wandb.ai/davidreyblanco-uned-universidad-nacional-de-educaci-n-a-/idealista18_madrid_randomforest_UNITPRICE_mds9' target=\"_blank\">https://wandb.ai/davidreyblanco-uned-universidad-nacional-de-educaci-n-a-/idealista18_madrid_randomforest_UNITPRICE_mds9</a>"
      ],
      "text/plain": [
       "<IPython.core.display.HTML object>"
      ]
     },
     "metadata": {},
     "output_type": "display_data"
    },
    {
     "data": {
      "text/html": [
       " View run at <a href='https://wandb.ai/davidreyblanco-uned-universidad-nacional-de-educaci-n-a-/idealista18_madrid_randomforest_UNITPRICE_mds9/runs/mzdpo553' target=\"_blank\">https://wandb.ai/davidreyblanco-uned-universidad-nacional-de-educaci-n-a-/idealista18_madrid_randomforest_UNITPRICE_mds9/runs/mzdpo553</a>"
      ],
      "text/plain": [
       "<IPython.core.display.HTML object>"
      ]
     },
     "metadata": {},
     "output_type": "display_data"
    },
    {
     "name": "stdout",
     "output_type": "stream",
     "text": [
      "20 estimators, max depth 5\n",
      "MAPE: 0.17 MedAPE: 0.1094 MSE:621594.5504005004\n",
      "Model saved to ../models/idealista18_madrid_randomforest_UNITPRICE_estimators-20_depth-5.pickle (838.02 KB)\n"
     ]
    },
    {
     "data": {
      "text/html": [],
      "text/plain": [
       "<IPython.core.display.HTML object>"
      ]
     },
     "metadata": {},
     "output_type": "display_data"
    },
    {
     "data": {
      "text/html": [
       "<br>    <style><br>        .wandb-row {<br>            display: flex;<br>            flex-direction: row;<br>            flex-wrap: wrap;<br>            justify-content: flex-start;<br>            width: 100%;<br>        }<br>        .wandb-col {<br>            display: flex;<br>            flex-direction: column;<br>            flex-basis: 100%;<br>            flex: 1;<br>            padding: 10px;<br>        }<br>    </style><br><div class=\"wandb-row\"><div class=\"wandb-col\"><h3>Run history:</h3><br/><table class=\"wandb\"><tr><td>mae</td><td>▁</td></tr><tr><td>mape</td><td>▁</td></tr><tr><td>max_depth</td><td>▁</td></tr><tr><td>medape</td><td>▁</td></tr><tr><td>mse</td><td>▁</td></tr><tr><td>n_estimators</td><td>▁</td></tr><tr><td>n_test</td><td>▁</td></tr><tr><td>n_train</td><td>▁</td></tr><tr><td>r2</td><td>▁</td></tr><tr><td>random_state</td><td>▁</td></tr></table><br/></div><div class=\"wandb-col\"><h3>Run summary:</h3><br/><table class=\"wandb\"><tr><td>mae</td><td>544.87351</td></tr><tr><td>mape</td><td>0.16532</td></tr><tr><td>max_depth</td><td>5</td></tr><tr><td>medape</td><td>0.10942</td></tr><tr><td>mse</td><td>621594.5504</td></tr><tr><td>n_estimators</td><td>20</td></tr><tr><td>n_test</td><td>15161</td></tr><tr><td>n_train</td><td>60642</td></tr><tr><td>r2</td><td>0.78697</td></tr><tr><td>random_state</td><td>42</td></tr></table><br/></div></div>"
      ],
      "text/plain": [
       "<IPython.core.display.HTML object>"
      ]
     },
     "metadata": {},
     "output_type": "display_data"
    },
    {
     "data": {
      "text/html": [
       " View run <strong style=\"color:#cdcd00\">glorious-lake-21</strong> at: <a href='https://wandb.ai/davidreyblanco-uned-universidad-nacional-de-educaci-n-a-/idealista18_madrid_randomforest_UNITPRICE_mds9/runs/mzdpo553' target=\"_blank\">https://wandb.ai/davidreyblanco-uned-universidad-nacional-de-educaci-n-a-/idealista18_madrid_randomforest_UNITPRICE_mds9/runs/mzdpo553</a><br> View project at: <a href='https://wandb.ai/davidreyblanco-uned-universidad-nacional-de-educaci-n-a-/idealista18_madrid_randomforest_UNITPRICE_mds9' target=\"_blank\">https://wandb.ai/davidreyblanco-uned-universidad-nacional-de-educaci-n-a-/idealista18_madrid_randomforest_UNITPRICE_mds9</a><br>Synced 5 W&B file(s), 1 media file(s), 2 artifact file(s) and 0 other file(s)"
      ],
      "text/plain": [
       "<IPython.core.display.HTML object>"
      ]
     },
     "metadata": {},
     "output_type": "display_data"
    },
    {
     "data": {
      "text/html": [
       "Find logs at: <code>./wandb/run-20250604_224610-mzdpo553/logs</code>"
      ],
      "text/plain": [
       "<IPython.core.display.HTML object>"
      ]
     },
     "metadata": {},
     "output_type": "display_data"
    },
    {
     "data": {
      "text/html": [
       "Tracking run with wandb version 0.19.11"
      ],
      "text/plain": [
       "<IPython.core.display.HTML object>"
      ]
     },
     "metadata": {},
     "output_type": "display_data"
    },
    {
     "data": {
      "text/html": [
       "Run data is saved locally in <code>/Users/davidreyblanco/Software/techweek/ml-idealista-18/notebooks/wandb/run-20250604_224622-cxx0ckxq</code>"
      ],
      "text/plain": [
       "<IPython.core.display.HTML object>"
      ]
     },
     "metadata": {},
     "output_type": "display_data"
    },
    {
     "data": {
      "text/html": [
       "Syncing run <strong><a href='https://wandb.ai/davidreyblanco-uned-universidad-nacional-de-educaci-n-a-/idealista18_madrid_randomforest_UNITPRICE_mds9/runs/cxx0ckxq' target=\"_blank\">ancient-leaf-22</a></strong> to <a href='https://wandb.ai/davidreyblanco-uned-universidad-nacional-de-educaci-n-a-/idealista18_madrid_randomforest_UNITPRICE_mds9' target=\"_blank\">Weights & Biases</a> (<a href='https://wandb.me/developer-guide' target=\"_blank\">docs</a>)<br>"
      ],
      "text/plain": [
       "<IPython.core.display.HTML object>"
      ]
     },
     "metadata": {},
     "output_type": "display_data"
    },
    {
     "data": {
      "text/html": [
       " View project at <a href='https://wandb.ai/davidreyblanco-uned-universidad-nacional-de-educaci-n-a-/idealista18_madrid_randomforest_UNITPRICE_mds9' target=\"_blank\">https://wandb.ai/davidreyblanco-uned-universidad-nacional-de-educaci-n-a-/idealista18_madrid_randomforest_UNITPRICE_mds9</a>"
      ],
      "text/plain": [
       "<IPython.core.display.HTML object>"
      ]
     },
     "metadata": {},
     "output_type": "display_data"
    },
    {
     "data": {
      "text/html": [
       " View run at <a href='https://wandb.ai/davidreyblanco-uned-universidad-nacional-de-educaci-n-a-/idealista18_madrid_randomforest_UNITPRICE_mds9/runs/cxx0ckxq' target=\"_blank\">https://wandb.ai/davidreyblanco-uned-universidad-nacional-de-educaci-n-a-/idealista18_madrid_randomforest_UNITPRICE_mds9/runs/cxx0ckxq</a>"
      ],
      "text/plain": [
       "<IPython.core.display.HTML object>"
      ]
     },
     "metadata": {},
     "output_type": "display_data"
    },
    {
     "name": "stdout",
     "output_type": "stream",
     "text": [
      "20 estimators, max depth 10\n",
      "MAPE: 0.17 MedAPE: 0.1094 MSE:621594.5504005004\n",
      "Model saved to ../models/idealista18_madrid_randomforest_UNITPRICE_estimators-20_depth-10.pickle (838.02 KB)\n"
     ]
    },
    {
     "data": {
      "text/html": [],
      "text/plain": [
       "<IPython.core.display.HTML object>"
      ]
     },
     "metadata": {},
     "output_type": "display_data"
    },
    {
     "data": {
      "text/html": [
       "<br>    <style><br>        .wandb-row {<br>            display: flex;<br>            flex-direction: row;<br>            flex-wrap: wrap;<br>            justify-content: flex-start;<br>            width: 100%;<br>        }<br>        .wandb-col {<br>            display: flex;<br>            flex-direction: column;<br>            flex-basis: 100%;<br>            flex: 1;<br>            padding: 10px;<br>        }<br>    </style><br><div class=\"wandb-row\"><div class=\"wandb-col\"><h3>Run history:</h3><br/><table class=\"wandb\"><tr><td>mae</td><td>▁</td></tr><tr><td>mape</td><td>▁</td></tr><tr><td>max_depth</td><td>▁</td></tr><tr><td>medape</td><td>▁</td></tr><tr><td>mse</td><td>▁</td></tr><tr><td>n_estimators</td><td>▁</td></tr><tr><td>n_test</td><td>▁</td></tr><tr><td>n_train</td><td>▁</td></tr><tr><td>r2</td><td>▁</td></tr><tr><td>random_state</td><td>▁</td></tr></table><br/></div><div class=\"wandb-col\"><h3>Run summary:</h3><br/><table class=\"wandb\"><tr><td>mae</td><td>544.87351</td></tr><tr><td>mape</td><td>0.16532</td></tr><tr><td>max_depth</td><td>10</td></tr><tr><td>medape</td><td>0.10942</td></tr><tr><td>mse</td><td>621594.5504</td></tr><tr><td>n_estimators</td><td>20</td></tr><tr><td>n_test</td><td>15161</td></tr><tr><td>n_train</td><td>60642</td></tr><tr><td>r2</td><td>0.78697</td></tr><tr><td>random_state</td><td>42</td></tr></table><br/></div></div>"
      ],
      "text/plain": [
       "<IPython.core.display.HTML object>"
      ]
     },
     "metadata": {},
     "output_type": "display_data"
    },
    {
     "data": {
      "text/html": [
       " View run <strong style=\"color:#cdcd00\">ancient-leaf-22</strong> at: <a href='https://wandb.ai/davidreyblanco-uned-universidad-nacional-de-educaci-n-a-/idealista18_madrid_randomforest_UNITPRICE_mds9/runs/cxx0ckxq' target=\"_blank\">https://wandb.ai/davidreyblanco-uned-universidad-nacional-de-educaci-n-a-/idealista18_madrid_randomforest_UNITPRICE_mds9/runs/cxx0ckxq</a><br> View project at: <a href='https://wandb.ai/davidreyblanco-uned-universidad-nacional-de-educaci-n-a-/idealista18_madrid_randomforest_UNITPRICE_mds9' target=\"_blank\">https://wandb.ai/davidreyblanco-uned-universidad-nacional-de-educaci-n-a-/idealista18_madrid_randomforest_UNITPRICE_mds9</a><br>Synced 5 W&B file(s), 1 media file(s), 2 artifact file(s) and 0 other file(s)"
      ],
      "text/plain": [
       "<IPython.core.display.HTML object>"
      ]
     },
     "metadata": {},
     "output_type": "display_data"
    },
    {
     "data": {
      "text/html": [
       "Find logs at: <code>./wandb/run-20250604_224622-cxx0ckxq/logs</code>"
      ],
      "text/plain": [
       "<IPython.core.display.HTML object>"
      ]
     },
     "metadata": {},
     "output_type": "display_data"
    },
    {
     "data": {
      "text/html": [
       "Tracking run with wandb version 0.19.11"
      ],
      "text/plain": [
       "<IPython.core.display.HTML object>"
      ]
     },
     "metadata": {},
     "output_type": "display_data"
    },
    {
     "data": {
      "text/html": [
       "Run data is saved locally in <code>/Users/davidreyblanco/Software/techweek/ml-idealista-18/notebooks/wandb/run-20250604_224633-amklg6zr</code>"
      ],
      "text/plain": [
       "<IPython.core.display.HTML object>"
      ]
     },
     "metadata": {},
     "output_type": "display_data"
    },
    {
     "data": {
      "text/html": [
       "Syncing run <strong><a href='https://wandb.ai/davidreyblanco-uned-universidad-nacional-de-educaci-n-a-/idealista18_madrid_randomforest_UNITPRICE_mds9/runs/amklg6zr' target=\"_blank\">magic-terrain-23</a></strong> to <a href='https://wandb.ai/davidreyblanco-uned-universidad-nacional-de-educaci-n-a-/idealista18_madrid_randomforest_UNITPRICE_mds9' target=\"_blank\">Weights & Biases</a> (<a href='https://wandb.me/developer-guide' target=\"_blank\">docs</a>)<br>"
      ],
      "text/plain": [
       "<IPython.core.display.HTML object>"
      ]
     },
     "metadata": {},
     "output_type": "display_data"
    },
    {
     "data": {
      "text/html": [
       " View project at <a href='https://wandb.ai/davidreyblanco-uned-universidad-nacional-de-educaci-n-a-/idealista18_madrid_randomforest_UNITPRICE_mds9' target=\"_blank\">https://wandb.ai/davidreyblanco-uned-universidad-nacional-de-educaci-n-a-/idealista18_madrid_randomforest_UNITPRICE_mds9</a>"
      ],
      "text/plain": [
       "<IPython.core.display.HTML object>"
      ]
     },
     "metadata": {},
     "output_type": "display_data"
    },
    {
     "data": {
      "text/html": [
       " View run at <a href='https://wandb.ai/davidreyblanco-uned-universidad-nacional-de-educaci-n-a-/idealista18_madrid_randomforest_UNITPRICE_mds9/runs/amklg6zr' target=\"_blank\">https://wandb.ai/davidreyblanco-uned-universidad-nacional-de-educaci-n-a-/idealista18_madrid_randomforest_UNITPRICE_mds9/runs/amklg6zr</a>"
      ],
      "text/plain": [
       "<IPython.core.display.HTML object>"
      ]
     },
     "metadata": {},
     "output_type": "display_data"
    },
    {
     "name": "stdout",
     "output_type": "stream",
     "text": [
      "50 estimators, max depth 5\n",
      "MAPE: 0.16 MedAPE: 0.1095 MSE:619515.1251445579\n",
      "Model saved to ../models/idealista18_madrid_randomforest_UNITPRICE_estimators-50_depth-5.pickle (2095.98 KB)\n"
     ]
    },
    {
     "data": {
      "text/html": [],
      "text/plain": [
       "<IPython.core.display.HTML object>"
      ]
     },
     "metadata": {},
     "output_type": "display_data"
    },
    {
     "data": {
      "text/html": [
       "<br>    <style><br>        .wandb-row {<br>            display: flex;<br>            flex-direction: row;<br>            flex-wrap: wrap;<br>            justify-content: flex-start;<br>            width: 100%;<br>        }<br>        .wandb-col {<br>            display: flex;<br>            flex-direction: column;<br>            flex-basis: 100%;<br>            flex: 1;<br>            padding: 10px;<br>        }<br>    </style><br><div class=\"wandb-row\"><div class=\"wandb-col\"><h3>Run history:</h3><br/><table class=\"wandb\"><tr><td>mae</td><td>▁</td></tr><tr><td>mape</td><td>▁</td></tr><tr><td>max_depth</td><td>▁</td></tr><tr><td>medape</td><td>▁</td></tr><tr><td>mse</td><td>▁</td></tr><tr><td>n_estimators</td><td>▁</td></tr><tr><td>n_test</td><td>▁</td></tr><tr><td>n_train</td><td>▁</td></tr><tr><td>r2</td><td>▁</td></tr><tr><td>random_state</td><td>▁</td></tr></table><br/></div><div class=\"wandb-col\"><h3>Run summary:</h3><br/><table class=\"wandb\"><tr><td>mae</td><td>543.7475</td></tr><tr><td>mape</td><td>0.16493</td></tr><tr><td>max_depth</td><td>5</td></tr><tr><td>medape</td><td>0.10946</td></tr><tr><td>mse</td><td>619515.12514</td></tr><tr><td>n_estimators</td><td>50</td></tr><tr><td>n_test</td><td>15161</td></tr><tr><td>n_train</td><td>60642</td></tr><tr><td>r2</td><td>0.78768</td></tr><tr><td>random_state</td><td>42</td></tr></table><br/></div></div>"
      ],
      "text/plain": [
       "<IPython.core.display.HTML object>"
      ]
     },
     "metadata": {},
     "output_type": "display_data"
    },
    {
     "data": {
      "text/html": [
       " View run <strong style=\"color:#cdcd00\">magic-terrain-23</strong> at: <a href='https://wandb.ai/davidreyblanco-uned-universidad-nacional-de-educaci-n-a-/idealista18_madrid_randomforest_UNITPRICE_mds9/runs/amklg6zr' target=\"_blank\">https://wandb.ai/davidreyblanco-uned-universidad-nacional-de-educaci-n-a-/idealista18_madrid_randomforest_UNITPRICE_mds9/runs/amklg6zr</a><br> View project at: <a href='https://wandb.ai/davidreyblanco-uned-universidad-nacional-de-educaci-n-a-/idealista18_madrid_randomforest_UNITPRICE_mds9' target=\"_blank\">https://wandb.ai/davidreyblanco-uned-universidad-nacional-de-educaci-n-a-/idealista18_madrid_randomforest_UNITPRICE_mds9</a><br>Synced 5 W&B file(s), 1 media file(s), 2 artifact file(s) and 0 other file(s)"
      ],
      "text/plain": [
       "<IPython.core.display.HTML object>"
      ]
     },
     "metadata": {},
     "output_type": "display_data"
    },
    {
     "data": {
      "text/html": [
       "Find logs at: <code>./wandb/run-20250604_224633-amklg6zr/logs</code>"
      ],
      "text/plain": [
       "<IPython.core.display.HTML object>"
      ]
     },
     "metadata": {},
     "output_type": "display_data"
    },
    {
     "data": {
      "text/html": [
       "Tracking run with wandb version 0.19.11"
      ],
      "text/plain": [
       "<IPython.core.display.HTML object>"
      ]
     },
     "metadata": {},
     "output_type": "display_data"
    },
    {
     "data": {
      "text/html": [
       "Run data is saved locally in <code>/Users/davidreyblanco/Software/techweek/ml-idealista-18/notebooks/wandb/run-20250604_224656-8wattk1p</code>"
      ],
      "text/plain": [
       "<IPython.core.display.HTML object>"
      ]
     },
     "metadata": {},
     "output_type": "display_data"
    },
    {
     "data": {
      "text/html": [
       "Syncing run <strong><a href='https://wandb.ai/davidreyblanco-uned-universidad-nacional-de-educaci-n-a-/idealista18_madrid_randomforest_UNITPRICE_mds9/runs/8wattk1p' target=\"_blank\">curious-wave-24</a></strong> to <a href='https://wandb.ai/davidreyblanco-uned-universidad-nacional-de-educaci-n-a-/idealista18_madrid_randomforest_UNITPRICE_mds9' target=\"_blank\">Weights & Biases</a> (<a href='https://wandb.me/developer-guide' target=\"_blank\">docs</a>)<br>"
      ],
      "text/plain": [
       "<IPython.core.display.HTML object>"
      ]
     },
     "metadata": {},
     "output_type": "display_data"
    },
    {
     "data": {
      "text/html": [
       " View project at <a href='https://wandb.ai/davidreyblanco-uned-universidad-nacional-de-educaci-n-a-/idealista18_madrid_randomforest_UNITPRICE_mds9' target=\"_blank\">https://wandb.ai/davidreyblanco-uned-universidad-nacional-de-educaci-n-a-/idealista18_madrid_randomforest_UNITPRICE_mds9</a>"
      ],
      "text/plain": [
       "<IPython.core.display.HTML object>"
      ]
     },
     "metadata": {},
     "output_type": "display_data"
    },
    {
     "data": {
      "text/html": [
       " View run at <a href='https://wandb.ai/davidreyblanco-uned-universidad-nacional-de-educaci-n-a-/idealista18_madrid_randomforest_UNITPRICE_mds9/runs/8wattk1p' target=\"_blank\">https://wandb.ai/davidreyblanco-uned-universidad-nacional-de-educaci-n-a-/idealista18_madrid_randomforest_UNITPRICE_mds9/runs/8wattk1p</a>"
      ],
      "text/plain": [
       "<IPython.core.display.HTML object>"
      ]
     },
     "metadata": {},
     "output_type": "display_data"
    },
    {
     "name": "stdout",
     "output_type": "stream",
     "text": [
      "50 estimators, max depth 10\n",
      "MAPE: 0.16 MedAPE: 0.1095 MSE:619515.1251445579\n",
      "Model saved to ../models/idealista18_madrid_randomforest_UNITPRICE_estimators-50_depth-10.pickle (2095.98 KB)\n"
     ]
    },
    {
     "data": {
      "text/html": [],
      "text/plain": [
       "<IPython.core.display.HTML object>"
      ]
     },
     "metadata": {},
     "output_type": "display_data"
    },
    {
     "data": {
      "text/html": [
       "<br>    <style><br>        .wandb-row {<br>            display: flex;<br>            flex-direction: row;<br>            flex-wrap: wrap;<br>            justify-content: flex-start;<br>            width: 100%;<br>        }<br>        .wandb-col {<br>            display: flex;<br>            flex-direction: column;<br>            flex-basis: 100%;<br>            flex: 1;<br>            padding: 10px;<br>        }<br>    </style><br><div class=\"wandb-row\"><div class=\"wandb-col\"><h3>Run history:</h3><br/><table class=\"wandb\"><tr><td>mae</td><td>▁</td></tr><tr><td>mape</td><td>▁</td></tr><tr><td>max_depth</td><td>▁</td></tr><tr><td>medape</td><td>▁</td></tr><tr><td>mse</td><td>▁</td></tr><tr><td>n_estimators</td><td>▁</td></tr><tr><td>n_test</td><td>▁</td></tr><tr><td>n_train</td><td>▁</td></tr><tr><td>r2</td><td>▁</td></tr><tr><td>random_state</td><td>▁</td></tr></table><br/></div><div class=\"wandb-col\"><h3>Run summary:</h3><br/><table class=\"wandb\"><tr><td>mae</td><td>543.7475</td></tr><tr><td>mape</td><td>0.16493</td></tr><tr><td>max_depth</td><td>10</td></tr><tr><td>medape</td><td>0.10946</td></tr><tr><td>mse</td><td>619515.12514</td></tr><tr><td>n_estimators</td><td>50</td></tr><tr><td>n_test</td><td>15161</td></tr><tr><td>n_train</td><td>60642</td></tr><tr><td>r2</td><td>0.78768</td></tr><tr><td>random_state</td><td>42</td></tr></table><br/></div></div>"
      ],
      "text/plain": [
       "<IPython.core.display.HTML object>"
      ]
     },
     "metadata": {},
     "output_type": "display_data"
    },
    {
     "data": {
      "text/html": [
       " View run <strong style=\"color:#cdcd00\">curious-wave-24</strong> at: <a href='https://wandb.ai/davidreyblanco-uned-universidad-nacional-de-educaci-n-a-/idealista18_madrid_randomforest_UNITPRICE_mds9/runs/8wattk1p' target=\"_blank\">https://wandb.ai/davidreyblanco-uned-universidad-nacional-de-educaci-n-a-/idealista18_madrid_randomforest_UNITPRICE_mds9/runs/8wattk1p</a><br> View project at: <a href='https://wandb.ai/davidreyblanco-uned-universidad-nacional-de-educaci-n-a-/idealista18_madrid_randomforest_UNITPRICE_mds9' target=\"_blank\">https://wandb.ai/davidreyblanco-uned-universidad-nacional-de-educaci-n-a-/idealista18_madrid_randomforest_UNITPRICE_mds9</a><br>Synced 5 W&B file(s), 1 media file(s), 2 artifact file(s) and 0 other file(s)"
      ],
      "text/plain": [
       "<IPython.core.display.HTML object>"
      ]
     },
     "metadata": {},
     "output_type": "display_data"
    },
    {
     "data": {
      "text/html": [
       "Find logs at: <code>./wandb/run-20250604_224656-8wattk1p/logs</code>"
      ],
      "text/plain": [
       "<IPython.core.display.HTML object>"
      ]
     },
     "metadata": {},
     "output_type": "display_data"
    },
    {
     "data": {
      "text/html": [
       "Tracking run with wandb version 0.19.11"
      ],
      "text/plain": [
       "<IPython.core.display.HTML object>"
      ]
     },
     "metadata": {},
     "output_type": "display_data"
    },
    {
     "data": {
      "text/html": [
       "Run data is saved locally in <code>/Users/davidreyblanco/Software/techweek/ml-idealista-18/notebooks/wandb/run-20250604_224718-g1f8hy57</code>"
      ],
      "text/plain": [
       "<IPython.core.display.HTML object>"
      ]
     },
     "metadata": {},
     "output_type": "display_data"
    },
    {
     "data": {
      "text/html": [
       "Syncing run <strong><a href='https://wandb.ai/davidreyblanco-uned-universidad-nacional-de-educaci-n-a-/idealista18_madrid_randomforest_UNITPRICE_mds9/runs/g1f8hy57' target=\"_blank\">fallen-aardvark-25</a></strong> to <a href='https://wandb.ai/davidreyblanco-uned-universidad-nacional-de-educaci-n-a-/idealista18_madrid_randomforest_UNITPRICE_mds9' target=\"_blank\">Weights & Biases</a> (<a href='https://wandb.me/developer-guide' target=\"_blank\">docs</a>)<br>"
      ],
      "text/plain": [
       "<IPython.core.display.HTML object>"
      ]
     },
     "metadata": {},
     "output_type": "display_data"
    },
    {
     "data": {
      "text/html": [
       " View project at <a href='https://wandb.ai/davidreyblanco-uned-universidad-nacional-de-educaci-n-a-/idealista18_madrid_randomforest_UNITPRICE_mds9' target=\"_blank\">https://wandb.ai/davidreyblanco-uned-universidad-nacional-de-educaci-n-a-/idealista18_madrid_randomforest_UNITPRICE_mds9</a>"
      ],
      "text/plain": [
       "<IPython.core.display.HTML object>"
      ]
     },
     "metadata": {},
     "output_type": "display_data"
    },
    {
     "data": {
      "text/html": [
       " View run at <a href='https://wandb.ai/davidreyblanco-uned-universidad-nacional-de-educaci-n-a-/idealista18_madrid_randomforest_UNITPRICE_mds9/runs/g1f8hy57' target=\"_blank\">https://wandb.ai/davidreyblanco-uned-universidad-nacional-de-educaci-n-a-/idealista18_madrid_randomforest_UNITPRICE_mds9/runs/g1f8hy57</a>"
      ],
      "text/plain": [
       "<IPython.core.display.HTML object>"
      ]
     },
     "metadata": {},
     "output_type": "display_data"
    },
    {
     "name": "stdout",
     "output_type": "stream",
     "text": [
      "100 estimators, max depth 5\n",
      "MAPE: 0.16 MedAPE: 0.1090 MSE:618601.940988909\n",
      "Model saved to ../models/idealista18_madrid_randomforest_UNITPRICE_estimators-100_depth-5.pickle (4195.51 KB)\n"
     ]
    },
    {
     "data": {
      "text/html": [],
      "text/plain": [
       "<IPython.core.display.HTML object>"
      ]
     },
     "metadata": {},
     "output_type": "display_data"
    },
    {
     "data": {
      "text/html": [
       "<br>    <style><br>        .wandb-row {<br>            display: flex;<br>            flex-direction: row;<br>            flex-wrap: wrap;<br>            justify-content: flex-start;<br>            width: 100%;<br>        }<br>        .wandb-col {<br>            display: flex;<br>            flex-direction: column;<br>            flex-basis: 100%;<br>            flex: 1;<br>            padding: 10px;<br>        }<br>    </style><br><div class=\"wandb-row\"><div class=\"wandb-col\"><h3>Run history:</h3><br/><table class=\"wandb\"><tr><td>mae</td><td>▁</td></tr><tr><td>mape</td><td>▁</td></tr><tr><td>max_depth</td><td>▁</td></tr><tr><td>medape</td><td>▁</td></tr><tr><td>mse</td><td>▁</td></tr><tr><td>n_estimators</td><td>▁</td></tr><tr><td>n_test</td><td>▁</td></tr><tr><td>n_train</td><td>▁</td></tr><tr><td>r2</td><td>▁</td></tr><tr><td>random_state</td><td>▁</td></tr></table><br/></div><div class=\"wandb-col\"><h3>Run summary:</h3><br/><table class=\"wandb\"><tr><td>mae</td><td>543.34304</td></tr><tr><td>mape</td><td>0.16481</td></tr><tr><td>max_depth</td><td>5</td></tr><tr><td>medape</td><td>0.109</td></tr><tr><td>mse</td><td>618601.94099</td></tr><tr><td>n_estimators</td><td>100</td></tr><tr><td>n_test</td><td>15161</td></tr><tr><td>n_train</td><td>60642</td></tr><tr><td>r2</td><td>0.78799</td></tr><tr><td>random_state</td><td>42</td></tr></table><br/></div></div>"
      ],
      "text/plain": [
       "<IPython.core.display.HTML object>"
      ]
     },
     "metadata": {},
     "output_type": "display_data"
    },
    {
     "data": {
      "text/html": [
       " View run <strong style=\"color:#cdcd00\">fallen-aardvark-25</strong> at: <a href='https://wandb.ai/davidreyblanco-uned-universidad-nacional-de-educaci-n-a-/idealista18_madrid_randomforest_UNITPRICE_mds9/runs/g1f8hy57' target=\"_blank\">https://wandb.ai/davidreyblanco-uned-universidad-nacional-de-educaci-n-a-/idealista18_madrid_randomforest_UNITPRICE_mds9/runs/g1f8hy57</a><br> View project at: <a href='https://wandb.ai/davidreyblanco-uned-universidad-nacional-de-educaci-n-a-/idealista18_madrid_randomforest_UNITPRICE_mds9' target=\"_blank\">https://wandb.ai/davidreyblanco-uned-universidad-nacional-de-educaci-n-a-/idealista18_madrid_randomforest_UNITPRICE_mds9</a><br>Synced 5 W&B file(s), 1 media file(s), 2 artifact file(s) and 0 other file(s)"
      ],
      "text/plain": [
       "<IPython.core.display.HTML object>"
      ]
     },
     "metadata": {},
     "output_type": "display_data"
    },
    {
     "data": {
      "text/html": [
       "Find logs at: <code>./wandb/run-20250604_224718-g1f8hy57/logs</code>"
      ],
      "text/plain": [
       "<IPython.core.display.HTML object>"
      ]
     },
     "metadata": {},
     "output_type": "display_data"
    },
    {
     "data": {
      "text/html": [
       "Tracking run with wandb version 0.19.11"
      ],
      "text/plain": [
       "<IPython.core.display.HTML object>"
      ]
     },
     "metadata": {},
     "output_type": "display_data"
    },
    {
     "data": {
      "text/html": [
       "Run data is saved locally in <code>/Users/davidreyblanco/Software/techweek/ml-idealista-18/notebooks/wandb/run-20250604_224758-jgtd5lrf</code>"
      ],
      "text/plain": [
       "<IPython.core.display.HTML object>"
      ]
     },
     "metadata": {},
     "output_type": "display_data"
    },
    {
     "data": {
      "text/html": [
       "Syncing run <strong><a href='https://wandb.ai/davidreyblanco-uned-universidad-nacional-de-educaci-n-a-/idealista18_madrid_randomforest_UNITPRICE_mds9/runs/jgtd5lrf' target=\"_blank\">dauntless-plasma-26</a></strong> to <a href='https://wandb.ai/davidreyblanco-uned-universidad-nacional-de-educaci-n-a-/idealista18_madrid_randomforest_UNITPRICE_mds9' target=\"_blank\">Weights & Biases</a> (<a href='https://wandb.me/developer-guide' target=\"_blank\">docs</a>)<br>"
      ],
      "text/plain": [
       "<IPython.core.display.HTML object>"
      ]
     },
     "metadata": {},
     "output_type": "display_data"
    },
    {
     "data": {
      "text/html": [
       " View project at <a href='https://wandb.ai/davidreyblanco-uned-universidad-nacional-de-educaci-n-a-/idealista18_madrid_randomforest_UNITPRICE_mds9' target=\"_blank\">https://wandb.ai/davidreyblanco-uned-universidad-nacional-de-educaci-n-a-/idealista18_madrid_randomforest_UNITPRICE_mds9</a>"
      ],
      "text/plain": [
       "<IPython.core.display.HTML object>"
      ]
     },
     "metadata": {},
     "output_type": "display_data"
    },
    {
     "data": {
      "text/html": [
       " View run at <a href='https://wandb.ai/davidreyblanco-uned-universidad-nacional-de-educaci-n-a-/idealista18_madrid_randomforest_UNITPRICE_mds9/runs/jgtd5lrf' target=\"_blank\">https://wandb.ai/davidreyblanco-uned-universidad-nacional-de-educaci-n-a-/idealista18_madrid_randomforest_UNITPRICE_mds9/runs/jgtd5lrf</a>"
      ],
      "text/plain": [
       "<IPython.core.display.HTML object>"
      ]
     },
     "metadata": {},
     "output_type": "display_data"
    },
    {
     "name": "stdout",
     "output_type": "stream",
     "text": [
      "100 estimators, max depth 10\n",
      "MAPE: 0.16 MedAPE: 0.1090 MSE:618601.940988909\n",
      "Model saved to ../models/idealista18_madrid_randomforest_UNITPRICE_estimators-100_depth-10.pickle (4195.51 KB)\n"
     ]
    },
    {
     "data": {
      "text/html": [],
      "text/plain": [
       "<IPython.core.display.HTML object>"
      ]
     },
     "metadata": {},
     "output_type": "display_data"
    },
    {
     "data": {
      "text/html": [
       "<br>    <style><br>        .wandb-row {<br>            display: flex;<br>            flex-direction: row;<br>            flex-wrap: wrap;<br>            justify-content: flex-start;<br>            width: 100%;<br>        }<br>        .wandb-col {<br>            display: flex;<br>            flex-direction: column;<br>            flex-basis: 100%;<br>            flex: 1;<br>            padding: 10px;<br>        }<br>    </style><br><div class=\"wandb-row\"><div class=\"wandb-col\"><h3>Run history:</h3><br/><table class=\"wandb\"><tr><td>mae</td><td>▁</td></tr><tr><td>mape</td><td>▁</td></tr><tr><td>max_depth</td><td>▁</td></tr><tr><td>medape</td><td>▁</td></tr><tr><td>mse</td><td>▁</td></tr><tr><td>n_estimators</td><td>▁</td></tr><tr><td>n_test</td><td>▁</td></tr><tr><td>n_train</td><td>▁</td></tr><tr><td>r2</td><td>▁</td></tr><tr><td>random_state</td><td>▁</td></tr></table><br/></div><div class=\"wandb-col\"><h3>Run summary:</h3><br/><table class=\"wandb\"><tr><td>mae</td><td>543.34304</td></tr><tr><td>mape</td><td>0.16481</td></tr><tr><td>max_depth</td><td>10</td></tr><tr><td>medape</td><td>0.109</td></tr><tr><td>mse</td><td>618601.94099</td></tr><tr><td>n_estimators</td><td>100</td></tr><tr><td>n_test</td><td>15161</td></tr><tr><td>n_train</td><td>60642</td></tr><tr><td>r2</td><td>0.78799</td></tr><tr><td>random_state</td><td>42</td></tr></table><br/></div></div>"
      ],
      "text/plain": [
       "<IPython.core.display.HTML object>"
      ]
     },
     "metadata": {},
     "output_type": "display_data"
    },
    {
     "data": {
      "text/html": [
       " View run <strong style=\"color:#cdcd00\">dauntless-plasma-26</strong> at: <a href='https://wandb.ai/davidreyblanco-uned-universidad-nacional-de-educaci-n-a-/idealista18_madrid_randomforest_UNITPRICE_mds9/runs/jgtd5lrf' target=\"_blank\">https://wandb.ai/davidreyblanco-uned-universidad-nacional-de-educaci-n-a-/idealista18_madrid_randomforest_UNITPRICE_mds9/runs/jgtd5lrf</a><br> View project at: <a href='https://wandb.ai/davidreyblanco-uned-universidad-nacional-de-educaci-n-a-/idealista18_madrid_randomforest_UNITPRICE_mds9' target=\"_blank\">https://wandb.ai/davidreyblanco-uned-universidad-nacional-de-educaci-n-a-/idealista18_madrid_randomforest_UNITPRICE_mds9</a><br>Synced 5 W&B file(s), 1 media file(s), 2 artifact file(s) and 0 other file(s)"
      ],
      "text/plain": [
       "<IPython.core.display.HTML object>"
      ]
     },
     "metadata": {},
     "output_type": "display_data"
    },
    {
     "data": {
      "text/html": [
       "Find logs at: <code>./wandb/run-20250604_224758-jgtd5lrf/logs</code>"
      ],
      "text/plain": [
       "<IPython.core.display.HTML object>"
      ]
     },
     "metadata": {},
     "output_type": "display_data"
    }
   ],
   "source": [
    "# Train/test split and model training\n",
    "import unidecode as unidecode\n",
    "import joblib\n",
    "from sklearn.ensemble import RandomForestRegressor\n",
    "from sklearn.metrics import mean_squared_error\n",
    "from sklearn.metrics import r2_score\n",
    "from sklearn.metrics import mean_absolute_error\n",
    "from sklearn.metrics import mean_absolute_percentage_error, median_absolute_error\n",
    "\n",
    "TEAM_ENTITY = \"mds9\"  # Replace with your team entity\n",
    "ALGORITHM = \"Random Forest\"\n",
    "DATASET = \"idealista18\"\n",
    "algorithm_slug = unidecode.unidecode(ALGORITHM).lower().replace(\" \", \"\")\n",
    "PROJECT = f\"{DATASET}_{CITY.lower()}_{algorithm_slug}_{TARGET_COLUMN}_{TEAM_ENTITY.lower()}\"\n",
    "\n",
    "\n",
    "# 1) Grab the W&B token\n",
    "wandb_token = os.getenv(\"WANDB_API_KEY\")\n",
    "if wandb_token is None:\n",
    "    raise RuntimeError(\"WANDB_API_KEY not found in environment. Did you create a .env with that variable?\")\n",
    "\n",
    "# 2) Login with the token\n",
    "wandb.login(key=wandb_token)\n",
    "\n",
    "for n_estimators in [10, 20, 50, 100]:\n",
    "    for max_depth in [5, 10]:\n",
    "\n",
    "        # 3) Train some models\n",
    "        with wandb.init(project=PROJECT, config={\"algorithm\": ALGORITHM,\n",
    "                                                \"target\": TARGET_COLUMN,\n",
    "                                                \"city\": CITY,\n",
    "                                                \"dataset\": DATASET }) as run:\n",
    "\n",
    "            #\n",
    "            # Create a grid search for hyperparameters\n",
    "            #\n",
    "                print(f\"{n_estimators} estimators, max depth {max_depth}\")\n",
    "                model = RandomForestRegressor(n_estimators=n_estimators, max_depth = 10, random_state=random_state)\n",
    "                model.fit(X_train, y_train)\n",
    "                preds = model.predict(X_test)\n",
    "                mse = mean_squared_error(y_test, preds)\n",
    "                r2 = r2_score(y_test, preds)\n",
    "                mae = mean_absolute_error(y_test, preds)\n",
    "                mape = mean_absolute_percentage_error(y_test, preds)\n",
    "                medape = median_absolute_error(y_test, preds) / y_test.median()\n",
    "\n",
    "                print(f\"MAPE: {mape:.2f} MedAPE: {medape:.4f} MSE:{mse}\")\n",
    "\n",
    "                run.log({\n",
    "                    \"mse\": mse,\n",
    "                    \"r2\": r2,\n",
    "                    \"mape\": mape,\n",
    "                    \"medape\": medape,\n",
    "                    \"mae\": mae,\n",
    "                    \"random_state\": random_state,\n",
    "                    'n_train': len(X_train),\n",
    "                    'n_test': len(X_test),\n",
    "                    \"n_estimators\": n_estimators,\n",
    "                    \"max_depth\": max_depth, \n",
    "                })\n",
    "\n",
    "                # Create a model filename fingerprint\n",
    "                \n",
    "                model_fp = f\"estimators-{n_estimators}_depth-{max_depth}\"\n",
    "                model_artifact_name = f\"{DATASET}_{CITY.lower()}_{algorithm_slug}_{TARGET_COLUMN}_{model_fp}\"\n",
    "\n",
    "                model_filename = f\"../models/{model_artifact_name}.pickle\"\n",
    "                joblib.dump(model, model_filename, compress=('gzip', 3))\n",
    "                model_size = os.path.getsize(model_filename)\n",
    "                print(f\"Model saved to {model_filename} ({model_size / 1024:.2f} KB)\")\n",
    "\n",
    "                # Guardamos el modelo en el repositorio de modelos de W&B\n",
    "                model_artifact_name = f'idealista18_madrid_{ALGORITHM.lower().replace(\" \", \"_\")}'\n",
    "\n",
    "                artifact = wandb.Artifact(name=model_artifact_name, \n",
    "                                        type=\"model\", \n",
    "                                        description=f\"{ALGORITHM} model for Madrid housing prices\")\n",
    "                artifact.metadata[\"tags\"] = [model_fp, CITY, DATASET]\n",
    "                artifact.metadata[\"aliases\"] = [model_fp]\n",
    "                artifact.add_file(local_path=model_filename)\n",
    "                artifact.save()\n",
    "                run.log_artifact(artifact, aliases=[\"latest\", \"production\", model_fp])\n",
    "\n",
    "                df = pd.DataFrame({\n",
    "                    \"actual_price\": y_test,\n",
    "                    \"predicted_price\": preds,\n",
    "                    \"error\": abs(y_test - preds),            # e.g. point‐size or color\n",
    "                })\n",
    "                df = wandb.Table(dataframe=df)\n",
    "\n",
    "                # 1) Simple scatter with axis labels and a color dimension (error)\n",
    "                run.log({\n",
    "                    \"price_scatter\": wandb.plot.scatter(\n",
    "                        df,\n",
    "                        x=\"actual_price\",\n",
    "                        y=\"predicted_price\",\n",
    "                        title=\"Predicted vs Actual Price\",\n",
    "                        #xname=\"Actual (EUR)\",\n",
    "                        #yname=\"Predicted (EUR)\"\n",
    "                    )\n",
    "                })\n",
    "\n",
    "                # 2) If you want to color‐code each point by “error”:\n",
    "                run.log({\n",
    "                    \"price_scatter_colored\": wandb.plot.scatter(\n",
    "                        df,\n",
    "                        x=\"actual_price\",\n",
    "                        y=\"predicted_price\",\n",
    "                        title=\"Predicted vs Actual Price (colored by error)\",\n",
    "                        #xname=\"Actual (EUR)\",\n",
    "                        #yname=\"Predicted (EUR)\",\n",
    "                        #color=\"error\",    # column in df\n",
    "                        #colorscale=\"Viridis\"  # any Plotly colorscale name\n",
    "                    )\n",
    "                })\n",
    "\n"
   ]
  },
  {
   "cell_type": "markdown",
   "id": "e07ddbb9",
   "metadata": {},
   "source": [
    "## Simple regression Tree"
   ]
  },
  {
   "cell_type": "code",
   "execution_count": 19,
   "id": "cb093ac5",
   "metadata": {},
   "outputs": [
    {
     "data": {
      "text/html": [
       "Tracking run with wandb version 0.19.11"
      ],
      "text/plain": [
       "<IPython.core.display.HTML object>"
      ]
     },
     "metadata": {},
     "output_type": "display_data"
    },
    {
     "data": {
      "text/html": [
       "Run data is saved locally in <code>/Users/davidreyblanco/Software/techweek/ml-idealista-18/notebooks/wandb/run-20250604_224839-9u0trzgu</code>"
      ],
      "text/plain": [
       "<IPython.core.display.HTML object>"
      ]
     },
     "metadata": {},
     "output_type": "display_data"
    },
    {
     "data": {
      "text/html": [
       "Syncing run <strong><a href='https://wandb.ai/davidreyblanco-uned-universidad-nacional-de-educaci-n-a-/idealista18_madrid_decisiontree_UNITPRICE_mds9/runs/9u0trzgu' target=\"_blank\">valiant-darkness-4</a></strong> to <a href='https://wandb.ai/davidreyblanco-uned-universidad-nacional-de-educaci-n-a-/idealista18_madrid_decisiontree_UNITPRICE_mds9' target=\"_blank\">Weights & Biases</a> (<a href='https://wandb.me/developer-guide' target=\"_blank\">docs</a>)<br>"
      ],
      "text/plain": [
       "<IPython.core.display.HTML object>"
      ]
     },
     "metadata": {},
     "output_type": "display_data"
    },
    {
     "data": {
      "text/html": [
       " View project at <a href='https://wandb.ai/davidreyblanco-uned-universidad-nacional-de-educaci-n-a-/idealista18_madrid_decisiontree_UNITPRICE_mds9' target=\"_blank\">https://wandb.ai/davidreyblanco-uned-universidad-nacional-de-educaci-n-a-/idealista18_madrid_decisiontree_UNITPRICE_mds9</a>"
      ],
      "text/plain": [
       "<IPython.core.display.HTML object>"
      ]
     },
     "metadata": {},
     "output_type": "display_data"
    },
    {
     "data": {
      "text/html": [
       " View run at <a href='https://wandb.ai/davidreyblanco-uned-universidad-nacional-de-educaci-n-a-/idealista18_madrid_decisiontree_UNITPRICE_mds9/runs/9u0trzgu' target=\"_blank\">https://wandb.ai/davidreyblanco-uned-universidad-nacional-de-educaci-n-a-/idealista18_madrid_decisiontree_UNITPRICE_mds9/runs/9u0trzgu</a>"
      ],
      "text/plain": [
       "<IPython.core.display.HTML object>"
      ]
     },
     "metadata": {},
     "output_type": "display_data"
    },
    {
     "name": "stdout",
     "output_type": "stream",
     "text": [
      "100 estimators, max depth 5\n",
      "MAPE: 0.22 MedAPE: 0.1524 MSE:996174.9396154651\n",
      "Model saved to ../models/idealista18_madrid_decisiontree_UNITPRICE_depth-5.pickle (3.05 KB)\n"
     ]
    },
    {
     "data": {
      "text/html": [],
      "text/plain": [
       "<IPython.core.display.HTML object>"
      ]
     },
     "metadata": {},
     "output_type": "display_data"
    },
    {
     "data": {
      "text/html": [
       "<br>    <style><br>        .wandb-row {<br>            display: flex;<br>            flex-direction: row;<br>            flex-wrap: wrap;<br>            justify-content: flex-start;<br>            width: 100%;<br>        }<br>        .wandb-col {<br>            display: flex;<br>            flex-direction: column;<br>            flex-basis: 100%;<br>            flex: 1;<br>            padding: 10px;<br>        }<br>    </style><br><div class=\"wandb-row\"><div class=\"wandb-col\"><h3>Run history:</h3><br/><table class=\"wandb\"><tr><td>mae</td><td>▁</td></tr><tr><td>mape</td><td>▁</td></tr><tr><td>max_depth</td><td>▁</td></tr><tr><td>medape</td><td>▁</td></tr><tr><td>mse</td><td>▁</td></tr><tr><td>n_estimators</td><td>▁</td></tr><tr><td>n_test</td><td>▁</td></tr><tr><td>n_train</td><td>▁</td></tr><tr><td>r2</td><td>▁</td></tr><tr><td>random_state</td><td>▁</td></tr></table><br/></div><div class=\"wandb-col\"><h3>Run summary:</h3><br/><table class=\"wandb\"><tr><td>mae</td><td>719.49142</td></tr><tr><td>mape</td><td>0.21843</td></tr><tr><td>max_depth</td><td>5</td></tr><tr><td>medape</td><td>0.1524</td></tr><tr><td>mse</td><td>996174.93962</td></tr><tr><td>n_estimators</td><td>100</td></tr><tr><td>n_test</td><td>15161</td></tr><tr><td>n_train</td><td>60642</td></tr><tr><td>r2</td><td>0.65859</td></tr><tr><td>random_state</td><td>42</td></tr></table><br/></div></div>"
      ],
      "text/plain": [
       "<IPython.core.display.HTML object>"
      ]
     },
     "metadata": {},
     "output_type": "display_data"
    },
    {
     "data": {
      "text/html": [
       " View run <strong style=\"color:#cdcd00\">valiant-darkness-4</strong> at: <a href='https://wandb.ai/davidreyblanco-uned-universidad-nacional-de-educaci-n-a-/idealista18_madrid_decisiontree_UNITPRICE_mds9/runs/9u0trzgu' target=\"_blank\">https://wandb.ai/davidreyblanco-uned-universidad-nacional-de-educaci-n-a-/idealista18_madrid_decisiontree_UNITPRICE_mds9/runs/9u0trzgu</a><br> View project at: <a href='https://wandb.ai/davidreyblanco-uned-universidad-nacional-de-educaci-n-a-/idealista18_madrid_decisiontree_UNITPRICE_mds9' target=\"_blank\">https://wandb.ai/davidreyblanco-uned-universidad-nacional-de-educaci-n-a-/idealista18_madrid_decisiontree_UNITPRICE_mds9</a><br>Synced 5 W&B file(s), 1 media file(s), 2 artifact file(s) and 0 other file(s)"
      ],
      "text/plain": [
       "<IPython.core.display.HTML object>"
      ]
     },
     "metadata": {},
     "output_type": "display_data"
    },
    {
     "data": {
      "text/html": [
       "Find logs at: <code>./wandb/run-20250604_224839-9u0trzgu/logs</code>"
      ],
      "text/plain": [
       "<IPython.core.display.HTML object>"
      ]
     },
     "metadata": {},
     "output_type": "display_data"
    },
    {
     "data": {
      "text/html": [
       "Tracking run with wandb version 0.19.11"
      ],
      "text/plain": [
       "<IPython.core.display.HTML object>"
      ]
     },
     "metadata": {},
     "output_type": "display_data"
    },
    {
     "data": {
      "text/html": [
       "Run data is saved locally in <code>/Users/davidreyblanco/Software/techweek/ml-idealista-18/notebooks/wandb/run-20250604_224844-epfhbfyo</code>"
      ],
      "text/plain": [
       "<IPython.core.display.HTML object>"
      ]
     },
     "metadata": {},
     "output_type": "display_data"
    },
    {
     "data": {
      "text/html": [
       "Syncing run <strong><a href='https://wandb.ai/davidreyblanco-uned-universidad-nacional-de-educaci-n-a-/idealista18_madrid_decisiontree_UNITPRICE_mds9/runs/epfhbfyo' target=\"_blank\">drawn-valley-5</a></strong> to <a href='https://wandb.ai/davidreyblanco-uned-universidad-nacional-de-educaci-n-a-/idealista18_madrid_decisiontree_UNITPRICE_mds9' target=\"_blank\">Weights & Biases</a> (<a href='https://wandb.me/developer-guide' target=\"_blank\">docs</a>)<br>"
      ],
      "text/plain": [
       "<IPython.core.display.HTML object>"
      ]
     },
     "metadata": {},
     "output_type": "display_data"
    },
    {
     "data": {
      "text/html": [
       " View project at <a href='https://wandb.ai/davidreyblanco-uned-universidad-nacional-de-educaci-n-a-/idealista18_madrid_decisiontree_UNITPRICE_mds9' target=\"_blank\">https://wandb.ai/davidreyblanco-uned-universidad-nacional-de-educaci-n-a-/idealista18_madrid_decisiontree_UNITPRICE_mds9</a>"
      ],
      "text/plain": [
       "<IPython.core.display.HTML object>"
      ]
     },
     "metadata": {},
     "output_type": "display_data"
    },
    {
     "data": {
      "text/html": [
       " View run at <a href='https://wandb.ai/davidreyblanco-uned-universidad-nacional-de-educaci-n-a-/idealista18_madrid_decisiontree_UNITPRICE_mds9/runs/epfhbfyo' target=\"_blank\">https://wandb.ai/davidreyblanco-uned-universidad-nacional-de-educaci-n-a-/idealista18_madrid_decisiontree_UNITPRICE_mds9/runs/epfhbfyo</a>"
      ],
      "text/plain": [
       "<IPython.core.display.HTML object>"
      ]
     },
     "metadata": {},
     "output_type": "display_data"
    },
    {
     "name": "stdout",
     "output_type": "stream",
     "text": [
      "100 estimators, max depth 10\n",
      "MAPE: 0.18 MedAPE: 0.1181 MSE:719719.8749876076\n",
      "Model saved to ../models/idealista18_madrid_decisiontree_UNITPRICE_depth-10.pickle (43.04 KB)\n"
     ]
    },
    {
     "data": {
      "text/html": [],
      "text/plain": [
       "<IPython.core.display.HTML object>"
      ]
     },
     "metadata": {},
     "output_type": "display_data"
    },
    {
     "data": {
      "text/html": [
       "<br>    <style><br>        .wandb-row {<br>            display: flex;<br>            flex-direction: row;<br>            flex-wrap: wrap;<br>            justify-content: flex-start;<br>            width: 100%;<br>        }<br>        .wandb-col {<br>            display: flex;<br>            flex-direction: column;<br>            flex-basis: 100%;<br>            flex: 1;<br>            padding: 10px;<br>        }<br>    </style><br><div class=\"wandb-row\"><div class=\"wandb-col\"><h3>Run history:</h3><br/><table class=\"wandb\"><tr><td>mae</td><td>▁</td></tr><tr><td>mape</td><td>▁</td></tr><tr><td>max_depth</td><td>▁</td></tr><tr><td>medape</td><td>▁</td></tr><tr><td>mse</td><td>▁</td></tr><tr><td>n_estimators</td><td>▁</td></tr><tr><td>n_test</td><td>▁</td></tr><tr><td>n_train</td><td>▁</td></tr><tr><td>r2</td><td>▁</td></tr><tr><td>random_state</td><td>▁</td></tr></table><br/></div><div class=\"wandb-col\"><h3>Run summary:</h3><br/><table class=\"wandb\"><tr><td>mae</td><td>589.6656</td></tr><tr><td>mape</td><td>0.17759</td></tr><tr><td>max_depth</td><td>10</td></tr><tr><td>medape</td><td>0.11808</td></tr><tr><td>mse</td><td>719719.87499</td></tr><tr><td>n_estimators</td><td>100</td></tr><tr><td>n_test</td><td>15161</td></tr><tr><td>n_train</td><td>60642</td></tr><tr><td>r2</td><td>0.75334</td></tr><tr><td>random_state</td><td>42</td></tr></table><br/></div></div>"
      ],
      "text/plain": [
       "<IPython.core.display.HTML object>"
      ]
     },
     "metadata": {},
     "output_type": "display_data"
    },
    {
     "data": {
      "text/html": [
       " View run <strong style=\"color:#cdcd00\">drawn-valley-5</strong> at: <a href='https://wandb.ai/davidreyblanco-uned-universidad-nacional-de-educaci-n-a-/idealista18_madrid_decisiontree_UNITPRICE_mds9/runs/epfhbfyo' target=\"_blank\">https://wandb.ai/davidreyblanco-uned-universidad-nacional-de-educaci-n-a-/idealista18_madrid_decisiontree_UNITPRICE_mds9/runs/epfhbfyo</a><br> View project at: <a href='https://wandb.ai/davidreyblanco-uned-universidad-nacional-de-educaci-n-a-/idealista18_madrid_decisiontree_UNITPRICE_mds9' target=\"_blank\">https://wandb.ai/davidreyblanco-uned-universidad-nacional-de-educaci-n-a-/idealista18_madrid_decisiontree_UNITPRICE_mds9</a><br>Synced 5 W&B file(s), 1 media file(s), 2 artifact file(s) and 0 other file(s)"
      ],
      "text/plain": [
       "<IPython.core.display.HTML object>"
      ]
     },
     "metadata": {},
     "output_type": "display_data"
    },
    {
     "data": {
      "text/html": [
       "Find logs at: <code>./wandb/run-20250604_224844-epfhbfyo/logs</code>"
      ],
      "text/plain": [
       "<IPython.core.display.HTML object>"
      ]
     },
     "metadata": {},
     "output_type": "display_data"
    },
    {
     "data": {
      "text/html": [
       "Tracking run with wandb version 0.19.11"
      ],
      "text/plain": [
       "<IPython.core.display.HTML object>"
      ]
     },
     "metadata": {},
     "output_type": "display_data"
    },
    {
     "data": {
      "text/html": [
       "Run data is saved locally in <code>/Users/davidreyblanco/Software/techweek/ml-idealista-18/notebooks/wandb/run-20250604_224849-gppaij2o</code>"
      ],
      "text/plain": [
       "<IPython.core.display.HTML object>"
      ]
     },
     "metadata": {},
     "output_type": "display_data"
    },
    {
     "data": {
      "text/html": [
       "Syncing run <strong><a href='https://wandb.ai/davidreyblanco-uned-universidad-nacional-de-educaci-n-a-/idealista18_madrid_decisiontree_UNITPRICE_mds9/runs/gppaij2o' target=\"_blank\">balmy-firefly-6</a></strong> to <a href='https://wandb.ai/davidreyblanco-uned-universidad-nacional-de-educaci-n-a-/idealista18_madrid_decisiontree_UNITPRICE_mds9' target=\"_blank\">Weights & Biases</a> (<a href='https://wandb.me/developer-guide' target=\"_blank\">docs</a>)<br>"
      ],
      "text/plain": [
       "<IPython.core.display.HTML object>"
      ]
     },
     "metadata": {},
     "output_type": "display_data"
    },
    {
     "data": {
      "text/html": [
       " View project at <a href='https://wandb.ai/davidreyblanco-uned-universidad-nacional-de-educaci-n-a-/idealista18_madrid_decisiontree_UNITPRICE_mds9' target=\"_blank\">https://wandb.ai/davidreyblanco-uned-universidad-nacional-de-educaci-n-a-/idealista18_madrid_decisiontree_UNITPRICE_mds9</a>"
      ],
      "text/plain": [
       "<IPython.core.display.HTML object>"
      ]
     },
     "metadata": {},
     "output_type": "display_data"
    },
    {
     "data": {
      "text/html": [
       " View run at <a href='https://wandb.ai/davidreyblanco-uned-universidad-nacional-de-educaci-n-a-/idealista18_madrid_decisiontree_UNITPRICE_mds9/runs/gppaij2o' target=\"_blank\">https://wandb.ai/davidreyblanco-uned-universidad-nacional-de-educaci-n-a-/idealista18_madrid_decisiontree_UNITPRICE_mds9/runs/gppaij2o</a>"
      ],
      "text/plain": [
       "<IPython.core.display.HTML object>"
      ]
     },
     "metadata": {},
     "output_type": "display_data"
    },
    {
     "name": "stdout",
     "output_type": "stream",
     "text": [
      "100 estimators, max depth 30\n",
      "MAPE: 0.18 MedAPE: 0.1022 MSE:870278.5097891707\n",
      "Model saved to ../models/idealista18_madrid_decisiontree_UNITPRICE_depth-30.pickle (1903.94 KB)\n"
     ]
    },
    {
     "data": {
      "text/html": [],
      "text/plain": [
       "<IPython.core.display.HTML object>"
      ]
     },
     "metadata": {},
     "output_type": "display_data"
    },
    {
     "data": {
      "text/html": [
       "<br>    <style><br>        .wandb-row {<br>            display: flex;<br>            flex-direction: row;<br>            flex-wrap: wrap;<br>            justify-content: flex-start;<br>            width: 100%;<br>        }<br>        .wandb-col {<br>            display: flex;<br>            flex-direction: column;<br>            flex-basis: 100%;<br>            flex: 1;<br>            padding: 10px;<br>        }<br>    </style><br><div class=\"wandb-row\"><div class=\"wandb-col\"><h3>Run history:</h3><br/><table class=\"wandb\"><tr><td>mae</td><td>▁</td></tr><tr><td>mape</td><td>▁</td></tr><tr><td>max_depth</td><td>▁</td></tr><tr><td>medape</td><td>▁</td></tr><tr><td>mse</td><td>▁</td></tr><tr><td>n_estimators</td><td>▁</td></tr><tr><td>n_test</td><td>▁</td></tr><tr><td>n_train</td><td>▁</td></tr><tr><td>r2</td><td>▁</td></tr><tr><td>random_state</td><td>▁</td></tr></table><br/></div><div class=\"wandb-col\"><h3>Run summary:</h3><br/><table class=\"wandb\"><tr><td>mae</td><td>600.72034</td></tr><tr><td>mape</td><td>0.17964</td></tr><tr><td>max_depth</td><td>30</td></tr><tr><td>medape</td><td>0.10219</td></tr><tr><td>mse</td><td>870278.50979</td></tr><tr><td>n_estimators</td><td>100</td></tr><tr><td>n_test</td><td>15161</td></tr><tr><td>n_train</td><td>60642</td></tr><tr><td>r2</td><td>0.70174</td></tr><tr><td>random_state</td><td>42</td></tr></table><br/></div></div>"
      ],
      "text/plain": [
       "<IPython.core.display.HTML object>"
      ]
     },
     "metadata": {},
     "output_type": "display_data"
    },
    {
     "data": {
      "text/html": [
       " View run <strong style=\"color:#cdcd00\">balmy-firefly-6</strong> at: <a href='https://wandb.ai/davidreyblanco-uned-universidad-nacional-de-educaci-n-a-/idealista18_madrid_decisiontree_UNITPRICE_mds9/runs/gppaij2o' target=\"_blank\">https://wandb.ai/davidreyblanco-uned-universidad-nacional-de-educaci-n-a-/idealista18_madrid_decisiontree_UNITPRICE_mds9/runs/gppaij2o</a><br> View project at: <a href='https://wandb.ai/davidreyblanco-uned-universidad-nacional-de-educaci-n-a-/idealista18_madrid_decisiontree_UNITPRICE_mds9' target=\"_blank\">https://wandb.ai/davidreyblanco-uned-universidad-nacional-de-educaci-n-a-/idealista18_madrid_decisiontree_UNITPRICE_mds9</a><br>Synced 5 W&B file(s), 1 media file(s), 2 artifact file(s) and 0 other file(s)"
      ],
      "text/plain": [
       "<IPython.core.display.HTML object>"
      ]
     },
     "metadata": {},
     "output_type": "display_data"
    },
    {
     "data": {
      "text/html": [
       "Find logs at: <code>./wandb/run-20250604_224849-gppaij2o/logs</code>"
      ],
      "text/plain": [
       "<IPython.core.display.HTML object>"
      ]
     },
     "metadata": {},
     "output_type": "display_data"
    }
   ],
   "source": [
    "import unidecode as unidecode\n",
    "import joblib\n",
    "from sklearn.ensemble import RandomForestRegressor\n",
    "from sklearn.model_selection import train_test_split\n",
    "from sklearn.metrics import mean_squared_error\n",
    "from sklearn.metrics import r2_score\n",
    "from sklearn.metrics import mean_absolute_error\n",
    "from sklearn.metrics import mean_absolute_percentage_error, median_absolute_error\n",
    "from sklearn.tree import DecisionTreeRegressor\n",
    "\n",
    "DATASET = \"idealista18\"\n",
    "TEAM_ENTITY = \"mds9\"  # Replace with your team entity\n",
    "ALGORITHM = \"Decision Tree\"\n",
    "algorithm_slug = unidecode.unidecode(ALGORITHM).lower().replace(\" \", \"\")\n",
    "PROJECT = f\"{DATASET}_{CITY.lower()}_{algorithm_slug}_{TARGET_COLUMN}_{TEAM_ENTITY.lower()}\"\n",
    "\n",
    "for max_depth in [5, 10, 30]:\n",
    "\n",
    "        # 3) Train some models\n",
    "        with wandb.init(project=PROJECT, config={\"algorithm\": ALGORITHM,\n",
    "                                                \"target\": TARGET_COLUMN,\n",
    "                                                \"city\": CITY,\n",
    "                                                \"dataset\": DATASET }) as run:\n",
    "\n",
    "            #\n",
    "            # Create a grid search for hyperparameters\n",
    "            #\n",
    "                random_state=42\n",
    "                print(f\"{n_estimators} estimators, max depth {max_depth}\")\n",
    "                model = DecisionTreeRegressor(max_depth=max_depth, random_state=random_state)\n",
    "                model.fit(X_train, y_train)\n",
    "                preds = model.predict(X_test)\n",
    "                mse = mean_squared_error(y_test, preds)\n",
    "                r2 = r2_score(y_test, preds)\n",
    "                mae = mean_absolute_error(y_test, preds)\n",
    "                mape = mean_absolute_percentage_error(y_test, preds)\n",
    "                medape = median_absolute_error(y_test, preds) / y_test.median()\n",
    "\n",
    "                print(f\"MAPE: {mape:.2f} MedAPE: {medape:.4f} MSE:{mse}\")\n",
    "\n",
    "                run.log({\n",
    "                    \"mse\": mse,\n",
    "                    \"r2\": r2,\n",
    "                    \"mape\": mape,\n",
    "                    \"medape\": medape,\n",
    "                    \"mae\": mae,\n",
    "                    \"random_state\": random_state,\n",
    "                    'n_train': len(X_train),\n",
    "                    'n_test': len(X_test),\n",
    "                    \"n_estimators\": n_estimators,\n",
    "                    \"max_depth\": max_depth, \n",
    "                })\n",
    "\n",
    "                # Create a model filename fingerprint\n",
    "                \n",
    "                model_fp = f\"depth-{max_depth}\"\n",
    "                model_artifact_name = f\"{DATASET}_{CITY.lower()}_{algorithm_slug}_{TARGET_COLUMN}_{model_fp}\"\n",
    "\n",
    "                model_filename = f\"../models/{model_artifact_name}.pickle\"\n",
    "                joblib.dump(model, model_filename, compress=('gzip', 3))\n",
    "                model_size = os.path.getsize(model_filename)\n",
    "                print(f\"Model saved to {model_filename} ({model_size / 1024:.2f} KB)\")\n",
    "\n",
    "                # Guardamos el modelo en el repositorio de modelos de W&B = idealista18_madrid_random_forest\n",
    "                model_artifact_name = f'idealista18_madrid_{ALGORITHM.lower().replace(\" \", \"_\")}'\n",
    "\n",
    "                artifact = wandb.Artifact(name=model_artifact_name, \n",
    "                                        type=\"model\", \n",
    "                                        description=f\"{ALGORITHM} model for Madrid housing prices\")\n",
    "\n",
    "                artifact.metadata[\"tags\"] = [model_fp, CITY, DATASET]\n",
    "                artifact.metadata[\"aliases\"] = [model_fp]\n",
    "                artifact.add_file(local_path=model_filename)\n",
    "                artifact.save()\n",
    "                run.log_artifact(artifact, aliases=[\"latest\", \"production\", model_fp])\n",
    "\n",
    "                df = pd.DataFrame({\n",
    "                    \"actual_price\": y_test,\n",
    "                    \"predicted_price\": preds,\n",
    "                    \"error\": abs(y_test - preds),            # e.g. point‐size or color\n",
    "                })\n",
    "                df = wandb.Table(dataframe=df)\n",
    "\n",
    "                # 1) Simple scatter with axis labels and a color dimension (error)\n",
    "                run.log({\n",
    "                    \"price_scatter\": wandb.plot.scatter(\n",
    "                        df,\n",
    "                        x=\"actual_price\",\n",
    "                        y=\"predicted_price\",\n",
    "                        title=\"Predicted vs Actual Price\",\n",
    "                        #xname=\"Actual (EUR)\",\n",
    "                        #yname=\"Predicted (EUR)\"\n",
    "                    )\n",
    "                })\n",
    "\n",
    "                # 2) If you want to color‐code each point by “error”:\n",
    "                run.log({\n",
    "                    \"price_scatter_colored\": wandb.plot.scatter(\n",
    "                        df,\n",
    "                        x=\"actual_price\",\n",
    "                        y=\"predicted_price\",\n",
    "                        title=\"Predicted vs Actual Price (colored by error)\",\n",
    "                        #xname=\"Actual (EUR)\",\n",
    "                        #yname=\"Predicted (EUR)\",\n",
    "                        #color=\"error\",    # column in df\n",
    "                        #colorscale=\"Viridis\"  # any Plotly colorscale name\n",
    "                    )\n",
    "                })\n"
   ]
  },
  {
   "cell_type": "markdown",
   "id": "8bd45500",
   "metadata": {},
   "source": [
    "## Simple regression"
   ]
  },
  {
   "cell_type": "code",
   "execution_count": 20,
   "id": "1c886a23",
   "metadata": {},
   "outputs": [
    {
     "name": "stderr",
     "output_type": "stream",
     "text": [
      "\u001b[34m\u001b[1mwandb\u001b[0m: \u001b[33mWARNING\u001b[0m If you're specifying your api key in code, ensure this code is not shared publicly.\n",
      "\u001b[34m\u001b[1mwandb\u001b[0m: \u001b[33mWARNING\u001b[0m Consider setting the WANDB_API_KEY environment variable, or running `wandb login` from the command line.\n",
      "\u001b[34m\u001b[1mwandb\u001b[0m: Appending key for api.wandb.ai to your netrc file: /Users/davidreyblanco/.netrc\n"
     ]
    },
    {
     "data": {
      "text/html": [
       "Tracking run with wandb version 0.19.11"
      ],
      "text/plain": [
       "<IPython.core.display.HTML object>"
      ]
     },
     "metadata": {},
     "output_type": "display_data"
    },
    {
     "data": {
      "text/html": [
       "Run data is saved locally in <code>/Users/davidreyblanco/Software/techweek/ml-idealista-18/notebooks/wandb/run-20250604_224855-8f89mlgj</code>"
      ],
      "text/plain": [
       "<IPython.core.display.HTML object>"
      ]
     },
     "metadata": {},
     "output_type": "display_data"
    },
    {
     "data": {
      "text/html": [
       "Syncing run <strong><a href='https://wandb.ai/davidreyblanco-uned-universidad-nacional-de-educaci-n-a-/idealista18_madrid_multipleregression_UNITPRICE_mds9/runs/8f89mlgj' target=\"_blank\">fearless-silence-3</a></strong> to <a href='https://wandb.ai/davidreyblanco-uned-universidad-nacional-de-educaci-n-a-/idealista18_madrid_multipleregression_UNITPRICE_mds9' target=\"_blank\">Weights & Biases</a> (<a href='https://wandb.me/developer-guide' target=\"_blank\">docs</a>)<br>"
      ],
      "text/plain": [
       "<IPython.core.display.HTML object>"
      ]
     },
     "metadata": {},
     "output_type": "display_data"
    },
    {
     "data": {
      "text/html": [
       " View project at <a href='https://wandb.ai/davidreyblanco-uned-universidad-nacional-de-educaci-n-a-/idealista18_madrid_multipleregression_UNITPRICE_mds9' target=\"_blank\">https://wandb.ai/davidreyblanco-uned-universidad-nacional-de-educaci-n-a-/idealista18_madrid_multipleregression_UNITPRICE_mds9</a>"
      ],
      "text/plain": [
       "<IPython.core.display.HTML object>"
      ]
     },
     "metadata": {},
     "output_type": "display_data"
    },
    {
     "data": {
      "text/html": [
       " View run at <a href='https://wandb.ai/davidreyblanco-uned-universidad-nacional-de-educaci-n-a-/idealista18_madrid_multipleregression_UNITPRICE_mds9/runs/8f89mlgj' target=\"_blank\">https://wandb.ai/davidreyblanco-uned-universidad-nacional-de-educaci-n-a-/idealista18_madrid_multipleregression_UNITPRICE_mds9/runs/8f89mlgj</a>"
      ],
      "text/plain": [
       "<IPython.core.display.HTML object>"
      ]
     },
     "metadata": {},
     "output_type": "display_data"
    },
    {
     "name": "stdout",
     "output_type": "stream",
     "text": [
      "100 estimators, max depth 30\n",
      "MAPE: 0.26 MedAPE: 0.1846 MSE:1148602.965288902\n",
      "Model saved to ../models/idealista18_madrid_multipleregression_UNITPRICE_plain.pickle (1.44 KB)\n"
     ]
    },
    {
     "data": {
      "text/html": [],
      "text/plain": [
       "<IPython.core.display.HTML object>"
      ]
     },
     "metadata": {},
     "output_type": "display_data"
    },
    {
     "data": {
      "text/html": [
       "<br>    <style><br>        .wandb-row {<br>            display: flex;<br>            flex-direction: row;<br>            flex-wrap: wrap;<br>            justify-content: flex-start;<br>            width: 100%;<br>        }<br>        .wandb-col {<br>            display: flex;<br>            flex-direction: column;<br>            flex-basis: 100%;<br>            flex: 1;<br>            padding: 10px;<br>        }<br>    </style><br><div class=\"wandb-row\"><div class=\"wandb-col\"><h3>Run history:</h3><br/><table class=\"wandb\"><tr><td>mae</td><td>▁</td></tr><tr><td>mape</td><td>▁</td></tr><tr><td>max_depth</td><td>▁</td></tr><tr><td>medape</td><td>▁</td></tr><tr><td>mse</td><td>▁</td></tr><tr><td>n_estimators</td><td>▁</td></tr><tr><td>n_test</td><td>▁</td></tr><tr><td>n_train</td><td>▁</td></tr><tr><td>r2</td><td>▁</td></tr><tr><td>random_state</td><td>▁</td></tr></table><br/></div><div class=\"wandb-col\"><h3>Run summary:</h3><br/><table class=\"wandb\"><tr><td>mae</td><td>798.64719</td></tr><tr><td>mape</td><td>0.26446</td></tr><tr><td>max_depth</td><td>30</td></tr><tr><td>medape</td><td>0.1846</td></tr><tr><td>mse</td><td>1148602.96529</td></tr><tr><td>n_estimators</td><td>100</td></tr><tr><td>n_test</td><td>15161</td></tr><tr><td>n_train</td><td>60642</td></tr><tr><td>r2</td><td>0.60635</td></tr><tr><td>random_state</td><td>42</td></tr></table><br/></div></div>"
      ],
      "text/plain": [
       "<IPython.core.display.HTML object>"
      ]
     },
     "metadata": {},
     "output_type": "display_data"
    },
    {
     "data": {
      "text/html": [
       " View run <strong style=\"color:#cdcd00\">fearless-silence-3</strong> at: <a href='https://wandb.ai/davidreyblanco-uned-universidad-nacional-de-educaci-n-a-/idealista18_madrid_multipleregression_UNITPRICE_mds9/runs/8f89mlgj' target=\"_blank\">https://wandb.ai/davidreyblanco-uned-universidad-nacional-de-educaci-n-a-/idealista18_madrid_multipleregression_UNITPRICE_mds9/runs/8f89mlgj</a><br> View project at: <a href='https://wandb.ai/davidreyblanco-uned-universidad-nacional-de-educaci-n-a-/idealista18_madrid_multipleregression_UNITPRICE_mds9' target=\"_blank\">https://wandb.ai/davidreyblanco-uned-universidad-nacional-de-educaci-n-a-/idealista18_madrid_multipleregression_UNITPRICE_mds9</a><br>Synced 5 W&B file(s), 1 media file(s), 2 artifact file(s) and 0 other file(s)"
      ],
      "text/plain": [
       "<IPython.core.display.HTML object>"
      ]
     },
     "metadata": {},
     "output_type": "display_data"
    },
    {
     "data": {
      "text/html": [
       "Find logs at: <code>./wandb/run-20250604_224855-8f89mlgj/logs</code>"
      ],
      "text/plain": [
       "<IPython.core.display.HTML object>"
      ]
     },
     "metadata": {},
     "output_type": "display_data"
    }
   ],
   "source": [
    "import unidecode as unidecode\n",
    "import joblib\n",
    "from sklearn.ensemble import RandomForestRegressor\n",
    "from sklearn.model_selection import train_test_split\n",
    "from sklearn.metrics import mean_squared_error\n",
    "from sklearn.metrics import r2_score\n",
    "from sklearn.metrics import mean_absolute_error\n",
    "from sklearn.metrics import mean_absolute_percentage_error, median_absolute_error\n",
    "from sklearn.linear_model import LinearRegression\n",
    "\n",
    "TEAM_ENTITY = \"mds9\"  # Replace with your team entity\n",
    "ALGORITHM = \"Multiple Regression\"\n",
    "CITY = \"Madrid\"\n",
    "DATASET = \"idealista18\"\n",
    "algorithm_slug = unidecode.unidecode(ALGORITHM).lower().replace(\" \", \"\")\n",
    "PROJECT = f\"{DATASET}_{CITY.lower()}_{algorithm_slug}_{TARGET_COLUMN}_{TEAM_ENTITY.lower()}\"\n",
    "\n",
    "\n",
    "# 1) Grab the W&B token\n",
    "wandb_token = os.getenv(\"WANDB_API_KEY\")\n",
    "if wandb_token is None:\n",
    "    raise RuntimeError(\"WANDB_API_KEY not found in environment. Did you create a .env with that variable?\")\n",
    "\n",
    "# 2) Login with the token\n",
    "wandb.login(key=wandb_token)\n",
    "\n",
    "\n",
    "    # 3) Train some models\n",
    "with wandb.init(project=PROJECT, config={\"algorithm\": ALGORITHM,\n",
    "                                                \"target\": TARGET_COLUMN,\n",
    "                                                \"city\": CITY,\n",
    "                                                \"dataset\": DATASET }) as run:\n",
    "\n",
    "            #\n",
    "            # Create a grid search for hyperparameters\n",
    "            #\n",
    "                random_state=42\n",
    "                print(f\"{n_estimators} estimators, max depth {max_depth}\")\n",
    "                model = LinearRegression()\n",
    "                # Fill NA values in X_train and X_test with column means\n",
    "                X_train_lr = X_train.fillna(X_train.mean())\n",
    "                X_test_lr = X_test.fillna(X_train.mean())\n",
    "                model.fit(X_train_lr, y_train)\n",
    "                preds = model.predict(X_test_lr)\n",
    "                mse = mean_squared_error(y_test, preds)\n",
    "                r2 = r2_score(y_test, preds)\n",
    "                mae = mean_absolute_error(y_test, preds)\n",
    "                mape = mean_absolute_percentage_error(y_test, preds)\n",
    "                medape = median_absolute_error(y_test, preds) / y_test.median()\n",
    "\n",
    "                print(f\"MAPE: {mape:.2f} MedAPE: {medape:.4f} MSE:{mse}\")\n",
    "\n",
    "                run.log({\n",
    "                    \"mse\": mse,\n",
    "                    \"r2\": r2,\n",
    "                    \"mape\": mape,\n",
    "                    \"medape\": medape,\n",
    "                    \"mae\": mae,\n",
    "                    \"random_state\": random_state,\n",
    "                    'n_train': len(X_train),\n",
    "                    'n_test': len(X_test),\n",
    "                    \"n_estimators\": n_estimators,\n",
    "                    \"max_depth\": max_depth, \n",
    "                })\n",
    "\n",
    "                # Create a model filename fingerprint\n",
    "                \n",
    "                model_fp = f\"plain\"\n",
    "                model_artifact_name = f\"{DATASET}_{CITY.lower()}_{algorithm_slug}_{TARGET_COLUMN}_{model_fp}\"\n",
    "\n",
    "                model_filename = f\"../models/{model_artifact_name}.pickle\"\n",
    "                joblib.dump(model, model_filename, compress=('gzip', 3))\n",
    "                model_size = os.path.getsize(model_filename)\n",
    "                print(f\"Model saved to {model_filename} ({model_size / 1024:.2f} KB)\")\n",
    "\n",
    "                # Guardamos el modelo en el repositorio de modelos de W&B\n",
    "                model_artifact_name = f'idealista18_madrid_{ALGORITHM.lower().replace(\" \", \"_\")}'\n",
    "\n",
    "                artifact = wandb.Artifact(name=model_artifact_name, \n",
    "                                        type=\"model\", \n",
    "                                        description=f\"{ALGORITHM} model for Madrid housing prices\")\n",
    "                artifact.metadata[\"tags\"] = [model_fp, CITY, DATASET]\n",
    "                artifact.metadata[\"aliases\"] = [model_fp]\n",
    "                artifact.add_file(local_path=model_filename)\n",
    "                artifact.save()\n",
    "                run.log_artifact(artifact, aliases=[\"latest\", \"production\", model_fp])\n",
    "\n",
    "                df = pd.DataFrame({\n",
    "                    \"actual_price\": y_test,\n",
    "                    \"predicted_price\": preds,\n",
    "                    \"error\": abs(y_test - preds),            # e.g. point‐size or color\n",
    "                })\n",
    "                df = wandb.Table(dataframe=df)\n",
    "\n",
    "                # 1) Simple scatter with axis labels and a color dimension (error)\n",
    "                run.log({\n",
    "                    \"price_scatter\": wandb.plot.scatter(\n",
    "                        df,\n",
    "                        x=\"actual_price\",\n",
    "                        y=\"predicted_price\",\n",
    "                        title=\"Predicted vs Actual Price\",\n",
    "                        #xname=\"Actual (EUR)\",\n",
    "                        #yname=\"Predicted (EUR)\"\n",
    "                    )\n",
    "                })\n",
    "\n",
    "                # 2) If you want to color‐code each point by “error”:\n",
    "                run.log({\n",
    "                    \"price_scatter_colored\": wandb.plot.scatter(\n",
    "                        df,\n",
    "                        x=\"actual_price\",\n",
    "                        y=\"predicted_price\",\n",
    "                        title=\"Predicted vs Actual Price (colored by error)\",\n",
    "                        #xname=\"Actual (EUR)\",\n",
    "                        #yname=\"Predicted (EUR)\",\n",
    "                        #color=\"error\",    # column in df\n",
    "                        #colorscale=\"Viridis\"  # any Plotly colorscale name\n",
    "                    )\n",
    "                })"
   ]
  },
  {
   "cell_type": "markdown",
   "id": "c1fd4fa4",
   "metadata": {},
   "source": [
    "# Uso de un \"artefacto\" de tipo modelo\n",
    "\n",
    "Ahora descargamos el artefacto desde el proyecto, tomamos la última versión del artefacto"
   ]
  },
  {
   "cell_type": "code",
   "execution_count": 21,
   "id": "8916e264",
   "metadata": {},
   "outputs": [
    {
     "name": "stdout",
     "output_type": "stream",
     "text": [
      "📁 Collection: idealista18_madrid_random_forest - Project: idealista18_madrid_randomforest_UNITPRICE_mds9\n",
      "  🔹 Artifact: idealista18_madrid_random_forest:v12 - Version: v12\n",
      "  🔹 Tags: ['estimators-50_depth-5', 'Madrid', 'idealista18']\n",
      "  🔹 Artifact: idealista18_madrid_random_forest:v11 - Version: v11\n",
      "  🔹 Tags: ['estimators-20_depth-10', 'Madrid', 'idealista18']\n",
      "  🔹 Artifact: idealista18_madrid_random_forest:v10 - Version: v10\n",
      "  🔹 Tags: ['estimators-20_depth-5', 'Madrid', 'idealista18']\n",
      "  🔹 Artifact: idealista18_madrid_random_forest:v9 - Version: v9\n",
      "  🔹 Tags: ['estimators-10_depth-10', 'Madrid', 'idealista18']\n",
      "  🔹 Artifact: idealista18_madrid_random_forest:v8 - Version: v8\n",
      "  🔹 Tags: ['estimators-10_depth-5', 'Madrid', 'idealista18']\n",
      "  🔹 Artifact: idealista18_madrid_random_forest:v7 - Version: v7\n",
      "  🔹 Tags: ['estimators-100_depth-10', 'Madrid', 'idealista18']\n",
      "  🔹 Artifact: idealista18_madrid_random_forest:v6 - Version: v6\n",
      "  🔹 Tags: ['estimators-100_depth-5', 'Madrid', 'idealista18']\n",
      "  🔸 Found Target configuration found: estimators-100_depth-5\n"
     ]
    }
   ],
   "source": [
    "tag = \"latest\"  # or any specific tag you want to use\n",
    "\n",
    "TEAM_ENTITY = \"mds9\"  # Replace with your team entity\n",
    "ALGORITHM = \"Random Forest\"\n",
    "DATASET = \"idealista18\"\n",
    "algorithm_slug = unidecode.unidecode(ALGORITHM).lower().replace(\" \", \"\")\n",
    "PROJECT = f\"{DATASET}_{CITY.lower()}_{algorithm_slug}_{TARGET_COLUMN}_{TEAM_ENTITY.lower()}\"\n",
    "\n",
    "#\n",
    "#   Buscamos una configuración de modelo específica\n",
    "#\n",
    "target_configuration = \"estimators-100_depth-5\"\n",
    "\n",
    "api = wandb.Api()\n",
    "\n",
    "collections = api.artifact_collections(project_name = PROJECT, type_name = 'model')\n",
    "\n",
    "\n",
    "target_model = None\n",
    "# Get the list of collections\n",
    "for collection in collections:\n",
    "    print(f\"📁 Collection: {collection.name} - Project: {PROJECT}\")\n",
    "    \n",
    "    # Now iterate over artifacts in the collection\n",
    "    for artifact in collection.artifacts():\n",
    "        print(f\"  🔹 Artifact: {artifact.name} - Version: {artifact.version}\")\n",
    "        print(f\"  🔹 Tags: {artifact.metadata['tags']}\")\n",
    "        if target_configuration in artifact.metadata['tags']:\n",
    "            target_model = artifact\n",
    "            print(f\"  🔸 Found Target configuration found: {target_configuration}\")\n",
    "            break\n"
   ]
  },
  {
   "cell_type": "code",
   "execution_count": 22,
   "id": "074438b0",
   "metadata": {},
   "outputs": [
    {
     "name": "stderr",
     "output_type": "stream",
     "text": [
      "\u001b[34m\u001b[1mwandb\u001b[0m:   1 of 1 files downloaded.  \n"
     ]
    },
    {
     "name": "stdout",
     "output_type": "stream",
     "text": [
      "Model file found: idealista18_madrid_randomforest_UNITPRICE_estimators-100_depth-5.pickle\n",
      "Inference complete. Example predictions: [7018.54468806 1864.30063768 1567.57233307 2380.41820296 2809.19881021]\n"
     ]
    }
   ],
   "source": [
    "if target_model is not None:\n",
    "    artifact_dir = artifact.download()\n",
    "    files = os.listdir(artifact_dir)\n",
    "    model_filename = files[0]  \n",
    "    print(f\"Model file found: {model_filename}\")\n",
    "\n",
    "    loaded_model = joblib.load(os.path.join(artifact_dir, model_filename))\n",
    "\n",
    "    # Run inference\n",
    "    loaded_preds = loaded_model.predict(X_test)\n",
    "    print(\"Inference complete. Example predictions:\", loaded_preds[:5])\n",
    "else:\n",
    "    print(f\"❌ Target configuration '{target_configuration}' not found in any artifacts.\")\n"
   ]
  },
  {
   "cell_type": "markdown",
   "id": "0f349cef",
   "metadata": {},
   "source": [
    "Ya tenemos el mismo método en la librería"
   ]
  },
  {
   "cell_type": "code",
   "execution_count": 23,
   "id": "55f65aa7",
   "metadata": {},
   "outputs": [
    {
     "name": "stderr",
     "output_type": "stream",
     "text": [
      "\u001b[34m\u001b[1mwandb\u001b[0m:   1 of 1 files downloaded.  \n"
     ]
    },
    {
     "name": "stdout",
     "output_type": "stream",
     "text": [
      "Inference complete. Example predictions: [7018.54468806 1864.30063768 1567.57233307 2380.41820296 2809.19881021]\n"
     ]
    }
   ],
   "source": [
    "loaded_model = util.get_wandb_model(PROJECT, target_configuration, debug=False)\n",
    "\n",
    "loaded_preds = loaded_model.predict(X_test)\n",
    "print(\"Inference complete. Example predictions:\", loaded_preds[:5])"
   ]
  },
  {
   "cell_type": "markdown",
   "id": "78a87eec",
   "metadata": {},
   "source": [
    "## Descarga de datos\n",
    "\n",
    "Descargamos los datos desde la utilidad"
   ]
  },
  {
   "cell_type": "code",
   "execution_count": 24,
   "id": "c9975d10",
   "metadata": {},
   "outputs": [
    {
     "data": {
      "text/html": [
       "Tracking run with wandb version 0.19.11"
      ],
      "text/plain": [
       "<IPython.core.display.HTML object>"
      ]
     },
     "metadata": {},
     "output_type": "display_data"
    },
    {
     "data": {
      "text/html": [
       "Run data is saved locally in <code>/Users/davidreyblanco/Software/techweek/ml-idealista-18/notebooks/wandb/run-20250604_224903-x1kw5qn9</code>"
      ],
      "text/plain": [
       "<IPython.core.display.HTML object>"
      ]
     },
     "metadata": {},
     "output_type": "display_data"
    },
    {
     "data": {
      "text/html": [
       "Syncing run <strong><a href='https://wandb.ai/davidreyblanco-uned-universidad-nacional-de-educaci-n-a-/idealista18_madrid_dataset_raw_mds9/runs/x1kw5qn9' target=\"_blank\">drawn-fog-10</a></strong> to <a href='https://wandb.ai/davidreyblanco-uned-universidad-nacional-de-educaci-n-a-/idealista18_madrid_dataset_raw_mds9' target=\"_blank\">Weights & Biases</a> (<a href='https://wandb.me/developer-guide' target=\"_blank\">docs</a>)<br>"
      ],
      "text/plain": [
       "<IPython.core.display.HTML object>"
      ]
     },
     "metadata": {},
     "output_type": "display_data"
    },
    {
     "data": {
      "text/html": [
       " View project at <a href='https://wandb.ai/davidreyblanco-uned-universidad-nacional-de-educaci-n-a-/idealista18_madrid_dataset_raw_mds9' target=\"_blank\">https://wandb.ai/davidreyblanco-uned-universidad-nacional-de-educaci-n-a-/idealista18_madrid_dataset_raw_mds9</a>"
      ],
      "text/plain": [
       "<IPython.core.display.HTML object>"
      ]
     },
     "metadata": {},
     "output_type": "display_data"
    },
    {
     "data": {
      "text/html": [
       " View run at <a href='https://wandb.ai/davidreyblanco-uned-universidad-nacional-de-educaci-n-a-/idealista18_madrid_dataset_raw_mds9/runs/x1kw5qn9' target=\"_blank\">https://wandb.ai/davidreyblanco-uned-universidad-nacional-de-educaci-n-a-/idealista18_madrid_dataset_raw_mds9/runs/x1kw5qn9</a>"
      ],
      "text/plain": [
       "<IPython.core.display.HTML object>"
      ]
     },
     "metadata": {},
     "output_type": "display_data"
    },
    {
     "name": "stderr",
     "output_type": "stream",
     "text": [
      "\u001b[34m\u001b[1mwandb\u001b[0m:   4 of 4 files downloaded.  \n"
     ]
    },
    {
     "data": {
      "text/html": [],
      "text/plain": [
       "<IPython.core.display.HTML object>"
      ]
     },
     "metadata": {},
     "output_type": "display_data"
    },
    {
     "data": {
      "text/html": [
       " View run <strong style=\"color:#cdcd00\">drawn-fog-10</strong> at: <a href='https://wandb.ai/davidreyblanco-uned-universidad-nacional-de-educaci-n-a-/idealista18_madrid_dataset_raw_mds9/runs/x1kw5qn9' target=\"_blank\">https://wandb.ai/davidreyblanco-uned-universidad-nacional-de-educaci-n-a-/idealista18_madrid_dataset_raw_mds9/runs/x1kw5qn9</a><br> View project at: <a href='https://wandb.ai/davidreyblanco-uned-universidad-nacional-de-educaci-n-a-/idealista18_madrid_dataset_raw_mds9' target=\"_blank\">https://wandb.ai/davidreyblanco-uned-universidad-nacional-de-educaci-n-a-/idealista18_madrid_dataset_raw_mds9</a><br>Synced 5 W&B file(s), 0 media file(s), 0 artifact file(s) and 0 other file(s)"
      ],
      "text/plain": [
       "<IPython.core.display.HTML object>"
      ]
     },
     "metadata": {},
     "output_type": "display_data"
    },
    {
     "data": {
      "text/html": [
       "Find logs at: <code>./wandb/run-20250604_224903-x1kw5qn9/logs</code>"
      ],
      "text/plain": [
       "<IPython.core.display.HTML object>"
      ]
     },
     "metadata": {},
     "output_type": "display_data"
    }
   ],
   "source": [
    "X_train, X_test, y_train, y_test = util.get_dataset(f\"{DATASET}_splits:latest\", DATASET_PROJECT, debug=False)"
   ]
  }
 ],
 "metadata": {
  "kernelspec": {
   "display_name": ".venv",
   "language": "python",
   "name": "python3"
  },
  "language_info": {
   "codemirror_mode": {
    "name": "ipython",
    "version": 3
   },
   "file_extension": ".py",
   "mimetype": "text/x-python",
   "name": "python",
   "nbconvert_exporter": "python",
   "pygments_lexer": "ipython3",
   "version": "3.12.8"
  }
 },
 "nbformat": 4,
 "nbformat_minor": 5
}
