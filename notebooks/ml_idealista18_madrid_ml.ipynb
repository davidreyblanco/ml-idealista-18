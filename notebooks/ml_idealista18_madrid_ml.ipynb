{
 "cells": [
  {
   "cell_type": "markdown",
   "metadata": {},
   "source": [
    "# ML Model for Madrid\n",
    "\n",
    "This notebook builds a RandomForest model on the Madrid dataset. It removes non-target PRICE columns and uses Weights & Biases (wandb) for experiment tracking."
   ]
  },
  {
   "cell_type": "code",
   "execution_count": 27,
   "metadata": {},
   "outputs": [],
   "source": [
    "import sys\n",
    "import os\n",
    "import pandas as pd\n",
    "from dotenv import load_dotenv\n",
    "\n",
    "load_dotenv() # Load the environment variables from .env file\n",
    "\n",
    "\n",
    "import importlib\n",
    "# Añadir la ruta al directorio src para importar módulos personalizados\n",
    "sys.path.append(\"../src\")\n",
    "# Unload the module if already loaded\n",
    "if \"idealista18.loader\" in sys.modules:\n",
    "    importlib.reload(sys.modules[\"idealista18.loader\"])\n",
    "else:\n",
    "    import idealista18.loader as loader\n",
    "\n",
    "\n",
    "from idealista18 import loader"
   ]
  },
  {
   "cell_type": "code",
   "execution_count": 28,
   "metadata": {},
   "outputs": [
    {
     "name": "stdout",
     "output_type": "stream",
     "text": [
      "Data loaded:\n",
      "                 ASSETID  PERIOD   PRICE    UNITPRICE ADTYPOLOGYID  \\\n",
      "0  A15019136831406238029  201803  126000  2680.851064         HOME   \n",
      "1   A6677225905472065344  201803  235000  4351.851852         HOME   \n",
      "2  A13341979748618524775  201803  373000  4973.333333         HOME   \n",
      "3   A4775182175615276542  201803  284000  5916.666667         HOME   \n",
      "4   A2492087730711701973  201803  228000  4560.000000         HOME   \n",
      "\n",
      "  ADOPERATIONID  CONSTRUCTEDAREA  ROOMNUMBER  BATHNUMBER  HASTERRACE  ...  \\\n",
      "0          SALE               47           1           1           0  ...   \n",
      "1          SALE               54           1           1           0  ...   \n",
      "2          SALE               75           2           1           0  ...   \n",
      "3          SALE               48           1           1           0  ...   \n",
      "4          SALE               50           0           1           0  ...   \n",
      "\n",
      "   BUILTTYPEID_2  BUILTTYPEID_3  DISTANCE_TO_CITY_CENTER  DISTANCE_TO_METRO  \\\n",
      "0              1              0                 8.058429           0.872075   \n",
      "1              0              1                 0.876369           0.116382   \n",
      "2              0              1                 0.907479           0.139109   \n",
      "3              0              1                 0.845462           0.144299   \n",
      "4              0              1                 1.250231           0.337098   \n",
      "\n",
      "   DISTANCE_TO_CASTELLANA  LONGITUDE   LATITUDE  CITYNAME  ADTYPOLOGY  \\\n",
      "0                6.868677  -3.766933  40.362485    Madrid        HOME   \n",
      "1                1.544125  -3.710725  40.422430    Madrid        HOME   \n",
      "2                1.608444  -3.711571  40.422190    Madrid        HOME   \n",
      "3                1.516166  -3.710440  40.422251    Madrid        HOME   \n",
      "4                1.794136  -3.714340  40.408741    Madrid        HOME   \n",
      "\n",
      "   ADOPERATION  \n",
      "0         SALE  \n",
      "1         SALE  \n",
      "2         SALE  \n",
      "3         SALE  \n",
      "4         SALE  \n",
      "\n",
      "[5 rows x 46 columns]\n"
     ]
    }
   ],
   "source": [
    "# Load and clean data for Madrid\n",
    "df = loader.load_data(\"Madrid\")\n",
    "df = loader.remove_geo_outliers(df, zscore=5)\n",
    "print(\"Data loaded:\")\n",
    "print(df.head())"
   ]
  },
  {
   "cell_type": "code",
   "execution_count": 29,
   "id": "d782375c",
   "metadata": {},
   "outputs": [
    {
     "data": {
      "text/plain": [
       "Index(['ASSETID', 'PERIOD', 'PRICE', 'UNITPRICE', 'ADTYPOLOGYID',\n",
       "       'ADOPERATIONID', 'CONSTRUCTEDAREA', 'ROOMNUMBER', 'BATHNUMBER',\n",
       "       'HASTERRACE', 'HASLIFT', 'HASAIRCONDITIONING', 'AMENITYID',\n",
       "       'HASPARKINGSPACE', 'ISPARKINGSPACEINCLUDEDINPRICE', 'PARKINGSPACEPRICE',\n",
       "       'HASNORTHORIENTATION', 'HASSOUTHORIENTATION', 'HASEASTORIENTATION',\n",
       "       'HASWESTORIENTATION', 'HASBOXROOM', 'HASWARDROBE', 'HASSWIMMINGPOOL',\n",
       "       'HASDOORMAN', 'HASGARDEN', 'ISDUPLEX', 'ISSTUDIO', 'ISINTOPFLOOR',\n",
       "       'CONSTRUCTIONYEAR', 'FLOORCLEAN', 'FLATLOCATIONID',\n",
       "       'CADCONSTRUCTIONYEAR', 'CADMAXBUILDINGFLOOR', 'CADDWELLINGCOUNT',\n",
       "       'CADASTRALQUALITYID', 'BUILTTYPEID_1', 'BUILTTYPEID_2', 'BUILTTYPEID_3',\n",
       "       'DISTANCE_TO_CITY_CENTER', 'DISTANCE_TO_METRO',\n",
       "       'DISTANCE_TO_CASTELLANA', 'LONGITUDE', 'LATITUDE', 'CITYNAME',\n",
       "       'ADTYPOLOGY', 'ADOPERATION'],\n",
       "      dtype='object')"
      ]
     },
     "execution_count": 29,
     "metadata": {},
     "output_type": "execute_result"
    }
   ],
   "source": [
    "df.columns"
   ]
  },
  {
   "cell_type": "code",
   "execution_count": 30,
   "metadata": {},
   "outputs": [
    {
     "name": "stdout",
     "output_type": "stream",
     "text": [
      "Dropping columns: ['ASSETID', 'PERIOD', 'PRICE', 'ADTYPOLOGYID', 'ADOPERATIONID', 'ISPARKINGSPACEINCLUDEDINPRICE', 'PARKINGSPACEPRICE', 'CITYNAME', 'ADTYPOLOGY', 'ADOPERATION']\n"
     ]
    }
   ],
   "source": [
    "TARGET_COLUMN = \"UNITPRICE\"\n",
    "#\n",
    "# 1) Remove all PRICE-related columns except 'UNITPRICE'\n",
    "# 2) Remove unnecessary columns:  Typology, Operation, AssetID, Period\n",
    "#\n",
    "if not df.empty:\n",
    "    price_cols = [col for col in df.columns if col in ['ADTYPOLOGY', 'ADOPERATION', \n",
    "                                                       'ASSETID', 'PERIOD', 'ADTYPOLOGYID', 'ADOPERATIONID', 'CITYNAME']\n",
    "                                                       or (col.endswith('PRICE') and col != TARGET_COLUMN)]\n",
    "\n",
    "    print(\"Dropping columns:\", price_cols)\n",
    "    df = df.drop(columns=price_cols)\n",
    "else:\n",
    "    print(\"Dataframe is empty\")"
   ]
  },
  {
   "cell_type": "code",
   "execution_count": 31,
   "metadata": {},
   "outputs": [
    {
     "name": "stdout",
     "output_type": "stream",
     "text": [
      "Features and target prepared.\n"
     ]
    }
   ],
   "source": [
    "# Prepare features and target variable\n",
    "\n",
    "if TARGET_COLUMN in df.columns:\n",
    "    X = df.drop(columns=[TARGET_COLUMN])\n",
    "    y = df[TARGET_COLUMN]\n",
    "    print(\"Features and target prepared.\")\n",
    "else:\n",
    "    X, y = df, None\n",
    "    print(\"UNITPRICE column not found in dataframe.\")"
   ]
  },
  {
   "cell_type": "code",
   "execution_count": 32,
   "id": "e684f0f6",
   "metadata": {},
   "outputs": [
    {
     "name": "stderr",
     "output_type": "stream",
     "text": [
      "\u001b[34m\u001b[1mwandb\u001b[0m: \u001b[33mWARNING\u001b[0m If you're specifying your api key in code, ensure this code is not shared publicly.\n",
      "\u001b[34m\u001b[1mwandb\u001b[0m: \u001b[33mWARNING\u001b[0m Consider setting the WANDB_API_KEY environment variable, or running `wandb login` from the command line.\n",
      "\u001b[34m\u001b[1mwandb\u001b[0m: Appending key for api.wandb.ai to your netrc file: /Users/davidreyblanco/.netrc\n"
     ]
    },
    {
     "data": {
      "text/plain": [
       "True"
      ]
     },
     "execution_count": 32,
     "metadata": {},
     "output_type": "execute_result"
    }
   ],
   "source": [
    "import wandb\n",
    "import random\n",
    "\n",
    "# 1) Grab the W&B token\n",
    "\n",
    "wandb_token = os.getenv(\"WANDB_API_KEY\")\n",
    "if wandb_token is None:\n",
    "    raise RuntimeError(\"WANDB_API_KEY not found in environment. Did you create a .env with that variable?\")\n",
    "# 2) Login with the token\n",
    "wandb.login(key=wandb_token)\n"
   ]
  },
  {
   "cell_type": "code",
   "execution_count": 33,
   "id": "89c7fce3",
   "metadata": {},
   "outputs": [
    {
     "name": "stderr",
     "output_type": "stream",
     "text": [
      "\u001b[34m\u001b[1mwandb\u001b[0m: \u001b[33mWARNING\u001b[0m If you're specifying your api key in code, ensure this code is not shared publicly.\n",
      "\u001b[34m\u001b[1mwandb\u001b[0m: \u001b[33mWARNING\u001b[0m Consider setting the WANDB_API_KEY environment variable, or running `wandb login` from the command line.\n",
      "\u001b[34m\u001b[1mwandb\u001b[0m: Appending key for api.wandb.ai to your netrc file: /Users/davidreyblanco/.netrc\n"
     ]
    },
    {
     "data": {
      "text/html": [
       "Tracking run with wandb version 0.19.11"
      ],
      "text/plain": [
       "<IPython.core.display.HTML object>"
      ]
     },
     "metadata": {},
     "output_type": "display_data"
    },
    {
     "data": {
      "text/html": [
       "Run data is saved locally in <code>/Users/davidreyblanco/Software/techweek/ml-idealista-18/notebooks/wandb/run-20250603_155747-568ynbmg</code>"
      ],
      "text/plain": [
       "<IPython.core.display.HTML object>"
      ]
     },
     "metadata": {},
     "output_type": "display_data"
    },
    {
     "data": {
      "text/html": [
       "Syncing run <strong><a href='https://wandb.ai/davidreyblanco-uned-universidad-nacional-de-educaci-n-a-/idealista18_madrid_randomforest_UNITPRICE_mds9/runs/568ynbmg' target=\"_blank\">comfy-energy-1</a></strong> to <a href='https://wandb.ai/davidreyblanco-uned-universidad-nacional-de-educaci-n-a-/idealista18_madrid_randomforest_UNITPRICE_mds9' target=\"_blank\">Weights & Biases</a> (<a href='https://wandb.me/developer-guide' target=\"_blank\">docs</a>)<br>"
      ],
      "text/plain": [
       "<IPython.core.display.HTML object>"
      ]
     },
     "metadata": {},
     "output_type": "display_data"
    },
    {
     "data": {
      "text/html": [
       " View project at <a href='https://wandb.ai/davidreyblanco-uned-universidad-nacional-de-educaci-n-a-/idealista18_madrid_randomforest_UNITPRICE_mds9' target=\"_blank\">https://wandb.ai/davidreyblanco-uned-universidad-nacional-de-educaci-n-a-/idealista18_madrid_randomforest_UNITPRICE_mds9</a>"
      ],
      "text/plain": [
       "<IPython.core.display.HTML object>"
      ]
     },
     "metadata": {},
     "output_type": "display_data"
    },
    {
     "data": {
      "text/html": [
       " View run at <a href='https://wandb.ai/davidreyblanco-uned-universidad-nacional-de-educaci-n-a-/idealista18_madrid_randomforest_UNITPRICE_mds9/runs/568ynbmg' target=\"_blank\">https://wandb.ai/davidreyblanco-uned-universidad-nacional-de-educaci-n-a-/idealista18_madrid_randomforest_UNITPRICE_mds9/runs/568ynbmg</a>"
      ],
      "text/plain": [
       "<IPython.core.display.HTML object>"
      ]
     },
     "metadata": {},
     "output_type": "display_data"
    },
    {
     "name": "stdout",
     "output_type": "stream",
     "text": [
      "10 estimators, max depth 5\n",
      "MAPE: 0.16 MedAPE: 0.1069 MSE:603391.8059098464\n",
      "Model saved to ../models/idealista18_madrid_randomforest_UNITPRICE_estimators-10_depth-5.pickle (435.43 KB)\n"
     ]
    },
    {
     "data": {
      "text/html": [],
      "text/plain": [
       "<IPython.core.display.HTML object>"
      ]
     },
     "metadata": {},
     "output_type": "display_data"
    },
    {
     "data": {
      "text/html": [
       "<br>    <style><br>        .wandb-row {<br>            display: flex;<br>            flex-direction: row;<br>            flex-wrap: wrap;<br>            justify-content: flex-start;<br>            width: 100%;<br>        }<br>        .wandb-col {<br>            display: flex;<br>            flex-direction: column;<br>            flex-basis: 100%;<br>            flex: 1;<br>            padding: 10px;<br>        }<br>    </style><br><div class=\"wandb-row\"><div class=\"wandb-col\"><h3>Run history:</h3><br/><table class=\"wandb\"><tr><td>mae</td><td>▁</td></tr><tr><td>mape</td><td>▁</td></tr><tr><td>max_depth</td><td>▁</td></tr><tr><td>medape</td><td>▁</td></tr><tr><td>mse</td><td>▁</td></tr><tr><td>n_estimators</td><td>▁</td></tr><tr><td>n_test</td><td>▁</td></tr><tr><td>n_train</td><td>▁</td></tr><tr><td>r2</td><td>▁</td></tr><tr><td>random_state</td><td>▁</td></tr></table><br/></div><div class=\"wandb-col\"><h3>Run summary:</h3><br/><table class=\"wandb\"><tr><td>mae</td><td>537.20319</td></tr><tr><td>mape</td><td>0.16343</td></tr><tr><td>max_depth</td><td>5</td></tr><tr><td>medape</td><td>0.1069</td></tr><tr><td>mse</td><td>603391.80591</td></tr><tr><td>n_estimators</td><td>10</td></tr><tr><td>n_test</td><td>18963</td></tr><tr><td>n_train</td><td>75851</td></tr><tr><td>r2</td><td>0.78965</td></tr><tr><td>random_state</td><td>42</td></tr></table><br/></div></div>"
      ],
      "text/plain": [
       "<IPython.core.display.HTML object>"
      ]
     },
     "metadata": {},
     "output_type": "display_data"
    },
    {
     "data": {
      "text/html": [
       " View run <strong style=\"color:#cdcd00\">comfy-energy-1</strong> at: <a href='https://wandb.ai/davidreyblanco-uned-universidad-nacional-de-educaci-n-a-/idealista18_madrid_randomforest_UNITPRICE_mds9/runs/568ynbmg' target=\"_blank\">https://wandb.ai/davidreyblanco-uned-universidad-nacional-de-educaci-n-a-/idealista18_madrid_randomforest_UNITPRICE_mds9/runs/568ynbmg</a><br> View project at: <a href='https://wandb.ai/davidreyblanco-uned-universidad-nacional-de-educaci-n-a-/idealista18_madrid_randomforest_UNITPRICE_mds9' target=\"_blank\">https://wandb.ai/davidreyblanco-uned-universidad-nacional-de-educaci-n-a-/idealista18_madrid_randomforest_UNITPRICE_mds9</a><br>Synced 5 W&B file(s), 1 media file(s), 4 artifact file(s) and 0 other file(s)"
      ],
      "text/plain": [
       "<IPython.core.display.HTML object>"
      ]
     },
     "metadata": {},
     "output_type": "display_data"
    },
    {
     "data": {
      "text/html": [
       "Find logs at: <code>./wandb/run-20250603_155747-568ynbmg/logs</code>"
      ],
      "text/plain": [
       "<IPython.core.display.HTML object>"
      ]
     },
     "metadata": {},
     "output_type": "display_data"
    },
    {
     "data": {
      "text/html": [
       "Tracking run with wandb version 0.19.11"
      ],
      "text/plain": [
       "<IPython.core.display.HTML object>"
      ]
     },
     "metadata": {},
     "output_type": "display_data"
    },
    {
     "data": {
      "text/html": [
       "Run data is saved locally in <code>/Users/davidreyblanco/Software/techweek/ml-idealista-18/notebooks/wandb/run-20250603_155754-2m5mtb1j</code>"
      ],
      "text/plain": [
       "<IPython.core.display.HTML object>"
      ]
     },
     "metadata": {},
     "output_type": "display_data"
    },
    {
     "data": {
      "text/html": [
       "Syncing run <strong><a href='https://wandb.ai/davidreyblanco-uned-universidad-nacional-de-educaci-n-a-/idealista18_madrid_randomforest_UNITPRICE_mds9/runs/2m5mtb1j' target=\"_blank\">fearless-water-2</a></strong> to <a href='https://wandb.ai/davidreyblanco-uned-universidad-nacional-de-educaci-n-a-/idealista18_madrid_randomforest_UNITPRICE_mds9' target=\"_blank\">Weights & Biases</a> (<a href='https://wandb.me/developer-guide' target=\"_blank\">docs</a>)<br>"
      ],
      "text/plain": [
       "<IPython.core.display.HTML object>"
      ]
     },
     "metadata": {},
     "output_type": "display_data"
    },
    {
     "data": {
      "text/html": [
       " View project at <a href='https://wandb.ai/davidreyblanco-uned-universidad-nacional-de-educaci-n-a-/idealista18_madrid_randomforest_UNITPRICE_mds9' target=\"_blank\">https://wandb.ai/davidreyblanco-uned-universidad-nacional-de-educaci-n-a-/idealista18_madrid_randomforest_UNITPRICE_mds9</a>"
      ],
      "text/plain": [
       "<IPython.core.display.HTML object>"
      ]
     },
     "metadata": {},
     "output_type": "display_data"
    },
    {
     "data": {
      "text/html": [
       " View run at <a href='https://wandb.ai/davidreyblanco-uned-universidad-nacional-de-educaci-n-a-/idealista18_madrid_randomforest_UNITPRICE_mds9/runs/2m5mtb1j' target=\"_blank\">https://wandb.ai/davidreyblanco-uned-universidad-nacional-de-educaci-n-a-/idealista18_madrid_randomforest_UNITPRICE_mds9/runs/2m5mtb1j</a>"
      ],
      "text/plain": [
       "<IPython.core.display.HTML object>"
      ]
     },
     "metadata": {},
     "output_type": "display_data"
    },
    {
     "name": "stdout",
     "output_type": "stream",
     "text": [
      "10 estimators, max depth 10\n",
      "MAPE: 0.16 MedAPE: 0.1069 MSE:603391.8059098464\n",
      "Model saved to ../models/idealista18_madrid_randomforest_UNITPRICE_estimators-10_depth-10.pickle (435.43 KB)\n"
     ]
    },
    {
     "data": {
      "text/html": [],
      "text/plain": [
       "<IPython.core.display.HTML object>"
      ]
     },
     "metadata": {},
     "output_type": "display_data"
    },
    {
     "data": {
      "text/html": [
       "<br>    <style><br>        .wandb-row {<br>            display: flex;<br>            flex-direction: row;<br>            flex-wrap: wrap;<br>            justify-content: flex-start;<br>            width: 100%;<br>        }<br>        .wandb-col {<br>            display: flex;<br>            flex-direction: column;<br>            flex-basis: 100%;<br>            flex: 1;<br>            padding: 10px;<br>        }<br>    </style><br><div class=\"wandb-row\"><div class=\"wandb-col\"><h3>Run history:</h3><br/><table class=\"wandb\"><tr><td>mae</td><td>▁</td></tr><tr><td>mape</td><td>▁</td></tr><tr><td>max_depth</td><td>▁</td></tr><tr><td>medape</td><td>▁</td></tr><tr><td>mse</td><td>▁</td></tr><tr><td>n_estimators</td><td>▁</td></tr><tr><td>n_test</td><td>▁</td></tr><tr><td>n_train</td><td>▁</td></tr><tr><td>r2</td><td>▁</td></tr><tr><td>random_state</td><td>▁</td></tr></table><br/></div><div class=\"wandb-col\"><h3>Run summary:</h3><br/><table class=\"wandb\"><tr><td>mae</td><td>537.20319</td></tr><tr><td>mape</td><td>0.16343</td></tr><tr><td>max_depth</td><td>10</td></tr><tr><td>medape</td><td>0.1069</td></tr><tr><td>mse</td><td>603391.80591</td></tr><tr><td>n_estimators</td><td>10</td></tr><tr><td>n_test</td><td>18963</td></tr><tr><td>n_train</td><td>75851</td></tr><tr><td>r2</td><td>0.78965</td></tr><tr><td>random_state</td><td>42</td></tr></table><br/></div></div>"
      ],
      "text/plain": [
       "<IPython.core.display.HTML object>"
      ]
     },
     "metadata": {},
     "output_type": "display_data"
    },
    {
     "data": {
      "text/html": [
       " View run <strong style=\"color:#cdcd00\">fearless-water-2</strong> at: <a href='https://wandb.ai/davidreyblanco-uned-universidad-nacional-de-educaci-n-a-/idealista18_madrid_randomforest_UNITPRICE_mds9/runs/2m5mtb1j' target=\"_blank\">https://wandb.ai/davidreyblanco-uned-universidad-nacional-de-educaci-n-a-/idealista18_madrid_randomforest_UNITPRICE_mds9/runs/2m5mtb1j</a><br> View project at: <a href='https://wandb.ai/davidreyblanco-uned-universidad-nacional-de-educaci-n-a-/idealista18_madrid_randomforest_UNITPRICE_mds9' target=\"_blank\">https://wandb.ai/davidreyblanco-uned-universidad-nacional-de-educaci-n-a-/idealista18_madrid_randomforest_UNITPRICE_mds9</a><br>Synced 5 W&B file(s), 1 media file(s), 3 artifact file(s) and 0 other file(s)"
      ],
      "text/plain": [
       "<IPython.core.display.HTML object>"
      ]
     },
     "metadata": {},
     "output_type": "display_data"
    },
    {
     "data": {
      "text/html": [
       "Find logs at: <code>./wandb/run-20250603_155754-2m5mtb1j/logs</code>"
      ],
      "text/plain": [
       "<IPython.core.display.HTML object>"
      ]
     },
     "metadata": {},
     "output_type": "display_data"
    },
    {
     "data": {
      "text/html": [
       "Tracking run with wandb version 0.19.11"
      ],
      "text/plain": [
       "<IPython.core.display.HTML object>"
      ]
     },
     "metadata": {},
     "output_type": "display_data"
    },
    {
     "data": {
      "text/html": [
       "Run data is saved locally in <code>/Users/davidreyblanco/Software/techweek/ml-idealista-18/notebooks/wandb/run-20250603_155802-d32sji6i</code>"
      ],
      "text/plain": [
       "<IPython.core.display.HTML object>"
      ]
     },
     "metadata": {},
     "output_type": "display_data"
    },
    {
     "data": {
      "text/html": [
       "Syncing run <strong><a href='https://wandb.ai/davidreyblanco-uned-universidad-nacional-de-educaci-n-a-/idealista18_madrid_randomforest_UNITPRICE_mds9/runs/d32sji6i' target=\"_blank\">robust-music-3</a></strong> to <a href='https://wandb.ai/davidreyblanco-uned-universidad-nacional-de-educaci-n-a-/idealista18_madrid_randomforest_UNITPRICE_mds9' target=\"_blank\">Weights & Biases</a> (<a href='https://wandb.me/developer-guide' target=\"_blank\">docs</a>)<br>"
      ],
      "text/plain": [
       "<IPython.core.display.HTML object>"
      ]
     },
     "metadata": {},
     "output_type": "display_data"
    },
    {
     "data": {
      "text/html": [
       " View project at <a href='https://wandb.ai/davidreyblanco-uned-universidad-nacional-de-educaci-n-a-/idealista18_madrid_randomforest_UNITPRICE_mds9' target=\"_blank\">https://wandb.ai/davidreyblanco-uned-universidad-nacional-de-educaci-n-a-/idealista18_madrid_randomforest_UNITPRICE_mds9</a>"
      ],
      "text/plain": [
       "<IPython.core.display.HTML object>"
      ]
     },
     "metadata": {},
     "output_type": "display_data"
    },
    {
     "data": {
      "text/html": [
       " View run at <a href='https://wandb.ai/davidreyblanco-uned-universidad-nacional-de-educaci-n-a-/idealista18_madrid_randomforest_UNITPRICE_mds9/runs/d32sji6i' target=\"_blank\">https://wandb.ai/davidreyblanco-uned-universidad-nacional-de-educaci-n-a-/idealista18_madrid_randomforest_UNITPRICE_mds9/runs/d32sji6i</a>"
      ],
      "text/plain": [
       "<IPython.core.display.HTML object>"
      ]
     },
     "metadata": {},
     "output_type": "display_data"
    },
    {
     "name": "stdout",
     "output_type": "stream",
     "text": [
      "20 estimators, max depth 5\n",
      "MAPE: 0.16 MedAPE: 0.1063 MSE:596265.3969084613\n",
      "Model saved to ../models/idealista18_madrid_randomforest_UNITPRICE_estimators-20_depth-5.pickle (873.17 KB)\n"
     ]
    },
    {
     "data": {
      "text/html": [],
      "text/plain": [
       "<IPython.core.display.HTML object>"
      ]
     },
     "metadata": {},
     "output_type": "display_data"
    },
    {
     "data": {
      "text/html": [
       "<br>    <style><br>        .wandb-row {<br>            display: flex;<br>            flex-direction: row;<br>            flex-wrap: wrap;<br>            justify-content: flex-start;<br>            width: 100%;<br>        }<br>        .wandb-col {<br>            display: flex;<br>            flex-direction: column;<br>            flex-basis: 100%;<br>            flex: 1;<br>            padding: 10px;<br>        }<br>    </style><br><div class=\"wandb-row\"><div class=\"wandb-col\"><h3>Run history:</h3><br/><table class=\"wandb\"><tr><td>mae</td><td>▁</td></tr><tr><td>mape</td><td>▁</td></tr><tr><td>max_depth</td><td>▁</td></tr><tr><td>medape</td><td>▁</td></tr><tr><td>mse</td><td>▁</td></tr><tr><td>n_estimators</td><td>▁</td></tr><tr><td>n_test</td><td>▁</td></tr><tr><td>n_train</td><td>▁</td></tr><tr><td>r2</td><td>▁</td></tr><tr><td>random_state</td><td>▁</td></tr></table><br/></div><div class=\"wandb-col\"><h3>Run summary:</h3><br/><table class=\"wandb\"><tr><td>mae</td><td>533.36249</td></tr><tr><td>mape</td><td>0.16222</td></tr><tr><td>max_depth</td><td>5</td></tr><tr><td>medape</td><td>0.10629</td></tr><tr><td>mse</td><td>596265.39691</td></tr><tr><td>n_estimators</td><td>20</td></tr><tr><td>n_test</td><td>18963</td></tr><tr><td>n_train</td><td>75851</td></tr><tr><td>r2</td><td>0.79213</td></tr><tr><td>random_state</td><td>42</td></tr></table><br/></div></div>"
      ],
      "text/plain": [
       "<IPython.core.display.HTML object>"
      ]
     },
     "metadata": {},
     "output_type": "display_data"
    },
    {
     "data": {
      "text/html": [
       " View run <strong style=\"color:#cdcd00\">robust-music-3</strong> at: <a href='https://wandb.ai/davidreyblanco-uned-universidad-nacional-de-educaci-n-a-/idealista18_madrid_randomforest_UNITPRICE_mds9/runs/d32sji6i' target=\"_blank\">https://wandb.ai/davidreyblanco-uned-universidad-nacional-de-educaci-n-a-/idealista18_madrid_randomforest_UNITPRICE_mds9/runs/d32sji6i</a><br> View project at: <a href='https://wandb.ai/davidreyblanco-uned-universidad-nacional-de-educaci-n-a-/idealista18_madrid_randomforest_UNITPRICE_mds9' target=\"_blank\">https://wandb.ai/davidreyblanco-uned-universidad-nacional-de-educaci-n-a-/idealista18_madrid_randomforest_UNITPRICE_mds9</a><br>Synced 5 W&B file(s), 1 media file(s), 4 artifact file(s) and 0 other file(s)"
      ],
      "text/plain": [
       "<IPython.core.display.HTML object>"
      ]
     },
     "metadata": {},
     "output_type": "display_data"
    },
    {
     "data": {
      "text/html": [
       "Find logs at: <code>./wandb/run-20250603_155802-d32sji6i/logs</code>"
      ],
      "text/plain": [
       "<IPython.core.display.HTML object>"
      ]
     },
     "metadata": {},
     "output_type": "display_data"
    },
    {
     "data": {
      "text/html": [
       "Tracking run with wandb version 0.19.11"
      ],
      "text/plain": [
       "<IPython.core.display.HTML object>"
      ]
     },
     "metadata": {},
     "output_type": "display_data"
    },
    {
     "data": {
      "text/html": [
       "Run data is saved locally in <code>/Users/davidreyblanco/Software/techweek/ml-idealista-18/notebooks/wandb/run-20250603_155813-vo6a2a5l</code>"
      ],
      "text/plain": [
       "<IPython.core.display.HTML object>"
      ]
     },
     "metadata": {},
     "output_type": "display_data"
    },
    {
     "data": {
      "text/html": [
       "Syncing run <strong><a href='https://wandb.ai/davidreyblanco-uned-universidad-nacional-de-educaci-n-a-/idealista18_madrid_randomforest_UNITPRICE_mds9/runs/vo6a2a5l' target=\"_blank\">woven-deluge-4</a></strong> to <a href='https://wandb.ai/davidreyblanco-uned-universidad-nacional-de-educaci-n-a-/idealista18_madrid_randomforest_UNITPRICE_mds9' target=\"_blank\">Weights & Biases</a> (<a href='https://wandb.me/developer-guide' target=\"_blank\">docs</a>)<br>"
      ],
      "text/plain": [
       "<IPython.core.display.HTML object>"
      ]
     },
     "metadata": {},
     "output_type": "display_data"
    },
    {
     "data": {
      "text/html": [
       " View project at <a href='https://wandb.ai/davidreyblanco-uned-universidad-nacional-de-educaci-n-a-/idealista18_madrid_randomforest_UNITPRICE_mds9' target=\"_blank\">https://wandb.ai/davidreyblanco-uned-universidad-nacional-de-educaci-n-a-/idealista18_madrid_randomforest_UNITPRICE_mds9</a>"
      ],
      "text/plain": [
       "<IPython.core.display.HTML object>"
      ]
     },
     "metadata": {},
     "output_type": "display_data"
    },
    {
     "data": {
      "text/html": [
       " View run at <a href='https://wandb.ai/davidreyblanco-uned-universidad-nacional-de-educaci-n-a-/idealista18_madrid_randomforest_UNITPRICE_mds9/runs/vo6a2a5l' target=\"_blank\">https://wandb.ai/davidreyblanco-uned-universidad-nacional-de-educaci-n-a-/idealista18_madrid_randomforest_UNITPRICE_mds9/runs/vo6a2a5l</a>"
      ],
      "text/plain": [
       "<IPython.core.display.HTML object>"
      ]
     },
     "metadata": {},
     "output_type": "display_data"
    },
    {
     "name": "stdout",
     "output_type": "stream",
     "text": [
      "20 estimators, max depth 10\n",
      "MAPE: 0.16 MedAPE: 0.1063 MSE:596265.3969084613\n",
      "Model saved to ../models/idealista18_madrid_randomforest_UNITPRICE_estimators-20_depth-10.pickle (873.17 KB)\n"
     ]
    },
    {
     "data": {
      "text/html": [],
      "text/plain": [
       "<IPython.core.display.HTML object>"
      ]
     },
     "metadata": {},
     "output_type": "display_data"
    },
    {
     "data": {
      "text/html": [
       "<br>    <style><br>        .wandb-row {<br>            display: flex;<br>            flex-direction: row;<br>            flex-wrap: wrap;<br>            justify-content: flex-start;<br>            width: 100%;<br>        }<br>        .wandb-col {<br>            display: flex;<br>            flex-direction: column;<br>            flex-basis: 100%;<br>            flex: 1;<br>            padding: 10px;<br>        }<br>    </style><br><div class=\"wandb-row\"><div class=\"wandb-col\"><h3>Run history:</h3><br/><table class=\"wandb\"><tr><td>mae</td><td>▁</td></tr><tr><td>mape</td><td>▁</td></tr><tr><td>max_depth</td><td>▁</td></tr><tr><td>medape</td><td>▁</td></tr><tr><td>mse</td><td>▁</td></tr><tr><td>n_estimators</td><td>▁</td></tr><tr><td>n_test</td><td>▁</td></tr><tr><td>n_train</td><td>▁</td></tr><tr><td>r2</td><td>▁</td></tr><tr><td>random_state</td><td>▁</td></tr></table><br/></div><div class=\"wandb-col\"><h3>Run summary:</h3><br/><table class=\"wandb\"><tr><td>mae</td><td>533.36249</td></tr><tr><td>mape</td><td>0.16222</td></tr><tr><td>max_depth</td><td>10</td></tr><tr><td>medape</td><td>0.10629</td></tr><tr><td>mse</td><td>596265.39691</td></tr><tr><td>n_estimators</td><td>20</td></tr><tr><td>n_test</td><td>18963</td></tr><tr><td>n_train</td><td>75851</td></tr><tr><td>r2</td><td>0.79213</td></tr><tr><td>random_state</td><td>42</td></tr></table><br/></div></div>"
      ],
      "text/plain": [
       "<IPython.core.display.HTML object>"
      ]
     },
     "metadata": {},
     "output_type": "display_data"
    },
    {
     "data": {
      "text/html": [
       " View run <strong style=\"color:#cdcd00\">woven-deluge-4</strong> at: <a href='https://wandb.ai/davidreyblanco-uned-universidad-nacional-de-educaci-n-a-/idealista18_madrid_randomforest_UNITPRICE_mds9/runs/vo6a2a5l' target=\"_blank\">https://wandb.ai/davidreyblanco-uned-universidad-nacional-de-educaci-n-a-/idealista18_madrid_randomforest_UNITPRICE_mds9/runs/vo6a2a5l</a><br> View project at: <a href='https://wandb.ai/davidreyblanco-uned-universidad-nacional-de-educaci-n-a-/idealista18_madrid_randomforest_UNITPRICE_mds9' target=\"_blank\">https://wandb.ai/davidreyblanco-uned-universidad-nacional-de-educaci-n-a-/idealista18_madrid_randomforest_UNITPRICE_mds9</a><br>Synced 5 W&B file(s), 1 media file(s), 3 artifact file(s) and 0 other file(s)"
      ],
      "text/plain": [
       "<IPython.core.display.HTML object>"
      ]
     },
     "metadata": {},
     "output_type": "display_data"
    },
    {
     "data": {
      "text/html": [
       "Find logs at: <code>./wandb/run-20250603_155813-vo6a2a5l/logs</code>"
      ],
      "text/plain": [
       "<IPython.core.display.HTML object>"
      ]
     },
     "metadata": {},
     "output_type": "display_data"
    },
    {
     "data": {
      "text/html": [
       "Tracking run with wandb version 0.19.11"
      ],
      "text/plain": [
       "<IPython.core.display.HTML object>"
      ]
     },
     "metadata": {},
     "output_type": "display_data"
    },
    {
     "data": {
      "text/html": [
       "Run data is saved locally in <code>/Users/davidreyblanco/Software/techweek/ml-idealista-18/notebooks/wandb/run-20250603_155824-mjjwt88m</code>"
      ],
      "text/plain": [
       "<IPython.core.display.HTML object>"
      ]
     },
     "metadata": {},
     "output_type": "display_data"
    },
    {
     "data": {
      "text/html": [
       "Syncing run <strong><a href='https://wandb.ai/davidreyblanco-uned-universidad-nacional-de-educaci-n-a-/idealista18_madrid_randomforest_UNITPRICE_mds9/runs/mjjwt88m' target=\"_blank\">kind-tree-5</a></strong> to <a href='https://wandb.ai/davidreyblanco-uned-universidad-nacional-de-educaci-n-a-/idealista18_madrid_randomforest_UNITPRICE_mds9' target=\"_blank\">Weights & Biases</a> (<a href='https://wandb.me/developer-guide' target=\"_blank\">docs</a>)<br>"
      ],
      "text/plain": [
       "<IPython.core.display.HTML object>"
      ]
     },
     "metadata": {},
     "output_type": "display_data"
    },
    {
     "data": {
      "text/html": [
       " View project at <a href='https://wandb.ai/davidreyblanco-uned-universidad-nacional-de-educaci-n-a-/idealista18_madrid_randomforest_UNITPRICE_mds9' target=\"_blank\">https://wandb.ai/davidreyblanco-uned-universidad-nacional-de-educaci-n-a-/idealista18_madrid_randomforest_UNITPRICE_mds9</a>"
      ],
      "text/plain": [
       "<IPython.core.display.HTML object>"
      ]
     },
     "metadata": {},
     "output_type": "display_data"
    },
    {
     "data": {
      "text/html": [
       " View run at <a href='https://wandb.ai/davidreyblanco-uned-universidad-nacional-de-educaci-n-a-/idealista18_madrid_randomforest_UNITPRICE_mds9/runs/mjjwt88m' target=\"_blank\">https://wandb.ai/davidreyblanco-uned-universidad-nacional-de-educaci-n-a-/idealista18_madrid_randomforest_UNITPRICE_mds9/runs/mjjwt88m</a>"
      ],
      "text/plain": [
       "<IPython.core.display.HTML object>"
      ]
     },
     "metadata": {},
     "output_type": "display_data"
    },
    {
     "name": "stdout",
     "output_type": "stream",
     "text": [
      "50 estimators, max depth 5\n",
      "MAPE: 0.16 MedAPE: 0.1057 MSE:591739.8206843077\n",
      "Model saved to ../models/idealista18_madrid_randomforest_UNITPRICE_estimators-50_depth-5.pickle (2174.25 KB)\n"
     ]
    },
    {
     "data": {
      "text/html": [],
      "text/plain": [
       "<IPython.core.display.HTML object>"
      ]
     },
     "metadata": {},
     "output_type": "display_data"
    },
    {
     "data": {
      "text/html": [
       "<br>    <style><br>        .wandb-row {<br>            display: flex;<br>            flex-direction: row;<br>            flex-wrap: wrap;<br>            justify-content: flex-start;<br>            width: 100%;<br>        }<br>        .wandb-col {<br>            display: flex;<br>            flex-direction: column;<br>            flex-basis: 100%;<br>            flex: 1;<br>            padding: 10px;<br>        }<br>    </style><br><div class=\"wandb-row\"><div class=\"wandb-col\"><h3>Run history:</h3><br/><table class=\"wandb\"><tr><td>mae</td><td>▁</td></tr><tr><td>mape</td><td>▁</td></tr><tr><td>max_depth</td><td>▁</td></tr><tr><td>medape</td><td>▁</td></tr><tr><td>mse</td><td>▁</td></tr><tr><td>n_estimators</td><td>▁</td></tr><tr><td>n_test</td><td>▁</td></tr><tr><td>n_train</td><td>▁</td></tr><tr><td>r2</td><td>▁</td></tr><tr><td>random_state</td><td>▁</td></tr></table><br/></div><div class=\"wandb-col\"><h3>Run summary:</h3><br/><table class=\"wandb\"><tr><td>mae</td><td>531.24001</td></tr><tr><td>mape</td><td>0.16164</td></tr><tr><td>max_depth</td><td>5</td></tr><tr><td>medape</td><td>0.10572</td></tr><tr><td>mse</td><td>591739.82068</td></tr><tr><td>n_estimators</td><td>50</td></tr><tr><td>n_test</td><td>18963</td></tr><tr><td>n_train</td><td>75851</td></tr><tr><td>r2</td><td>0.79371</td></tr><tr><td>random_state</td><td>42</td></tr></table><br/></div></div>"
      ],
      "text/plain": [
       "<IPython.core.display.HTML object>"
      ]
     },
     "metadata": {},
     "output_type": "display_data"
    },
    {
     "data": {
      "text/html": [
       " View run <strong style=\"color:#cdcd00\">kind-tree-5</strong> at: <a href='https://wandb.ai/davidreyblanco-uned-universidad-nacional-de-educaci-n-a-/idealista18_madrid_randomforest_UNITPRICE_mds9/runs/mjjwt88m' target=\"_blank\">https://wandb.ai/davidreyblanco-uned-universidad-nacional-de-educaci-n-a-/idealista18_madrid_randomforest_UNITPRICE_mds9/runs/mjjwt88m</a><br> View project at: <a href='https://wandb.ai/davidreyblanco-uned-universidad-nacional-de-educaci-n-a-/idealista18_madrid_randomforest_UNITPRICE_mds9' target=\"_blank\">https://wandb.ai/davidreyblanco-uned-universidad-nacional-de-educaci-n-a-/idealista18_madrid_randomforest_UNITPRICE_mds9</a><br>Synced 5 W&B file(s), 1 media file(s), 4 artifact file(s) and 0 other file(s)"
      ],
      "text/plain": [
       "<IPython.core.display.HTML object>"
      ]
     },
     "metadata": {},
     "output_type": "display_data"
    },
    {
     "data": {
      "text/html": [
       "Find logs at: <code>./wandb/run-20250603_155824-mjjwt88m/logs</code>"
      ],
      "text/plain": [
       "<IPython.core.display.HTML object>"
      ]
     },
     "metadata": {},
     "output_type": "display_data"
    },
    {
     "data": {
      "text/html": [
       "Tracking run with wandb version 0.19.11"
      ],
      "text/plain": [
       "<IPython.core.display.HTML object>"
      ]
     },
     "metadata": {},
     "output_type": "display_data"
    },
    {
     "data": {
      "text/html": [
       "Run data is saved locally in <code>/Users/davidreyblanco/Software/techweek/ml-idealista-18/notebooks/wandb/run-20250603_155845-xjtcwckq</code>"
      ],
      "text/plain": [
       "<IPython.core.display.HTML object>"
      ]
     },
     "metadata": {},
     "output_type": "display_data"
    },
    {
     "data": {
      "text/html": [
       "Syncing run <strong><a href='https://wandb.ai/davidreyblanco-uned-universidad-nacional-de-educaci-n-a-/idealista18_madrid_randomforest_UNITPRICE_mds9/runs/xjtcwckq' target=\"_blank\">glad-snowball-6</a></strong> to <a href='https://wandb.ai/davidreyblanco-uned-universidad-nacional-de-educaci-n-a-/idealista18_madrid_randomforest_UNITPRICE_mds9' target=\"_blank\">Weights & Biases</a> (<a href='https://wandb.me/developer-guide' target=\"_blank\">docs</a>)<br>"
      ],
      "text/plain": [
       "<IPython.core.display.HTML object>"
      ]
     },
     "metadata": {},
     "output_type": "display_data"
    },
    {
     "data": {
      "text/html": [
       " View project at <a href='https://wandb.ai/davidreyblanco-uned-universidad-nacional-de-educaci-n-a-/idealista18_madrid_randomforest_UNITPRICE_mds9' target=\"_blank\">https://wandb.ai/davidreyblanco-uned-universidad-nacional-de-educaci-n-a-/idealista18_madrid_randomforest_UNITPRICE_mds9</a>"
      ],
      "text/plain": [
       "<IPython.core.display.HTML object>"
      ]
     },
     "metadata": {},
     "output_type": "display_data"
    },
    {
     "data": {
      "text/html": [
       " View run at <a href='https://wandb.ai/davidreyblanco-uned-universidad-nacional-de-educaci-n-a-/idealista18_madrid_randomforest_UNITPRICE_mds9/runs/xjtcwckq' target=\"_blank\">https://wandb.ai/davidreyblanco-uned-universidad-nacional-de-educaci-n-a-/idealista18_madrid_randomforest_UNITPRICE_mds9/runs/xjtcwckq</a>"
      ],
      "text/plain": [
       "<IPython.core.display.HTML object>"
      ]
     },
     "metadata": {},
     "output_type": "display_data"
    },
    {
     "name": "stdout",
     "output_type": "stream",
     "text": [
      "50 estimators, max depth 10\n",
      "MAPE: 0.16 MedAPE: 0.1057 MSE:591739.8206843077\n",
      "Model saved to ../models/idealista18_madrid_randomforest_UNITPRICE_estimators-50_depth-10.pickle (2174.25 KB)\n"
     ]
    },
    {
     "data": {
      "text/html": [],
      "text/plain": [
       "<IPython.core.display.HTML object>"
      ]
     },
     "metadata": {},
     "output_type": "display_data"
    },
    {
     "data": {
      "text/html": [
       "<br>    <style><br>        .wandb-row {<br>            display: flex;<br>            flex-direction: row;<br>            flex-wrap: wrap;<br>            justify-content: flex-start;<br>            width: 100%;<br>        }<br>        .wandb-col {<br>            display: flex;<br>            flex-direction: column;<br>            flex-basis: 100%;<br>            flex: 1;<br>            padding: 10px;<br>        }<br>    </style><br><div class=\"wandb-row\"><div class=\"wandb-col\"><h3>Run history:</h3><br/><table class=\"wandb\"><tr><td>mae</td><td>▁</td></tr><tr><td>mape</td><td>▁</td></tr><tr><td>max_depth</td><td>▁</td></tr><tr><td>medape</td><td>▁</td></tr><tr><td>mse</td><td>▁</td></tr><tr><td>n_estimators</td><td>▁</td></tr><tr><td>n_test</td><td>▁</td></tr><tr><td>n_train</td><td>▁</td></tr><tr><td>r2</td><td>▁</td></tr><tr><td>random_state</td><td>▁</td></tr></table><br/></div><div class=\"wandb-col\"><h3>Run summary:</h3><br/><table class=\"wandb\"><tr><td>mae</td><td>531.24001</td></tr><tr><td>mape</td><td>0.16164</td></tr><tr><td>max_depth</td><td>10</td></tr><tr><td>medape</td><td>0.10572</td></tr><tr><td>mse</td><td>591739.82068</td></tr><tr><td>n_estimators</td><td>50</td></tr><tr><td>n_test</td><td>18963</td></tr><tr><td>n_train</td><td>75851</td></tr><tr><td>r2</td><td>0.79371</td></tr><tr><td>random_state</td><td>42</td></tr></table><br/></div></div>"
      ],
      "text/plain": [
       "<IPython.core.display.HTML object>"
      ]
     },
     "metadata": {},
     "output_type": "display_data"
    },
    {
     "data": {
      "text/html": [
       " View run <strong style=\"color:#cdcd00\">glad-snowball-6</strong> at: <a href='https://wandb.ai/davidreyblanco-uned-universidad-nacional-de-educaci-n-a-/idealista18_madrid_randomforest_UNITPRICE_mds9/runs/xjtcwckq' target=\"_blank\">https://wandb.ai/davidreyblanco-uned-universidad-nacional-de-educaci-n-a-/idealista18_madrid_randomforest_UNITPRICE_mds9/runs/xjtcwckq</a><br> View project at: <a href='https://wandb.ai/davidreyblanco-uned-universidad-nacional-de-educaci-n-a-/idealista18_madrid_randomforest_UNITPRICE_mds9' target=\"_blank\">https://wandb.ai/davidreyblanco-uned-universidad-nacional-de-educaci-n-a-/idealista18_madrid_randomforest_UNITPRICE_mds9</a><br>Synced 5 W&B file(s), 1 media file(s), 3 artifact file(s) and 0 other file(s)"
      ],
      "text/plain": [
       "<IPython.core.display.HTML object>"
      ]
     },
     "metadata": {},
     "output_type": "display_data"
    },
    {
     "data": {
      "text/html": [
       "Find logs at: <code>./wandb/run-20250603_155845-xjtcwckq/logs</code>"
      ],
      "text/plain": [
       "<IPython.core.display.HTML object>"
      ]
     },
     "metadata": {},
     "output_type": "display_data"
    },
    {
     "data": {
      "text/html": [
       "Tracking run with wandb version 0.19.11"
      ],
      "text/plain": [
       "<IPython.core.display.HTML object>"
      ]
     },
     "metadata": {},
     "output_type": "display_data"
    },
    {
     "data": {
      "text/html": [
       "Run data is saved locally in <code>/Users/davidreyblanco/Software/techweek/ml-idealista-18/notebooks/wandb/run-20250603_155906-b87shwso</code>"
      ],
      "text/plain": [
       "<IPython.core.display.HTML object>"
      ]
     },
     "metadata": {},
     "output_type": "display_data"
    },
    {
     "data": {
      "text/html": [
       "Syncing run <strong><a href='https://wandb.ai/davidreyblanco-uned-universidad-nacional-de-educaci-n-a-/idealista18_madrid_randomforest_UNITPRICE_mds9/runs/b87shwso' target=\"_blank\">classic-glade-7</a></strong> to <a href='https://wandb.ai/davidreyblanco-uned-universidad-nacional-de-educaci-n-a-/idealista18_madrid_randomforest_UNITPRICE_mds9' target=\"_blank\">Weights & Biases</a> (<a href='https://wandb.me/developer-guide' target=\"_blank\">docs</a>)<br>"
      ],
      "text/plain": [
       "<IPython.core.display.HTML object>"
      ]
     },
     "metadata": {},
     "output_type": "display_data"
    },
    {
     "data": {
      "text/html": [
       " View project at <a href='https://wandb.ai/davidreyblanco-uned-universidad-nacional-de-educaci-n-a-/idealista18_madrid_randomforest_UNITPRICE_mds9' target=\"_blank\">https://wandb.ai/davidreyblanco-uned-universidad-nacional-de-educaci-n-a-/idealista18_madrid_randomforest_UNITPRICE_mds9</a>"
      ],
      "text/plain": [
       "<IPython.core.display.HTML object>"
      ]
     },
     "metadata": {},
     "output_type": "display_data"
    },
    {
     "data": {
      "text/html": [
       " View run at <a href='https://wandb.ai/davidreyblanco-uned-universidad-nacional-de-educaci-n-a-/idealista18_madrid_randomforest_UNITPRICE_mds9/runs/b87shwso' target=\"_blank\">https://wandb.ai/davidreyblanco-uned-universidad-nacional-de-educaci-n-a-/idealista18_madrid_randomforest_UNITPRICE_mds9/runs/b87shwso</a>"
      ],
      "text/plain": [
       "<IPython.core.display.HTML object>"
      ]
     },
     "metadata": {},
     "output_type": "display_data"
    },
    {
     "name": "stdout",
     "output_type": "stream",
     "text": [
      "100 estimators, max depth 5\n",
      "MAPE: 0.16 MedAPE: 0.1060 MSE:590570.5414241096\n",
      "Model saved to ../models/idealista18_madrid_randomforest_UNITPRICE_estimators-100_depth-5.pickle (4336.62 KB)\n"
     ]
    },
    {
     "data": {
      "text/html": [],
      "text/plain": [
       "<IPython.core.display.HTML object>"
      ]
     },
     "metadata": {},
     "output_type": "display_data"
    },
    {
     "data": {
      "text/html": [
       "<br>    <style><br>        .wandb-row {<br>            display: flex;<br>            flex-direction: row;<br>            flex-wrap: wrap;<br>            justify-content: flex-start;<br>            width: 100%;<br>        }<br>        .wandb-col {<br>            display: flex;<br>            flex-direction: column;<br>            flex-basis: 100%;<br>            flex: 1;<br>            padding: 10px;<br>        }<br>    </style><br><div class=\"wandb-row\"><div class=\"wandb-col\"><h3>Run history:</h3><br/><table class=\"wandb\"><tr><td>mae</td><td>▁</td></tr><tr><td>mape</td><td>▁</td></tr><tr><td>max_depth</td><td>▁</td></tr><tr><td>medape</td><td>▁</td></tr><tr><td>mse</td><td>▁</td></tr><tr><td>n_estimators</td><td>▁</td></tr><tr><td>n_test</td><td>▁</td></tr><tr><td>n_train</td><td>▁</td></tr><tr><td>r2</td><td>▁</td></tr><tr><td>random_state</td><td>▁</td></tr></table><br/></div><div class=\"wandb-col\"><h3>Run summary:</h3><br/><table class=\"wandb\"><tr><td>mae</td><td>530.93472</td></tr><tr><td>mape</td><td>0.16151</td></tr><tr><td>max_depth</td><td>5</td></tr><tr><td>medape</td><td>0.10601</td></tr><tr><td>mse</td><td>590570.54142</td></tr><tr><td>n_estimators</td><td>100</td></tr><tr><td>n_test</td><td>18963</td></tr><tr><td>n_train</td><td>75851</td></tr><tr><td>r2</td><td>0.79412</td></tr><tr><td>random_state</td><td>42</td></tr></table><br/></div></div>"
      ],
      "text/plain": [
       "<IPython.core.display.HTML object>"
      ]
     },
     "metadata": {},
     "output_type": "display_data"
    },
    {
     "data": {
      "text/html": [
       " View run <strong style=\"color:#cdcd00\">classic-glade-7</strong> at: <a href='https://wandb.ai/davidreyblanco-uned-universidad-nacional-de-educaci-n-a-/idealista18_madrid_randomforest_UNITPRICE_mds9/runs/b87shwso' target=\"_blank\">https://wandb.ai/davidreyblanco-uned-universidad-nacional-de-educaci-n-a-/idealista18_madrid_randomforest_UNITPRICE_mds9/runs/b87shwso</a><br> View project at: <a href='https://wandb.ai/davidreyblanco-uned-universidad-nacional-de-educaci-n-a-/idealista18_madrid_randomforest_UNITPRICE_mds9' target=\"_blank\">https://wandb.ai/davidreyblanco-uned-universidad-nacional-de-educaci-n-a-/idealista18_madrid_randomforest_UNITPRICE_mds9</a><br>Synced 5 W&B file(s), 1 media file(s), 4 artifact file(s) and 0 other file(s)"
      ],
      "text/plain": [
       "<IPython.core.display.HTML object>"
      ]
     },
     "metadata": {},
     "output_type": "display_data"
    },
    {
     "data": {
      "text/html": [
       "Find logs at: <code>./wandb/run-20250603_155906-b87shwso/logs</code>"
      ],
      "text/plain": [
       "<IPython.core.display.HTML object>"
      ]
     },
     "metadata": {},
     "output_type": "display_data"
    },
    {
     "data": {
      "text/html": [
       "Tracking run with wandb version 0.19.11"
      ],
      "text/plain": [
       "<IPython.core.display.HTML object>"
      ]
     },
     "metadata": {},
     "output_type": "display_data"
    },
    {
     "data": {
      "text/html": [
       "Run data is saved locally in <code>/Users/davidreyblanco/Software/techweek/ml-idealista-18/notebooks/wandb/run-20250603_155943-xkgcbcyp</code>"
      ],
      "text/plain": [
       "<IPython.core.display.HTML object>"
      ]
     },
     "metadata": {},
     "output_type": "display_data"
    },
    {
     "data": {
      "text/html": [
       "Syncing run <strong><a href='https://wandb.ai/davidreyblanco-uned-universidad-nacional-de-educaci-n-a-/idealista18_madrid_randomforest_UNITPRICE_mds9/runs/xkgcbcyp' target=\"_blank\">lyric-planet-8</a></strong> to <a href='https://wandb.ai/davidreyblanco-uned-universidad-nacional-de-educaci-n-a-/idealista18_madrid_randomforest_UNITPRICE_mds9' target=\"_blank\">Weights & Biases</a> (<a href='https://wandb.me/developer-guide' target=\"_blank\">docs</a>)<br>"
      ],
      "text/plain": [
       "<IPython.core.display.HTML object>"
      ]
     },
     "metadata": {},
     "output_type": "display_data"
    },
    {
     "data": {
      "text/html": [
       " View project at <a href='https://wandb.ai/davidreyblanco-uned-universidad-nacional-de-educaci-n-a-/idealista18_madrid_randomforest_UNITPRICE_mds9' target=\"_blank\">https://wandb.ai/davidreyblanco-uned-universidad-nacional-de-educaci-n-a-/idealista18_madrid_randomforest_UNITPRICE_mds9</a>"
      ],
      "text/plain": [
       "<IPython.core.display.HTML object>"
      ]
     },
     "metadata": {},
     "output_type": "display_data"
    },
    {
     "data": {
      "text/html": [
       " View run at <a href='https://wandb.ai/davidreyblanco-uned-universidad-nacional-de-educaci-n-a-/idealista18_madrid_randomforest_UNITPRICE_mds9/runs/xkgcbcyp' target=\"_blank\">https://wandb.ai/davidreyblanco-uned-universidad-nacional-de-educaci-n-a-/idealista18_madrid_randomforest_UNITPRICE_mds9/runs/xkgcbcyp</a>"
      ],
      "text/plain": [
       "<IPython.core.display.HTML object>"
      ]
     },
     "metadata": {},
     "output_type": "display_data"
    },
    {
     "name": "stdout",
     "output_type": "stream",
     "text": [
      "100 estimators, max depth 10\n",
      "MAPE: 0.16 MedAPE: 0.1060 MSE:590570.5414241096\n",
      "Model saved to ../models/idealista18_madrid_randomforest_UNITPRICE_estimators-100_depth-10.pickle (4336.62 KB)\n"
     ]
    },
    {
     "data": {
      "text/html": [],
      "text/plain": [
       "<IPython.core.display.HTML object>"
      ]
     },
     "metadata": {},
     "output_type": "display_data"
    },
    {
     "data": {
      "text/html": [
       "<br>    <style><br>        .wandb-row {<br>            display: flex;<br>            flex-direction: row;<br>            flex-wrap: wrap;<br>            justify-content: flex-start;<br>            width: 100%;<br>        }<br>        .wandb-col {<br>            display: flex;<br>            flex-direction: column;<br>            flex-basis: 100%;<br>            flex: 1;<br>            padding: 10px;<br>        }<br>    </style><br><div class=\"wandb-row\"><div class=\"wandb-col\"><h3>Run history:</h3><br/><table class=\"wandb\"><tr><td>mae</td><td>▁</td></tr><tr><td>mape</td><td>▁</td></tr><tr><td>max_depth</td><td>▁</td></tr><tr><td>medape</td><td>▁</td></tr><tr><td>mse</td><td>▁</td></tr><tr><td>n_estimators</td><td>▁</td></tr><tr><td>n_test</td><td>▁</td></tr><tr><td>n_train</td><td>▁</td></tr><tr><td>r2</td><td>▁</td></tr><tr><td>random_state</td><td>▁</td></tr></table><br/></div><div class=\"wandb-col\"><h3>Run summary:</h3><br/><table class=\"wandb\"><tr><td>mae</td><td>530.93472</td></tr><tr><td>mape</td><td>0.16151</td></tr><tr><td>max_depth</td><td>10</td></tr><tr><td>medape</td><td>0.10601</td></tr><tr><td>mse</td><td>590570.54142</td></tr><tr><td>n_estimators</td><td>100</td></tr><tr><td>n_test</td><td>18963</td></tr><tr><td>n_train</td><td>75851</td></tr><tr><td>r2</td><td>0.79412</td></tr><tr><td>random_state</td><td>42</td></tr></table><br/></div></div>"
      ],
      "text/plain": [
       "<IPython.core.display.HTML object>"
      ]
     },
     "metadata": {},
     "output_type": "display_data"
    },
    {
     "data": {
      "text/html": [
       " View run <strong style=\"color:#cdcd00\">lyric-planet-8</strong> at: <a href='https://wandb.ai/davidreyblanco-uned-universidad-nacional-de-educaci-n-a-/idealista18_madrid_randomforest_UNITPRICE_mds9/runs/xkgcbcyp' target=\"_blank\">https://wandb.ai/davidreyblanco-uned-universidad-nacional-de-educaci-n-a-/idealista18_madrid_randomforest_UNITPRICE_mds9/runs/xkgcbcyp</a><br> View project at: <a href='https://wandb.ai/davidreyblanco-uned-universidad-nacional-de-educaci-n-a-/idealista18_madrid_randomforest_UNITPRICE_mds9' target=\"_blank\">https://wandb.ai/davidreyblanco-uned-universidad-nacional-de-educaci-n-a-/idealista18_madrid_randomforest_UNITPRICE_mds9</a><br>Synced 5 W&B file(s), 1 media file(s), 3 artifact file(s) and 0 other file(s)"
      ],
      "text/plain": [
       "<IPython.core.display.HTML object>"
      ]
     },
     "metadata": {},
     "output_type": "display_data"
    },
    {
     "data": {
      "text/html": [
       "Find logs at: <code>./wandb/run-20250603_155943-xkgcbcyp/logs</code>"
      ],
      "text/plain": [
       "<IPython.core.display.HTML object>"
      ]
     },
     "metadata": {},
     "output_type": "display_data"
    }
   ],
   "source": [
    "# Train/test split and model training\n",
    "import unidecode as unidecode\n",
    "import joblib\n",
    "from sklearn.ensemble import RandomForestRegressor\n",
    "from sklearn.model_selection import train_test_split\n",
    "from sklearn.metrics import mean_squared_error\n",
    "from sklearn.metrics import r2_score\n",
    "from sklearn.metrics import mean_absolute_error\n",
    "from sklearn.metrics import mean_absolute_percentage_error, median_absolute_error\n",
    "\n",
    "TEAM_ENTITY = \"mds9\"  # Replace with your team entity\n",
    "ALGORITHM = \"Random Forest\"\n",
    "CITY = \"Madrid\"\n",
    "DATASET = \"idealista18\"\n",
    "algorithm_slug = unidecode.unidecode(ALGORITHM).lower().replace(\" \", \"\")\n",
    "PROJECT = f\"{DATASET}_{CITY.lower()}_{algorithm_slug}_{TARGET_COLUMN}_{TEAM_ENTITY.lower()}\"\n",
    "\n",
    "\n",
    "# 1) Grab the W&B token\n",
    "wandb_token = os.getenv(\"WANDB_API_KEY\")\n",
    "if wandb_token is None:\n",
    "    raise RuntimeError(\"WANDB_API_KEY not found in environment. Did you create a .env with that variable?\")\n",
    "\n",
    "# 2) Login with the token\n",
    "wandb.login(key=wandb_token)\n",
    "\n",
    "for n_estimators in [10, 20, 50, 100]:\n",
    "    for max_depth in [5, 10]:\n",
    "\n",
    "        # 3) Train some models\n",
    "        with wandb.init(project=PROJECT, config={\"algorithm\": ALGORITHM,\n",
    "                                                \"target\": TARGET_COLUMN,\n",
    "                                                \"city\": CITY,\n",
    "                                                \"dataset\": DATASET }) as run:\n",
    "\n",
    "            #\n",
    "            # Create a grid search for hyperparameters\n",
    "            #\n",
    "                random_state=42\n",
    "                print(f\"{n_estimators} estimators, max depth {max_depth}\")\n",
    "                X_train, X_test, y_train, y_test = train_test_split(X, y, test_size=0.2, random_state=random_state)\n",
    "                model = RandomForestRegressor(n_estimators=n_estimators, max_depth = 10, random_state=random_state)\n",
    "                model.fit(X_train, y_train)\n",
    "                preds = model.predict(X_test)\n",
    "                mse = mean_squared_error(y_test, preds)\n",
    "                r2 = r2_score(y_test, preds)\n",
    "                mae = mean_absolute_error(y_test, preds)\n",
    "                mape = mean_absolute_percentage_error(y_test, preds)\n",
    "                medape = median_absolute_error(y_test, preds) / y_test.median()\n",
    "\n",
    "                print(f\"MAPE: {mape:.2f} MedAPE: {medape:.4f} MSE:{mse}\")\n",
    "\n",
    "                run.log({\n",
    "                    \"mse\": mse,\n",
    "                    \"r2\": r2,\n",
    "                    \"mape\": mape,\n",
    "                    \"medape\": medape,\n",
    "                    \"mae\": mae,\n",
    "                    \"random_state\": random_state,\n",
    "                    'n_train': len(X_train),\n",
    "                    'n_test': len(X_test),\n",
    "                    \"n_estimators\": n_estimators,\n",
    "                    \"max_depth\": max_depth, \n",
    "                })\n",
    "\n",
    "                # Create a model filename fingerprint\n",
    "                \n",
    "                model_fp = f\"estimators-{n_estimators}_depth-{max_depth}\"\n",
    "                model_artifact_name = f\"{DATASET}_{CITY.lower()}_{algorithm_slug}_{TARGET_COLUMN}_{model_fp}\"\n",
    "\n",
    "                model_filename = f\"../models/{model_artifact_name}.pickle\"\n",
    "                joblib.dump(model, model_filename, compress=('gzip', 3))\n",
    "                model_size = os.path.getsize(model_filename)\n",
    "                print(f\"Model saved to {model_filename} ({model_size / 1024:.2f} KB)\")\n",
    "\n",
    "                # Guardamos el modelo en el repositorio de modelos de W&B\n",
    "                model_artifact_name = f'idealista18_madrid_{ALGORITHM.lower().replace(\" \", \"_\")}'\n",
    "\n",
    "                artifact = wandb.Artifact(name=model_artifact_name, \n",
    "                                        type=\"model\", \n",
    "                                        description=f\"{ALGORITHM} model for Madrid housing prices\")\n",
    "                artifact.metadata[\"tags\"] = [model_fp, CITY, DATASET]\n",
    "                artifact.metadata[\"aliases\"] = [model_fp]\n",
    "                artifact.add_file(local_path=model_filename)\n",
    "                artifact.save()\n",
    "                run.log_artifact(artifact, aliases=[\"latest\", \"production\", model_fp])\n",
    "\n",
    "                df = pd.DataFrame({\n",
    "                    \"actual_price\": y_test,\n",
    "                    \"predicted_price\": preds,\n",
    "                    \"error\": abs(y_test - preds),            # e.g. point‐size or color\n",
    "                })\n",
    "                df = wandb.Table(dataframe=df)\n",
    "\n",
    "                # 1) Simple scatter with axis labels and a color dimension (error)\n",
    "                run.log({\n",
    "                    \"price_scatter\": wandb.plot.scatter(\n",
    "                        df,\n",
    "                        x=\"actual_price\",\n",
    "                        y=\"predicted_price\",\n",
    "                        title=\"Predicted vs Actual Price\",\n",
    "                        #xname=\"Actual (EUR)\",\n",
    "                        #yname=\"Predicted (EUR)\"\n",
    "                    )\n",
    "                })\n",
    "\n",
    "                # 2) If you want to color‐code each point by “error”:\n",
    "                run.log({\n",
    "                    \"price_scatter_colored\": wandb.plot.scatter(\n",
    "                        df,\n",
    "                        x=\"actual_price\",\n",
    "                        y=\"predicted_price\",\n",
    "                        title=\"Predicted vs Actual Price (colored by error)\",\n",
    "                        #xname=\"Actual (EUR)\",\n",
    "                        #yname=\"Predicted (EUR)\",\n",
    "                        #color=\"error\",    # column in df\n",
    "                        #colorscale=\"Viridis\"  # any Plotly colorscale name\n",
    "                    )\n",
    "                })\n",
    "\n"
   ]
  },
  {
   "cell_type": "markdown",
   "id": "dbe7f3cb",
   "metadata": {},
   "source": [
    "Ahora descargamos el artefacto desde el proyecto, tomamos la última versión del artefacto"
   ]
  },
  {
   "cell_type": "code",
   "execution_count": 34,
   "id": "44bd1b22",
   "metadata": {},
   "outputs": [
    {
     "data": {
      "text/html": [
       "Tracking run with wandb version 0.19.11"
      ],
      "text/plain": [
       "<IPython.core.display.HTML object>"
      ]
     },
     "metadata": {},
     "output_type": "display_data"
    },
    {
     "data": {
      "text/html": [
       "Run data is saved locally in <code>/Users/davidreyblanco/Software/techweek/ml-idealista-18/notebooks/wandb/run-20250603_160021-ltnrk9kf</code>"
      ],
      "text/plain": [
       "<IPython.core.display.HTML object>"
      ]
     },
     "metadata": {},
     "output_type": "display_data"
    },
    {
     "data": {
      "text/html": [
       "Syncing run <strong><a href='https://wandb.ai/davidreyblanco-uned-universidad-nacional-de-educaci-n-a-/idealista18_madrid_randomforest_UNITPRICE_mds9/runs/ltnrk9kf' target=\"_blank\">fancy-wave-9</a></strong> to <a href='https://wandb.ai/davidreyblanco-uned-universidad-nacional-de-educaci-n-a-/idealista18_madrid_randomforest_UNITPRICE_mds9' target=\"_blank\">Weights & Biases</a> (<a href='https://wandb.me/developer-guide' target=\"_blank\">docs</a>)<br>"
      ],
      "text/plain": [
       "<IPython.core.display.HTML object>"
      ]
     },
     "metadata": {},
     "output_type": "display_data"
    },
    {
     "data": {
      "text/html": [
       " View project at <a href='https://wandb.ai/davidreyblanco-uned-universidad-nacional-de-educaci-n-a-/idealista18_madrid_randomforest_UNITPRICE_mds9' target=\"_blank\">https://wandb.ai/davidreyblanco-uned-universidad-nacional-de-educaci-n-a-/idealista18_madrid_randomforest_UNITPRICE_mds9</a>"
      ],
      "text/plain": [
       "<IPython.core.display.HTML object>"
      ]
     },
     "metadata": {},
     "output_type": "display_data"
    },
    {
     "data": {
      "text/html": [
       " View run at <a href='https://wandb.ai/davidreyblanco-uned-universidad-nacional-de-educaci-n-a-/idealista18_madrid_randomforest_UNITPRICE_mds9/runs/ltnrk9kf' target=\"_blank\">https://wandb.ai/davidreyblanco-uned-universidad-nacional-de-educaci-n-a-/idealista18_madrid_randomforest_UNITPRICE_mds9/runs/ltnrk9kf</a>"
      ],
      "text/plain": [
       "<IPython.core.display.HTML object>"
      ]
     },
     "metadata": {},
     "output_type": "display_data"
    },
    {
     "name": "stderr",
     "output_type": "stream",
     "text": [
      "\u001b[34m\u001b[1mwandb\u001b[0m:   1 of 1 files downloaded.  \n"
     ]
    },
    {
     "name": "stdout",
     "output_type": "stream",
     "text": [
      "Model file found: idealista18_madrid_randomforest_UNITPRICE_estimators-100_depth-10.pickle\n",
      "Inference complete. Example predictions: [1764.98531117 4718.75693724 5796.55918938 1744.09998795 4626.98169403]\n"
     ]
    },
    {
     "data": {
      "text/html": [],
      "text/plain": [
       "<IPython.core.display.HTML object>"
      ]
     },
     "metadata": {},
     "output_type": "display_data"
    },
    {
     "data": {
      "text/html": [
       " View run <strong style=\"color:#cdcd00\">fancy-wave-9</strong> at: <a href='https://wandb.ai/davidreyblanco-uned-universidad-nacional-de-educaci-n-a-/idealista18_madrid_randomforest_UNITPRICE_mds9/runs/ltnrk9kf' target=\"_blank\">https://wandb.ai/davidreyblanco-uned-universidad-nacional-de-educaci-n-a-/idealista18_madrid_randomforest_UNITPRICE_mds9/runs/ltnrk9kf</a><br> View project at: <a href='https://wandb.ai/davidreyblanco-uned-universidad-nacional-de-educaci-n-a-/idealista18_madrid_randomforest_UNITPRICE_mds9' target=\"_blank\">https://wandb.ai/davidreyblanco-uned-universidad-nacional-de-educaci-n-a-/idealista18_madrid_randomforest_UNITPRICE_mds9</a><br>Synced 5 W&B file(s), 0 media file(s), 0 artifact file(s) and 0 other file(s)"
      ],
      "text/plain": [
       "<IPython.core.display.HTML object>"
      ]
     },
     "metadata": {},
     "output_type": "display_data"
    },
    {
     "data": {
      "text/html": [
       "Find logs at: <code>./wandb/run-20250603_160021-ltnrk9kf/logs</code>"
      ],
      "text/plain": [
       "<IPython.core.display.HTML object>"
      ]
     },
     "metadata": {},
     "output_type": "display_data"
    }
   ],
   "source": [
    "import joblib\n",
    "\n",
    "tag = \"latest\"  # or any specific tag you want to use\n",
    "\n",
    "model_artifact_name = 'idealista18_madrid_random_forest'\n",
    "\n",
    "with wandb.init(project=PROJECT) as run:\n",
    "    # Load the artifact from wandb and run inference on X_test\n",
    "    artifact_path = f\"{model_artifact_name}:{tag}\"  # Use the artifact name and tag\n",
    "    artifact = run.use_artifact(artifact_path, type=\"model\")\n",
    "    artifact_dir = artifact.download()\n",
    "    \n",
    "    files = os.listdir(artifact_dir)\n",
    "    model_filename = files[0]  \n",
    "    print(f\"Model file found: {model_filename}\")\n",
    "\n",
    "    loaded_model = joblib.load(os.path.join(artifact_dir, model_filename))\n",
    "\n",
    "    # Run inference\n",
    "    loaded_preds = loaded_model.predict(X_test)\n",
    "    print(\"Inference complete. Example predictions:\", loaded_preds[:5])\n"
   ]
  },
  {
   "cell_type": "markdown",
   "id": "e07ddbb9",
   "metadata": {},
   "source": [
    "# Simple regression Tree"
   ]
  },
  {
   "cell_type": "code",
   "execution_count": 37,
   "id": "cb093ac5",
   "metadata": {},
   "outputs": [
    {
     "name": "stderr",
     "output_type": "stream",
     "text": [
      "\u001b[34m\u001b[1mwandb\u001b[0m: \u001b[33mWARNING\u001b[0m If you're specifying your api key in code, ensure this code is not shared publicly.\n",
      "\u001b[34m\u001b[1mwandb\u001b[0m: \u001b[33mWARNING\u001b[0m Consider setting the WANDB_API_KEY environment variable, or running `wandb login` from the command line.\n",
      "\u001b[34m\u001b[1mwandb\u001b[0m: Appending key for api.wandb.ai to your netrc file: /Users/davidreyblanco/.netrc\n"
     ]
    },
    {
     "data": {
      "text/html": [
       "Tracking run with wandb version 0.19.11"
      ],
      "text/plain": [
       "<IPython.core.display.HTML object>"
      ]
     },
     "metadata": {},
     "output_type": "display_data"
    },
    {
     "data": {
      "text/html": [
       "Run data is saved locally in <code>/Users/davidreyblanco/Software/techweek/ml-idealista-18/notebooks/wandb/run-20250603_160623-l9hnh2vx</code>"
      ],
      "text/plain": [
       "<IPython.core.display.HTML object>"
      ]
     },
     "metadata": {},
     "output_type": "display_data"
    },
    {
     "data": {
      "text/html": [
       "Syncing run <strong><a href='https://wandb.ai/davidreyblanco-uned-universidad-nacional-de-educaci-n-a-/idealista18_madrid_decisiontree_UNITPRICE_mds9/runs/l9hnh2vx' target=\"_blank\">wise-sun-1</a></strong> to <a href='https://wandb.ai/davidreyblanco-uned-universidad-nacional-de-educaci-n-a-/idealista18_madrid_decisiontree_UNITPRICE_mds9' target=\"_blank\">Weights & Biases</a> (<a href='https://wandb.me/developer-guide' target=\"_blank\">docs</a>)<br>"
      ],
      "text/plain": [
       "<IPython.core.display.HTML object>"
      ]
     },
     "metadata": {},
     "output_type": "display_data"
    },
    {
     "data": {
      "text/html": [
       " View project at <a href='https://wandb.ai/davidreyblanco-uned-universidad-nacional-de-educaci-n-a-/idealista18_madrid_decisiontree_UNITPRICE_mds9' target=\"_blank\">https://wandb.ai/davidreyblanco-uned-universidad-nacional-de-educaci-n-a-/idealista18_madrid_decisiontree_UNITPRICE_mds9</a>"
      ],
      "text/plain": [
       "<IPython.core.display.HTML object>"
      ]
     },
     "metadata": {},
     "output_type": "display_data"
    },
    {
     "data": {
      "text/html": [
       " View run at <a href='https://wandb.ai/davidreyblanco-uned-universidad-nacional-de-educaci-n-a-/idealista18_madrid_decisiontree_UNITPRICE_mds9/runs/l9hnh2vx' target=\"_blank\">https://wandb.ai/davidreyblanco-uned-universidad-nacional-de-educaci-n-a-/idealista18_madrid_decisiontree_UNITPRICE_mds9/runs/l9hnh2vx</a>"
      ],
      "text/plain": [
       "<IPython.core.display.HTML object>"
      ]
     },
     "metadata": {},
     "output_type": "display_data"
    },
    {
     "name": "stdout",
     "output_type": "stream",
     "text": [
      "100 estimators, max depth 5\n",
      "MAPE: 0.22 MedAPE: 0.1496 MSE:974779.535222676\n",
      "Model saved to ../models/idealista18_madrid_decisiontree_UNITPRICE_depth-5.pickle (3.06 KB)\n"
     ]
    },
    {
     "data": {
      "text/html": [],
      "text/plain": [
       "<IPython.core.display.HTML object>"
      ]
     },
     "metadata": {},
     "output_type": "display_data"
    },
    {
     "data": {
      "text/html": [
       "<br>    <style><br>        .wandb-row {<br>            display: flex;<br>            flex-direction: row;<br>            flex-wrap: wrap;<br>            justify-content: flex-start;<br>            width: 100%;<br>        }<br>        .wandb-col {<br>            display: flex;<br>            flex-direction: column;<br>            flex-basis: 100%;<br>            flex: 1;<br>            padding: 10px;<br>        }<br>    </style><br><div class=\"wandb-row\"><div class=\"wandb-col\"><h3>Run history:</h3><br/><table class=\"wandb\"><tr><td>mae</td><td>▁</td></tr><tr><td>mape</td><td>▁</td></tr><tr><td>max_depth</td><td>▁</td></tr><tr><td>medape</td><td>▁</td></tr><tr><td>mse</td><td>▁</td></tr><tr><td>n_estimators</td><td>▁</td></tr><tr><td>n_test</td><td>▁</td></tr><tr><td>n_train</td><td>▁</td></tr><tr><td>r2</td><td>▁</td></tr><tr><td>random_state</td><td>▁</td></tr></table><br/></div><div class=\"wandb-col\"><h3>Run summary:</h3><br/><table class=\"wandb\"><tr><td>mae</td><td>714.26429</td></tr><tr><td>mape</td><td>0.21785</td></tr><tr><td>max_depth</td><td>5</td></tr><tr><td>medape</td><td>0.14956</td></tr><tr><td>mse</td><td>974779.53522</td></tr><tr><td>n_estimators</td><td>100</td></tr><tr><td>n_test</td><td>18963</td></tr><tr><td>n_train</td><td>75851</td></tr><tr><td>r2</td><td>0.66018</td></tr><tr><td>random_state</td><td>42</td></tr></table><br/></div></div>"
      ],
      "text/plain": [
       "<IPython.core.display.HTML object>"
      ]
     },
     "metadata": {},
     "output_type": "display_data"
    },
    {
     "data": {
      "text/html": [
       " View run <strong style=\"color:#cdcd00\">wise-sun-1</strong> at: <a href='https://wandb.ai/davidreyblanco-uned-universidad-nacional-de-educaci-n-a-/idealista18_madrid_decisiontree_UNITPRICE_mds9/runs/l9hnh2vx' target=\"_blank\">https://wandb.ai/davidreyblanco-uned-universidad-nacional-de-educaci-n-a-/idealista18_madrid_decisiontree_UNITPRICE_mds9/runs/l9hnh2vx</a><br> View project at: <a href='https://wandb.ai/davidreyblanco-uned-universidad-nacional-de-educaci-n-a-/idealista18_madrid_decisiontree_UNITPRICE_mds9' target=\"_blank\">https://wandb.ai/davidreyblanco-uned-universidad-nacional-de-educaci-n-a-/idealista18_madrid_decisiontree_UNITPRICE_mds9</a><br>Synced 5 W&B file(s), 1 media file(s), 4 artifact file(s) and 0 other file(s)"
      ],
      "text/plain": [
       "<IPython.core.display.HTML object>"
      ]
     },
     "metadata": {},
     "output_type": "display_data"
    },
    {
     "data": {
      "text/html": [
       "Find logs at: <code>./wandb/run-20250603_160623-l9hnh2vx/logs</code>"
      ],
      "text/plain": [
       "<IPython.core.display.HTML object>"
      ]
     },
     "metadata": {},
     "output_type": "display_data"
    },
    {
     "data": {
      "text/html": [
       "Tracking run with wandb version 0.19.11"
      ],
      "text/plain": [
       "<IPython.core.display.HTML object>"
      ]
     },
     "metadata": {},
     "output_type": "display_data"
    },
    {
     "data": {
      "text/html": [
       "Run data is saved locally in <code>/Users/davidreyblanco/Software/techweek/ml-idealista-18/notebooks/wandb/run-20250603_160628-1a6a8g8x</code>"
      ],
      "text/plain": [
       "<IPython.core.display.HTML object>"
      ]
     },
     "metadata": {},
     "output_type": "display_data"
    },
    {
     "data": {
      "text/html": [
       "Syncing run <strong><a href='https://wandb.ai/davidreyblanco-uned-universidad-nacional-de-educaci-n-a-/idealista18_madrid_decisiontree_UNITPRICE_mds9/runs/1a6a8g8x' target=\"_blank\">still-tree-2</a></strong> to <a href='https://wandb.ai/davidreyblanco-uned-universidad-nacional-de-educaci-n-a-/idealista18_madrid_decisiontree_UNITPRICE_mds9' target=\"_blank\">Weights & Biases</a> (<a href='https://wandb.me/developer-guide' target=\"_blank\">docs</a>)<br>"
      ],
      "text/plain": [
       "<IPython.core.display.HTML object>"
      ]
     },
     "metadata": {},
     "output_type": "display_data"
    },
    {
     "data": {
      "text/html": [
       " View project at <a href='https://wandb.ai/davidreyblanco-uned-universidad-nacional-de-educaci-n-a-/idealista18_madrid_decisiontree_UNITPRICE_mds9' target=\"_blank\">https://wandb.ai/davidreyblanco-uned-universidad-nacional-de-educaci-n-a-/idealista18_madrid_decisiontree_UNITPRICE_mds9</a>"
      ],
      "text/plain": [
       "<IPython.core.display.HTML object>"
      ]
     },
     "metadata": {},
     "output_type": "display_data"
    },
    {
     "data": {
      "text/html": [
       " View run at <a href='https://wandb.ai/davidreyblanco-uned-universidad-nacional-de-educaci-n-a-/idealista18_madrid_decisiontree_UNITPRICE_mds9/runs/1a6a8g8x' target=\"_blank\">https://wandb.ai/davidreyblanco-uned-universidad-nacional-de-educaci-n-a-/idealista18_madrid_decisiontree_UNITPRICE_mds9/runs/1a6a8g8x</a>"
      ],
      "text/plain": [
       "<IPython.core.display.HTML object>"
      ]
     },
     "metadata": {},
     "output_type": "display_data"
    },
    {
     "name": "stdout",
     "output_type": "stream",
     "text": [
      "100 estimators, max depth 10\n",
      "MAPE: 0.17 MedAPE: 0.1143 MSE:680536.3614929119\n",
      "Model saved to ../models/idealista18_madrid_decisiontree_UNITPRICE_depth-10.pickle (45.71 KB)\n"
     ]
    },
    {
     "data": {
      "text/html": [],
      "text/plain": [
       "<IPython.core.display.HTML object>"
      ]
     },
     "metadata": {},
     "output_type": "display_data"
    },
    {
     "data": {
      "text/html": [
       "<br>    <style><br>        .wandb-row {<br>            display: flex;<br>            flex-direction: row;<br>            flex-wrap: wrap;<br>            justify-content: flex-start;<br>            width: 100%;<br>        }<br>        .wandb-col {<br>            display: flex;<br>            flex-direction: column;<br>            flex-basis: 100%;<br>            flex: 1;<br>            padding: 10px;<br>        }<br>    </style><br><div class=\"wandb-row\"><div class=\"wandb-col\"><h3>Run history:</h3><br/><table class=\"wandb\"><tr><td>mae</td><td>▁</td></tr><tr><td>mape</td><td>▁</td></tr><tr><td>max_depth</td><td>▁</td></tr><tr><td>medape</td><td>▁</td></tr><tr><td>mse</td><td>▁</td></tr><tr><td>n_estimators</td><td>▁</td></tr><tr><td>n_test</td><td>▁</td></tr><tr><td>n_train</td><td>▁</td></tr><tr><td>r2</td><td>▁</td></tr><tr><td>random_state</td><td>▁</td></tr></table><br/></div><div class=\"wandb-col\"><h3>Run summary:</h3><br/><table class=\"wandb\"><tr><td>mae</td><td>570.86571</td></tr><tr><td>mape</td><td>0.17215</td></tr><tr><td>max_depth</td><td>10</td></tr><tr><td>medape</td><td>0.1143</td></tr><tr><td>mse</td><td>680536.36149</td></tr><tr><td>n_estimators</td><td>100</td></tr><tr><td>n_test</td><td>18963</td></tr><tr><td>n_train</td><td>75851</td></tr><tr><td>r2</td><td>0.76275</td></tr><tr><td>random_state</td><td>42</td></tr></table><br/></div></div>"
      ],
      "text/plain": [
       "<IPython.core.display.HTML object>"
      ]
     },
     "metadata": {},
     "output_type": "display_data"
    },
    {
     "data": {
      "text/html": [
       " View run <strong style=\"color:#cdcd00\">still-tree-2</strong> at: <a href='https://wandb.ai/davidreyblanco-uned-universidad-nacional-de-educaci-n-a-/idealista18_madrid_decisiontree_UNITPRICE_mds9/runs/1a6a8g8x' target=\"_blank\">https://wandb.ai/davidreyblanco-uned-universidad-nacional-de-educaci-n-a-/idealista18_madrid_decisiontree_UNITPRICE_mds9/runs/1a6a8g8x</a><br> View project at: <a href='https://wandb.ai/davidreyblanco-uned-universidad-nacional-de-educaci-n-a-/idealista18_madrid_decisiontree_UNITPRICE_mds9' target=\"_blank\">https://wandb.ai/davidreyblanco-uned-universidad-nacional-de-educaci-n-a-/idealista18_madrid_decisiontree_UNITPRICE_mds9</a><br>Synced 5 W&B file(s), 1 media file(s), 4 artifact file(s) and 0 other file(s)"
      ],
      "text/plain": [
       "<IPython.core.display.HTML object>"
      ]
     },
     "metadata": {},
     "output_type": "display_data"
    },
    {
     "data": {
      "text/html": [
       "Find logs at: <code>./wandb/run-20250603_160628-1a6a8g8x/logs</code>"
      ],
      "text/plain": [
       "<IPython.core.display.HTML object>"
      ]
     },
     "metadata": {},
     "output_type": "display_data"
    },
    {
     "data": {
      "text/html": [
       "Tracking run with wandb version 0.19.11"
      ],
      "text/plain": [
       "<IPython.core.display.HTML object>"
      ]
     },
     "metadata": {},
     "output_type": "display_data"
    },
    {
     "data": {
      "text/html": [
       "Run data is saved locally in <code>/Users/davidreyblanco/Software/techweek/ml-idealista-18/notebooks/wandb/run-20250603_160633-uyolqjel</code>"
      ],
      "text/plain": [
       "<IPython.core.display.HTML object>"
      ]
     },
     "metadata": {},
     "output_type": "display_data"
    },
    {
     "data": {
      "text/html": [
       "Syncing run <strong><a href='https://wandb.ai/davidreyblanco-uned-universidad-nacional-de-educaci-n-a-/idealista18_madrid_decisiontree_UNITPRICE_mds9/runs/uyolqjel' target=\"_blank\">tough-night-3</a></strong> to <a href='https://wandb.ai/davidreyblanco-uned-universidad-nacional-de-educaci-n-a-/idealista18_madrid_decisiontree_UNITPRICE_mds9' target=\"_blank\">Weights & Biases</a> (<a href='https://wandb.me/developer-guide' target=\"_blank\">docs</a>)<br>"
      ],
      "text/plain": [
       "<IPython.core.display.HTML object>"
      ]
     },
     "metadata": {},
     "output_type": "display_data"
    },
    {
     "data": {
      "text/html": [
       " View project at <a href='https://wandb.ai/davidreyblanco-uned-universidad-nacional-de-educaci-n-a-/idealista18_madrid_decisiontree_UNITPRICE_mds9' target=\"_blank\">https://wandb.ai/davidreyblanco-uned-universidad-nacional-de-educaci-n-a-/idealista18_madrid_decisiontree_UNITPRICE_mds9</a>"
      ],
      "text/plain": [
       "<IPython.core.display.HTML object>"
      ]
     },
     "metadata": {},
     "output_type": "display_data"
    },
    {
     "data": {
      "text/html": [
       " View run at <a href='https://wandb.ai/davidreyblanco-uned-universidad-nacional-de-educaci-n-a-/idealista18_madrid_decisiontree_UNITPRICE_mds9/runs/uyolqjel' target=\"_blank\">https://wandb.ai/davidreyblanco-uned-universidad-nacional-de-educaci-n-a-/idealista18_madrid_decisiontree_UNITPRICE_mds9/runs/uyolqjel</a>"
      ],
      "text/plain": [
       "<IPython.core.display.HTML object>"
      ]
     },
     "metadata": {},
     "output_type": "display_data"
    },
    {
     "name": "stdout",
     "output_type": "stream",
     "text": [
      "100 estimators, max depth 30\n",
      "MAPE: 0.15 MedAPE: 0.0766 MSE:699292.9996179165\n",
      "Model saved to ../models/idealista18_madrid_decisiontree_UNITPRICE_depth-30.pickle (2348.33 KB)\n"
     ]
    },
    {
     "data": {
      "text/html": [],
      "text/plain": [
       "<IPython.core.display.HTML object>"
      ]
     },
     "metadata": {},
     "output_type": "display_data"
    },
    {
     "data": {
      "text/html": [
       "<br>    <style><br>        .wandb-row {<br>            display: flex;<br>            flex-direction: row;<br>            flex-wrap: wrap;<br>            justify-content: flex-start;<br>            width: 100%;<br>        }<br>        .wandb-col {<br>            display: flex;<br>            flex-direction: column;<br>            flex-basis: 100%;<br>            flex: 1;<br>            padding: 10px;<br>        }<br>    </style><br><div class=\"wandb-row\"><div class=\"wandb-col\"><h3>Run history:</h3><br/><table class=\"wandb\"><tr><td>mae</td><td>▁</td></tr><tr><td>mape</td><td>▁</td></tr><tr><td>max_depth</td><td>▁</td></tr><tr><td>medape</td><td>▁</td></tr><tr><td>mse</td><td>▁</td></tr><tr><td>n_estimators</td><td>▁</td></tr><tr><td>n_test</td><td>▁</td></tr><tr><td>n_train</td><td>▁</td></tr><tr><td>r2</td><td>▁</td></tr><tr><td>random_state</td><td>▁</td></tr></table><br/></div><div class=\"wandb-col\"><h3>Run summary:</h3><br/><table class=\"wandb\"><tr><td>mae</td><td>504.72104</td></tr><tr><td>mape</td><td>0.1512</td></tr><tr><td>max_depth</td><td>30</td></tr><tr><td>medape</td><td>0.07664</td></tr><tr><td>mse</td><td>699292.99962</td></tr><tr><td>n_estimators</td><td>100</td></tr><tr><td>n_test</td><td>18963</td></tr><tr><td>n_train</td><td>75851</td></tr><tr><td>r2</td><td>0.75622</td></tr><tr><td>random_state</td><td>42</td></tr></table><br/></div></div>"
      ],
      "text/plain": [
       "<IPython.core.display.HTML object>"
      ]
     },
     "metadata": {},
     "output_type": "display_data"
    },
    {
     "data": {
      "text/html": [
       " View run <strong style=\"color:#cdcd00\">tough-night-3</strong> at: <a href='https://wandb.ai/davidreyblanco-uned-universidad-nacional-de-educaci-n-a-/idealista18_madrid_decisiontree_UNITPRICE_mds9/runs/uyolqjel' target=\"_blank\">https://wandb.ai/davidreyblanco-uned-universidad-nacional-de-educaci-n-a-/idealista18_madrid_decisiontree_UNITPRICE_mds9/runs/uyolqjel</a><br> View project at: <a href='https://wandb.ai/davidreyblanco-uned-universidad-nacional-de-educaci-n-a-/idealista18_madrid_decisiontree_UNITPRICE_mds9' target=\"_blank\">https://wandb.ai/davidreyblanco-uned-universidad-nacional-de-educaci-n-a-/idealista18_madrid_decisiontree_UNITPRICE_mds9</a><br>Synced 5 W&B file(s), 1 media file(s), 4 artifact file(s) and 0 other file(s)"
      ],
      "text/plain": [
       "<IPython.core.display.HTML object>"
      ]
     },
     "metadata": {},
     "output_type": "display_data"
    },
    {
     "data": {
      "text/html": [
       "Find logs at: <code>./wandb/run-20250603_160633-uyolqjel/logs</code>"
      ],
      "text/plain": [
       "<IPython.core.display.HTML object>"
      ]
     },
     "metadata": {},
     "output_type": "display_data"
    }
   ],
   "source": [
    "import unidecode as unidecode\n",
    "import joblib\n",
    "from sklearn.ensemble import RandomForestRegressor\n",
    "from sklearn.model_selection import train_test_split\n",
    "from sklearn.metrics import mean_squared_error\n",
    "from sklearn.metrics import r2_score\n",
    "from sklearn.metrics import mean_absolute_error\n",
    "from sklearn.metrics import mean_absolute_percentage_error, median_absolute_error\n",
    "from sklearn.tree import DecisionTreeRegressor\n",
    "\n",
    "TEAM_ENTITY = \"mds9\"  # Replace with your team entity\n",
    "ALGORITHM = \"Decision Tree\"\n",
    "CITY = \"Madrid\"\n",
    "DATASET = \"idealista18\"\n",
    "algorithm_slug = unidecode.unidecode(ALGORITHM).lower().replace(\" \", \"\")\n",
    "PROJECT = f\"{DATASET}_{CITY.lower()}_{algorithm_slug}_{TARGET_COLUMN}_{TEAM_ENTITY.lower()}\"\n",
    "\n",
    "\n",
    "# 1) Grab the W&B token\n",
    "wandb_token = os.getenv(\"WANDB_API_KEY\")\n",
    "if wandb_token is None:\n",
    "    raise RuntimeError(\"WANDB_API_KEY not found in environment. Did you create a .env with that variable?\")\n",
    "\n",
    "# 2) Login with the token\n",
    "wandb.login(key=wandb_token)\n",
    "\n",
    "for max_depth in [5, 10, 30]:\n",
    "\n",
    "        # 3) Train some models\n",
    "        with wandb.init(project=PROJECT, config={\"algorithm\": ALGORITHM,\n",
    "                                                \"target\": TARGET_COLUMN,\n",
    "                                                \"city\": CITY,\n",
    "                                                \"dataset\": DATASET }) as run:\n",
    "\n",
    "            #\n",
    "            # Create a grid search for hyperparameters\n",
    "            #\n",
    "                random_state=42\n",
    "                print(f\"{n_estimators} estimators, max depth {max_depth}\")\n",
    "                model = DecisionTreeRegressor(max_depth=max_depth, random_state=random_state)\n",
    "                model.fit(X_train, y_train)\n",
    "                preds = model.predict(X_test)\n",
    "                mse = mean_squared_error(y_test, preds)\n",
    "                r2 = r2_score(y_test, preds)\n",
    "                mae = mean_absolute_error(y_test, preds)\n",
    "                mape = mean_absolute_percentage_error(y_test, preds)\n",
    "                medape = median_absolute_error(y_test, preds) / y_test.median()\n",
    "\n",
    "                print(f\"MAPE: {mape:.2f} MedAPE: {medape:.4f} MSE:{mse}\")\n",
    "\n",
    "                run.log({\n",
    "                    \"mse\": mse,\n",
    "                    \"r2\": r2,\n",
    "                    \"mape\": mape,\n",
    "                    \"medape\": medape,\n",
    "                    \"mae\": mae,\n",
    "                    \"random_state\": random_state,\n",
    "                    'n_train': len(X_train),\n",
    "                    'n_test': len(X_test),\n",
    "                    \"n_estimators\": n_estimators,\n",
    "                    \"max_depth\": max_depth, \n",
    "                })\n",
    "\n",
    "                # Create a model filename fingerprint\n",
    "                \n",
    "                model_fp = f\"depth-{max_depth}\"\n",
    "                model_artifact_name = f\"{DATASET}_{CITY.lower()}_{algorithm_slug}_{TARGET_COLUMN}_{model_fp}\"\n",
    "\n",
    "                model_filename = f\"../models/{model_artifact_name}.pickle\"\n",
    "                joblib.dump(model, model_filename, compress=('gzip', 3))\n",
    "                model_size = os.path.getsize(model_filename)\n",
    "                print(f\"Model saved to {model_filename} ({model_size / 1024:.2f} KB)\")\n",
    "\n",
    "                # Guardamos el modelo en el repositorio de modelos de W&B = idealista18_madrid_random_forest\n",
    "                model_artifact_name = f'idealista18_madrid_{ALGORITHM.lower().replace(\" \", \"_\")}'\n",
    "\n",
    "                artifact = wandb.Artifact(name=model_artifact_name, \n",
    "                                        type=\"model\", \n",
    "                                        description=f\"{ALGORITHM} model for Madrid housing prices\")\n",
    "\n",
    "                artifact.metadata[\"tags\"] = [model_fp, CITY, DATASET]\n",
    "                artifact.metadata[\"aliases\"] = [model_fp]\n",
    "                artifact.add_file(local_path=model_filename)\n",
    "                artifact.save()\n",
    "                run.log_artifact(artifact, aliases=[\"latest\", \"production\", model_fp])\n",
    "\n",
    "                df = pd.DataFrame({\n",
    "                    \"actual_price\": y_test,\n",
    "                    \"predicted_price\": preds,\n",
    "                    \"error\": abs(y_test - preds),            # e.g. point‐size or color\n",
    "                })\n",
    "                df = wandb.Table(dataframe=df)\n",
    "\n",
    "                # 1) Simple scatter with axis labels and a color dimension (error)\n",
    "                run.log({\n",
    "                    \"price_scatter\": wandb.plot.scatter(\n",
    "                        df,\n",
    "                        x=\"actual_price\",\n",
    "                        y=\"predicted_price\",\n",
    "                        title=\"Predicted vs Actual Price\",\n",
    "                        #xname=\"Actual (EUR)\",\n",
    "                        #yname=\"Predicted (EUR)\"\n",
    "                    )\n",
    "                })\n",
    "\n",
    "                # 2) If you want to color‐code each point by “error”:\n",
    "                run.log({\n",
    "                    \"price_scatter_colored\": wandb.plot.scatter(\n",
    "                        df,\n",
    "                        x=\"actual_price\",\n",
    "                        y=\"predicted_price\",\n",
    "                        title=\"Predicted vs Actual Price (colored by error)\",\n",
    "                        #xname=\"Actual (EUR)\",\n",
    "                        #yname=\"Predicted (EUR)\",\n",
    "                        #color=\"error\",    # column in df\n",
    "                        #colorscale=\"Viridis\"  # any Plotly colorscale name\n",
    "                    )\n",
    "                })\n"
   ]
  },
  {
   "cell_type": "markdown",
   "id": "8bd45500",
   "metadata": {},
   "source": [
    "# Simple regression"
   ]
  },
  {
   "cell_type": "code",
   "execution_count": 38,
   "id": "1c886a23",
   "metadata": {},
   "outputs": [
    {
     "name": "stderr",
     "output_type": "stream",
     "text": [
      "\u001b[34m\u001b[1mwandb\u001b[0m: \u001b[33mWARNING\u001b[0m If you're specifying your api key in code, ensure this code is not shared publicly.\n",
      "\u001b[34m\u001b[1mwandb\u001b[0m: \u001b[33mWARNING\u001b[0m Consider setting the WANDB_API_KEY environment variable, or running `wandb login` from the command line.\n",
      "\u001b[34m\u001b[1mwandb\u001b[0m: Appending key for api.wandb.ai to your netrc file: /Users/davidreyblanco/.netrc\n"
     ]
    },
    {
     "data": {
      "text/html": [
       "Tracking run with wandb version 0.19.11"
      ],
      "text/plain": [
       "<IPython.core.display.HTML object>"
      ]
     },
     "metadata": {},
     "output_type": "display_data"
    },
    {
     "data": {
      "text/html": [
       "Run data is saved locally in <code>/Users/davidreyblanco/Software/techweek/ml-idealista-18/notebooks/wandb/run-20250603_160640-3pj84gxa</code>"
      ],
      "text/plain": [
       "<IPython.core.display.HTML object>"
      ]
     },
     "metadata": {},
     "output_type": "display_data"
    },
    {
     "data": {
      "text/html": [
       "Syncing run <strong><a href='https://wandb.ai/davidreyblanco-uned-universidad-nacional-de-educaci-n-a-/idealista18_madrid_multipleregression_UNITPRICE_mds9/runs/3pj84gxa' target=\"_blank\">stellar-vortex-1</a></strong> to <a href='https://wandb.ai/davidreyblanco-uned-universidad-nacional-de-educaci-n-a-/idealista18_madrid_multipleregression_UNITPRICE_mds9' target=\"_blank\">Weights & Biases</a> (<a href='https://wandb.me/developer-guide' target=\"_blank\">docs</a>)<br>"
      ],
      "text/plain": [
       "<IPython.core.display.HTML object>"
      ]
     },
     "metadata": {},
     "output_type": "display_data"
    },
    {
     "data": {
      "text/html": [
       " View project at <a href='https://wandb.ai/davidreyblanco-uned-universidad-nacional-de-educaci-n-a-/idealista18_madrid_multipleregression_UNITPRICE_mds9' target=\"_blank\">https://wandb.ai/davidreyblanco-uned-universidad-nacional-de-educaci-n-a-/idealista18_madrid_multipleregression_UNITPRICE_mds9</a>"
      ],
      "text/plain": [
       "<IPython.core.display.HTML object>"
      ]
     },
     "metadata": {},
     "output_type": "display_data"
    },
    {
     "data": {
      "text/html": [
       " View run at <a href='https://wandb.ai/davidreyblanco-uned-universidad-nacional-de-educaci-n-a-/idealista18_madrid_multipleregression_UNITPRICE_mds9/runs/3pj84gxa' target=\"_blank\">https://wandb.ai/davidreyblanco-uned-universidad-nacional-de-educaci-n-a-/idealista18_madrid_multipleregression_UNITPRICE_mds9/runs/3pj84gxa</a>"
      ],
      "text/plain": [
       "<IPython.core.display.HTML object>"
      ]
     },
     "metadata": {},
     "output_type": "display_data"
    },
    {
     "name": "stdout",
     "output_type": "stream",
     "text": [
      "100 estimators, max depth 30\n",
      "MAPE: 0.26 MedAPE: 0.1764 MSE:1081204.6200973417\n",
      "Model saved to ../models/idealista18_madrid_multipleregression_UNITPRICE_plain.pickle (1.44 KB)\n"
     ]
    },
    {
     "data": {
      "text/html": [],
      "text/plain": [
       "<IPython.core.display.HTML object>"
      ]
     },
     "metadata": {},
     "output_type": "display_data"
    },
    {
     "data": {
      "text/html": [
       "<br>    <style><br>        .wandb-row {<br>            display: flex;<br>            flex-direction: row;<br>            flex-wrap: wrap;<br>            justify-content: flex-start;<br>            width: 100%;<br>        }<br>        .wandb-col {<br>            display: flex;<br>            flex-direction: column;<br>            flex-basis: 100%;<br>            flex: 1;<br>            padding: 10px;<br>        }<br>    </style><br><div class=\"wandb-row\"><div class=\"wandb-col\"><h3>Run history:</h3><br/><table class=\"wandb\"><tr><td>mae</td><td>▁</td></tr><tr><td>mape</td><td>▁</td></tr><tr><td>max_depth</td><td>▁</td></tr><tr><td>medape</td><td>▁</td></tr><tr><td>mse</td><td>▁</td></tr><tr><td>n_estimators</td><td>▁</td></tr><tr><td>n_test</td><td>▁</td></tr><tr><td>n_train</td><td>▁</td></tr><tr><td>r2</td><td>▁</td></tr><tr><td>random_state</td><td>▁</td></tr></table><br/></div><div class=\"wandb-col\"><h3>Run summary:</h3><br/><table class=\"wandb\"><tr><td>mae</td><td>780.07291</td></tr><tr><td>mape</td><td>0.25674</td></tr><tr><td>max_depth</td><td>30</td></tr><tr><td>medape</td><td>0.17636</td></tr><tr><td>mse</td><td>1081204.6201</td></tr><tr><td>n_estimators</td><td>100</td></tr><tr><td>n_test</td><td>18963</td></tr><tr><td>n_train</td><td>75851</td></tr><tr><td>r2</td><td>0.62307</td></tr><tr><td>random_state</td><td>42</td></tr></table><br/></div></div>"
      ],
      "text/plain": [
       "<IPython.core.display.HTML object>"
      ]
     },
     "metadata": {},
     "output_type": "display_data"
    },
    {
     "data": {
      "text/html": [
       " View run <strong style=\"color:#cdcd00\">stellar-vortex-1</strong> at: <a href='https://wandb.ai/davidreyblanco-uned-universidad-nacional-de-educaci-n-a-/idealista18_madrid_multipleregression_UNITPRICE_mds9/runs/3pj84gxa' target=\"_blank\">https://wandb.ai/davidreyblanco-uned-universidad-nacional-de-educaci-n-a-/idealista18_madrid_multipleregression_UNITPRICE_mds9/runs/3pj84gxa</a><br> View project at: <a href='https://wandb.ai/davidreyblanco-uned-universidad-nacional-de-educaci-n-a-/idealista18_madrid_multipleregression_UNITPRICE_mds9' target=\"_blank\">https://wandb.ai/davidreyblanco-uned-universidad-nacional-de-educaci-n-a-/idealista18_madrid_multipleregression_UNITPRICE_mds9</a><br>Synced 5 W&B file(s), 1 media file(s), 4 artifact file(s) and 0 other file(s)"
      ],
      "text/plain": [
       "<IPython.core.display.HTML object>"
      ]
     },
     "metadata": {},
     "output_type": "display_data"
    },
    {
     "data": {
      "text/html": [
       "Find logs at: <code>./wandb/run-20250603_160640-3pj84gxa/logs</code>"
      ],
      "text/plain": [
       "<IPython.core.display.HTML object>"
      ]
     },
     "metadata": {},
     "output_type": "display_data"
    }
   ],
   "source": [
    "import unidecode as unidecode\n",
    "import joblib\n",
    "from sklearn.ensemble import RandomForestRegressor\n",
    "from sklearn.model_selection import train_test_split\n",
    "from sklearn.metrics import mean_squared_error\n",
    "from sklearn.metrics import r2_score\n",
    "from sklearn.metrics import mean_absolute_error\n",
    "from sklearn.metrics import mean_absolute_percentage_error, median_absolute_error\n",
    "from sklearn.linear_model import LinearRegression\n",
    "\n",
    "TEAM_ENTITY = \"mds9\"  # Replace with your team entity\n",
    "ALGORITHM = \"Multiple Regression\"\n",
    "CITY = \"Madrid\"\n",
    "DATASET = \"idealista18\"\n",
    "algorithm_slug = unidecode.unidecode(ALGORITHM).lower().replace(\" \", \"\")\n",
    "PROJECT = f\"{DATASET}_{CITY.lower()}_{algorithm_slug}_{TARGET_COLUMN}_{TEAM_ENTITY.lower()}\"\n",
    "\n",
    "\n",
    "# 1) Grab the W&B token\n",
    "wandb_token = os.getenv(\"WANDB_API_KEY\")\n",
    "if wandb_token is None:\n",
    "    raise RuntimeError(\"WANDB_API_KEY not found in environment. Did you create a .env with that variable?\")\n",
    "\n",
    "# 2) Login with the token\n",
    "wandb.login(key=wandb_token)\n",
    "\n",
    "\n",
    "    # 3) Train some models\n",
    "with wandb.init(project=PROJECT, config={\"algorithm\": ALGORITHM,\n",
    "                                                \"target\": TARGET_COLUMN,\n",
    "                                                \"city\": CITY,\n",
    "                                                \"dataset\": DATASET }) as run:\n",
    "\n",
    "            #\n",
    "            # Create a grid search for hyperparameters\n",
    "            #\n",
    "                random_state=42\n",
    "                print(f\"{n_estimators} estimators, max depth {max_depth}\")\n",
    "                model = LinearRegression()\n",
    "                # Fill NA values in X_train and X_test with column means\n",
    "                X_train_lr = X_train.fillna(X_train.mean())\n",
    "                X_test_lr = X_test.fillna(X_train.mean())\n",
    "                model.fit(X_train_lr, y_train)\n",
    "                preds = model.predict(X_test_lr)\n",
    "                mse = mean_squared_error(y_test, preds)\n",
    "                r2 = r2_score(y_test, preds)\n",
    "                mae = mean_absolute_error(y_test, preds)\n",
    "                mape = mean_absolute_percentage_error(y_test, preds)\n",
    "                medape = median_absolute_error(y_test, preds) / y_test.median()\n",
    "\n",
    "                print(f\"MAPE: {mape:.2f} MedAPE: {medape:.4f} MSE:{mse}\")\n",
    "\n",
    "                run.log({\n",
    "                    \"mse\": mse,\n",
    "                    \"r2\": r2,\n",
    "                    \"mape\": mape,\n",
    "                    \"medape\": medape,\n",
    "                    \"mae\": mae,\n",
    "                    \"random_state\": random_state,\n",
    "                    'n_train': len(X_train),\n",
    "                    'n_test': len(X_test),\n",
    "                    \"n_estimators\": n_estimators,\n",
    "                    \"max_depth\": max_depth, \n",
    "                })\n",
    "\n",
    "                # Create a model filename fingerprint\n",
    "                \n",
    "                model_fp = f\"plain\"\n",
    "                model_artifact_name = f\"{DATASET}_{CITY.lower()}_{algorithm_slug}_{TARGET_COLUMN}_{model_fp}\"\n",
    "\n",
    "                model_filename = f\"../models/{model_artifact_name}.pickle\"\n",
    "                joblib.dump(model, model_filename, compress=('gzip', 3))\n",
    "                model_size = os.path.getsize(model_filename)\n",
    "                print(f\"Model saved to {model_filename} ({model_size / 1024:.2f} KB)\")\n",
    "\n",
    "                # Guardamos el modelo en el repositorio de modelos de W&B\n",
    "                model_artifact_name = f'idealista18_madrid_{ALGORITHM.lower().replace(\" \", \"_\")}'\n",
    "\n",
    "                artifact = wandb.Artifact(name=model_artifact_name, \n",
    "                                        type=\"model\", \n",
    "                                        description=f\"{ALGORITHM} model for Madrid housing prices\")\n",
    "                artifact.metadata[\"tags\"] = [model_fp, CITY, DATASET]\n",
    "                artifact.metadata[\"aliases\"] = [model_fp]\n",
    "                artifact.add_file(local_path=model_filename)\n",
    "                artifact.save()\n",
    "                run.log_artifact(artifact, aliases=[\"latest\", \"production\", model_fp])\n",
    "\n",
    "                df = pd.DataFrame({\n",
    "                    \"actual_price\": y_test,\n",
    "                    \"predicted_price\": preds,\n",
    "                    \"error\": abs(y_test - preds),            # e.g. point‐size or color\n",
    "                })\n",
    "                df = wandb.Table(dataframe=df)\n",
    "\n",
    "                # 1) Simple scatter with axis labels and a color dimension (error)\n",
    "                run.log({\n",
    "                    \"price_scatter\": wandb.plot.scatter(\n",
    "                        df,\n",
    "                        x=\"actual_price\",\n",
    "                        y=\"predicted_price\",\n",
    "                        title=\"Predicted vs Actual Price\",\n",
    "                        #xname=\"Actual (EUR)\",\n",
    "                        #yname=\"Predicted (EUR)\"\n",
    "                    )\n",
    "                })\n",
    "\n",
    "                # 2) If you want to color‐code each point by “error”:\n",
    "                run.log({\n",
    "                    \"price_scatter_colored\": wandb.plot.scatter(\n",
    "                        df,\n",
    "                        x=\"actual_price\",\n",
    "                        y=\"predicted_price\",\n",
    "                        title=\"Predicted vs Actual Price (colored by error)\",\n",
    "                        #xname=\"Actual (EUR)\",\n",
    "                        #yname=\"Predicted (EUR)\",\n",
    "                        #color=\"error\",    # column in df\n",
    "                        #colorscale=\"Viridis\"  # any Plotly colorscale name\n",
    "                    )\n",
    "                })"
   ]
  }
 ],
 "metadata": {
  "kernelspec": {
   "display_name": ".venv",
   "language": "python",
   "name": "python3"
  },
  "language_info": {
   "codemirror_mode": {
    "name": "ipython",
    "version": 3
   },
   "file_extension": ".py",
   "mimetype": "text/x-python",
   "name": "python",
   "nbconvert_exporter": "python",
   "pygments_lexer": "ipython3",
   "version": "3.12.8"
  }
 },
 "nbformat": 4,
 "nbformat_minor": 5
}
