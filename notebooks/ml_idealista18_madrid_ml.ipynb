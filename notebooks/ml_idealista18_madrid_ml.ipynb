{
 "cells": [
  {
   "cell_type": "markdown",
   "metadata": {},
   "source": [
    "# ML Model for Madrid\n",
    "\n",
    "This notebook builds a RandomForest model on the Madrid dataset. It removes non-target PRICE columns and uses Weights & Biases (wandb) for experiment tracking."
   ]
  },
  {
   "cell_type": "code",
   "execution_count": null,
   "metadata": {},
   "outputs": [],
   "source": [
    "import sys\n",
    "import os\n",
    "import pandas as pd\n",
    "from dotenv import load_dotenv\n",
    "\n",
    "load_dotenv() # Load the environment variables from .env file\n",
    "\n",
    "import importlib\n",
    "# Añadir la ruta al directorio src para importar módulos personalizados\n",
    "sys.path.append(\"../src\")\n",
    "# Unload the module if already loaded\n",
    "if \"idealista18.loader\" in sys.modules:\n",
    "    importlib.reload(sys.modules[\"idealista18.loader\"])\n",
    "else:\n",
    "    import idealista18.loader as loader\n",
    "\n",
    "\n",
    "from idealista18 import loader"
   ]
  },
  {
   "cell_type": "code",
   "execution_count": 12,
   "id": "e2acd9f5",
   "metadata": {},
   "outputs": [
    {
     "name": "stderr",
     "output_type": "stream",
     "text": [
      "\u001b[34m\u001b[1mwandb\u001b[0m: \u001b[33mWARNING\u001b[0m If you're specifying your api key in code, ensure this code is not shared publicly.\n",
      "\u001b[34m\u001b[1mwandb\u001b[0m: \u001b[33mWARNING\u001b[0m Consider setting the WANDB_API_KEY environment variable, or running `wandb login` from the command line.\n",
      "\u001b[34m\u001b[1mwandb\u001b[0m: Appending key for api.wandb.ai to your netrc file: /Users/davidreyblanco/.netrc\n"
     ]
    },
    {
     "data": {
      "text/plain": [
       "True"
      ]
     },
     "execution_count": 12,
     "metadata": {},
     "output_type": "execute_result"
    }
   ],
   "source": [
    "import wandb\n",
    "import random\n",
    "\n",
    "# 1) Grab the W&B token\n",
    "\n",
    "wandb_token = os.getenv(\"WANDB_API_KEY\")\n",
    "if wandb_token is None:\n",
    "    raise RuntimeError(\"WANDB_API_KEY not found in environment. Did you create a .env with that variable?\")\n",
    "# 2) Login with the token\n",
    "wandb.login(key=wandb_token)"
   ]
  },
  {
   "cell_type": "code",
   "execution_count": 13,
   "metadata": {},
   "outputs": [
    {
     "name": "stdout",
     "output_type": "stream",
     "text": [
      "Data loaded:\n",
      "                 ASSETID  PERIOD   PRICE    UNITPRICE ADTYPOLOGYID  \\\n",
      "0  A15019136831406238029  201803  126000  2680.851064         HOME   \n",
      "1   A6677225905472065344  201803  235000  4351.851852         HOME   \n",
      "2  A13341979748618524775  201803  373000  4973.333333         HOME   \n",
      "3   A4775182175615276542  201803  284000  5916.666667         HOME   \n",
      "4   A2492087730711701973  201803  228000  4560.000000         HOME   \n",
      "\n",
      "  ADOPERATIONID  CONSTRUCTEDAREA  ROOMNUMBER  BATHNUMBER  HASTERRACE  ...  \\\n",
      "0          SALE               47           1           1           0  ...   \n",
      "1          SALE               54           1           1           0  ...   \n",
      "2          SALE               75           2           1           0  ...   \n",
      "3          SALE               48           1           1           0  ...   \n",
      "4          SALE               50           0           1           0  ...   \n",
      "\n",
      "   BUILTTYPEID_2  BUILTTYPEID_3  DISTANCE_TO_CITY_CENTER  DISTANCE_TO_METRO  \\\n",
      "0              1              0                 8.058429           0.872075   \n",
      "1              0              1                 0.876369           0.116382   \n",
      "2              0              1                 0.907479           0.139109   \n",
      "3              0              1                 0.845462           0.144299   \n",
      "4              0              1                 1.250231           0.337098   \n",
      "\n",
      "   DISTANCE_TO_CASTELLANA  LONGITUDE   LATITUDE  CITYNAME  ADTYPOLOGY  \\\n",
      "0                6.868677  -3.766933  40.362485    Madrid        HOME   \n",
      "1                1.544125  -3.710725  40.422430    Madrid        HOME   \n",
      "2                1.608444  -3.711571  40.422190    Madrid        HOME   \n",
      "3                1.516166  -3.710440  40.422251    Madrid        HOME   \n",
      "4                1.794136  -3.714340  40.408741    Madrid        HOME   \n",
      "\n",
      "   ADOPERATION  \n",
      "0         SALE  \n",
      "1         SALE  \n",
      "2         SALE  \n",
      "3         SALE  \n",
      "4         SALE  \n",
      "\n",
      "[5 rows x 46 columns]\n"
     ]
    }
   ],
   "source": [
    "# Load and clean data for Madrid\n",
    "df = loader.load_data(\"Madrid\")\n",
    "df = loader.remove_geo_outliers(df, zscore=5)\n",
    "print(\"Data loaded:\")\n",
    "print(df.head())"
   ]
  },
  {
   "cell_type": "code",
   "execution_count": 14,
   "id": "d782375c",
   "metadata": {},
   "outputs": [
    {
     "data": {
      "text/plain": [
       "Index(['ASSETID', 'PERIOD', 'PRICE', 'UNITPRICE', 'ADTYPOLOGYID',\n",
       "       'ADOPERATIONID', 'CONSTRUCTEDAREA', 'ROOMNUMBER', 'BATHNUMBER',\n",
       "       'HASTERRACE', 'HASLIFT', 'HASAIRCONDITIONING', 'AMENITYID',\n",
       "       'HASPARKINGSPACE', 'ISPARKINGSPACEINCLUDEDINPRICE', 'PARKINGSPACEPRICE',\n",
       "       'HASNORTHORIENTATION', 'HASSOUTHORIENTATION', 'HASEASTORIENTATION',\n",
       "       'HASWESTORIENTATION', 'HASBOXROOM', 'HASWARDROBE', 'HASSWIMMINGPOOL',\n",
       "       'HASDOORMAN', 'HASGARDEN', 'ISDUPLEX', 'ISSTUDIO', 'ISINTOPFLOOR',\n",
       "       'CONSTRUCTIONYEAR', 'FLOORCLEAN', 'FLATLOCATIONID',\n",
       "       'CADCONSTRUCTIONYEAR', 'CADMAXBUILDINGFLOOR', 'CADDWELLINGCOUNT',\n",
       "       'CADASTRALQUALITYID', 'BUILTTYPEID_1', 'BUILTTYPEID_2', 'BUILTTYPEID_3',\n",
       "       'DISTANCE_TO_CITY_CENTER', 'DISTANCE_TO_METRO',\n",
       "       'DISTANCE_TO_CASTELLANA', 'LONGITUDE', 'LATITUDE', 'CITYNAME',\n",
       "       'ADTYPOLOGY', 'ADOPERATION'],\n",
       "      dtype='object')"
      ]
     },
     "execution_count": 14,
     "metadata": {},
     "output_type": "execute_result"
    }
   ],
   "source": [
    "df.columns"
   ]
  },
  {
   "cell_type": "code",
   "execution_count": 15,
   "metadata": {},
   "outputs": [
    {
     "name": "stdout",
     "output_type": "stream",
     "text": [
      "Dropping columns: ['ASSETID', 'PERIOD', 'PRICE', 'ADTYPOLOGYID', 'ADOPERATIONID', 'ISPARKINGSPACEINCLUDEDINPRICE', 'PARKINGSPACEPRICE', 'CITYNAME', 'ADTYPOLOGY', 'ADOPERATION']\n"
     ]
    }
   ],
   "source": [
    "TARGET_COLUMN = \"UNITPRICE\"\n",
    "#\n",
    "# 1) Remove all PRICE-related columns except 'UNITPRICE'\n",
    "# 2) Remove unnecessary columns:  Typology, Operation, AssetID, Period\n",
    "#\n",
    "if not df.empty:\n",
    "    price_cols = [col for col in df.columns if col in ['ADTYPOLOGY', 'ADOPERATION', \n",
    "                                                       'ASSETID', 'PERIOD', 'ADTYPOLOGYID', 'ADOPERATIONID', 'CITYNAME']\n",
    "                                                       or (col.endswith('PRICE') and col != TARGET_COLUMN)]\n",
    "\n",
    "    print(\"Dropping columns:\", price_cols)\n",
    "    df = df.drop(columns=price_cols)\n",
    "else:\n",
    "    print(\"Dataframe is empty\")"
   ]
  },
  {
   "cell_type": "code",
   "execution_count": 16,
   "id": "b2f569f6",
   "metadata": {},
   "outputs": [
    {
     "name": "stdout",
     "output_type": "stream",
     "text": [
      "Features and target prepared.\n"
     ]
    }
   ],
   "source": [
    "# Prepare features and target variable\n",
    "\n",
    "if TARGET_COLUMN in df.columns:\n",
    "    X = df.drop(columns=[TARGET_COLUMN])\n",
    "    y = df[TARGET_COLUMN]\n",
    "    print(\"Features and target prepared.\")\n",
    "else:\n",
    "    X, y = df, None\n",
    "    print(\"UNITPRICE column not found in dataframe.\")"
   ]
  },
  {
   "cell_type": "markdown",
   "id": "81d249c8",
   "metadata": {},
   "source": [
    "# Subir el dataset como \"artefacto\" del proyecto"
   ]
  },
  {
   "cell_type": "code",
   "execution_count": 17,
   "id": "e18bff98",
   "metadata": {},
   "outputs": [
    {
     "name": "stderr",
     "output_type": "stream",
     "text": [
      "\u001b[34m\u001b[1mwandb\u001b[0m: \u001b[33mWARNING\u001b[0m If you're specifying your api key in code, ensure this code is not shared publicly.\n",
      "\u001b[34m\u001b[1mwandb\u001b[0m: \u001b[33mWARNING\u001b[0m Consider setting the WANDB_API_KEY environment variable, or running `wandb login` from the command line.\n",
      "\u001b[34m\u001b[1mwandb\u001b[0m: Appending key for api.wandb.ai to your netrc file: /Users/davidreyblanco/.netrc\n"
     ]
    },
    {
     "data": {
      "text/plain": [
       "True"
      ]
     },
     "execution_count": 17,
     "metadata": {},
     "output_type": "execute_result"
    }
   ],
   "source": [
    "import wandb\n",
    "import random\n",
    "\n",
    "# 1) Grab the W&B token\n",
    "\n",
    "wandb_token = os.getenv(\"WANDB_API_KEY\")\n",
    "if wandb_token is None:\n",
    "    raise RuntimeError(\"WANDB_API_KEY not found in environment. Did you create a .env with that variable?\")\n",
    "# 2) Login with the token\n",
    "wandb.login(key=wandb_token)"
   ]
  },
  {
   "cell_type": "code",
   "execution_count": 18,
   "id": "a2961862",
   "metadata": {},
   "outputs": [
    {
     "data": {
      "text/html": [
       "Tracking run with wandb version 0.19.11"
      ],
      "text/plain": [
       "<IPython.core.display.HTML object>"
      ]
     },
     "metadata": {},
     "output_type": "display_data"
    },
    {
     "data": {
      "text/html": [
       "Run data is saved locally in <code>/Users/davidreyblanco/Software/techweek/ml-idealista-18/notebooks/wandb/run-20250603_170008-a16tajaj</code>"
      ],
      "text/plain": [
       "<IPython.core.display.HTML object>"
      ]
     },
     "metadata": {},
     "output_type": "display_data"
    },
    {
     "data": {
      "text/html": [
       "Syncing run <strong><a href='https://wandb.ai/davidreyblanco-uned-universidad-nacional-de-educaci-n-a-/idealista18_madrid_dataset_raw_mds9/runs/a16tajaj' target=\"_blank\">solar-armadillo-1</a></strong> to <a href='https://wandb.ai/davidreyblanco-uned-universidad-nacional-de-educaci-n-a-/idealista18_madrid_dataset_raw_mds9' target=\"_blank\">Weights & Biases</a> (<a href='https://wandb.me/developer-guide' target=\"_blank\">docs</a>)<br>"
      ],
      "text/plain": [
       "<IPython.core.display.HTML object>"
      ]
     },
     "metadata": {},
     "output_type": "display_data"
    },
    {
     "data": {
      "text/html": [
       " View project at <a href='https://wandb.ai/davidreyblanco-uned-universidad-nacional-de-educaci-n-a-/idealista18_madrid_dataset_raw_mds9' target=\"_blank\">https://wandb.ai/davidreyblanco-uned-universidad-nacional-de-educaci-n-a-/idealista18_madrid_dataset_raw_mds9</a>"
      ],
      "text/plain": [
       "<IPython.core.display.HTML object>"
      ]
     },
     "metadata": {},
     "output_type": "display_data"
    },
    {
     "data": {
      "text/html": [
       " View run at <a href='https://wandb.ai/davidreyblanco-uned-universidad-nacional-de-educaci-n-a-/idealista18_madrid_dataset_raw_mds9/runs/a16tajaj' target=\"_blank\">https://wandb.ai/davidreyblanco-uned-universidad-nacional-de-educaci-n-a-/idealista18_madrid_dataset_raw_mds9/runs/a16tajaj</a>"
      ],
      "text/plain": [
       "<IPython.core.display.HTML object>"
      ]
     },
     "metadata": {},
     "output_type": "display_data"
    },
    {
     "data": {
      "text/html": [],
      "text/plain": [
       "<IPython.core.display.HTML object>"
      ]
     },
     "metadata": {},
     "output_type": "display_data"
    },
    {
     "data": {
      "text/html": [
       " View run <strong style=\"color:#cdcd00\">solar-armadillo-1</strong> at: <a href='https://wandb.ai/davidreyblanco-uned-universidad-nacional-de-educaci-n-a-/idealista18_madrid_dataset_raw_mds9/runs/a16tajaj' target=\"_blank\">https://wandb.ai/davidreyblanco-uned-universidad-nacional-de-educaci-n-a-/idealista18_madrid_dataset_raw_mds9/runs/a16tajaj</a><br> View project at: <a href='https://wandb.ai/davidreyblanco-uned-universidad-nacional-de-educaci-n-a-/idealista18_madrid_dataset_raw_mds9' target=\"_blank\">https://wandb.ai/davidreyblanco-uned-universidad-nacional-de-educaci-n-a-/idealista18_madrid_dataset_raw_mds9</a><br>Synced 5 W&B file(s), 0 media file(s), 5 artifact file(s) and 0 other file(s)"
      ],
      "text/plain": [
       "<IPython.core.display.HTML object>"
      ]
     },
     "metadata": {},
     "output_type": "display_data"
    },
    {
     "data": {
      "text/html": [
       "Find logs at: <code>./wandb/run-20250603_170008-a16tajaj/logs</code>"
      ],
      "text/plain": [
       "<IPython.core.display.HTML object>"
      ]
     },
     "metadata": {},
     "output_type": "display_data"
    }
   ],
   "source": [
    "from sklearn.model_selection import train_test_split\n",
    "\n",
    "# Añadimos un dataset al registro de artefactos de W&B\n",
    "\n",
    "TEAM_ENTITY = \"mds9\"  # Replace with your team entity\n",
    "CITY = \"Madrid\"\n",
    "DATASET = \"idealista18\"\n",
    "random_state = 42  # For reproducibility\n",
    "\n",
    "DATASET_PROJECT = f\"{DATASET}_{CITY.lower()}_dataset_raw_{TEAM_ENTITY.lower()}\"\n",
    "\n",
    "# Split the data\n",
    "X_train, X_test, y_train, y_test = train_test_split(X, y, test_size=0.2, random_state=random_state)\n",
    "\n",
    "# Save train/test splits as CSV files\n",
    "X_train_file = \"X_train.csv.gz\"\n",
    "X_test_file = \"X_test.csv.gz\"\n",
    "y_train_file = \"y_train.csv.gz\"\n",
    "y_test_file = \"y_test.csv.gz\"\n",
    "\n",
    "X_train.to_csv(X_train_file, index=False, compression='gzip')\n",
    "X_test.to_csv(X_test_file, index=False, compression='gzip')\n",
    "y_train.to_csv(y_train_file, index=False, compression='gzip')\n",
    "y_test.to_csv(y_test_file, index=False, compression='gzip')\n",
    "\n",
    "# Log the splits as resources in the artifact\n",
    "run_dataset = wandb.init(project=f\"{DATASET_PROJECT}\", job_type=\"train-model\")\n",
    "artifact_ds = wandb.Artifact(name=f\"{DATASET}_splits\", type=\"dataset\")\n",
    "artifact_ds.add_file(X_train_file)\n",
    "artifact_ds.add_file(X_test_file)\n",
    "artifact_ds.add_file(y_train_file)\n",
    "artifact_ds.add_file(y_test_file)\n",
    "artifact_ds.save()\n",
    "run_dataset.finish()\n"
   ]
  },
  {
   "cell_type": "markdown",
   "id": "228546ff",
   "metadata": {},
   "source": [
    "Ahora recuperamos los datasets"
   ]
  },
  {
   "cell_type": "code",
   "execution_count": 19,
   "id": "90e28443",
   "metadata": {},
   "outputs": [
    {
     "data": {
      "text/html": [
       "Tracking run with wandb version 0.19.11"
      ],
      "text/plain": [
       "<IPython.core.display.HTML object>"
      ]
     },
     "metadata": {},
     "output_type": "display_data"
    },
    {
     "data": {
      "text/html": [
       "Run data is saved locally in <code>/Users/davidreyblanco/Software/techweek/ml-idealista-18/notebooks/wandb/run-20250603_170013-r3oqdpvr</code>"
      ],
      "text/plain": [
       "<IPython.core.display.HTML object>"
      ]
     },
     "metadata": {},
     "output_type": "display_data"
    },
    {
     "data": {
      "text/html": [
       "Syncing run <strong><a href='https://wandb.ai/davidreyblanco-uned-universidad-nacional-de-educaci-n-a-/idealista18_madrid_dataset_raw_mds9/runs/r3oqdpvr' target=\"_blank\">likely-pyramid-2</a></strong> to <a href='https://wandb.ai/davidreyblanco-uned-universidad-nacional-de-educaci-n-a-/idealista18_madrid_dataset_raw_mds9' target=\"_blank\">Weights & Biases</a> (<a href='https://wandb.me/developer-guide' target=\"_blank\">docs</a>)<br>"
      ],
      "text/plain": [
       "<IPython.core.display.HTML object>"
      ]
     },
     "metadata": {},
     "output_type": "display_data"
    },
    {
     "data": {
      "text/html": [
       " View project at <a href='https://wandb.ai/davidreyblanco-uned-universidad-nacional-de-educaci-n-a-/idealista18_madrid_dataset_raw_mds9' target=\"_blank\">https://wandb.ai/davidreyblanco-uned-universidad-nacional-de-educaci-n-a-/idealista18_madrid_dataset_raw_mds9</a>"
      ],
      "text/plain": [
       "<IPython.core.display.HTML object>"
      ]
     },
     "metadata": {},
     "output_type": "display_data"
    },
    {
     "data": {
      "text/html": [
       " View run at <a href='https://wandb.ai/davidreyblanco-uned-universidad-nacional-de-educaci-n-a-/idealista18_madrid_dataset_raw_mds9/runs/r3oqdpvr' target=\"_blank\">https://wandb.ai/davidreyblanco-uned-universidad-nacional-de-educaci-n-a-/idealista18_madrid_dataset_raw_mds9/runs/r3oqdpvr</a>"
      ],
      "text/plain": [
       "<IPython.core.display.HTML object>"
      ]
     },
     "metadata": {},
     "output_type": "display_data"
    },
    {
     "name": "stderr",
     "output_type": "stream",
     "text": [
      "\u001b[34m\u001b[1mwandb\u001b[0m:   4 of 4 files downloaded.  \n"
     ]
    },
    {
     "data": {
      "text/html": [],
      "text/plain": [
       "<IPython.core.display.HTML object>"
      ]
     },
     "metadata": {},
     "output_type": "display_data"
    },
    {
     "data": {
      "text/html": [
       " View run <strong style=\"color:#cdcd00\">likely-pyramid-2</strong> at: <a href='https://wandb.ai/davidreyblanco-uned-universidad-nacional-de-educaci-n-a-/idealista18_madrid_dataset_raw_mds9/runs/r3oqdpvr' target=\"_blank\">https://wandb.ai/davidreyblanco-uned-universidad-nacional-de-educaci-n-a-/idealista18_madrid_dataset_raw_mds9/runs/r3oqdpvr</a><br> View project at: <a href='https://wandb.ai/davidreyblanco-uned-universidad-nacional-de-educaci-n-a-/idealista18_madrid_dataset_raw_mds9' target=\"_blank\">https://wandb.ai/davidreyblanco-uned-universidad-nacional-de-educaci-n-a-/idealista18_madrid_dataset_raw_mds9</a><br>Synced 5 W&B file(s), 0 media file(s), 0 artifact file(s) and 0 other file(s)"
      ],
      "text/plain": [
       "<IPython.core.display.HTML object>"
      ]
     },
     "metadata": {},
     "output_type": "display_data"
    },
    {
     "data": {
      "text/html": [
       "Find logs at: <code>./wandb/run-20250603_170013-r3oqdpvr/logs</code>"
      ],
      "text/plain": [
       "<IPython.core.display.HTML object>"
      ]
     },
     "metadata": {},
     "output_type": "display_data"
    },
    {
     "name": "stdout",
     "output_type": "stream",
     "text": [
      "Loaded splits from W&B artifact:\n",
      "X_train shape: (75851, 35)\n",
      "X_test shape: (18963, 35)\n",
      "y_train shape: (75851,)\n",
      "y_test shape: (18963,)\n"
     ]
    }
   ],
   "source": [
    "import pandas as pd\n",
    "import wandb\n",
    "\n",
    "# Download the dataset splits artifact from W&B\n",
    "artifact_name = f\"{DATASET}_splits:latest\"\n",
    "with wandb.init(project=DATASET_PROJECT) as run:\n",
    "    artifact = run.use_artifact(artifact_name, type=\"dataset\")\n",
    "    artifact_dir = artifact.download()\n",
    "\n",
    "    # Load the splits from the artifact directory\n",
    "    X_train = pd.read_csv(f\"{artifact_dir}/X_train.csv.gz\", compression='gzip')\n",
    "    X_test = pd.read_csv(f\"{artifact_dir}/X_test.csv.gz\", compression='gzip')\n",
    "    y_train = pd.read_csv(f\"{artifact_dir}/y_train.csv.gz\", compression='gzip').squeeze()\n",
    "    y_test = pd.read_csv(f\"{artifact_dir}/y_test.csv.gz\", compression='gzip').squeeze()\n",
    "\n",
    "print(\"Loaded splits from W&B artifact:\")\n",
    "print(\"X_train shape:\", X_train.shape)\n",
    "print(\"X_test shape:\", X_test.shape)\n",
    "print(\"y_train shape:\", y_train.shape)\n",
    "print(\"y_test shape:\", y_test.shape)"
   ]
  },
  {
   "cell_type": "markdown",
   "id": "4ab6416e",
   "metadata": {},
   "source": [
    "# Entrenamiento de modelos"
   ]
  },
  {
   "cell_type": "markdown",
   "id": "96d36eed",
   "metadata": {},
   "source": [
    "## Random Forests"
   ]
  },
  {
   "cell_type": "code",
   "execution_count": 20,
   "id": "89c7fce3",
   "metadata": {},
   "outputs": [
    {
     "name": "stderr",
     "output_type": "stream",
     "text": [
      "\u001b[34m\u001b[1mwandb\u001b[0m: \u001b[33mWARNING\u001b[0m If you're specifying your api key in code, ensure this code is not shared publicly.\n",
      "\u001b[34m\u001b[1mwandb\u001b[0m: \u001b[33mWARNING\u001b[0m Consider setting the WANDB_API_KEY environment variable, or running `wandb login` from the command line.\n",
      "\u001b[34m\u001b[1mwandb\u001b[0m: Appending key for api.wandb.ai to your netrc file: /Users/davidreyblanco/.netrc\n"
     ]
    },
    {
     "data": {
      "text/html": [
       "Tracking run with wandb version 0.19.11"
      ],
      "text/plain": [
       "<IPython.core.display.HTML object>"
      ]
     },
     "metadata": {},
     "output_type": "display_data"
    },
    {
     "data": {
      "text/html": [
       "Run data is saved locally in <code>/Users/davidreyblanco/Software/techweek/ml-idealista-18/notebooks/wandb/run-20250603_170017-hl5819uu</code>"
      ],
      "text/plain": [
       "<IPython.core.display.HTML object>"
      ]
     },
     "metadata": {},
     "output_type": "display_data"
    },
    {
     "data": {
      "text/html": [
       "Syncing run <strong><a href='https://wandb.ai/davidreyblanco-uned-universidad-nacional-de-educaci-n-a-/idealista18_madrid_randomforest_UNITPRICE_mds9/runs/hl5819uu' target=\"_blank\">toasty-monkey-1</a></strong> to <a href='https://wandb.ai/davidreyblanco-uned-universidad-nacional-de-educaci-n-a-/idealista18_madrid_randomforest_UNITPRICE_mds9' target=\"_blank\">Weights & Biases</a> (<a href='https://wandb.me/developer-guide' target=\"_blank\">docs</a>)<br>"
      ],
      "text/plain": [
       "<IPython.core.display.HTML object>"
      ]
     },
     "metadata": {},
     "output_type": "display_data"
    },
    {
     "data": {
      "text/html": [
       " View project at <a href='https://wandb.ai/davidreyblanco-uned-universidad-nacional-de-educaci-n-a-/idealista18_madrid_randomforest_UNITPRICE_mds9' target=\"_blank\">https://wandb.ai/davidreyblanco-uned-universidad-nacional-de-educaci-n-a-/idealista18_madrid_randomforest_UNITPRICE_mds9</a>"
      ],
      "text/plain": [
       "<IPython.core.display.HTML object>"
      ]
     },
     "metadata": {},
     "output_type": "display_data"
    },
    {
     "data": {
      "text/html": [
       " View run at <a href='https://wandb.ai/davidreyblanco-uned-universidad-nacional-de-educaci-n-a-/idealista18_madrid_randomforest_UNITPRICE_mds9/runs/hl5819uu' target=\"_blank\">https://wandb.ai/davidreyblanco-uned-universidad-nacional-de-educaci-n-a-/idealista18_madrid_randomforest_UNITPRICE_mds9/runs/hl5819uu</a>"
      ],
      "text/plain": [
       "<IPython.core.display.HTML object>"
      ]
     },
     "metadata": {},
     "output_type": "display_data"
    },
    {
     "name": "stdout",
     "output_type": "stream",
     "text": [
      "10 estimators, max depth 5\n",
      "MAPE: 0.16 MedAPE: 0.1069 MSE:603391.8059098464\n",
      "Model saved to ../models/idealista18_madrid_randomforest_UNITPRICE_estimators-10_depth-5.pickle (435.43 KB)\n"
     ]
    },
    {
     "data": {
      "text/html": [],
      "text/plain": [
       "<IPython.core.display.HTML object>"
      ]
     },
     "metadata": {},
     "output_type": "display_data"
    },
    {
     "data": {
      "text/html": [
       "<br>    <style><br>        .wandb-row {<br>            display: flex;<br>            flex-direction: row;<br>            flex-wrap: wrap;<br>            justify-content: flex-start;<br>            width: 100%;<br>        }<br>        .wandb-col {<br>            display: flex;<br>            flex-direction: column;<br>            flex-basis: 100%;<br>            flex: 1;<br>            padding: 10px;<br>        }<br>    </style><br><div class=\"wandb-row\"><div class=\"wandb-col\"><h3>Run history:</h3><br/><table class=\"wandb\"><tr><td>mae</td><td>▁</td></tr><tr><td>mape</td><td>▁</td></tr><tr><td>max_depth</td><td>▁</td></tr><tr><td>medape</td><td>▁</td></tr><tr><td>mse</td><td>▁</td></tr><tr><td>n_estimators</td><td>▁</td></tr><tr><td>n_test</td><td>▁</td></tr><tr><td>n_train</td><td>▁</td></tr><tr><td>r2</td><td>▁</td></tr><tr><td>random_state</td><td>▁</td></tr></table><br/></div><div class=\"wandb-col\"><h3>Run summary:</h3><br/><table class=\"wandb\"><tr><td>mae</td><td>537.20319</td></tr><tr><td>mape</td><td>0.16343</td></tr><tr><td>max_depth</td><td>5</td></tr><tr><td>medape</td><td>0.1069</td></tr><tr><td>mse</td><td>603391.80591</td></tr><tr><td>n_estimators</td><td>10</td></tr><tr><td>n_test</td><td>18963</td></tr><tr><td>n_train</td><td>75851</td></tr><tr><td>r2</td><td>0.78965</td></tr><tr><td>random_state</td><td>42</td></tr></table><br/></div></div>"
      ],
      "text/plain": [
       "<IPython.core.display.HTML object>"
      ]
     },
     "metadata": {},
     "output_type": "display_data"
    },
    {
     "data": {
      "text/html": [
       " View run <strong style=\"color:#cdcd00\">toasty-monkey-1</strong> at: <a href='https://wandb.ai/davidreyblanco-uned-universidad-nacional-de-educaci-n-a-/idealista18_madrid_randomforest_UNITPRICE_mds9/runs/hl5819uu' target=\"_blank\">https://wandb.ai/davidreyblanco-uned-universidad-nacional-de-educaci-n-a-/idealista18_madrid_randomforest_UNITPRICE_mds9/runs/hl5819uu</a><br> View project at: <a href='https://wandb.ai/davidreyblanco-uned-universidad-nacional-de-educaci-n-a-/idealista18_madrid_randomforest_UNITPRICE_mds9' target=\"_blank\">https://wandb.ai/davidreyblanco-uned-universidad-nacional-de-educaci-n-a-/idealista18_madrid_randomforest_UNITPRICE_mds9</a><br>Synced 5 W&B file(s), 1 media file(s), 4 artifact file(s) and 0 other file(s)"
      ],
      "text/plain": [
       "<IPython.core.display.HTML object>"
      ]
     },
     "metadata": {},
     "output_type": "display_data"
    },
    {
     "data": {
      "text/html": [
       "Find logs at: <code>./wandb/run-20250603_170017-hl5819uu/logs</code>"
      ],
      "text/plain": [
       "<IPython.core.display.HTML object>"
      ]
     },
     "metadata": {},
     "output_type": "display_data"
    },
    {
     "data": {
      "text/html": [
       "Tracking run with wandb version 0.19.11"
      ],
      "text/plain": [
       "<IPython.core.display.HTML object>"
      ]
     },
     "metadata": {},
     "output_type": "display_data"
    },
    {
     "data": {
      "text/html": [
       "Run data is saved locally in <code>/Users/davidreyblanco/Software/techweek/ml-idealista-18/notebooks/wandb/run-20250603_170024-deg9x3uf</code>"
      ],
      "text/plain": [
       "<IPython.core.display.HTML object>"
      ]
     },
     "metadata": {},
     "output_type": "display_data"
    },
    {
     "data": {
      "text/html": [
       "Syncing run <strong><a href='https://wandb.ai/davidreyblanco-uned-universidad-nacional-de-educaci-n-a-/idealista18_madrid_randomforest_UNITPRICE_mds9/runs/deg9x3uf' target=\"_blank\">true-pond-2</a></strong> to <a href='https://wandb.ai/davidreyblanco-uned-universidad-nacional-de-educaci-n-a-/idealista18_madrid_randomforest_UNITPRICE_mds9' target=\"_blank\">Weights & Biases</a> (<a href='https://wandb.me/developer-guide' target=\"_blank\">docs</a>)<br>"
      ],
      "text/plain": [
       "<IPython.core.display.HTML object>"
      ]
     },
     "metadata": {},
     "output_type": "display_data"
    },
    {
     "data": {
      "text/html": [
       " View project at <a href='https://wandb.ai/davidreyblanco-uned-universidad-nacional-de-educaci-n-a-/idealista18_madrid_randomforest_UNITPRICE_mds9' target=\"_blank\">https://wandb.ai/davidreyblanco-uned-universidad-nacional-de-educaci-n-a-/idealista18_madrid_randomforest_UNITPRICE_mds9</a>"
      ],
      "text/plain": [
       "<IPython.core.display.HTML object>"
      ]
     },
     "metadata": {},
     "output_type": "display_data"
    },
    {
     "data": {
      "text/html": [
       " View run at <a href='https://wandb.ai/davidreyblanco-uned-universidad-nacional-de-educaci-n-a-/idealista18_madrid_randomforest_UNITPRICE_mds9/runs/deg9x3uf' target=\"_blank\">https://wandb.ai/davidreyblanco-uned-universidad-nacional-de-educaci-n-a-/idealista18_madrid_randomforest_UNITPRICE_mds9/runs/deg9x3uf</a>"
      ],
      "text/plain": [
       "<IPython.core.display.HTML object>"
      ]
     },
     "metadata": {},
     "output_type": "display_data"
    },
    {
     "name": "stdout",
     "output_type": "stream",
     "text": [
      "10 estimators, max depth 10\n",
      "MAPE: 0.16 MedAPE: 0.1069 MSE:603391.8059098464\n",
      "Model saved to ../models/idealista18_madrid_randomforest_UNITPRICE_estimators-10_depth-10.pickle (435.43 KB)\n"
     ]
    },
    {
     "data": {
      "text/html": [],
      "text/plain": [
       "<IPython.core.display.HTML object>"
      ]
     },
     "metadata": {},
     "output_type": "display_data"
    },
    {
     "data": {
      "text/html": [
       "<br>    <style><br>        .wandb-row {<br>            display: flex;<br>            flex-direction: row;<br>            flex-wrap: wrap;<br>            justify-content: flex-start;<br>            width: 100%;<br>        }<br>        .wandb-col {<br>            display: flex;<br>            flex-direction: column;<br>            flex-basis: 100%;<br>            flex: 1;<br>            padding: 10px;<br>        }<br>    </style><br><div class=\"wandb-row\"><div class=\"wandb-col\"><h3>Run history:</h3><br/><table class=\"wandb\"><tr><td>mae</td><td>▁</td></tr><tr><td>mape</td><td>▁</td></tr><tr><td>max_depth</td><td>▁</td></tr><tr><td>medape</td><td>▁</td></tr><tr><td>mse</td><td>▁</td></tr><tr><td>n_estimators</td><td>▁</td></tr><tr><td>n_test</td><td>▁</td></tr><tr><td>n_train</td><td>▁</td></tr><tr><td>r2</td><td>▁</td></tr><tr><td>random_state</td><td>▁</td></tr></table><br/></div><div class=\"wandb-col\"><h3>Run summary:</h3><br/><table class=\"wandb\"><tr><td>mae</td><td>537.20319</td></tr><tr><td>mape</td><td>0.16343</td></tr><tr><td>max_depth</td><td>10</td></tr><tr><td>medape</td><td>0.1069</td></tr><tr><td>mse</td><td>603391.80591</td></tr><tr><td>n_estimators</td><td>10</td></tr><tr><td>n_test</td><td>18963</td></tr><tr><td>n_train</td><td>75851</td></tr><tr><td>r2</td><td>0.78965</td></tr><tr><td>random_state</td><td>42</td></tr></table><br/></div></div>"
      ],
      "text/plain": [
       "<IPython.core.display.HTML object>"
      ]
     },
     "metadata": {},
     "output_type": "display_data"
    },
    {
     "data": {
      "text/html": [
       " View run <strong style=\"color:#cdcd00\">true-pond-2</strong> at: <a href='https://wandb.ai/davidreyblanco-uned-universidad-nacional-de-educaci-n-a-/idealista18_madrid_randomforest_UNITPRICE_mds9/runs/deg9x3uf' target=\"_blank\">https://wandb.ai/davidreyblanco-uned-universidad-nacional-de-educaci-n-a-/idealista18_madrid_randomforest_UNITPRICE_mds9/runs/deg9x3uf</a><br> View project at: <a href='https://wandb.ai/davidreyblanco-uned-universidad-nacional-de-educaci-n-a-/idealista18_madrid_randomforest_UNITPRICE_mds9' target=\"_blank\">https://wandb.ai/davidreyblanco-uned-universidad-nacional-de-educaci-n-a-/idealista18_madrid_randomforest_UNITPRICE_mds9</a><br>Synced 5 W&B file(s), 1 media file(s), 3 artifact file(s) and 0 other file(s)"
      ],
      "text/plain": [
       "<IPython.core.display.HTML object>"
      ]
     },
     "metadata": {},
     "output_type": "display_data"
    },
    {
     "data": {
      "text/html": [
       "Find logs at: <code>./wandb/run-20250603_170024-deg9x3uf/logs</code>"
      ],
      "text/plain": [
       "<IPython.core.display.HTML object>"
      ]
     },
     "metadata": {},
     "output_type": "display_data"
    },
    {
     "data": {
      "text/html": [
       "Tracking run with wandb version 0.19.11"
      ],
      "text/plain": [
       "<IPython.core.display.HTML object>"
      ]
     },
     "metadata": {},
     "output_type": "display_data"
    },
    {
     "data": {
      "text/html": [
       "Run data is saved locally in <code>/Users/davidreyblanco/Software/techweek/ml-idealista-18/notebooks/wandb/run-20250603_170032-0dj35yqf</code>"
      ],
      "text/plain": [
       "<IPython.core.display.HTML object>"
      ]
     },
     "metadata": {},
     "output_type": "display_data"
    },
    {
     "data": {
      "text/html": [
       "Syncing run <strong><a href='https://wandb.ai/davidreyblanco-uned-universidad-nacional-de-educaci-n-a-/idealista18_madrid_randomforest_UNITPRICE_mds9/runs/0dj35yqf' target=\"_blank\">amber-leaf-3</a></strong> to <a href='https://wandb.ai/davidreyblanco-uned-universidad-nacional-de-educaci-n-a-/idealista18_madrid_randomforest_UNITPRICE_mds9' target=\"_blank\">Weights & Biases</a> (<a href='https://wandb.me/developer-guide' target=\"_blank\">docs</a>)<br>"
      ],
      "text/plain": [
       "<IPython.core.display.HTML object>"
      ]
     },
     "metadata": {},
     "output_type": "display_data"
    },
    {
     "data": {
      "text/html": [
       " View project at <a href='https://wandb.ai/davidreyblanco-uned-universidad-nacional-de-educaci-n-a-/idealista18_madrid_randomforest_UNITPRICE_mds9' target=\"_blank\">https://wandb.ai/davidreyblanco-uned-universidad-nacional-de-educaci-n-a-/idealista18_madrid_randomforest_UNITPRICE_mds9</a>"
      ],
      "text/plain": [
       "<IPython.core.display.HTML object>"
      ]
     },
     "metadata": {},
     "output_type": "display_data"
    },
    {
     "data": {
      "text/html": [
       " View run at <a href='https://wandb.ai/davidreyblanco-uned-universidad-nacional-de-educaci-n-a-/idealista18_madrid_randomforest_UNITPRICE_mds9/runs/0dj35yqf' target=\"_blank\">https://wandb.ai/davidreyblanco-uned-universidad-nacional-de-educaci-n-a-/idealista18_madrid_randomforest_UNITPRICE_mds9/runs/0dj35yqf</a>"
      ],
      "text/plain": [
       "<IPython.core.display.HTML object>"
      ]
     },
     "metadata": {},
     "output_type": "display_data"
    },
    {
     "name": "stdout",
     "output_type": "stream",
     "text": [
      "20 estimators, max depth 5\n",
      "MAPE: 0.16 MedAPE: 0.1063 MSE:596265.3969084613\n",
      "Model saved to ../models/idealista18_madrid_randomforest_UNITPRICE_estimators-20_depth-5.pickle (873.17 KB)\n"
     ]
    },
    {
     "data": {
      "text/html": [],
      "text/plain": [
       "<IPython.core.display.HTML object>"
      ]
     },
     "metadata": {},
     "output_type": "display_data"
    },
    {
     "data": {
      "text/html": [
       "<br>    <style><br>        .wandb-row {<br>            display: flex;<br>            flex-direction: row;<br>            flex-wrap: wrap;<br>            justify-content: flex-start;<br>            width: 100%;<br>        }<br>        .wandb-col {<br>            display: flex;<br>            flex-direction: column;<br>            flex-basis: 100%;<br>            flex: 1;<br>            padding: 10px;<br>        }<br>    </style><br><div class=\"wandb-row\"><div class=\"wandb-col\"><h3>Run history:</h3><br/><table class=\"wandb\"><tr><td>mae</td><td>▁</td></tr><tr><td>mape</td><td>▁</td></tr><tr><td>max_depth</td><td>▁</td></tr><tr><td>medape</td><td>▁</td></tr><tr><td>mse</td><td>▁</td></tr><tr><td>n_estimators</td><td>▁</td></tr><tr><td>n_test</td><td>▁</td></tr><tr><td>n_train</td><td>▁</td></tr><tr><td>r2</td><td>▁</td></tr><tr><td>random_state</td><td>▁</td></tr></table><br/></div><div class=\"wandb-col\"><h3>Run summary:</h3><br/><table class=\"wandb\"><tr><td>mae</td><td>533.36249</td></tr><tr><td>mape</td><td>0.16222</td></tr><tr><td>max_depth</td><td>5</td></tr><tr><td>medape</td><td>0.10629</td></tr><tr><td>mse</td><td>596265.39691</td></tr><tr><td>n_estimators</td><td>20</td></tr><tr><td>n_test</td><td>18963</td></tr><tr><td>n_train</td><td>75851</td></tr><tr><td>r2</td><td>0.79213</td></tr><tr><td>random_state</td><td>42</td></tr></table><br/></div></div>"
      ],
      "text/plain": [
       "<IPython.core.display.HTML object>"
      ]
     },
     "metadata": {},
     "output_type": "display_data"
    },
    {
     "data": {
      "text/html": [
       " View run <strong style=\"color:#cdcd00\">amber-leaf-3</strong> at: <a href='https://wandb.ai/davidreyblanco-uned-universidad-nacional-de-educaci-n-a-/idealista18_madrid_randomforest_UNITPRICE_mds9/runs/0dj35yqf' target=\"_blank\">https://wandb.ai/davidreyblanco-uned-universidad-nacional-de-educaci-n-a-/idealista18_madrid_randomforest_UNITPRICE_mds9/runs/0dj35yqf</a><br> View project at: <a href='https://wandb.ai/davidreyblanco-uned-universidad-nacional-de-educaci-n-a-/idealista18_madrid_randomforest_UNITPRICE_mds9' target=\"_blank\">https://wandb.ai/davidreyblanco-uned-universidad-nacional-de-educaci-n-a-/idealista18_madrid_randomforest_UNITPRICE_mds9</a><br>Synced 5 W&B file(s), 1 media file(s), 4 artifact file(s) and 0 other file(s)"
      ],
      "text/plain": [
       "<IPython.core.display.HTML object>"
      ]
     },
     "metadata": {},
     "output_type": "display_data"
    },
    {
     "data": {
      "text/html": [
       "Find logs at: <code>./wandb/run-20250603_170032-0dj35yqf/logs</code>"
      ],
      "text/plain": [
       "<IPython.core.display.HTML object>"
      ]
     },
     "metadata": {},
     "output_type": "display_data"
    },
    {
     "data": {
      "text/html": [
       "Tracking run with wandb version 0.19.11"
      ],
      "text/plain": [
       "<IPython.core.display.HTML object>"
      ]
     },
     "metadata": {},
     "output_type": "display_data"
    },
    {
     "data": {
      "text/html": [
       "Run data is saved locally in <code>/Users/davidreyblanco/Software/techweek/ml-idealista-18/notebooks/wandb/run-20250603_170043-mnrj4nii</code>"
      ],
      "text/plain": [
       "<IPython.core.display.HTML object>"
      ]
     },
     "metadata": {},
     "output_type": "display_data"
    },
    {
     "data": {
      "text/html": [
       "Syncing run <strong><a href='https://wandb.ai/davidreyblanco-uned-universidad-nacional-de-educaci-n-a-/idealista18_madrid_randomforest_UNITPRICE_mds9/runs/mnrj4nii' target=\"_blank\">comic-darkness-4</a></strong> to <a href='https://wandb.ai/davidreyblanco-uned-universidad-nacional-de-educaci-n-a-/idealista18_madrid_randomforest_UNITPRICE_mds9' target=\"_blank\">Weights & Biases</a> (<a href='https://wandb.me/developer-guide' target=\"_blank\">docs</a>)<br>"
      ],
      "text/plain": [
       "<IPython.core.display.HTML object>"
      ]
     },
     "metadata": {},
     "output_type": "display_data"
    },
    {
     "data": {
      "text/html": [
       " View project at <a href='https://wandb.ai/davidreyblanco-uned-universidad-nacional-de-educaci-n-a-/idealista18_madrid_randomforest_UNITPRICE_mds9' target=\"_blank\">https://wandb.ai/davidreyblanco-uned-universidad-nacional-de-educaci-n-a-/idealista18_madrid_randomforest_UNITPRICE_mds9</a>"
      ],
      "text/plain": [
       "<IPython.core.display.HTML object>"
      ]
     },
     "metadata": {},
     "output_type": "display_data"
    },
    {
     "data": {
      "text/html": [
       " View run at <a href='https://wandb.ai/davidreyblanco-uned-universidad-nacional-de-educaci-n-a-/idealista18_madrid_randomforest_UNITPRICE_mds9/runs/mnrj4nii' target=\"_blank\">https://wandb.ai/davidreyblanco-uned-universidad-nacional-de-educaci-n-a-/idealista18_madrid_randomforest_UNITPRICE_mds9/runs/mnrj4nii</a>"
      ],
      "text/plain": [
       "<IPython.core.display.HTML object>"
      ]
     },
     "metadata": {},
     "output_type": "display_data"
    },
    {
     "name": "stdout",
     "output_type": "stream",
     "text": [
      "20 estimators, max depth 10\n",
      "MAPE: 0.16 MedAPE: 0.1063 MSE:596265.3969084613\n",
      "Model saved to ../models/idealista18_madrid_randomforest_UNITPRICE_estimators-20_depth-10.pickle (873.17 KB)\n"
     ]
    },
    {
     "data": {
      "text/html": [],
      "text/plain": [
       "<IPython.core.display.HTML object>"
      ]
     },
     "metadata": {},
     "output_type": "display_data"
    },
    {
     "data": {
      "text/html": [
       "<br>    <style><br>        .wandb-row {<br>            display: flex;<br>            flex-direction: row;<br>            flex-wrap: wrap;<br>            justify-content: flex-start;<br>            width: 100%;<br>        }<br>        .wandb-col {<br>            display: flex;<br>            flex-direction: column;<br>            flex-basis: 100%;<br>            flex: 1;<br>            padding: 10px;<br>        }<br>    </style><br><div class=\"wandb-row\"><div class=\"wandb-col\"><h3>Run history:</h3><br/><table class=\"wandb\"><tr><td>mae</td><td>▁</td></tr><tr><td>mape</td><td>▁</td></tr><tr><td>max_depth</td><td>▁</td></tr><tr><td>medape</td><td>▁</td></tr><tr><td>mse</td><td>▁</td></tr><tr><td>n_estimators</td><td>▁</td></tr><tr><td>n_test</td><td>▁</td></tr><tr><td>n_train</td><td>▁</td></tr><tr><td>r2</td><td>▁</td></tr><tr><td>random_state</td><td>▁</td></tr></table><br/></div><div class=\"wandb-col\"><h3>Run summary:</h3><br/><table class=\"wandb\"><tr><td>mae</td><td>533.36249</td></tr><tr><td>mape</td><td>0.16222</td></tr><tr><td>max_depth</td><td>10</td></tr><tr><td>medape</td><td>0.10629</td></tr><tr><td>mse</td><td>596265.39691</td></tr><tr><td>n_estimators</td><td>20</td></tr><tr><td>n_test</td><td>18963</td></tr><tr><td>n_train</td><td>75851</td></tr><tr><td>r2</td><td>0.79213</td></tr><tr><td>random_state</td><td>42</td></tr></table><br/></div></div>"
      ],
      "text/plain": [
       "<IPython.core.display.HTML object>"
      ]
     },
     "metadata": {},
     "output_type": "display_data"
    },
    {
     "data": {
      "text/html": [
       " View run <strong style=\"color:#cdcd00\">comic-darkness-4</strong> at: <a href='https://wandb.ai/davidreyblanco-uned-universidad-nacional-de-educaci-n-a-/idealista18_madrid_randomforest_UNITPRICE_mds9/runs/mnrj4nii' target=\"_blank\">https://wandb.ai/davidreyblanco-uned-universidad-nacional-de-educaci-n-a-/idealista18_madrid_randomforest_UNITPRICE_mds9/runs/mnrj4nii</a><br> View project at: <a href='https://wandb.ai/davidreyblanco-uned-universidad-nacional-de-educaci-n-a-/idealista18_madrid_randomforest_UNITPRICE_mds9' target=\"_blank\">https://wandb.ai/davidreyblanco-uned-universidad-nacional-de-educaci-n-a-/idealista18_madrid_randomforest_UNITPRICE_mds9</a><br>Synced 5 W&B file(s), 1 media file(s), 3 artifact file(s) and 0 other file(s)"
      ],
      "text/plain": [
       "<IPython.core.display.HTML object>"
      ]
     },
     "metadata": {},
     "output_type": "display_data"
    },
    {
     "data": {
      "text/html": [
       "Find logs at: <code>./wandb/run-20250603_170043-mnrj4nii/logs</code>"
      ],
      "text/plain": [
       "<IPython.core.display.HTML object>"
      ]
     },
     "metadata": {},
     "output_type": "display_data"
    },
    {
     "data": {
      "text/html": [
       "Tracking run with wandb version 0.19.11"
      ],
      "text/plain": [
       "<IPython.core.display.HTML object>"
      ]
     },
     "metadata": {},
     "output_type": "display_data"
    },
    {
     "data": {
      "text/html": [
       "Run data is saved locally in <code>/Users/davidreyblanco/Software/techweek/ml-idealista-18/notebooks/wandb/run-20250603_170054-tbmfjsk6</code>"
      ],
      "text/plain": [
       "<IPython.core.display.HTML object>"
      ]
     },
     "metadata": {},
     "output_type": "display_data"
    },
    {
     "data": {
      "text/html": [
       "Syncing run <strong><a href='https://wandb.ai/davidreyblanco-uned-universidad-nacional-de-educaci-n-a-/idealista18_madrid_randomforest_UNITPRICE_mds9/runs/tbmfjsk6' target=\"_blank\">expert-wind-5</a></strong> to <a href='https://wandb.ai/davidreyblanco-uned-universidad-nacional-de-educaci-n-a-/idealista18_madrid_randomforest_UNITPRICE_mds9' target=\"_blank\">Weights & Biases</a> (<a href='https://wandb.me/developer-guide' target=\"_blank\">docs</a>)<br>"
      ],
      "text/plain": [
       "<IPython.core.display.HTML object>"
      ]
     },
     "metadata": {},
     "output_type": "display_data"
    },
    {
     "data": {
      "text/html": [
       " View project at <a href='https://wandb.ai/davidreyblanco-uned-universidad-nacional-de-educaci-n-a-/idealista18_madrid_randomforest_UNITPRICE_mds9' target=\"_blank\">https://wandb.ai/davidreyblanco-uned-universidad-nacional-de-educaci-n-a-/idealista18_madrid_randomforest_UNITPRICE_mds9</a>"
      ],
      "text/plain": [
       "<IPython.core.display.HTML object>"
      ]
     },
     "metadata": {},
     "output_type": "display_data"
    },
    {
     "data": {
      "text/html": [
       " View run at <a href='https://wandb.ai/davidreyblanco-uned-universidad-nacional-de-educaci-n-a-/idealista18_madrid_randomforest_UNITPRICE_mds9/runs/tbmfjsk6' target=\"_blank\">https://wandb.ai/davidreyblanco-uned-universidad-nacional-de-educaci-n-a-/idealista18_madrid_randomforest_UNITPRICE_mds9/runs/tbmfjsk6</a>"
      ],
      "text/plain": [
       "<IPython.core.display.HTML object>"
      ]
     },
     "metadata": {},
     "output_type": "display_data"
    },
    {
     "name": "stdout",
     "output_type": "stream",
     "text": [
      "50 estimators, max depth 5\n",
      "MAPE: 0.16 MedAPE: 0.1057 MSE:591739.8206843077\n",
      "Model saved to ../models/idealista18_madrid_randomforest_UNITPRICE_estimators-50_depth-5.pickle (2174.25 KB)\n"
     ]
    },
    {
     "data": {
      "text/html": [],
      "text/plain": [
       "<IPython.core.display.HTML object>"
      ]
     },
     "metadata": {},
     "output_type": "display_data"
    },
    {
     "data": {
      "text/html": [
       "<br>    <style><br>        .wandb-row {<br>            display: flex;<br>            flex-direction: row;<br>            flex-wrap: wrap;<br>            justify-content: flex-start;<br>            width: 100%;<br>        }<br>        .wandb-col {<br>            display: flex;<br>            flex-direction: column;<br>            flex-basis: 100%;<br>            flex: 1;<br>            padding: 10px;<br>        }<br>    </style><br><div class=\"wandb-row\"><div class=\"wandb-col\"><h3>Run history:</h3><br/><table class=\"wandb\"><tr><td>mae</td><td>▁</td></tr><tr><td>mape</td><td>▁</td></tr><tr><td>max_depth</td><td>▁</td></tr><tr><td>medape</td><td>▁</td></tr><tr><td>mse</td><td>▁</td></tr><tr><td>n_estimators</td><td>▁</td></tr><tr><td>n_test</td><td>▁</td></tr><tr><td>n_train</td><td>▁</td></tr><tr><td>r2</td><td>▁</td></tr><tr><td>random_state</td><td>▁</td></tr></table><br/></div><div class=\"wandb-col\"><h3>Run summary:</h3><br/><table class=\"wandb\"><tr><td>mae</td><td>531.24001</td></tr><tr><td>mape</td><td>0.16164</td></tr><tr><td>max_depth</td><td>5</td></tr><tr><td>medape</td><td>0.10572</td></tr><tr><td>mse</td><td>591739.82068</td></tr><tr><td>n_estimators</td><td>50</td></tr><tr><td>n_test</td><td>18963</td></tr><tr><td>n_train</td><td>75851</td></tr><tr><td>r2</td><td>0.79371</td></tr><tr><td>random_state</td><td>42</td></tr></table><br/></div></div>"
      ],
      "text/plain": [
       "<IPython.core.display.HTML object>"
      ]
     },
     "metadata": {},
     "output_type": "display_data"
    },
    {
     "data": {
      "text/html": [
       " View run <strong style=\"color:#cdcd00\">expert-wind-5</strong> at: <a href='https://wandb.ai/davidreyblanco-uned-universidad-nacional-de-educaci-n-a-/idealista18_madrid_randomforest_UNITPRICE_mds9/runs/tbmfjsk6' target=\"_blank\">https://wandb.ai/davidreyblanco-uned-universidad-nacional-de-educaci-n-a-/idealista18_madrid_randomforest_UNITPRICE_mds9/runs/tbmfjsk6</a><br> View project at: <a href='https://wandb.ai/davidreyblanco-uned-universidad-nacional-de-educaci-n-a-/idealista18_madrid_randomforest_UNITPRICE_mds9' target=\"_blank\">https://wandb.ai/davidreyblanco-uned-universidad-nacional-de-educaci-n-a-/idealista18_madrid_randomforest_UNITPRICE_mds9</a><br>Synced 5 W&B file(s), 1 media file(s), 4 artifact file(s) and 0 other file(s)"
      ],
      "text/plain": [
       "<IPython.core.display.HTML object>"
      ]
     },
     "metadata": {},
     "output_type": "display_data"
    },
    {
     "data": {
      "text/html": [
       "Find logs at: <code>./wandb/run-20250603_170054-tbmfjsk6/logs</code>"
      ],
      "text/plain": [
       "<IPython.core.display.HTML object>"
      ]
     },
     "metadata": {},
     "output_type": "display_data"
    },
    {
     "data": {
      "text/html": [
       "Tracking run with wandb version 0.19.11"
      ],
      "text/plain": [
       "<IPython.core.display.HTML object>"
      ]
     },
     "metadata": {},
     "output_type": "display_data"
    },
    {
     "data": {
      "text/html": [
       "Run data is saved locally in <code>/Users/davidreyblanco/Software/techweek/ml-idealista-18/notebooks/wandb/run-20250603_170114-4i31w66q</code>"
      ],
      "text/plain": [
       "<IPython.core.display.HTML object>"
      ]
     },
     "metadata": {},
     "output_type": "display_data"
    },
    {
     "data": {
      "text/html": [
       "Syncing run <strong><a href='https://wandb.ai/davidreyblanco-uned-universidad-nacional-de-educaci-n-a-/idealista18_madrid_randomforest_UNITPRICE_mds9/runs/4i31w66q' target=\"_blank\">autumn-silence-6</a></strong> to <a href='https://wandb.ai/davidreyblanco-uned-universidad-nacional-de-educaci-n-a-/idealista18_madrid_randomforest_UNITPRICE_mds9' target=\"_blank\">Weights & Biases</a> (<a href='https://wandb.me/developer-guide' target=\"_blank\">docs</a>)<br>"
      ],
      "text/plain": [
       "<IPython.core.display.HTML object>"
      ]
     },
     "metadata": {},
     "output_type": "display_data"
    },
    {
     "data": {
      "text/html": [
       " View project at <a href='https://wandb.ai/davidreyblanco-uned-universidad-nacional-de-educaci-n-a-/idealista18_madrid_randomforest_UNITPRICE_mds9' target=\"_blank\">https://wandb.ai/davidreyblanco-uned-universidad-nacional-de-educaci-n-a-/idealista18_madrid_randomforest_UNITPRICE_mds9</a>"
      ],
      "text/plain": [
       "<IPython.core.display.HTML object>"
      ]
     },
     "metadata": {},
     "output_type": "display_data"
    },
    {
     "data": {
      "text/html": [
       " View run at <a href='https://wandb.ai/davidreyblanco-uned-universidad-nacional-de-educaci-n-a-/idealista18_madrid_randomforest_UNITPRICE_mds9/runs/4i31w66q' target=\"_blank\">https://wandb.ai/davidreyblanco-uned-universidad-nacional-de-educaci-n-a-/idealista18_madrid_randomforest_UNITPRICE_mds9/runs/4i31w66q</a>"
      ],
      "text/plain": [
       "<IPython.core.display.HTML object>"
      ]
     },
     "metadata": {},
     "output_type": "display_data"
    },
    {
     "name": "stdout",
     "output_type": "stream",
     "text": [
      "50 estimators, max depth 10\n",
      "MAPE: 0.16 MedAPE: 0.1057 MSE:591739.8206843077\n",
      "Model saved to ../models/idealista18_madrid_randomforest_UNITPRICE_estimators-50_depth-10.pickle (2174.25 KB)\n"
     ]
    },
    {
     "data": {
      "text/html": [],
      "text/plain": [
       "<IPython.core.display.HTML object>"
      ]
     },
     "metadata": {},
     "output_type": "display_data"
    },
    {
     "data": {
      "text/html": [
       "<br>    <style><br>        .wandb-row {<br>            display: flex;<br>            flex-direction: row;<br>            flex-wrap: wrap;<br>            justify-content: flex-start;<br>            width: 100%;<br>        }<br>        .wandb-col {<br>            display: flex;<br>            flex-direction: column;<br>            flex-basis: 100%;<br>            flex: 1;<br>            padding: 10px;<br>        }<br>    </style><br><div class=\"wandb-row\"><div class=\"wandb-col\"><h3>Run history:</h3><br/><table class=\"wandb\"><tr><td>mae</td><td>▁</td></tr><tr><td>mape</td><td>▁</td></tr><tr><td>max_depth</td><td>▁</td></tr><tr><td>medape</td><td>▁</td></tr><tr><td>mse</td><td>▁</td></tr><tr><td>n_estimators</td><td>▁</td></tr><tr><td>n_test</td><td>▁</td></tr><tr><td>n_train</td><td>▁</td></tr><tr><td>r2</td><td>▁</td></tr><tr><td>random_state</td><td>▁</td></tr></table><br/></div><div class=\"wandb-col\"><h3>Run summary:</h3><br/><table class=\"wandb\"><tr><td>mae</td><td>531.24001</td></tr><tr><td>mape</td><td>0.16164</td></tr><tr><td>max_depth</td><td>10</td></tr><tr><td>medape</td><td>0.10572</td></tr><tr><td>mse</td><td>591739.82068</td></tr><tr><td>n_estimators</td><td>50</td></tr><tr><td>n_test</td><td>18963</td></tr><tr><td>n_train</td><td>75851</td></tr><tr><td>r2</td><td>0.79371</td></tr><tr><td>random_state</td><td>42</td></tr></table><br/></div></div>"
      ],
      "text/plain": [
       "<IPython.core.display.HTML object>"
      ]
     },
     "metadata": {},
     "output_type": "display_data"
    },
    {
     "data": {
      "text/html": [
       " View run <strong style=\"color:#cdcd00\">autumn-silence-6</strong> at: <a href='https://wandb.ai/davidreyblanco-uned-universidad-nacional-de-educaci-n-a-/idealista18_madrid_randomforest_UNITPRICE_mds9/runs/4i31w66q' target=\"_blank\">https://wandb.ai/davidreyblanco-uned-universidad-nacional-de-educaci-n-a-/idealista18_madrid_randomforest_UNITPRICE_mds9/runs/4i31w66q</a><br> View project at: <a href='https://wandb.ai/davidreyblanco-uned-universidad-nacional-de-educaci-n-a-/idealista18_madrid_randomforest_UNITPRICE_mds9' target=\"_blank\">https://wandb.ai/davidreyblanco-uned-universidad-nacional-de-educaci-n-a-/idealista18_madrid_randomforest_UNITPRICE_mds9</a><br>Synced 5 W&B file(s), 1 media file(s), 3 artifact file(s) and 0 other file(s)"
      ],
      "text/plain": [
       "<IPython.core.display.HTML object>"
      ]
     },
     "metadata": {},
     "output_type": "display_data"
    },
    {
     "data": {
      "text/html": [
       "Find logs at: <code>./wandb/run-20250603_170114-4i31w66q/logs</code>"
      ],
      "text/plain": [
       "<IPython.core.display.HTML object>"
      ]
     },
     "metadata": {},
     "output_type": "display_data"
    },
    {
     "data": {
      "text/html": [
       "Tracking run with wandb version 0.19.11"
      ],
      "text/plain": [
       "<IPython.core.display.HTML object>"
      ]
     },
     "metadata": {},
     "output_type": "display_data"
    },
    {
     "data": {
      "text/html": [
       "Run data is saved locally in <code>/Users/davidreyblanco/Software/techweek/ml-idealista-18/notebooks/wandb/run-20250603_170136-52c61c05</code>"
      ],
      "text/plain": [
       "<IPython.core.display.HTML object>"
      ]
     },
     "metadata": {},
     "output_type": "display_data"
    },
    {
     "data": {
      "text/html": [
       "Syncing run <strong><a href='https://wandb.ai/davidreyblanco-uned-universidad-nacional-de-educaci-n-a-/idealista18_madrid_randomforest_UNITPRICE_mds9/runs/52c61c05' target=\"_blank\">wobbly-sound-7</a></strong> to <a href='https://wandb.ai/davidreyblanco-uned-universidad-nacional-de-educaci-n-a-/idealista18_madrid_randomforest_UNITPRICE_mds9' target=\"_blank\">Weights & Biases</a> (<a href='https://wandb.me/developer-guide' target=\"_blank\">docs</a>)<br>"
      ],
      "text/plain": [
       "<IPython.core.display.HTML object>"
      ]
     },
     "metadata": {},
     "output_type": "display_data"
    },
    {
     "data": {
      "text/html": [
       " View project at <a href='https://wandb.ai/davidreyblanco-uned-universidad-nacional-de-educaci-n-a-/idealista18_madrid_randomforest_UNITPRICE_mds9' target=\"_blank\">https://wandb.ai/davidreyblanco-uned-universidad-nacional-de-educaci-n-a-/idealista18_madrid_randomforest_UNITPRICE_mds9</a>"
      ],
      "text/plain": [
       "<IPython.core.display.HTML object>"
      ]
     },
     "metadata": {},
     "output_type": "display_data"
    },
    {
     "data": {
      "text/html": [
       " View run at <a href='https://wandb.ai/davidreyblanco-uned-universidad-nacional-de-educaci-n-a-/idealista18_madrid_randomforest_UNITPRICE_mds9/runs/52c61c05' target=\"_blank\">https://wandb.ai/davidreyblanco-uned-universidad-nacional-de-educaci-n-a-/idealista18_madrid_randomforest_UNITPRICE_mds9/runs/52c61c05</a>"
      ],
      "text/plain": [
       "<IPython.core.display.HTML object>"
      ]
     },
     "metadata": {},
     "output_type": "display_data"
    },
    {
     "name": "stdout",
     "output_type": "stream",
     "text": [
      "100 estimators, max depth 5\n",
      "MAPE: 0.16 MedAPE: 0.1060 MSE:590570.5414241096\n",
      "Model saved to ../models/idealista18_madrid_randomforest_UNITPRICE_estimators-100_depth-5.pickle (4336.62 KB)\n"
     ]
    },
    {
     "data": {
      "text/html": [],
      "text/plain": [
       "<IPython.core.display.HTML object>"
      ]
     },
     "metadata": {},
     "output_type": "display_data"
    },
    {
     "data": {
      "text/html": [
       "<br>    <style><br>        .wandb-row {<br>            display: flex;<br>            flex-direction: row;<br>            flex-wrap: wrap;<br>            justify-content: flex-start;<br>            width: 100%;<br>        }<br>        .wandb-col {<br>            display: flex;<br>            flex-direction: column;<br>            flex-basis: 100%;<br>            flex: 1;<br>            padding: 10px;<br>        }<br>    </style><br><div class=\"wandb-row\"><div class=\"wandb-col\"><h3>Run history:</h3><br/><table class=\"wandb\"><tr><td>mae</td><td>▁</td></tr><tr><td>mape</td><td>▁</td></tr><tr><td>max_depth</td><td>▁</td></tr><tr><td>medape</td><td>▁</td></tr><tr><td>mse</td><td>▁</td></tr><tr><td>n_estimators</td><td>▁</td></tr><tr><td>n_test</td><td>▁</td></tr><tr><td>n_train</td><td>▁</td></tr><tr><td>r2</td><td>▁</td></tr><tr><td>random_state</td><td>▁</td></tr></table><br/></div><div class=\"wandb-col\"><h3>Run summary:</h3><br/><table class=\"wandb\"><tr><td>mae</td><td>530.93472</td></tr><tr><td>mape</td><td>0.16151</td></tr><tr><td>max_depth</td><td>5</td></tr><tr><td>medape</td><td>0.10601</td></tr><tr><td>mse</td><td>590570.54142</td></tr><tr><td>n_estimators</td><td>100</td></tr><tr><td>n_test</td><td>18963</td></tr><tr><td>n_train</td><td>75851</td></tr><tr><td>r2</td><td>0.79412</td></tr><tr><td>random_state</td><td>42</td></tr></table><br/></div></div>"
      ],
      "text/plain": [
       "<IPython.core.display.HTML object>"
      ]
     },
     "metadata": {},
     "output_type": "display_data"
    },
    {
     "data": {
      "text/html": [
       " View run <strong style=\"color:#cdcd00\">wobbly-sound-7</strong> at: <a href='https://wandb.ai/davidreyblanco-uned-universidad-nacional-de-educaci-n-a-/idealista18_madrid_randomforest_UNITPRICE_mds9/runs/52c61c05' target=\"_blank\">https://wandb.ai/davidreyblanco-uned-universidad-nacional-de-educaci-n-a-/idealista18_madrid_randomforest_UNITPRICE_mds9/runs/52c61c05</a><br> View project at: <a href='https://wandb.ai/davidreyblanco-uned-universidad-nacional-de-educaci-n-a-/idealista18_madrid_randomforest_UNITPRICE_mds9' target=\"_blank\">https://wandb.ai/davidreyblanco-uned-universidad-nacional-de-educaci-n-a-/idealista18_madrid_randomforest_UNITPRICE_mds9</a><br>Synced 5 W&B file(s), 1 media file(s), 4 artifact file(s) and 0 other file(s)"
      ],
      "text/plain": [
       "<IPython.core.display.HTML object>"
      ]
     },
     "metadata": {},
     "output_type": "display_data"
    },
    {
     "data": {
      "text/html": [
       "Find logs at: <code>./wandb/run-20250603_170136-52c61c05/logs</code>"
      ],
      "text/plain": [
       "<IPython.core.display.HTML object>"
      ]
     },
     "metadata": {},
     "output_type": "display_data"
    },
    {
     "data": {
      "text/html": [
       "Tracking run with wandb version 0.19.11"
      ],
      "text/plain": [
       "<IPython.core.display.HTML object>"
      ]
     },
     "metadata": {},
     "output_type": "display_data"
    },
    {
     "data": {
      "text/html": [
       "Run data is saved locally in <code>/Users/davidreyblanco/Software/techweek/ml-idealista-18/notebooks/wandb/run-20250603_170213-fetsjb47</code>"
      ],
      "text/plain": [
       "<IPython.core.display.HTML object>"
      ]
     },
     "metadata": {},
     "output_type": "display_data"
    },
    {
     "data": {
      "text/html": [
       "Syncing run <strong><a href='https://wandb.ai/davidreyblanco-uned-universidad-nacional-de-educaci-n-a-/idealista18_madrid_randomforest_UNITPRICE_mds9/runs/fetsjb47' target=\"_blank\">copper-darkness-8</a></strong> to <a href='https://wandb.ai/davidreyblanco-uned-universidad-nacional-de-educaci-n-a-/idealista18_madrid_randomforest_UNITPRICE_mds9' target=\"_blank\">Weights & Biases</a> (<a href='https://wandb.me/developer-guide' target=\"_blank\">docs</a>)<br>"
      ],
      "text/plain": [
       "<IPython.core.display.HTML object>"
      ]
     },
     "metadata": {},
     "output_type": "display_data"
    },
    {
     "data": {
      "text/html": [
       " View project at <a href='https://wandb.ai/davidreyblanco-uned-universidad-nacional-de-educaci-n-a-/idealista18_madrid_randomforest_UNITPRICE_mds9' target=\"_blank\">https://wandb.ai/davidreyblanco-uned-universidad-nacional-de-educaci-n-a-/idealista18_madrid_randomforest_UNITPRICE_mds9</a>"
      ],
      "text/plain": [
       "<IPython.core.display.HTML object>"
      ]
     },
     "metadata": {},
     "output_type": "display_data"
    },
    {
     "data": {
      "text/html": [
       " View run at <a href='https://wandb.ai/davidreyblanco-uned-universidad-nacional-de-educaci-n-a-/idealista18_madrid_randomforest_UNITPRICE_mds9/runs/fetsjb47' target=\"_blank\">https://wandb.ai/davidreyblanco-uned-universidad-nacional-de-educaci-n-a-/idealista18_madrid_randomforest_UNITPRICE_mds9/runs/fetsjb47</a>"
      ],
      "text/plain": [
       "<IPython.core.display.HTML object>"
      ]
     },
     "metadata": {},
     "output_type": "display_data"
    },
    {
     "name": "stdout",
     "output_type": "stream",
     "text": [
      "100 estimators, max depth 10\n",
      "MAPE: 0.16 MedAPE: 0.1060 MSE:590570.5414241096\n",
      "Model saved to ../models/idealista18_madrid_randomforest_UNITPRICE_estimators-100_depth-10.pickle (4336.62 KB)\n"
     ]
    },
    {
     "data": {
      "text/html": [],
      "text/plain": [
       "<IPython.core.display.HTML object>"
      ]
     },
     "metadata": {},
     "output_type": "display_data"
    },
    {
     "data": {
      "text/html": [
       "<br>    <style><br>        .wandb-row {<br>            display: flex;<br>            flex-direction: row;<br>            flex-wrap: wrap;<br>            justify-content: flex-start;<br>            width: 100%;<br>        }<br>        .wandb-col {<br>            display: flex;<br>            flex-direction: column;<br>            flex-basis: 100%;<br>            flex: 1;<br>            padding: 10px;<br>        }<br>    </style><br><div class=\"wandb-row\"><div class=\"wandb-col\"><h3>Run history:</h3><br/><table class=\"wandb\"><tr><td>mae</td><td>▁</td></tr><tr><td>mape</td><td>▁</td></tr><tr><td>max_depth</td><td>▁</td></tr><tr><td>medape</td><td>▁</td></tr><tr><td>mse</td><td>▁</td></tr><tr><td>n_estimators</td><td>▁</td></tr><tr><td>n_test</td><td>▁</td></tr><tr><td>n_train</td><td>▁</td></tr><tr><td>r2</td><td>▁</td></tr><tr><td>random_state</td><td>▁</td></tr></table><br/></div><div class=\"wandb-col\"><h3>Run summary:</h3><br/><table class=\"wandb\"><tr><td>mae</td><td>530.93472</td></tr><tr><td>mape</td><td>0.16151</td></tr><tr><td>max_depth</td><td>10</td></tr><tr><td>medape</td><td>0.10601</td></tr><tr><td>mse</td><td>590570.54142</td></tr><tr><td>n_estimators</td><td>100</td></tr><tr><td>n_test</td><td>18963</td></tr><tr><td>n_train</td><td>75851</td></tr><tr><td>r2</td><td>0.79412</td></tr><tr><td>random_state</td><td>42</td></tr></table><br/></div></div>"
      ],
      "text/plain": [
       "<IPython.core.display.HTML object>"
      ]
     },
     "metadata": {},
     "output_type": "display_data"
    },
    {
     "data": {
      "text/html": [
       " View run <strong style=\"color:#cdcd00\">copper-darkness-8</strong> at: <a href='https://wandb.ai/davidreyblanco-uned-universidad-nacional-de-educaci-n-a-/idealista18_madrid_randomforest_UNITPRICE_mds9/runs/fetsjb47' target=\"_blank\">https://wandb.ai/davidreyblanco-uned-universidad-nacional-de-educaci-n-a-/idealista18_madrid_randomforest_UNITPRICE_mds9/runs/fetsjb47</a><br> View project at: <a href='https://wandb.ai/davidreyblanco-uned-universidad-nacional-de-educaci-n-a-/idealista18_madrid_randomforest_UNITPRICE_mds9' target=\"_blank\">https://wandb.ai/davidreyblanco-uned-universidad-nacional-de-educaci-n-a-/idealista18_madrid_randomforest_UNITPRICE_mds9</a><br>Synced 5 W&B file(s), 1 media file(s), 3 artifact file(s) and 0 other file(s)"
      ],
      "text/plain": [
       "<IPython.core.display.HTML object>"
      ]
     },
     "metadata": {},
     "output_type": "display_data"
    },
    {
     "data": {
      "text/html": [
       "Find logs at: <code>./wandb/run-20250603_170213-fetsjb47/logs</code>"
      ],
      "text/plain": [
       "<IPython.core.display.HTML object>"
      ]
     },
     "metadata": {},
     "output_type": "display_data"
    }
   ],
   "source": [
    "# Train/test split and model training\n",
    "import unidecode as unidecode\n",
    "import joblib\n",
    "from sklearn.ensemble import RandomForestRegressor\n",
    "from sklearn.model_selection import train_test_split\n",
    "from sklearn.metrics import mean_squared_error\n",
    "from sklearn.metrics import r2_score\n",
    "from sklearn.metrics import mean_absolute_error\n",
    "from sklearn.metrics import mean_absolute_percentage_error, median_absolute_error\n",
    "\n",
    "TEAM_ENTITY = \"mds9\"  # Replace with your team entity\n",
    "ALGORITHM = \"Random Forest\"\n",
    "CITY = \"Madrid\"\n",
    "DATASET = \"idealista18\"\n",
    "algorithm_slug = unidecode.unidecode(ALGORITHM).lower().replace(\" \", \"\")\n",
    "PROJECT = f\"{DATASET}_{CITY.lower()}_{algorithm_slug}_{TARGET_COLUMN}_{TEAM_ENTITY.lower()}\"\n",
    "\n",
    "\n",
    "# 1) Grab the W&B token\n",
    "wandb_token = os.getenv(\"WANDB_API_KEY\")\n",
    "if wandb_token is None:\n",
    "    raise RuntimeError(\"WANDB_API_KEY not found in environment. Did you create a .env with that variable?\")\n",
    "\n",
    "# 2) Login with the token\n",
    "wandb.login(key=wandb_token)\n",
    "\n",
    "for n_estimators in [10, 20, 50, 100]:\n",
    "    for max_depth in [5, 10]:\n",
    "\n",
    "        # 3) Train some models\n",
    "        with wandb.init(project=PROJECT, config={\"algorithm\": ALGORITHM,\n",
    "                                                \"target\": TARGET_COLUMN,\n",
    "                                                \"city\": CITY,\n",
    "                                                \"dataset\": DATASET }) as run:\n",
    "\n",
    "            #\n",
    "            # Create a grid search for hyperparameters\n",
    "            #\n",
    "                print(f\"{n_estimators} estimators, max depth {max_depth}\")\n",
    "                model = RandomForestRegressor(n_estimators=n_estimators, max_depth = 10, random_state=random_state)\n",
    "                model.fit(X_train, y_train)\n",
    "                preds = model.predict(X_test)\n",
    "                mse = mean_squared_error(y_test, preds)\n",
    "                r2 = r2_score(y_test, preds)\n",
    "                mae = mean_absolute_error(y_test, preds)\n",
    "                mape = mean_absolute_percentage_error(y_test, preds)\n",
    "                medape = median_absolute_error(y_test, preds) / y_test.median()\n",
    "\n",
    "                print(f\"MAPE: {mape:.2f} MedAPE: {medape:.4f} MSE:{mse}\")\n",
    "\n",
    "                run.log({\n",
    "                    \"mse\": mse,\n",
    "                    \"r2\": r2,\n",
    "                    \"mape\": mape,\n",
    "                    \"medape\": medape,\n",
    "                    \"mae\": mae,\n",
    "                    \"random_state\": random_state,\n",
    "                    'n_train': len(X_train),\n",
    "                    'n_test': len(X_test),\n",
    "                    \"n_estimators\": n_estimators,\n",
    "                    \"max_depth\": max_depth, \n",
    "                })\n",
    "\n",
    "                # Create a model filename fingerprint\n",
    "                \n",
    "                model_fp = f\"estimators-{n_estimators}_depth-{max_depth}\"\n",
    "                model_artifact_name = f\"{DATASET}_{CITY.lower()}_{algorithm_slug}_{TARGET_COLUMN}_{model_fp}\"\n",
    "\n",
    "                model_filename = f\"../models/{model_artifact_name}.pickle\"\n",
    "                joblib.dump(model, model_filename, compress=('gzip', 3))\n",
    "                model_size = os.path.getsize(model_filename)\n",
    "                print(f\"Model saved to {model_filename} ({model_size / 1024:.2f} KB)\")\n",
    "\n",
    "                # Guardamos el modelo en el repositorio de modelos de W&B\n",
    "                model_artifact_name = f'idealista18_madrid_{ALGORITHM.lower().replace(\" \", \"_\")}'\n",
    "\n",
    "                artifact = wandb.Artifact(name=model_artifact_name, \n",
    "                                        type=\"model\", \n",
    "                                        description=f\"{ALGORITHM} model for Madrid housing prices\")\n",
    "                artifact.metadata[\"tags\"] = [model_fp, CITY, DATASET]\n",
    "                artifact.metadata[\"aliases\"] = [model_fp]\n",
    "                artifact.add_file(local_path=model_filename)\n",
    "                artifact.save()\n",
    "                run.log_artifact(artifact, aliases=[\"latest\", \"production\", model_fp])\n",
    "\n",
    "                df = pd.DataFrame({\n",
    "                    \"actual_price\": y_test,\n",
    "                    \"predicted_price\": preds,\n",
    "                    \"error\": abs(y_test - preds),            # e.g. point‐size or color\n",
    "                })\n",
    "                df = wandb.Table(dataframe=df)\n",
    "\n",
    "                # 1) Simple scatter with axis labels and a color dimension (error)\n",
    "                run.log({\n",
    "                    \"price_scatter\": wandb.plot.scatter(\n",
    "                        df,\n",
    "                        x=\"actual_price\",\n",
    "                        y=\"predicted_price\",\n",
    "                        title=\"Predicted vs Actual Price\",\n",
    "                        #xname=\"Actual (EUR)\",\n",
    "                        #yname=\"Predicted (EUR)\"\n",
    "                    )\n",
    "                })\n",
    "\n",
    "                # 2) If you want to color‐code each point by “error”:\n",
    "                run.log({\n",
    "                    \"price_scatter_colored\": wandb.plot.scatter(\n",
    "                        df,\n",
    "                        x=\"actual_price\",\n",
    "                        y=\"predicted_price\",\n",
    "                        title=\"Predicted vs Actual Price (colored by error)\",\n",
    "                        #xname=\"Actual (EUR)\",\n",
    "                        #yname=\"Predicted (EUR)\",\n",
    "                        #color=\"error\",    # column in df\n",
    "                        #colorscale=\"Viridis\"  # any Plotly colorscale name\n",
    "                    )\n",
    "                })\n",
    "\n"
   ]
  },
  {
   "cell_type": "markdown",
   "id": "e07ddbb9",
   "metadata": {},
   "source": [
    "## Simple regression Tree"
   ]
  },
  {
   "cell_type": "code",
   "execution_count": 21,
   "id": "cb093ac5",
   "metadata": {},
   "outputs": [
    {
     "name": "stderr",
     "output_type": "stream",
     "text": [
      "\u001b[34m\u001b[1mwandb\u001b[0m: \u001b[33mWARNING\u001b[0m If you're specifying your api key in code, ensure this code is not shared publicly.\n",
      "\u001b[34m\u001b[1mwandb\u001b[0m: \u001b[33mWARNING\u001b[0m Consider setting the WANDB_API_KEY environment variable, or running `wandb login` from the command line.\n",
      "\u001b[34m\u001b[1mwandb\u001b[0m: Appending key for api.wandb.ai to your netrc file: /Users/davidreyblanco/.netrc\n"
     ]
    },
    {
     "data": {
      "text/html": [
       "Tracking run with wandb version 0.19.11"
      ],
      "text/plain": [
       "<IPython.core.display.HTML object>"
      ]
     },
     "metadata": {},
     "output_type": "display_data"
    },
    {
     "data": {
      "text/html": [
       "Run data is saved locally in <code>/Users/davidreyblanco/Software/techweek/ml-idealista-18/notebooks/wandb/run-20250603_170250-x0ifu1ua</code>"
      ],
      "text/plain": [
       "<IPython.core.display.HTML object>"
      ]
     },
     "metadata": {},
     "output_type": "display_data"
    },
    {
     "data": {
      "text/html": [
       "Syncing run <strong><a href='https://wandb.ai/davidreyblanco-uned-universidad-nacional-de-educaci-n-a-/idealista18_madrid_decisiontree_UNITPRICE_mds9/runs/x0ifu1ua' target=\"_blank\">dark-rain-1</a></strong> to <a href='https://wandb.ai/davidreyblanco-uned-universidad-nacional-de-educaci-n-a-/idealista18_madrid_decisiontree_UNITPRICE_mds9' target=\"_blank\">Weights & Biases</a> (<a href='https://wandb.me/developer-guide' target=\"_blank\">docs</a>)<br>"
      ],
      "text/plain": [
       "<IPython.core.display.HTML object>"
      ]
     },
     "metadata": {},
     "output_type": "display_data"
    },
    {
     "data": {
      "text/html": [
       " View project at <a href='https://wandb.ai/davidreyblanco-uned-universidad-nacional-de-educaci-n-a-/idealista18_madrid_decisiontree_UNITPRICE_mds9' target=\"_blank\">https://wandb.ai/davidreyblanco-uned-universidad-nacional-de-educaci-n-a-/idealista18_madrid_decisiontree_UNITPRICE_mds9</a>"
      ],
      "text/plain": [
       "<IPython.core.display.HTML object>"
      ]
     },
     "metadata": {},
     "output_type": "display_data"
    },
    {
     "data": {
      "text/html": [
       " View run at <a href='https://wandb.ai/davidreyblanco-uned-universidad-nacional-de-educaci-n-a-/idealista18_madrid_decisiontree_UNITPRICE_mds9/runs/x0ifu1ua' target=\"_blank\">https://wandb.ai/davidreyblanco-uned-universidad-nacional-de-educaci-n-a-/idealista18_madrid_decisiontree_UNITPRICE_mds9/runs/x0ifu1ua</a>"
      ],
      "text/plain": [
       "<IPython.core.display.HTML object>"
      ]
     },
     "metadata": {},
     "output_type": "display_data"
    },
    {
     "name": "stdout",
     "output_type": "stream",
     "text": [
      "100 estimators, max depth 5\n",
      "MAPE: 0.22 MedAPE: 0.1496 MSE:974779.535222676\n",
      "Model saved to ../models/idealista18_madrid_decisiontree_UNITPRICE_depth-5.pickle (3.06 KB)\n"
     ]
    },
    {
     "data": {
      "text/html": [],
      "text/plain": [
       "<IPython.core.display.HTML object>"
      ]
     },
     "metadata": {},
     "output_type": "display_data"
    },
    {
     "data": {
      "text/html": [
       "<br>    <style><br>        .wandb-row {<br>            display: flex;<br>            flex-direction: row;<br>            flex-wrap: wrap;<br>            justify-content: flex-start;<br>            width: 100%;<br>        }<br>        .wandb-col {<br>            display: flex;<br>            flex-direction: column;<br>            flex-basis: 100%;<br>            flex: 1;<br>            padding: 10px;<br>        }<br>    </style><br><div class=\"wandb-row\"><div class=\"wandb-col\"><h3>Run history:</h3><br/><table class=\"wandb\"><tr><td>mae</td><td>▁</td></tr><tr><td>mape</td><td>▁</td></tr><tr><td>max_depth</td><td>▁</td></tr><tr><td>medape</td><td>▁</td></tr><tr><td>mse</td><td>▁</td></tr><tr><td>n_estimators</td><td>▁</td></tr><tr><td>n_test</td><td>▁</td></tr><tr><td>n_train</td><td>▁</td></tr><tr><td>r2</td><td>▁</td></tr><tr><td>random_state</td><td>▁</td></tr></table><br/></div><div class=\"wandb-col\"><h3>Run summary:</h3><br/><table class=\"wandb\"><tr><td>mae</td><td>714.26429</td></tr><tr><td>mape</td><td>0.21785</td></tr><tr><td>max_depth</td><td>5</td></tr><tr><td>medape</td><td>0.14956</td></tr><tr><td>mse</td><td>974779.53522</td></tr><tr><td>n_estimators</td><td>100</td></tr><tr><td>n_test</td><td>18963</td></tr><tr><td>n_train</td><td>75851</td></tr><tr><td>r2</td><td>0.66018</td></tr><tr><td>random_state</td><td>42</td></tr></table><br/></div></div>"
      ],
      "text/plain": [
       "<IPython.core.display.HTML object>"
      ]
     },
     "metadata": {},
     "output_type": "display_data"
    },
    {
     "data": {
      "text/html": [
       " View run <strong style=\"color:#cdcd00\">dark-rain-1</strong> at: <a href='https://wandb.ai/davidreyblanco-uned-universidad-nacional-de-educaci-n-a-/idealista18_madrid_decisiontree_UNITPRICE_mds9/runs/x0ifu1ua' target=\"_blank\">https://wandb.ai/davidreyblanco-uned-universidad-nacional-de-educaci-n-a-/idealista18_madrid_decisiontree_UNITPRICE_mds9/runs/x0ifu1ua</a><br> View project at: <a href='https://wandb.ai/davidreyblanco-uned-universidad-nacional-de-educaci-n-a-/idealista18_madrid_decisiontree_UNITPRICE_mds9' target=\"_blank\">https://wandb.ai/davidreyblanco-uned-universidad-nacional-de-educaci-n-a-/idealista18_madrid_decisiontree_UNITPRICE_mds9</a><br>Synced 5 W&B file(s), 1 media file(s), 4 artifact file(s) and 0 other file(s)"
      ],
      "text/plain": [
       "<IPython.core.display.HTML object>"
      ]
     },
     "metadata": {},
     "output_type": "display_data"
    },
    {
     "data": {
      "text/html": [
       "Find logs at: <code>./wandb/run-20250603_170250-x0ifu1ua/logs</code>"
      ],
      "text/plain": [
       "<IPython.core.display.HTML object>"
      ]
     },
     "metadata": {},
     "output_type": "display_data"
    },
    {
     "data": {
      "text/html": [
       "Tracking run with wandb version 0.19.11"
      ],
      "text/plain": [
       "<IPython.core.display.HTML object>"
      ]
     },
     "metadata": {},
     "output_type": "display_data"
    },
    {
     "data": {
      "text/html": [
       "Run data is saved locally in <code>/Users/davidreyblanco/Software/techweek/ml-idealista-18/notebooks/wandb/run-20250603_170255-2xnv4zz9</code>"
      ],
      "text/plain": [
       "<IPython.core.display.HTML object>"
      ]
     },
     "metadata": {},
     "output_type": "display_data"
    },
    {
     "data": {
      "text/html": [
       "Syncing run <strong><a href='https://wandb.ai/davidreyblanco-uned-universidad-nacional-de-educaci-n-a-/idealista18_madrid_decisiontree_UNITPRICE_mds9/runs/2xnv4zz9' target=\"_blank\">celestial-eon-2</a></strong> to <a href='https://wandb.ai/davidreyblanco-uned-universidad-nacional-de-educaci-n-a-/idealista18_madrid_decisiontree_UNITPRICE_mds9' target=\"_blank\">Weights & Biases</a> (<a href='https://wandb.me/developer-guide' target=\"_blank\">docs</a>)<br>"
      ],
      "text/plain": [
       "<IPython.core.display.HTML object>"
      ]
     },
     "metadata": {},
     "output_type": "display_data"
    },
    {
     "data": {
      "text/html": [
       " View project at <a href='https://wandb.ai/davidreyblanco-uned-universidad-nacional-de-educaci-n-a-/idealista18_madrid_decisiontree_UNITPRICE_mds9' target=\"_blank\">https://wandb.ai/davidreyblanco-uned-universidad-nacional-de-educaci-n-a-/idealista18_madrid_decisiontree_UNITPRICE_mds9</a>"
      ],
      "text/plain": [
       "<IPython.core.display.HTML object>"
      ]
     },
     "metadata": {},
     "output_type": "display_data"
    },
    {
     "data": {
      "text/html": [
       " View run at <a href='https://wandb.ai/davidreyblanco-uned-universidad-nacional-de-educaci-n-a-/idealista18_madrid_decisiontree_UNITPRICE_mds9/runs/2xnv4zz9' target=\"_blank\">https://wandb.ai/davidreyblanco-uned-universidad-nacional-de-educaci-n-a-/idealista18_madrid_decisiontree_UNITPRICE_mds9/runs/2xnv4zz9</a>"
      ],
      "text/plain": [
       "<IPython.core.display.HTML object>"
      ]
     },
     "metadata": {},
     "output_type": "display_data"
    },
    {
     "name": "stdout",
     "output_type": "stream",
     "text": [
      "100 estimators, max depth 10\n",
      "MAPE: 0.17 MedAPE: 0.1143 MSE:680536.3614929119\n",
      "Model saved to ../models/idealista18_madrid_decisiontree_UNITPRICE_depth-10.pickle (45.71 KB)\n"
     ]
    },
    {
     "data": {
      "text/html": [],
      "text/plain": [
       "<IPython.core.display.HTML object>"
      ]
     },
     "metadata": {},
     "output_type": "display_data"
    },
    {
     "data": {
      "text/html": [
       "<br>    <style><br>        .wandb-row {<br>            display: flex;<br>            flex-direction: row;<br>            flex-wrap: wrap;<br>            justify-content: flex-start;<br>            width: 100%;<br>        }<br>        .wandb-col {<br>            display: flex;<br>            flex-direction: column;<br>            flex-basis: 100%;<br>            flex: 1;<br>            padding: 10px;<br>        }<br>    </style><br><div class=\"wandb-row\"><div class=\"wandb-col\"><h3>Run history:</h3><br/><table class=\"wandb\"><tr><td>mae</td><td>▁</td></tr><tr><td>mape</td><td>▁</td></tr><tr><td>max_depth</td><td>▁</td></tr><tr><td>medape</td><td>▁</td></tr><tr><td>mse</td><td>▁</td></tr><tr><td>n_estimators</td><td>▁</td></tr><tr><td>n_test</td><td>▁</td></tr><tr><td>n_train</td><td>▁</td></tr><tr><td>r2</td><td>▁</td></tr><tr><td>random_state</td><td>▁</td></tr></table><br/></div><div class=\"wandb-col\"><h3>Run summary:</h3><br/><table class=\"wandb\"><tr><td>mae</td><td>570.86571</td></tr><tr><td>mape</td><td>0.17215</td></tr><tr><td>max_depth</td><td>10</td></tr><tr><td>medape</td><td>0.1143</td></tr><tr><td>mse</td><td>680536.36149</td></tr><tr><td>n_estimators</td><td>100</td></tr><tr><td>n_test</td><td>18963</td></tr><tr><td>n_train</td><td>75851</td></tr><tr><td>r2</td><td>0.76275</td></tr><tr><td>random_state</td><td>42</td></tr></table><br/></div></div>"
      ],
      "text/plain": [
       "<IPython.core.display.HTML object>"
      ]
     },
     "metadata": {},
     "output_type": "display_data"
    },
    {
     "data": {
      "text/html": [
       " View run <strong style=\"color:#cdcd00\">celestial-eon-2</strong> at: <a href='https://wandb.ai/davidreyblanco-uned-universidad-nacional-de-educaci-n-a-/idealista18_madrid_decisiontree_UNITPRICE_mds9/runs/2xnv4zz9' target=\"_blank\">https://wandb.ai/davidreyblanco-uned-universidad-nacional-de-educaci-n-a-/idealista18_madrid_decisiontree_UNITPRICE_mds9/runs/2xnv4zz9</a><br> View project at: <a href='https://wandb.ai/davidreyblanco-uned-universidad-nacional-de-educaci-n-a-/idealista18_madrid_decisiontree_UNITPRICE_mds9' target=\"_blank\">https://wandb.ai/davidreyblanco-uned-universidad-nacional-de-educaci-n-a-/idealista18_madrid_decisiontree_UNITPRICE_mds9</a><br>Synced 5 W&B file(s), 1 media file(s), 4 artifact file(s) and 0 other file(s)"
      ],
      "text/plain": [
       "<IPython.core.display.HTML object>"
      ]
     },
     "metadata": {},
     "output_type": "display_data"
    },
    {
     "data": {
      "text/html": [
       "Find logs at: <code>./wandb/run-20250603_170255-2xnv4zz9/logs</code>"
      ],
      "text/plain": [
       "<IPython.core.display.HTML object>"
      ]
     },
     "metadata": {},
     "output_type": "display_data"
    },
    {
     "data": {
      "text/html": [
       "Tracking run with wandb version 0.19.11"
      ],
      "text/plain": [
       "<IPython.core.display.HTML object>"
      ]
     },
     "metadata": {},
     "output_type": "display_data"
    },
    {
     "data": {
      "text/html": [
       "Run data is saved locally in <code>/Users/davidreyblanco/Software/techweek/ml-idealista-18/notebooks/wandb/run-20250603_170300-iv11b4ht</code>"
      ],
      "text/plain": [
       "<IPython.core.display.HTML object>"
      ]
     },
     "metadata": {},
     "output_type": "display_data"
    },
    {
     "data": {
      "text/html": [
       "Syncing run <strong><a href='https://wandb.ai/davidreyblanco-uned-universidad-nacional-de-educaci-n-a-/idealista18_madrid_decisiontree_UNITPRICE_mds9/runs/iv11b4ht' target=\"_blank\">lemon-grass-3</a></strong> to <a href='https://wandb.ai/davidreyblanco-uned-universidad-nacional-de-educaci-n-a-/idealista18_madrid_decisiontree_UNITPRICE_mds9' target=\"_blank\">Weights & Biases</a> (<a href='https://wandb.me/developer-guide' target=\"_blank\">docs</a>)<br>"
      ],
      "text/plain": [
       "<IPython.core.display.HTML object>"
      ]
     },
     "metadata": {},
     "output_type": "display_data"
    },
    {
     "data": {
      "text/html": [
       " View project at <a href='https://wandb.ai/davidreyblanco-uned-universidad-nacional-de-educaci-n-a-/idealista18_madrid_decisiontree_UNITPRICE_mds9' target=\"_blank\">https://wandb.ai/davidreyblanco-uned-universidad-nacional-de-educaci-n-a-/idealista18_madrid_decisiontree_UNITPRICE_mds9</a>"
      ],
      "text/plain": [
       "<IPython.core.display.HTML object>"
      ]
     },
     "metadata": {},
     "output_type": "display_data"
    },
    {
     "data": {
      "text/html": [
       " View run at <a href='https://wandb.ai/davidreyblanco-uned-universidad-nacional-de-educaci-n-a-/idealista18_madrid_decisiontree_UNITPRICE_mds9/runs/iv11b4ht' target=\"_blank\">https://wandb.ai/davidreyblanco-uned-universidad-nacional-de-educaci-n-a-/idealista18_madrid_decisiontree_UNITPRICE_mds9/runs/iv11b4ht</a>"
      ],
      "text/plain": [
       "<IPython.core.display.HTML object>"
      ]
     },
     "metadata": {},
     "output_type": "display_data"
    },
    {
     "name": "stdout",
     "output_type": "stream",
     "text": [
      "100 estimators, max depth 30\n",
      "MAPE: 0.15 MedAPE: 0.0766 MSE:699292.9996179165\n",
      "Model saved to ../models/idealista18_madrid_decisiontree_UNITPRICE_depth-30.pickle (2348.33 KB)\n"
     ]
    },
    {
     "data": {
      "text/html": [],
      "text/plain": [
       "<IPython.core.display.HTML object>"
      ]
     },
     "metadata": {},
     "output_type": "display_data"
    },
    {
     "data": {
      "text/html": [
       "<br>    <style><br>        .wandb-row {<br>            display: flex;<br>            flex-direction: row;<br>            flex-wrap: wrap;<br>            justify-content: flex-start;<br>            width: 100%;<br>        }<br>        .wandb-col {<br>            display: flex;<br>            flex-direction: column;<br>            flex-basis: 100%;<br>            flex: 1;<br>            padding: 10px;<br>        }<br>    </style><br><div class=\"wandb-row\"><div class=\"wandb-col\"><h3>Run history:</h3><br/><table class=\"wandb\"><tr><td>mae</td><td>▁</td></tr><tr><td>mape</td><td>▁</td></tr><tr><td>max_depth</td><td>▁</td></tr><tr><td>medape</td><td>▁</td></tr><tr><td>mse</td><td>▁</td></tr><tr><td>n_estimators</td><td>▁</td></tr><tr><td>n_test</td><td>▁</td></tr><tr><td>n_train</td><td>▁</td></tr><tr><td>r2</td><td>▁</td></tr><tr><td>random_state</td><td>▁</td></tr></table><br/></div><div class=\"wandb-col\"><h3>Run summary:</h3><br/><table class=\"wandb\"><tr><td>mae</td><td>504.72104</td></tr><tr><td>mape</td><td>0.1512</td></tr><tr><td>max_depth</td><td>30</td></tr><tr><td>medape</td><td>0.07664</td></tr><tr><td>mse</td><td>699292.99962</td></tr><tr><td>n_estimators</td><td>100</td></tr><tr><td>n_test</td><td>18963</td></tr><tr><td>n_train</td><td>75851</td></tr><tr><td>r2</td><td>0.75622</td></tr><tr><td>random_state</td><td>42</td></tr></table><br/></div></div>"
      ],
      "text/plain": [
       "<IPython.core.display.HTML object>"
      ]
     },
     "metadata": {},
     "output_type": "display_data"
    },
    {
     "data": {
      "text/html": [
       " View run <strong style=\"color:#cdcd00\">lemon-grass-3</strong> at: <a href='https://wandb.ai/davidreyblanco-uned-universidad-nacional-de-educaci-n-a-/idealista18_madrid_decisiontree_UNITPRICE_mds9/runs/iv11b4ht' target=\"_blank\">https://wandb.ai/davidreyblanco-uned-universidad-nacional-de-educaci-n-a-/idealista18_madrid_decisiontree_UNITPRICE_mds9/runs/iv11b4ht</a><br> View project at: <a href='https://wandb.ai/davidreyblanco-uned-universidad-nacional-de-educaci-n-a-/idealista18_madrid_decisiontree_UNITPRICE_mds9' target=\"_blank\">https://wandb.ai/davidreyblanco-uned-universidad-nacional-de-educaci-n-a-/idealista18_madrid_decisiontree_UNITPRICE_mds9</a><br>Synced 5 W&B file(s), 1 media file(s), 4 artifact file(s) and 0 other file(s)"
      ],
      "text/plain": [
       "<IPython.core.display.HTML object>"
      ]
     },
     "metadata": {},
     "output_type": "display_data"
    },
    {
     "data": {
      "text/html": [
       "Find logs at: <code>./wandb/run-20250603_170300-iv11b4ht/logs</code>"
      ],
      "text/plain": [
       "<IPython.core.display.HTML object>"
      ]
     },
     "metadata": {},
     "output_type": "display_data"
    }
   ],
   "source": [
    "import unidecode as unidecode\n",
    "import joblib\n",
    "from sklearn.ensemble import RandomForestRegressor\n",
    "from sklearn.model_selection import train_test_split\n",
    "from sklearn.metrics import mean_squared_error\n",
    "from sklearn.metrics import r2_score\n",
    "from sklearn.metrics import mean_absolute_error\n",
    "from sklearn.metrics import mean_absolute_percentage_error, median_absolute_error\n",
    "from sklearn.tree import DecisionTreeRegressor\n",
    "\n",
    "TEAM_ENTITY = \"mds9\"  # Replace with your team entity\n",
    "ALGORITHM = \"Decision Tree\"\n",
    "CITY = \"Madrid\"\n",
    "DATASET = \"idealista18\"\n",
    "algorithm_slug = unidecode.unidecode(ALGORITHM).lower().replace(\" \", \"\")\n",
    "PROJECT = f\"{DATASET}_{CITY.lower()}_{algorithm_slug}_{TARGET_COLUMN}_{TEAM_ENTITY.lower()}\"\n",
    "\n",
    "\n",
    "# 1) Grab the W&B token\n",
    "wandb_token = os.getenv(\"WANDB_API_KEY\")\n",
    "if wandb_token is None:\n",
    "    raise RuntimeError(\"WANDB_API_KEY not found in environment. Did you create a .env with that variable?\")\n",
    "\n",
    "# 2) Login with the token\n",
    "wandb.login(key=wandb_token)\n",
    "\n",
    "for max_depth in [5, 10, 30]:\n",
    "\n",
    "        # 3) Train some models\n",
    "        with wandb.init(project=PROJECT, config={\"algorithm\": ALGORITHM,\n",
    "                                                \"target\": TARGET_COLUMN,\n",
    "                                                \"city\": CITY,\n",
    "                                                \"dataset\": DATASET }) as run:\n",
    "\n",
    "            #\n",
    "            # Create a grid search for hyperparameters\n",
    "            #\n",
    "                random_state=42\n",
    "                print(f\"{n_estimators} estimators, max depth {max_depth}\")\n",
    "                model = DecisionTreeRegressor(max_depth=max_depth, random_state=random_state)\n",
    "                model.fit(X_train, y_train)\n",
    "                preds = model.predict(X_test)\n",
    "                mse = mean_squared_error(y_test, preds)\n",
    "                r2 = r2_score(y_test, preds)\n",
    "                mae = mean_absolute_error(y_test, preds)\n",
    "                mape = mean_absolute_percentage_error(y_test, preds)\n",
    "                medape = median_absolute_error(y_test, preds) / y_test.median()\n",
    "\n",
    "                print(f\"MAPE: {mape:.2f} MedAPE: {medape:.4f} MSE:{mse}\")\n",
    "\n",
    "                run.log({\n",
    "                    \"mse\": mse,\n",
    "                    \"r2\": r2,\n",
    "                    \"mape\": mape,\n",
    "                    \"medape\": medape,\n",
    "                    \"mae\": mae,\n",
    "                    \"random_state\": random_state,\n",
    "                    'n_train': len(X_train),\n",
    "                    'n_test': len(X_test),\n",
    "                    \"n_estimators\": n_estimators,\n",
    "                    \"max_depth\": max_depth, \n",
    "                })\n",
    "\n",
    "                # Create a model filename fingerprint\n",
    "                \n",
    "                model_fp = f\"depth-{max_depth}\"\n",
    "                model_artifact_name = f\"{DATASET}_{CITY.lower()}_{algorithm_slug}_{TARGET_COLUMN}_{model_fp}\"\n",
    "\n",
    "                model_filename = f\"../models/{model_artifact_name}.pickle\"\n",
    "                joblib.dump(model, model_filename, compress=('gzip', 3))\n",
    "                model_size = os.path.getsize(model_filename)\n",
    "                print(f\"Model saved to {model_filename} ({model_size / 1024:.2f} KB)\")\n",
    "\n",
    "                # Guardamos el modelo en el repositorio de modelos de W&B = idealista18_madrid_random_forest\n",
    "                model_artifact_name = f'idealista18_madrid_{ALGORITHM.lower().replace(\" \", \"_\")}'\n",
    "\n",
    "                artifact = wandb.Artifact(name=model_artifact_name, \n",
    "                                        type=\"model\", \n",
    "                                        description=f\"{ALGORITHM} model for Madrid housing prices\")\n",
    "\n",
    "                artifact.metadata[\"tags\"] = [model_fp, CITY, DATASET]\n",
    "                artifact.metadata[\"aliases\"] = [model_fp]\n",
    "                artifact.add_file(local_path=model_filename)\n",
    "                artifact.save()\n",
    "                run.log_artifact(artifact, aliases=[\"latest\", \"production\", model_fp])\n",
    "\n",
    "                df = pd.DataFrame({\n",
    "                    \"actual_price\": y_test,\n",
    "                    \"predicted_price\": preds,\n",
    "                    \"error\": abs(y_test - preds),            # e.g. point‐size or color\n",
    "                })\n",
    "                df = wandb.Table(dataframe=df)\n",
    "\n",
    "                # 1) Simple scatter with axis labels and a color dimension (error)\n",
    "                run.log({\n",
    "                    \"price_scatter\": wandb.plot.scatter(\n",
    "                        df,\n",
    "                        x=\"actual_price\",\n",
    "                        y=\"predicted_price\",\n",
    "                        title=\"Predicted vs Actual Price\",\n",
    "                        #xname=\"Actual (EUR)\",\n",
    "                        #yname=\"Predicted (EUR)\"\n",
    "                    )\n",
    "                })\n",
    "\n",
    "                # 2) If you want to color‐code each point by “error”:\n",
    "                run.log({\n",
    "                    \"price_scatter_colored\": wandb.plot.scatter(\n",
    "                        df,\n",
    "                        x=\"actual_price\",\n",
    "                        y=\"predicted_price\",\n",
    "                        title=\"Predicted vs Actual Price (colored by error)\",\n",
    "                        #xname=\"Actual (EUR)\",\n",
    "                        #yname=\"Predicted (EUR)\",\n",
    "                        #color=\"error\",    # column in df\n",
    "                        #colorscale=\"Viridis\"  # any Plotly colorscale name\n",
    "                    )\n",
    "                })\n"
   ]
  },
  {
   "cell_type": "markdown",
   "id": "8bd45500",
   "metadata": {},
   "source": [
    "## Simple regression"
   ]
  },
  {
   "cell_type": "code",
   "execution_count": 22,
   "id": "1c886a23",
   "metadata": {},
   "outputs": [
    {
     "name": "stderr",
     "output_type": "stream",
     "text": [
      "\u001b[34m\u001b[1mwandb\u001b[0m: \u001b[33mWARNING\u001b[0m If you're specifying your api key in code, ensure this code is not shared publicly.\n",
      "\u001b[34m\u001b[1mwandb\u001b[0m: \u001b[33mWARNING\u001b[0m Consider setting the WANDB_API_KEY environment variable, or running `wandb login` from the command line.\n",
      "\u001b[34m\u001b[1mwandb\u001b[0m: Appending key for api.wandb.ai to your netrc file: /Users/davidreyblanco/.netrc\n"
     ]
    },
    {
     "data": {
      "text/html": [
       "Tracking run with wandb version 0.19.11"
      ],
      "text/plain": [
       "<IPython.core.display.HTML object>"
      ]
     },
     "metadata": {},
     "output_type": "display_data"
    },
    {
     "data": {
      "text/html": [
       "Run data is saved locally in <code>/Users/davidreyblanco/Software/techweek/ml-idealista-18/notebooks/wandb/run-20250603_170305-e65v83v8</code>"
      ],
      "text/plain": [
       "<IPython.core.display.HTML object>"
      ]
     },
     "metadata": {},
     "output_type": "display_data"
    },
    {
     "data": {
      "text/html": [
       "Syncing run <strong><a href='https://wandb.ai/davidreyblanco-uned-universidad-nacional-de-educaci-n-a-/idealista18_madrid_multipleregression_UNITPRICE_mds9/runs/e65v83v8' target=\"_blank\">wise-valley-1</a></strong> to <a href='https://wandb.ai/davidreyblanco-uned-universidad-nacional-de-educaci-n-a-/idealista18_madrid_multipleregression_UNITPRICE_mds9' target=\"_blank\">Weights & Biases</a> (<a href='https://wandb.me/developer-guide' target=\"_blank\">docs</a>)<br>"
      ],
      "text/plain": [
       "<IPython.core.display.HTML object>"
      ]
     },
     "metadata": {},
     "output_type": "display_data"
    },
    {
     "data": {
      "text/html": [
       " View project at <a href='https://wandb.ai/davidreyblanco-uned-universidad-nacional-de-educaci-n-a-/idealista18_madrid_multipleregression_UNITPRICE_mds9' target=\"_blank\">https://wandb.ai/davidreyblanco-uned-universidad-nacional-de-educaci-n-a-/idealista18_madrid_multipleregression_UNITPRICE_mds9</a>"
      ],
      "text/plain": [
       "<IPython.core.display.HTML object>"
      ]
     },
     "metadata": {},
     "output_type": "display_data"
    },
    {
     "data": {
      "text/html": [
       " View run at <a href='https://wandb.ai/davidreyblanco-uned-universidad-nacional-de-educaci-n-a-/idealista18_madrid_multipleregression_UNITPRICE_mds9/runs/e65v83v8' target=\"_blank\">https://wandb.ai/davidreyblanco-uned-universidad-nacional-de-educaci-n-a-/idealista18_madrid_multipleregression_UNITPRICE_mds9/runs/e65v83v8</a>"
      ],
      "text/plain": [
       "<IPython.core.display.HTML object>"
      ]
     },
     "metadata": {},
     "output_type": "display_data"
    },
    {
     "name": "stdout",
     "output_type": "stream",
     "text": [
      "100 estimators, max depth 30\n",
      "MAPE: 0.26 MedAPE: 0.1764 MSE:1081204.6200973417\n",
      "Model saved to ../models/idealista18_madrid_multipleregression_UNITPRICE_plain.pickle (1.44 KB)\n"
     ]
    },
    {
     "data": {
      "text/html": [],
      "text/plain": [
       "<IPython.core.display.HTML object>"
      ]
     },
     "metadata": {},
     "output_type": "display_data"
    },
    {
     "data": {
      "text/html": [
       "<br>    <style><br>        .wandb-row {<br>            display: flex;<br>            flex-direction: row;<br>            flex-wrap: wrap;<br>            justify-content: flex-start;<br>            width: 100%;<br>        }<br>        .wandb-col {<br>            display: flex;<br>            flex-direction: column;<br>            flex-basis: 100%;<br>            flex: 1;<br>            padding: 10px;<br>        }<br>    </style><br><div class=\"wandb-row\"><div class=\"wandb-col\"><h3>Run history:</h3><br/><table class=\"wandb\"><tr><td>mae</td><td>▁</td></tr><tr><td>mape</td><td>▁</td></tr><tr><td>max_depth</td><td>▁</td></tr><tr><td>medape</td><td>▁</td></tr><tr><td>mse</td><td>▁</td></tr><tr><td>n_estimators</td><td>▁</td></tr><tr><td>n_test</td><td>▁</td></tr><tr><td>n_train</td><td>▁</td></tr><tr><td>r2</td><td>▁</td></tr><tr><td>random_state</td><td>▁</td></tr></table><br/></div><div class=\"wandb-col\"><h3>Run summary:</h3><br/><table class=\"wandb\"><tr><td>mae</td><td>780.07291</td></tr><tr><td>mape</td><td>0.25674</td></tr><tr><td>max_depth</td><td>30</td></tr><tr><td>medape</td><td>0.17636</td></tr><tr><td>mse</td><td>1081204.6201</td></tr><tr><td>n_estimators</td><td>100</td></tr><tr><td>n_test</td><td>18963</td></tr><tr><td>n_train</td><td>75851</td></tr><tr><td>r2</td><td>0.62307</td></tr><tr><td>random_state</td><td>42</td></tr></table><br/></div></div>"
      ],
      "text/plain": [
       "<IPython.core.display.HTML object>"
      ]
     },
     "metadata": {},
     "output_type": "display_data"
    },
    {
     "data": {
      "text/html": [
       " View run <strong style=\"color:#cdcd00\">wise-valley-1</strong> at: <a href='https://wandb.ai/davidreyblanco-uned-universidad-nacional-de-educaci-n-a-/idealista18_madrid_multipleregression_UNITPRICE_mds9/runs/e65v83v8' target=\"_blank\">https://wandb.ai/davidreyblanco-uned-universidad-nacional-de-educaci-n-a-/idealista18_madrid_multipleregression_UNITPRICE_mds9/runs/e65v83v8</a><br> View project at: <a href='https://wandb.ai/davidreyblanco-uned-universidad-nacional-de-educaci-n-a-/idealista18_madrid_multipleregression_UNITPRICE_mds9' target=\"_blank\">https://wandb.ai/davidreyblanco-uned-universidad-nacional-de-educaci-n-a-/idealista18_madrid_multipleregression_UNITPRICE_mds9</a><br>Synced 5 W&B file(s), 1 media file(s), 4 artifact file(s) and 0 other file(s)"
      ],
      "text/plain": [
       "<IPython.core.display.HTML object>"
      ]
     },
     "metadata": {},
     "output_type": "display_data"
    },
    {
     "data": {
      "text/html": [
       "Find logs at: <code>./wandb/run-20250603_170305-e65v83v8/logs</code>"
      ],
      "text/plain": [
       "<IPython.core.display.HTML object>"
      ]
     },
     "metadata": {},
     "output_type": "display_data"
    }
   ],
   "source": [
    "import unidecode as unidecode\n",
    "import joblib\n",
    "from sklearn.ensemble import RandomForestRegressor\n",
    "from sklearn.model_selection import train_test_split\n",
    "from sklearn.metrics import mean_squared_error\n",
    "from sklearn.metrics import r2_score\n",
    "from sklearn.metrics import mean_absolute_error\n",
    "from sklearn.metrics import mean_absolute_percentage_error, median_absolute_error\n",
    "from sklearn.linear_model import LinearRegression\n",
    "\n",
    "TEAM_ENTITY = \"mds9\"  # Replace with your team entity\n",
    "ALGORITHM = \"Multiple Regression\"\n",
    "CITY = \"Madrid\"\n",
    "DATASET = \"idealista18\"\n",
    "algorithm_slug = unidecode.unidecode(ALGORITHM).lower().replace(\" \", \"\")\n",
    "PROJECT = f\"{DATASET}_{CITY.lower()}_{algorithm_slug}_{TARGET_COLUMN}_{TEAM_ENTITY.lower()}\"\n",
    "\n",
    "\n",
    "# 1) Grab the W&B token\n",
    "wandb_token = os.getenv(\"WANDB_API_KEY\")\n",
    "if wandb_token is None:\n",
    "    raise RuntimeError(\"WANDB_API_KEY not found in environment. Did you create a .env with that variable?\")\n",
    "\n",
    "# 2) Login with the token\n",
    "wandb.login(key=wandb_token)\n",
    "\n",
    "\n",
    "    # 3) Train some models\n",
    "with wandb.init(project=PROJECT, config={\"algorithm\": ALGORITHM,\n",
    "                                                \"target\": TARGET_COLUMN,\n",
    "                                                \"city\": CITY,\n",
    "                                                \"dataset\": DATASET }) as run:\n",
    "\n",
    "            #\n",
    "            # Create a grid search for hyperparameters\n",
    "            #\n",
    "                random_state=42\n",
    "                print(f\"{n_estimators} estimators, max depth {max_depth}\")\n",
    "                model = LinearRegression()\n",
    "                # Fill NA values in X_train and X_test with column means\n",
    "                X_train_lr = X_train.fillna(X_train.mean())\n",
    "                X_test_lr = X_test.fillna(X_train.mean())\n",
    "                model.fit(X_train_lr, y_train)\n",
    "                preds = model.predict(X_test_lr)\n",
    "                mse = mean_squared_error(y_test, preds)\n",
    "                r2 = r2_score(y_test, preds)\n",
    "                mae = mean_absolute_error(y_test, preds)\n",
    "                mape = mean_absolute_percentage_error(y_test, preds)\n",
    "                medape = median_absolute_error(y_test, preds) / y_test.median()\n",
    "\n",
    "                print(f\"MAPE: {mape:.2f} MedAPE: {medape:.4f} MSE:{mse}\")\n",
    "\n",
    "                run.log({\n",
    "                    \"mse\": mse,\n",
    "                    \"r2\": r2,\n",
    "                    \"mape\": mape,\n",
    "                    \"medape\": medape,\n",
    "                    \"mae\": mae,\n",
    "                    \"random_state\": random_state,\n",
    "                    'n_train': len(X_train),\n",
    "                    'n_test': len(X_test),\n",
    "                    \"n_estimators\": n_estimators,\n",
    "                    \"max_depth\": max_depth, \n",
    "                })\n",
    "\n",
    "                # Create a model filename fingerprint\n",
    "                \n",
    "                model_fp = f\"plain\"\n",
    "                model_artifact_name = f\"{DATASET}_{CITY.lower()}_{algorithm_slug}_{TARGET_COLUMN}_{model_fp}\"\n",
    "\n",
    "                model_filename = f\"../models/{model_artifact_name}.pickle\"\n",
    "                joblib.dump(model, model_filename, compress=('gzip', 3))\n",
    "                model_size = os.path.getsize(model_filename)\n",
    "                print(f\"Model saved to {model_filename} ({model_size / 1024:.2f} KB)\")\n",
    "\n",
    "                # Guardamos el modelo en el repositorio de modelos de W&B\n",
    "                model_artifact_name = f'idealista18_madrid_{ALGORITHM.lower().replace(\" \", \"_\")}'\n",
    "\n",
    "                artifact = wandb.Artifact(name=model_artifact_name, \n",
    "                                        type=\"model\", \n",
    "                                        description=f\"{ALGORITHM} model for Madrid housing prices\")\n",
    "                artifact.metadata[\"tags\"] = [model_fp, CITY, DATASET]\n",
    "                artifact.metadata[\"aliases\"] = [model_fp]\n",
    "                artifact.add_file(local_path=model_filename)\n",
    "                artifact.save()\n",
    "                run.log_artifact(artifact, aliases=[\"latest\", \"production\", model_fp])\n",
    "\n",
    "                df = pd.DataFrame({\n",
    "                    \"actual_price\": y_test,\n",
    "                    \"predicted_price\": preds,\n",
    "                    \"error\": abs(y_test - preds),            # e.g. point‐size or color\n",
    "                })\n",
    "                df = wandb.Table(dataframe=df)\n",
    "\n",
    "                # 1) Simple scatter with axis labels and a color dimension (error)\n",
    "                run.log({\n",
    "                    \"price_scatter\": wandb.plot.scatter(\n",
    "                        df,\n",
    "                        x=\"actual_price\",\n",
    "                        y=\"predicted_price\",\n",
    "                        title=\"Predicted vs Actual Price\",\n",
    "                        #xname=\"Actual (EUR)\",\n",
    "                        #yname=\"Predicted (EUR)\"\n",
    "                    )\n",
    "                })\n",
    "\n",
    "                # 2) If you want to color‐code each point by “error”:\n",
    "                run.log({\n",
    "                    \"price_scatter_colored\": wandb.plot.scatter(\n",
    "                        df,\n",
    "                        x=\"actual_price\",\n",
    "                        y=\"predicted_price\",\n",
    "                        title=\"Predicted vs Actual Price (colored by error)\",\n",
    "                        #xname=\"Actual (EUR)\",\n",
    "                        #yname=\"Predicted (EUR)\",\n",
    "                        #color=\"error\",    # column in df\n",
    "                        #colorscale=\"Viridis\"  # any Plotly colorscale name\n",
    "                    )\n",
    "                })"
   ]
  },
  {
   "cell_type": "markdown",
   "id": "c1fd4fa4",
   "metadata": {},
   "source": [
    "# Uso de un \"artefacto\" de tipo modelo\n",
    "\n",
    "Ahora descargamos el artefacto desde el proyecto, tomamos la última versión del artefacto"
   ]
  },
  {
   "cell_type": "code",
   "execution_count": 23,
   "id": "4f1ef1c1",
   "metadata": {},
   "outputs": [
    {
     "data": {
      "text/html": [
       "Tracking run with wandb version 0.19.11"
      ],
      "text/plain": [
       "<IPython.core.display.HTML object>"
      ]
     },
     "metadata": {},
     "output_type": "display_data"
    },
    {
     "data": {
      "text/html": [
       "Run data is saved locally in <code>/Users/davidreyblanco/Software/techweek/ml-idealista-18/notebooks/wandb/run-20250603_170310-efrarcv6</code>"
      ],
      "text/plain": [
       "<IPython.core.display.HTML object>"
      ]
     },
     "metadata": {},
     "output_type": "display_data"
    },
    {
     "data": {
      "text/html": [
       "Syncing run <strong><a href='https://wandb.ai/davidreyblanco-uned-universidad-nacional-de-educaci-n-a-/idealista18_madrid_multipleregression_UNITPRICE_mds9/runs/efrarcv6' target=\"_blank\">robust-river-2</a></strong> to <a href='https://wandb.ai/davidreyblanco-uned-universidad-nacional-de-educaci-n-a-/idealista18_madrid_multipleregression_UNITPRICE_mds9' target=\"_blank\">Weights & Biases</a> (<a href='https://wandb.me/developer-guide' target=\"_blank\">docs</a>)<br>"
      ],
      "text/plain": [
       "<IPython.core.display.HTML object>"
      ]
     },
     "metadata": {},
     "output_type": "display_data"
    },
    {
     "data": {
      "text/html": [
       " View project at <a href='https://wandb.ai/davidreyblanco-uned-universidad-nacional-de-educaci-n-a-/idealista18_madrid_multipleregression_UNITPRICE_mds9' target=\"_blank\">https://wandb.ai/davidreyblanco-uned-universidad-nacional-de-educaci-n-a-/idealista18_madrid_multipleregression_UNITPRICE_mds9</a>"
      ],
      "text/plain": [
       "<IPython.core.display.HTML object>"
      ]
     },
     "metadata": {},
     "output_type": "display_data"
    },
    {
     "data": {
      "text/html": [
       " View run at <a href='https://wandb.ai/davidreyblanco-uned-universidad-nacional-de-educaci-n-a-/idealista18_madrid_multipleregression_UNITPRICE_mds9/runs/efrarcv6' target=\"_blank\">https://wandb.ai/davidreyblanco-uned-universidad-nacional-de-educaci-n-a-/idealista18_madrid_multipleregression_UNITPRICE_mds9/runs/efrarcv6</a>"
      ],
      "text/plain": [
       "<IPython.core.display.HTML object>"
      ]
     },
     "metadata": {},
     "output_type": "display_data"
    },
    {
     "name": "stderr",
     "output_type": "stream",
     "text": [
      "Traceback (most recent call last):\n",
      "  File \"/Users/davidreyblanco/Software/techweek/ml-idealista-18/.venv/lib/python3.12/site-packages/wandb/apis/normalize.py\", line 25, in wrapper\n",
      "    return func(*args, **kwargs)\n",
      "           ^^^^^^^^^^^^^^^^^^^^^\n",
      "  File \"/Users/davidreyblanco/Software/techweek/ml-idealista-18/.venv/lib/python3.12/site-packages/wandb/apis/public/api.py\", line 1315, in _artifact\n",
      "    artifact = wandb.Artifact._from_name(\n",
      "               ^^^^^^^^^^^^^^^^^^^^^^^^^^\n",
      "  File \"/Users/davidreyblanco/Software/techweek/ml-idealista-18/.venv/lib/python3.12/site-packages/wandb/sdk/artifacts/artifact.py\", line 311, in _from_name\n",
      "    raise ValueError(f\"artifact '{name}' not found in '{entity}/{project}'\")\n",
      "ValueError: artifact 'idealista18_madrid_random_forest:latest' not found in 'davidreyblanco-uned-universidad-nacional-de-educaci-n-a-/idealista18_madrid_multipleregression_UNITPRICE_mds9'\n",
      "\n",
      "During handling of the above exception, another exception occurred:\n",
      "\n",
      "Traceback (most recent call last):\n",
      "  File \"/var/folders/qm/yg0gm8013rgblsl2prhg8jq00000gn/T/ipykernel_1257/1966572805.py\", line 10, in <module>\n",
      "    artifact = run.use_artifact(artifact_path, type=\"model\")\n",
      "               ^^^^^^^^^^^^^^^^^^^^^^^^^^^^^^^^^^^^^^^^^^^^^\n",
      "  File \"/Users/davidreyblanco/Software/techweek/ml-idealista-18/.venv/lib/python3.12/site-packages/wandb/sdk/wandb_run.py\", line 406, in wrapper\n",
      "    return func(self, *args, **kwargs)\n",
      "           ^^^^^^^^^^^^^^^^^^^^^^^^^^^\n",
      "  File \"/Users/davidreyblanco/Software/techweek/ml-idealista-18/.venv/lib/python3.12/site-packages/wandb/sdk/wandb_run.py\", line 464, in wrapper_fn\n",
      "    return func(self, *args, **kwargs)\n",
      "           ^^^^^^^^^^^^^^^^^^^^^^^^^^^\n",
      "  File \"/Users/davidreyblanco/Software/techweek/ml-idealista-18/.venv/lib/python3.12/site-packages/wandb/sdk/wandb_run.py\", line 451, in wrapper\n",
      "    return func(self, *args, **kwargs)\n",
      "           ^^^^^^^^^^^^^^^^^^^^^^^^^^^\n",
      "  File \"/Users/davidreyblanco/Software/techweek/ml-idealista-18/.venv/lib/python3.12/site-packages/wandb/sdk/wandb_run.py\", line 3220, in use_artifact\n",
      "    artifact = public_api._artifact(type=type, name=name)\n",
      "               ^^^^^^^^^^^^^^^^^^^^^^^^^^^^^^^^^^^^^^^^^^\n",
      "  File \"/Users/davidreyblanco/Software/techweek/ml-idealista-18/.venv/lib/python3.12/site-packages/wandb/apis/normalize.py\", line 79, in wrapper\n",
      "    raise CommError(message, err).with_traceback(sys.exc_info()[2])\n",
      "  File \"/Users/davidreyblanco/Software/techweek/ml-idealista-18/.venv/lib/python3.12/site-packages/wandb/apis/normalize.py\", line 25, in wrapper\n",
      "    return func(*args, **kwargs)\n",
      "           ^^^^^^^^^^^^^^^^^^^^^\n",
      "  File \"/Users/davidreyblanco/Software/techweek/ml-idealista-18/.venv/lib/python3.12/site-packages/wandb/apis/public/api.py\", line 1315, in _artifact\n",
      "    artifact = wandb.Artifact._from_name(\n",
      "               ^^^^^^^^^^^^^^^^^^^^^^^^^^\n",
      "  File \"/Users/davidreyblanco/Software/techweek/ml-idealista-18/.venv/lib/python3.12/site-packages/wandb/sdk/artifacts/artifact.py\", line 311, in _from_name\n",
      "    raise ValueError(f\"artifact '{name}' not found in '{entity}/{project}'\")\n",
      "wandb.errors.errors.CommError: artifact 'idealista18_madrid_random_forest:latest' not found in 'davidreyblanco-uned-universidad-nacional-de-educaci-n-a-/idealista18_madrid_multipleregression_UNITPRICE_mds9'\n"
     ]
    },
    {
     "data": {
      "text/html": [],
      "text/plain": [
       "<IPython.core.display.HTML object>"
      ]
     },
     "metadata": {},
     "output_type": "display_data"
    },
    {
     "data": {
      "text/html": [
       " View run <strong style=\"color:#cdcd00\">robust-river-2</strong> at: <a href='https://wandb.ai/davidreyblanco-uned-universidad-nacional-de-educaci-n-a-/idealista18_madrid_multipleregression_UNITPRICE_mds9/runs/efrarcv6' target=\"_blank\">https://wandb.ai/davidreyblanco-uned-universidad-nacional-de-educaci-n-a-/idealista18_madrid_multipleregression_UNITPRICE_mds9/runs/efrarcv6</a><br> View project at: <a href='https://wandb.ai/davidreyblanco-uned-universidad-nacional-de-educaci-n-a-/idealista18_madrid_multipleregression_UNITPRICE_mds9' target=\"_blank\">https://wandb.ai/davidreyblanco-uned-universidad-nacional-de-educaci-n-a-/idealista18_madrid_multipleregression_UNITPRICE_mds9</a><br>Synced 5 W&B file(s), 0 media file(s), 0 artifact file(s) and 0 other file(s)"
      ],
      "text/plain": [
       "<IPython.core.display.HTML object>"
      ]
     },
     "metadata": {},
     "output_type": "display_data"
    },
    {
     "data": {
      "text/html": [
       "Find logs at: <code>./wandb/run-20250603_170310-efrarcv6/logs</code>"
      ],
      "text/plain": [
       "<IPython.core.display.HTML object>"
      ]
     },
     "metadata": {},
     "output_type": "display_data"
    },
    {
     "ename": "CommError",
     "evalue": "artifact 'idealista18_madrid_random_forest:latest' not found in 'davidreyblanco-uned-universidad-nacional-de-educaci-n-a-/idealista18_madrid_multipleregression_UNITPRICE_mds9'",
     "output_type": "error",
     "traceback": [
      "\u001b[31m---------------------------------------------------------------------------\u001b[39m",
      "\u001b[31mValueError\u001b[39m                                Traceback (most recent call last)",
      "\u001b[36mFile \u001b[39m\u001b[32m~/Software/techweek/ml-idealista-18/.venv/lib/python3.12/site-packages/wandb/apis/normalize.py:25\u001b[39m, in \u001b[36mnormalize_exceptions.<locals>.wrapper\u001b[39m\u001b[34m(*args, **kwargs)\u001b[39m\n\u001b[32m     24\u001b[39m \u001b[38;5;28;01mtry\u001b[39;00m:\n\u001b[32m---> \u001b[39m\u001b[32m25\u001b[39m     \u001b[38;5;28;01mreturn\u001b[39;00m \u001b[43mfunc\u001b[49m\u001b[43m(\u001b[49m\u001b[43m*\u001b[49m\u001b[43margs\u001b[49m\u001b[43m,\u001b[49m\u001b[43m \u001b[49m\u001b[43m*\u001b[49m\u001b[43m*\u001b[49m\u001b[43mkwargs\u001b[49m\u001b[43m)\u001b[49m\n\u001b[32m     27\u001b[39m \u001b[38;5;28;01mexcept\u001b[39;00m requests.HTTPError \u001b[38;5;28;01mas\u001b[39;00m error:\n",
      "\u001b[36mFile \u001b[39m\u001b[32m~/Software/techweek/ml-idealista-18/.venv/lib/python3.12/site-packages/wandb/apis/public/api.py:1315\u001b[39m, in \u001b[36mApi._artifact\u001b[39m\u001b[34m(self, name, type, enable_tracking)\u001b[39m\n\u001b[32m   1311\u001b[39m     \u001b[38;5;28;01mraise\u001b[39;00m \u001b[38;5;167;01mValueError\u001b[39;00m(\n\u001b[32m   1312\u001b[39m         \u001b[33m\"\u001b[39m\u001b[33mCould not determine entity. Please include the entity as part of the artifact name path.\u001b[39m\u001b[33m\"\u001b[39m\n\u001b[32m   1313\u001b[39m     )\n\u001b[32m-> \u001b[39m\u001b[32m1315\u001b[39m artifact = \u001b[43mwandb\u001b[49m\u001b[43m.\u001b[49m\u001b[43mArtifact\u001b[49m\u001b[43m.\u001b[49m\u001b[43m_from_name\u001b[49m\u001b[43m(\u001b[49m\n\u001b[32m   1316\u001b[39m \u001b[43m    \u001b[49m\u001b[43mentity\u001b[49m\u001b[43m=\u001b[49m\u001b[43mentity\u001b[49m\u001b[43m,\u001b[49m\n\u001b[32m   1317\u001b[39m \u001b[43m    \u001b[49m\u001b[43mproject\u001b[49m\u001b[43m=\u001b[49m\u001b[43mproject\u001b[49m\u001b[43m,\u001b[49m\n\u001b[32m   1318\u001b[39m \u001b[43m    \u001b[49m\u001b[43mname\u001b[49m\u001b[43m=\u001b[49m\u001b[43martifact_name\u001b[49m\u001b[43m,\u001b[49m\n\u001b[32m   1319\u001b[39m \u001b[43m    \u001b[49m\u001b[43mclient\u001b[49m\u001b[43m=\u001b[49m\u001b[38;5;28;43mself\u001b[39;49m\u001b[43m.\u001b[49m\u001b[43mclient\u001b[49m\u001b[43m,\u001b[49m\n\u001b[32m   1320\u001b[39m \u001b[43m    \u001b[49m\u001b[43menable_tracking\u001b[49m\u001b[43m=\u001b[49m\u001b[43menable_tracking\u001b[49m\u001b[43m,\u001b[49m\n\u001b[32m   1321\u001b[39m \u001b[43m\u001b[49m\u001b[43m)\u001b[49m\n\u001b[32m   1322\u001b[39m \u001b[38;5;28;01mif\u001b[39;00m \u001b[38;5;28mtype\u001b[39m \u001b[38;5;129;01mis\u001b[39;00m \u001b[38;5;129;01mnot\u001b[39;00m \u001b[38;5;28;01mNone\u001b[39;00m \u001b[38;5;129;01mand\u001b[39;00m artifact.type != \u001b[38;5;28mtype\u001b[39m:\n",
      "\u001b[36mFile \u001b[39m\u001b[32m~/Software/techweek/ml-idealista-18/.venv/lib/python3.12/site-packages/wandb/sdk/artifacts/artifact.py:311\u001b[39m, in \u001b[36mArtifact._from_name\u001b[39m\u001b[34m(cls, entity, project, name, client, enable_tracking)\u001b[39m\n\u001b[32m    310\u001b[39m \u001b[38;5;28;01mif\u001b[39;00m \u001b[38;5;129;01mnot\u001b[39;00m attrs:\n\u001b[32m--> \u001b[39m\u001b[32m311\u001b[39m     \u001b[38;5;28;01mraise\u001b[39;00m \u001b[38;5;167;01mValueError\u001b[39;00m(\u001b[33mf\u001b[39m\u001b[33m\"\u001b[39m\u001b[33martifact \u001b[39m\u001b[33m'\u001b[39m\u001b[38;5;132;01m{\u001b[39;00mname\u001b[38;5;132;01m}\u001b[39;00m\u001b[33m'\u001b[39m\u001b[33m not found in \u001b[39m\u001b[33m'\u001b[39m\u001b[38;5;132;01m{\u001b[39;00mentity\u001b[38;5;132;01m}\u001b[39;00m\u001b[33m/\u001b[39m\u001b[38;5;132;01m{\u001b[39;00mproject\u001b[38;5;132;01m}\u001b[39;00m\u001b[33m'\u001b[39m\u001b[33m\"\u001b[39m)\n\u001b[32m    312\u001b[39m \u001b[38;5;28;01mreturn\u001b[39;00m \u001b[38;5;28mcls\u001b[39m._from_attrs(entity, project, name, attrs, client)\n",
      "\u001b[31mValueError\u001b[39m: artifact 'idealista18_madrid_random_forest:latest' not found in 'davidreyblanco-uned-universidad-nacional-de-educaci-n-a-/idealista18_madrid_multipleregression_UNITPRICE_mds9'",
      "\nDuring handling of the above exception, another exception occurred:\n",
      "\u001b[31mCommError\u001b[39m                                 Traceback (most recent call last)",
      "\u001b[36mCell\u001b[39m\u001b[36m \u001b[39m\u001b[32mIn[23]\u001b[39m\u001b[32m, line 10\u001b[39m\n\u001b[32m      7\u001b[39m \u001b[38;5;28;01mwith\u001b[39;00m wandb.init(project=PROJECT) \u001b[38;5;28;01mas\u001b[39;00m run:\n\u001b[32m      8\u001b[39m     \u001b[38;5;66;03m# Load the artifact from wandb and run inference on X_test\u001b[39;00m\n\u001b[32m      9\u001b[39m     artifact_path = \u001b[33mf\u001b[39m\u001b[33m\"\u001b[39m\u001b[38;5;132;01m{\u001b[39;00mmodel_artifact_name\u001b[38;5;132;01m}\u001b[39;00m\u001b[33m:\u001b[39m\u001b[38;5;132;01m{\u001b[39;00mtag\u001b[38;5;132;01m}\u001b[39;00m\u001b[33m\"\u001b[39m  \u001b[38;5;66;03m# Use the artifact name and tag\u001b[39;00m\n\u001b[32m---> \u001b[39m\u001b[32m10\u001b[39m     artifact = \u001b[43mrun\u001b[49m\u001b[43m.\u001b[49m\u001b[43muse_artifact\u001b[49m\u001b[43m(\u001b[49m\u001b[43martifact_path\u001b[49m\u001b[43m,\u001b[49m\u001b[43m \u001b[49m\u001b[38;5;28;43mtype\u001b[39;49m\u001b[43m=\u001b[49m\u001b[33;43m\"\u001b[39;49m\u001b[33;43mmodel\u001b[39;49m\u001b[33;43m\"\u001b[39;49m\u001b[43m)\u001b[49m\n\u001b[32m     11\u001b[39m     artifact_dir = artifact.download()\n\u001b[32m     13\u001b[39m     files = os.listdir(artifact_dir)\n",
      "\u001b[36mFile \u001b[39m\u001b[32m~/Software/techweek/ml-idealista-18/.venv/lib/python3.12/site-packages/wandb/sdk/wandb_run.py:406\u001b[39m, in \u001b[36m_log_to_run.<locals>.wrapper\u001b[39m\u001b[34m(self, *args, **kwargs)\u001b[39m\n\u001b[32m    403\u001b[39m     run_id = \u001b[38;5;28mself\u001b[39m._attach_id\n\u001b[32m    405\u001b[39m \u001b[38;5;28;01mwith\u001b[39;00m wb_logging.log_to_run(run_id):\n\u001b[32m--> \u001b[39m\u001b[32m406\u001b[39m     \u001b[38;5;28;01mreturn\u001b[39;00m \u001b[43mfunc\u001b[49m\u001b[43m(\u001b[49m\u001b[38;5;28;43mself\u001b[39;49m\u001b[43m,\u001b[49m\u001b[43m \u001b[49m\u001b[43m*\u001b[49m\u001b[43margs\u001b[49m\u001b[43m,\u001b[49m\u001b[43m \u001b[49m\u001b[43m*\u001b[49m\u001b[43m*\u001b[49m\u001b[43mkwargs\u001b[49m\u001b[43m)\u001b[49m\n",
      "\u001b[36mFile \u001b[39m\u001b[32m~/Software/techweek/ml-idealista-18/.venv/lib/python3.12/site-packages/wandb/sdk/wandb_run.py:464\u001b[39m, in \u001b[36m_raise_if_finished.<locals>.wrapper_fn\u001b[39m\u001b[34m(self, *args, **kwargs)\u001b[39m\n\u001b[32m    461\u001b[39m \u001b[38;5;129m@functools\u001b[39m.wraps(func)\n\u001b[32m    462\u001b[39m \u001b[38;5;28;01mdef\u001b[39;00m\u001b[38;5;250m \u001b[39m\u001b[34mwrapper_fn\u001b[39m(\u001b[38;5;28mself\u001b[39m: Run, *args, **kwargs) -> _T:\n\u001b[32m    463\u001b[39m     \u001b[38;5;28;01mif\u001b[39;00m \u001b[38;5;129;01mnot\u001b[39;00m \u001b[38;5;28mgetattr\u001b[39m(\u001b[38;5;28mself\u001b[39m, \u001b[33m\"\u001b[39m\u001b[33m_is_finished\u001b[39m\u001b[33m\"\u001b[39m, \u001b[38;5;28;01mFalse\u001b[39;00m):\n\u001b[32m--> \u001b[39m\u001b[32m464\u001b[39m         \u001b[38;5;28;01mreturn\u001b[39;00m \u001b[43mfunc\u001b[49m\u001b[43m(\u001b[49m\u001b[38;5;28;43mself\u001b[39;49m\u001b[43m,\u001b[49m\u001b[43m \u001b[49m\u001b[43m*\u001b[49m\u001b[43margs\u001b[49m\u001b[43m,\u001b[49m\u001b[43m \u001b[49m\u001b[43m*\u001b[49m\u001b[43m*\u001b[49m\u001b[43mkwargs\u001b[49m\u001b[43m)\u001b[49m\n\u001b[32m    466\u001b[39m     message = (\n\u001b[32m    467\u001b[39m         \u001b[33mf\u001b[39m\u001b[33m\"\u001b[39m\u001b[33mRun (\u001b[39m\u001b[38;5;132;01m{\u001b[39;00m\u001b[38;5;28mself\u001b[39m.id\u001b[38;5;132;01m}\u001b[39;00m\u001b[33m) is finished. The call to\u001b[39m\u001b[33m\"\u001b[39m\n\u001b[32m    468\u001b[39m         \u001b[33mf\u001b[39m\u001b[33m\"\u001b[39m\u001b[33m `\u001b[39m\u001b[38;5;132;01m{\u001b[39;00mfunc.\u001b[34m__name__\u001b[39m\u001b[38;5;132;01m}\u001b[39;00m\u001b[33m` will be ignored.\u001b[39m\u001b[33m\"\u001b[39m\n\u001b[32m    469\u001b[39m         \u001b[33mf\u001b[39m\u001b[33m\"\u001b[39m\u001b[33m Please make sure that you are using an active run.\u001b[39m\u001b[33m\"\u001b[39m\n\u001b[32m    470\u001b[39m     )\n\u001b[32m    472\u001b[39m     \u001b[38;5;28;01mraise\u001b[39;00m UsageError(message)\n",
      "\u001b[36mFile \u001b[39m\u001b[32m~/Software/techweek/ml-idealista-18/.venv/lib/python3.12/site-packages/wandb/sdk/wandb_run.py:451\u001b[39m, in \u001b[36m_attach.<locals>.wrapper\u001b[39m\u001b[34m(self, *args, **kwargs)\u001b[39m\n\u001b[32m    448\u001b[39m     \u001b[38;5;28;01mfinally\u001b[39;00m:\n\u001b[32m    449\u001b[39m         _is_attaching = \u001b[33m\"\u001b[39m\u001b[33m\"\u001b[39m\n\u001b[32m--> \u001b[39m\u001b[32m451\u001b[39m \u001b[38;5;28;01mreturn\u001b[39;00m \u001b[43mfunc\u001b[49m\u001b[43m(\u001b[49m\u001b[38;5;28;43mself\u001b[39;49m\u001b[43m,\u001b[49m\u001b[43m \u001b[49m\u001b[43m*\u001b[49m\u001b[43margs\u001b[49m\u001b[43m,\u001b[49m\u001b[43m \u001b[49m\u001b[43m*\u001b[49m\u001b[43m*\u001b[49m\u001b[43mkwargs\u001b[49m\u001b[43m)\u001b[49m\n",
      "\u001b[36mFile \u001b[39m\u001b[32m~/Software/techweek/ml-idealista-18/.venv/lib/python3.12/site-packages/wandb/sdk/wandb_run.py:3220\u001b[39m, in \u001b[36mRun.use_artifact\u001b[39m\u001b[34m(self, artifact_or_name, type, aliases, use_as)\u001b[39m\n\u001b[32m   3218\u001b[39m     name = artifact_or_name\n\u001b[32m   3219\u001b[39m public_api = \u001b[38;5;28mself\u001b[39m._public_api()\n\u001b[32m-> \u001b[39m\u001b[32m3220\u001b[39m artifact = \u001b[43mpublic_api\u001b[49m\u001b[43m.\u001b[49m\u001b[43m_artifact\u001b[49m\u001b[43m(\u001b[49m\u001b[38;5;28;43mtype\u001b[39;49m\u001b[43m=\u001b[49m\u001b[38;5;28;43mtype\u001b[39;49m\u001b[43m,\u001b[49m\u001b[43m \u001b[49m\u001b[43mname\u001b[49m\u001b[43m=\u001b[49m\u001b[43mname\u001b[49m\u001b[43m)\u001b[49m\n\u001b[32m   3221\u001b[39m \u001b[38;5;28;01mif\u001b[39;00m \u001b[38;5;28mtype\u001b[39m \u001b[38;5;129;01mis\u001b[39;00m \u001b[38;5;129;01mnot\u001b[39;00m \u001b[38;5;28;01mNone\u001b[39;00m \u001b[38;5;129;01mand\u001b[39;00m \u001b[38;5;28mtype\u001b[39m != artifact.type:\n\u001b[32m   3222\u001b[39m     \u001b[38;5;28;01mraise\u001b[39;00m \u001b[38;5;167;01mValueError\u001b[39;00m(\n\u001b[32m   3223\u001b[39m         \u001b[33m\"\u001b[39m\u001b[33mSupplied type \u001b[39m\u001b[38;5;132;01m{}\u001b[39;00m\u001b[33m does not match type \u001b[39m\u001b[38;5;132;01m{}\u001b[39;00m\u001b[33m of artifact \u001b[39m\u001b[38;5;132;01m{}\u001b[39;00m\u001b[33m\"\u001b[39m.format(\n\u001b[32m   3224\u001b[39m             \u001b[38;5;28mtype\u001b[39m, artifact.type, artifact.name\n\u001b[32m   3225\u001b[39m         )\n\u001b[32m   3226\u001b[39m     )\n",
      "\u001b[36mFile \u001b[39m\u001b[32m~/Software/techweek/ml-idealista-18/.venv/lib/python3.12/site-packages/wandb/apis/normalize.py:79\u001b[39m, in \u001b[36mnormalize_exceptions.<locals>.wrapper\u001b[39m\u001b[34m(*args, **kwargs)\u001b[39m\n\u001b[32m     77\u001b[39m     \u001b[38;5;28;01mraise\u001b[39;00m\n\u001b[32m     78\u001b[39m \u001b[38;5;28;01melse\u001b[39;00m:\n\u001b[32m---> \u001b[39m\u001b[32m79\u001b[39m     \u001b[38;5;28;01mraise\u001b[39;00m CommError(message, err).with_traceback(sys.exc_info()[\u001b[32m2\u001b[39m])\n",
      "\u001b[36mFile \u001b[39m\u001b[32m~/Software/techweek/ml-idealista-18/.venv/lib/python3.12/site-packages/wandb/apis/normalize.py:25\u001b[39m, in \u001b[36mnormalize_exceptions.<locals>.wrapper\u001b[39m\u001b[34m(*args, **kwargs)\u001b[39m\n\u001b[32m     23\u001b[39m message = \u001b[33m\"\u001b[39m\u001b[33mWhoa, you found a bug.\u001b[39m\u001b[33m\"\u001b[39m\n\u001b[32m     24\u001b[39m \u001b[38;5;28;01mtry\u001b[39;00m:\n\u001b[32m---> \u001b[39m\u001b[32m25\u001b[39m     \u001b[38;5;28;01mreturn\u001b[39;00m \u001b[43mfunc\u001b[49m\u001b[43m(\u001b[49m\u001b[43m*\u001b[49m\u001b[43margs\u001b[49m\u001b[43m,\u001b[49m\u001b[43m \u001b[49m\u001b[43m*\u001b[49m\u001b[43m*\u001b[49m\u001b[43mkwargs\u001b[49m\u001b[43m)\u001b[49m\n\u001b[32m     27\u001b[39m \u001b[38;5;28;01mexcept\u001b[39;00m requests.HTTPError \u001b[38;5;28;01mas\u001b[39;00m error:\n\u001b[32m     28\u001b[39m     errors = parse_backend_error_messages(error.response)\n",
      "\u001b[36mFile \u001b[39m\u001b[32m~/Software/techweek/ml-idealista-18/.venv/lib/python3.12/site-packages/wandb/apis/public/api.py:1315\u001b[39m, in \u001b[36mApi._artifact\u001b[39m\u001b[34m(self, name, type, enable_tracking)\u001b[39m\n\u001b[32m   1310\u001b[39m \u001b[38;5;28;01mif\u001b[39;00m entity \u001b[38;5;129;01mis\u001b[39;00m \u001b[38;5;28;01mNone\u001b[39;00m:\n\u001b[32m   1311\u001b[39m     \u001b[38;5;28;01mraise\u001b[39;00m \u001b[38;5;167;01mValueError\u001b[39;00m(\n\u001b[32m   1312\u001b[39m         \u001b[33m\"\u001b[39m\u001b[33mCould not determine entity. Please include the entity as part of the artifact name path.\u001b[39m\u001b[33m\"\u001b[39m\n\u001b[32m   1313\u001b[39m     )\n\u001b[32m-> \u001b[39m\u001b[32m1315\u001b[39m artifact = \u001b[43mwandb\u001b[49m\u001b[43m.\u001b[49m\u001b[43mArtifact\u001b[49m\u001b[43m.\u001b[49m\u001b[43m_from_name\u001b[49m\u001b[43m(\u001b[49m\n\u001b[32m   1316\u001b[39m \u001b[43m    \u001b[49m\u001b[43mentity\u001b[49m\u001b[43m=\u001b[49m\u001b[43mentity\u001b[49m\u001b[43m,\u001b[49m\n\u001b[32m   1317\u001b[39m \u001b[43m    \u001b[49m\u001b[43mproject\u001b[49m\u001b[43m=\u001b[49m\u001b[43mproject\u001b[49m\u001b[43m,\u001b[49m\n\u001b[32m   1318\u001b[39m \u001b[43m    \u001b[49m\u001b[43mname\u001b[49m\u001b[43m=\u001b[49m\u001b[43martifact_name\u001b[49m\u001b[43m,\u001b[49m\n\u001b[32m   1319\u001b[39m \u001b[43m    \u001b[49m\u001b[43mclient\u001b[49m\u001b[43m=\u001b[49m\u001b[38;5;28;43mself\u001b[39;49m\u001b[43m.\u001b[49m\u001b[43mclient\u001b[49m\u001b[43m,\u001b[49m\n\u001b[32m   1320\u001b[39m \u001b[43m    \u001b[49m\u001b[43menable_tracking\u001b[49m\u001b[43m=\u001b[49m\u001b[43menable_tracking\u001b[49m\u001b[43m,\u001b[49m\n\u001b[32m   1321\u001b[39m \u001b[43m\u001b[49m\u001b[43m)\u001b[49m\n\u001b[32m   1322\u001b[39m \u001b[38;5;28;01mif\u001b[39;00m \u001b[38;5;28mtype\u001b[39m \u001b[38;5;129;01mis\u001b[39;00m \u001b[38;5;129;01mnot\u001b[39;00m \u001b[38;5;28;01mNone\u001b[39;00m \u001b[38;5;129;01mand\u001b[39;00m artifact.type != \u001b[38;5;28mtype\u001b[39m:\n\u001b[32m   1323\u001b[39m     \u001b[38;5;28;01mraise\u001b[39;00m \u001b[38;5;167;01mValueError\u001b[39;00m(\n\u001b[32m   1324\u001b[39m         \u001b[33mf\u001b[39m\u001b[33m\"\u001b[39m\u001b[33mtype \u001b[39m\u001b[38;5;132;01m{\u001b[39;00m\u001b[38;5;28mtype\u001b[39m\u001b[38;5;132;01m}\u001b[39;00m\u001b[33m specified but this artifact is of type \u001b[39m\u001b[38;5;132;01m{\u001b[39;00martifact.type\u001b[38;5;132;01m}\u001b[39;00m\u001b[33m\"\u001b[39m\n\u001b[32m   1325\u001b[39m     )\n",
      "\u001b[36mFile \u001b[39m\u001b[32m~/Software/techweek/ml-idealista-18/.venv/lib/python3.12/site-packages/wandb/sdk/artifacts/artifact.py:311\u001b[39m, in \u001b[36mArtifact._from_name\u001b[39m\u001b[34m(cls, entity, project, name, client, enable_tracking)\u001b[39m\n\u001b[32m    309\u001b[39m attrs = project_attrs.get(\u001b[33m\"\u001b[39m\u001b[33martifact\u001b[39m\u001b[33m\"\u001b[39m)\n\u001b[32m    310\u001b[39m \u001b[38;5;28;01mif\u001b[39;00m \u001b[38;5;129;01mnot\u001b[39;00m attrs:\n\u001b[32m--> \u001b[39m\u001b[32m311\u001b[39m     \u001b[38;5;28;01mraise\u001b[39;00m \u001b[38;5;167;01mValueError\u001b[39;00m(\u001b[33mf\u001b[39m\u001b[33m\"\u001b[39m\u001b[33martifact \u001b[39m\u001b[33m'\u001b[39m\u001b[38;5;132;01m{\u001b[39;00mname\u001b[38;5;132;01m}\u001b[39;00m\u001b[33m'\u001b[39m\u001b[33m not found in \u001b[39m\u001b[33m'\u001b[39m\u001b[38;5;132;01m{\u001b[39;00mentity\u001b[38;5;132;01m}\u001b[39;00m\u001b[33m/\u001b[39m\u001b[38;5;132;01m{\u001b[39;00mproject\u001b[38;5;132;01m}\u001b[39;00m\u001b[33m'\u001b[39m\u001b[33m\"\u001b[39m)\n\u001b[32m    312\u001b[39m \u001b[38;5;28;01mreturn\u001b[39;00m \u001b[38;5;28mcls\u001b[39m._from_attrs(entity, project, name, attrs, client)\n",
      "\u001b[31mCommError\u001b[39m: artifact 'idealista18_madrid_random_forest:latest' not found in 'davidreyblanco-uned-universidad-nacional-de-educaci-n-a-/idealista18_madrid_multipleregression_UNITPRICE_mds9'"
     ]
    }
   ],
   "source": [
    "import joblib\n",
    "\n",
    "tag = \"latest\"  # or any specific tag you want to use\n",
    "\n",
    "model_artifact_name = 'idealista18_madrid_random_forest'\n",
    "\n",
    "with wandb.init(project=PROJECT) as run:\n",
    "    # Load the artifact from wandb and run inference on X_test\n",
    "    artifact_path = f\"{model_artifact_name}:{tag}\"  # Use the artifact name and tag\n",
    "    artifact = run.use_artifact(artifact_path, type=\"model\")\n",
    "    artifact_dir = artifact.download()\n",
    "    \n",
    "    files = os.listdir(artifact_dir)\n",
    "    model_filename = files[0]  \n",
    "    print(f\"Model file found: {model_filename}\")\n",
    "\n",
    "    loaded_model = joblib.load(os.path.join(artifact_dir, model_filename))\n",
    "\n",
    "    # Run inference\n",
    "    loaded_preds = loaded_model.predict(X_test)\n",
    "    print(\"Inference complete. Example predictions:\", loaded_preds[:5])\n"
   ]
  }
 ],
 "metadata": {
  "kernelspec": {
   "display_name": ".venv",
   "language": "python",
   "name": "python3"
  },
  "language_info": {
   "codemirror_mode": {
    "name": "ipython",
    "version": 3
   },
   "file_extension": ".py",
   "mimetype": "text/x-python",
   "name": "python",
   "nbconvert_exporter": "python",
   "pygments_lexer": "ipython3",
   "version": "3.12.8"
  }
 },
 "nbformat": 4,
 "nbformat_minor": 5
}
